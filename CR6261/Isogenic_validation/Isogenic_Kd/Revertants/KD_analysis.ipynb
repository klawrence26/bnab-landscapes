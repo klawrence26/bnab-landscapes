{
 "cells": [
  {
   "cell_type": "markdown",
   "metadata": {},
   "source": [
    "## import stuff"
   ]
  },
  {
   "cell_type": "code",
   "execution_count": 1,
   "metadata": {
    "ExecuteTime": {
     "end_time": "2020-12-23T17:01:28.345616Z",
     "start_time": "2020-12-23T17:01:28.330079Z"
    }
   },
   "outputs": [],
   "source": [
    "import numpy as np\n",
    "import pandas as pd\n",
    "import matplotlib.pyplot as plt\n",
    "import matplotlib as mpl\n",
    "import seaborn as sns\n",
    "sns.set_style('whitegrid')\n",
    "\n",
    "import os\n",
    "import collections\n",
    "import glob\n",
    "\n",
    "import scipy.optimize\n",
    "import scipy.stats"
   ]
  },
  {
   "cell_type": "markdown",
   "metadata": {},
   "source": [
    "## get data"
   ]
  },
  {
   "cell_type": "code",
   "execution_count": 2,
   "metadata": {
    "ExecuteTime": {
     "end_time": "2020-12-23T16:57:01.871052Z",
     "start_time": "2020-12-23T16:57:01.780540Z"
    }
   },
   "outputs": [
    {
     "data": {
      "text/html": [
       "<div>\n",
       "<style scoped>\n",
       "    .dataframe tbody tr th:only-of-type {\n",
       "        vertical-align: middle;\n",
       "    }\n",
       "\n",
       "    .dataframe tbody tr th {\n",
       "        vertical-align: top;\n",
       "    }\n",
       "\n",
       "    .dataframe thead th {\n",
       "        text-align: right;\n",
       "    }\n",
       "</style>\n",
       "<table border=\"1\" class=\"dataframe\">\n",
       "  <thead>\n",
       "    <tr style=\"text-align: right;\">\n",
       "      <th></th>\n",
       "      <th>shortname</th>\n",
       "    </tr>\n",
       "  </thead>\n",
       "  <tbody>\n",
       "    <tr>\n",
       "      <td>a</td>\n",
       "      <td>som14</td>\n",
       "    </tr>\n",
       "  </tbody>\n",
       "</table>\n",
       "</div>"
      ],
      "text/plain": [
       "  shortname\n",
       "a     som14"
      ]
     },
     "execution_count": 2,
     "metadata": {},
     "output_type": "execute_result"
    }
   ],
   "source": [
    "mut_list = pd.read_csv('mut-list.csv',  sep=',', dtype={'geno' : str}, index_col=[0])\n",
    "mut_list"
   ]
  },
  {
   "cell_type": "code",
   "execution_count": 3,
   "metadata": {
    "ExecuteTime": {
     "end_time": "2020-12-23T16:57:01.966732Z",
     "start_time": "2020-12-23T16:57:01.880107Z"
    },
    "scrolled": true
   },
   "outputs": [
    {
     "data": {
      "text/html": [
       "<div>\n",
       "<style scoped>\n",
       "    .dataframe tbody tr th:only-of-type {\n",
       "        vertical-align: middle;\n",
       "    }\n",
       "\n",
       "    .dataframe tbody tr th {\n",
       "        vertical-align: top;\n",
       "    }\n",
       "\n",
       "    .dataframe thead th {\n",
       "        text-align: right;\n",
       "    }\n",
       "</style>\n",
       "<table border=\"1\" class=\"dataframe\">\n",
       "  <thead>\n",
       "    <tr style=\"text-align: right;\">\n",
       "      <th></th>\n",
       "      <th>directory</th>\n",
       "      <th>row</th>\n",
       "      <th>shortname</th>\n",
       "      <th>mutant</th>\n",
       "      <th>antigen</th>\n",
       "      <th>replicate</th>\n",
       "      <th>prefix</th>\n",
       "    </tr>\n",
       "  </thead>\n",
       "  <tbody>\n",
       "    <tr>\n",
       "      <td>0</td>\n",
       "      <td>../../Raw_facs_data/20210205_p2</td>\n",
       "      <td>E</td>\n",
       "      <td>som14</td>\n",
       "      <td>a</td>\n",
       "      <td>H1</td>\n",
       "      <td>1</td>\n",
       "      <td>NaN</td>\n",
       "    </tr>\n",
       "    <tr>\n",
       "      <td>1</td>\n",
       "      <td>../../Raw_facs_data/20210205_p2</td>\n",
       "      <td>G</td>\n",
       "      <td>som14</td>\n",
       "      <td>a</td>\n",
       "      <td>H9</td>\n",
       "      <td>1</td>\n",
       "      <td>NaN</td>\n",
       "    </tr>\n",
       "    <tr>\n",
       "      <td>2</td>\n",
       "      <td>../../Raw_facs_data/20210212_p2</td>\n",
       "      <td>E</td>\n",
       "      <td>som14</td>\n",
       "      <td>a</td>\n",
       "      <td>H1</td>\n",
       "      <td>2</td>\n",
       "      <td>NaN</td>\n",
       "    </tr>\n",
       "    <tr>\n",
       "      <td>3</td>\n",
       "      <td>../../Raw_facs_data/20210212_p2</td>\n",
       "      <td>G</td>\n",
       "      <td>som14</td>\n",
       "      <td>a</td>\n",
       "      <td>H9</td>\n",
       "      <td>2</td>\n",
       "      <td>NaN</td>\n",
       "    </tr>\n",
       "  </tbody>\n",
       "</table>\n",
       "</div>"
      ],
      "text/plain": [
       "                         directory row shortname mutant antigen  replicate  \\\n",
       "0  ../../Raw_facs_data/20210205_p2   E     som14      a      H1          1   \n",
       "1  ../../Raw_facs_data/20210205_p2   G     som14      a      H9          1   \n",
       "2  ../../Raw_facs_data/20210212_p2   E     som14      a      H1          2   \n",
       "3  ../../Raw_facs_data/20210212_p2   G     som14      a      H9          2   \n",
       "\n",
       "   prefix  \n",
       "0     NaN  \n",
       "1     NaN  \n",
       "2     NaN  \n",
       "3     NaN  "
      ]
     },
     "execution_count": 3,
     "metadata": {},
     "output_type": "execute_result"
    }
   ],
   "source": [
    "run_list = pd.read_csv('run-list.csv')\n",
    "run_list"
   ]
  },
  {
   "cell_type": "code",
   "execution_count": 4,
   "metadata": {
    "ExecuteTime": {
     "end_time": "2020-12-23T16:57:02.021345Z",
     "start_time": "2020-12-23T16:57:01.975451Z"
    },
    "scrolled": false
   },
   "outputs": [
    {
     "data": {
      "text/html": [
       "<div>\n",
       "<style scoped>\n",
       "    .dataframe tbody tr th:only-of-type {\n",
       "        vertical-align: middle;\n",
       "    }\n",
       "\n",
       "    .dataframe tbody tr th {\n",
       "        vertical-align: top;\n",
       "    }\n",
       "\n",
       "    .dataframe thead th {\n",
       "        text-align: right;\n",
       "    }\n",
       "</style>\n",
       "<table border=\"1\" class=\"dataframe\">\n",
       "  <thead>\n",
       "    <tr style=\"text-align: right;\">\n",
       "      <th></th>\n",
       "      <th>H1</th>\n",
       "      <th>H9</th>\n",
       "      <th>H1_angela</th>\n",
       "      <th>H9_angela</th>\n",
       "    </tr>\n",
       "    <tr>\n",
       "      <th>well column</th>\n",
       "      <th></th>\n",
       "      <th></th>\n",
       "      <th></th>\n",
       "      <th></th>\n",
       "    </tr>\n",
       "  </thead>\n",
       "  <tbody>\n",
       "    <tr>\n",
       "      <td>1</td>\n",
       "      <td>7.017969</td>\n",
       "      <td>7.002664</td>\n",
       "      <td>7.04646</td>\n",
       "      <td>7.019901</td>\n",
       "    </tr>\n",
       "    <tr>\n",
       "      <td>2</td>\n",
       "      <td>7.517969</td>\n",
       "      <td>7.502664</td>\n",
       "      <td>7.54646</td>\n",
       "      <td>7.519901</td>\n",
       "    </tr>\n",
       "    <tr>\n",
       "      <td>3</td>\n",
       "      <td>8.017969</td>\n",
       "      <td>8.002664</td>\n",
       "      <td>8.04646</td>\n",
       "      <td>8.019901</td>\n",
       "    </tr>\n",
       "    <tr>\n",
       "      <td>4</td>\n",
       "      <td>8.517969</td>\n",
       "      <td>8.502664</td>\n",
       "      <td>8.54646</td>\n",
       "      <td>8.519901</td>\n",
       "    </tr>\n",
       "    <tr>\n",
       "      <td>5</td>\n",
       "      <td>9.017969</td>\n",
       "      <td>9.002664</td>\n",
       "      <td>9.04646</td>\n",
       "      <td>9.019901</td>\n",
       "    </tr>\n",
       "    <tr>\n",
       "      <td>6</td>\n",
       "      <td>9.517969</td>\n",
       "      <td>9.502664</td>\n",
       "      <td>9.54646</td>\n",
       "      <td>9.519901</td>\n",
       "    </tr>\n",
       "    <tr>\n",
       "      <td>7</td>\n",
       "      <td>10.017969</td>\n",
       "      <td>10.002664</td>\n",
       "      <td>10.04646</td>\n",
       "      <td>10.019901</td>\n",
       "    </tr>\n",
       "    <tr>\n",
       "      <td>8</td>\n",
       "      <td>10.517969</td>\n",
       "      <td>10.502664</td>\n",
       "      <td>10.54646</td>\n",
       "      <td>10.519901</td>\n",
       "    </tr>\n",
       "    <tr>\n",
       "      <td>9</td>\n",
       "      <td>11.017969</td>\n",
       "      <td>11.002664</td>\n",
       "      <td>11.04646</td>\n",
       "      <td>11.019901</td>\n",
       "    </tr>\n",
       "    <tr>\n",
       "      <td>10</td>\n",
       "      <td>11.517969</td>\n",
       "      <td>11.502664</td>\n",
       "      <td>11.54646</td>\n",
       "      <td>11.519901</td>\n",
       "    </tr>\n",
       "    <tr>\n",
       "      <td>11</td>\n",
       "      <td>12.017969</td>\n",
       "      <td>12.002664</td>\n",
       "      <td>12.04646</td>\n",
       "      <td>12.019901</td>\n",
       "    </tr>\n",
       "    <tr>\n",
       "      <td>12</td>\n",
       "      <td>14.000000</td>\n",
       "      <td>14.000000</td>\n",
       "      <td>14.00000</td>\n",
       "      <td>14.000000</td>\n",
       "    </tr>\n",
       "  </tbody>\n",
       "</table>\n",
       "</div>"
      ],
      "text/plain": [
       "                    H1         H9  H1_angela  H9_angela\n",
       "well column                                            \n",
       "1             7.017969   7.002664    7.04646   7.019901\n",
       "2             7.517969   7.502664    7.54646   7.519901\n",
       "3             8.017969   8.002664    8.04646   8.019901\n",
       "4             8.517969   8.502664    8.54646   8.519901\n",
       "5             9.017969   9.002664    9.04646   9.019901\n",
       "6             9.517969   9.502664    9.54646   9.519901\n",
       "7            10.017969  10.002664   10.04646  10.019901\n",
       "8            10.517969  10.502664   10.54646  10.519901\n",
       "9            11.017969  11.002664   11.04646  11.019901\n",
       "10           11.517969  11.502664   11.54646  11.519901\n",
       "11           12.017969  12.002664   12.04646  12.019901\n",
       "12           14.000000  14.000000   14.00000  14.000000"
      ]
     },
     "execution_count": 4,
     "metadata": {},
     "output_type": "execute_result"
    }
   ],
   "source": [
    "concentrations_list = pd.read_csv('concentrations-list.csv', index_col=[0])\n",
    "cols = concentrations_list.index\n",
    "concentrations_list"
   ]
  },
  {
   "cell_type": "code",
   "execution_count": 5,
   "metadata": {
    "ExecuteTime": {
     "end_time": "2020-12-23T16:57:15.964425Z",
     "start_time": "2020-12-23T16:57:02.022627Z"
    },
    "scrolled": true
   },
   "outputs": [
    {
     "name": "stdout",
     "output_type": "stream",
     "text": [
      "name\tantigen\tmin PE fluor\n",
      "som14\tH1\t-197.34\n",
      "som14\tH9\t-1415.7\n",
      "som14\tH1\t-127.92\n",
      "som14\tH9\t-219.96\n"
     ]
    }
   ],
   "source": [
    "def get_run_jeff(run_id):\n",
    "    run_row = run_list.loc[run_id,:]\n",
    "    wells = ['%c%02d' % (run_row['row'], i) for i in range(1,13)]\n",
    "    def get_filename(well):\n",
    "        search =  os.path.join(run_row['directory'], '*%s*' % well)\n",
    "        filenames = glob.glob(search)\n",
    "        if len(filenames) != 1:\n",
    "            print(search, filenames)\n",
    "            raise Exception(well)\n",
    "        return filenames[0]\n",
    "\n",
    "    read = pd.read_csv\n",
    "        \n",
    "    return [read(get_filename(well)) for well in wells]\n",
    "\n",
    "def get_run(run_id):\n",
    "    if pd.isna(run_list['prefix'])[run_id]:\n",
    "        run = get_run_jeff(run_id)\n",
    "    else:\n",
    "        run = get_run_angela(run_id)\n",
    "    #use compensated values\n",
    "    if 'Comp-PE-A' in run[0]:\n",
    "        for df in run:\n",
    "            df['PE-A'] = df['Comp-PE-A']\n",
    "            df['FITC-A'] = df['Comp-FITC-A']\n",
    "    #transform by minimum PE value and take log\n",
    "    PE_min = min(df['PE-A'].min() for df in run)\n",
    "    for df in run:\n",
    "        df['log_PE'] = np.log10(df['PE-A'] - PE_min + 1)\n",
    "        df['log_FITC'] = np.log10(df['FITC-A'])\n",
    "        \n",
    "    run_row = run_list.loc[run_id,:]\n",
    "    print(run_row['shortname'], run_row['antigen'], PE_min, sep='\\t')\n",
    "    \n",
    "    return run\n",
    "    \n",
    "print('name', 'antigen', 'min PE fluor', sep='\\t')\n",
    "runs = [get_run(run_id) for run_id in run_list.index]"
   ]
  },
  {
   "cell_type": "markdown",
   "metadata": {},
   "source": [
    "## fit mean log fluor to [HA] to calculate Kd"
   ]
  },
  {
   "cell_type": "code",
   "execution_count": 7,
   "metadata": {
    "ExecuteTime": {
     "end_time": "2020-12-23T16:57:31.549515Z",
     "start_time": "2020-12-23T16:57:15.967762Z"
    },
    "scrolled": true
   },
   "outputs": [
    {
     "data": {
      "image/png": "[encoded data removed]",
      "text/plain": [
       "<Figure size 576x216 with 1 Axes>"
      ]
     },
     "metadata": {},
     "output_type": "display_data"
    },
    {
     "data": {
      "image/png": "[encoded data removed]",
      "text/plain": [
       "<Figure size 576x216 with 1 Axes>"
      ]
     },
     "metadata": {},
     "output_type": "display_data"
    },
    {
     "data": {
      "image/png": "[encoded data removed]",
      "text/plain": [
       "<Figure size 576x216 with 1 Axes>"
      ]
     },
     "metadata": {},
     "output_type": "display_data"
    },
    {
     "data": {
      "image/png": "[encoded data removed]",
      "text/plain": [
       "<Figure size 576x216 with 1 Axes>"
      ]
     },
     "metadata": {},
     "output_type": "display_data"
    }
   ],
   "source": [
    "def sigmoid(c, Kd, A, B):\n",
    "    return np.log10(A * (10**c/((10**c)+(10**Kd))) + B)\n",
    "\n",
    "def rms(y, yfit):\n",
    "    return np.sqrt(np.sum((y-yfit)**2))\n",
    "\n",
    "n_runs = run_list.shape[0]\n",
    "run_list['KD'] = np.zeros(n_runs)\n",
    "run_list['KD_err'] = np.zeros(n_runs)\n",
    "\n",
    "for i,run in enumerate(runs):\n",
    "    mean_log_fluor = [df['log_PE'].mean() for df in run]\n",
    "    std_log_fluor = [df['log_PE'].std() for df in run]\n",
    "    \n",
    "    antigen = run_list['antigen'][i]\n",
    "    concs = (-concentrations_list[antigen]).copy()\n",
    "\n",
    "    \n",
    "    popt, pcov = scipy.optimize.curve_fit(sigmoid,\n",
    "                                          concs,\n",
    "                                          mean_log_fluor,\n",
    "                                          p0=[(-9),10**(4),10**(1)],\n",
    "                                          sigma=std_log_fluor,\n",
    "                                          absolute_sigma=True,\n",
    "                                          bounds = [((-14),1,1),((-5),10**(5),10**(5))],\n",
    "                                          maxfev=400000)\n",
    "    \n",
    "    logKd = popt[0]\n",
    "    logKd_err = np.sqrt(pcov[0][0])\n",
    "    run_list.loc[i,'KD'] = logKd\n",
    "    run_list.loc[i,'KD_err'] = logKd_err\n",
    "    \n",
    "    concs_plot = np.linspace(concs.min(), concs.max())\n",
    "    \n",
    "    plt.figure(figsize=(8,3))\n",
    "    plt.errorbar(concs, mean_log_fluor, yerr=std_log_fluor, fmt='o', capsize=3)\n",
    "    plt.plot(concs_plot, sigmoid(concs_plot, *popt), color='grey')\n",
    "    plt.plot(concs_plot, sigmoid(concs_plot, *popt), color='grey')\n",
    "    plt.axvline(logKd, linestyle='-', color='red',\n",
    "               label=r'$\\log K_D = %.2f \\pm %.2f$' % (logKd, logKd_err))\n",
    "    plt.axvline(logKd + logKd_err, linestyle=':', color='red')\n",
    "    plt.axvline(logKd - logKd_err, linestyle=':', color='red')\n",
    "    plt.xlabel('log [HA]')\n",
    "    plt.ylabel('log PE fluorescence')\n",
    "    plt.title('%s (6261%s) binding to %s, rep %s' %\n",
    "              (run_list.loc[i,'shortname'], \n",
    "               run_list.loc[i,'mutant'],\n",
    "               run_list.loc[i,'antigen'],\n",
    "               run_list.loc[i,'replicate']),\n",
    "              fontsize=14)\n",
    "    plt.legend()\n",
    "    plt.show()"
   ]
  },
  {
   "cell_type": "markdown",
   "metadata": {},
   "source": [
    "## merge with titeseq data "
   ]
  },
  {
   "cell_type": "code",
   "execution_count": 9,
   "metadata": {
    "ExecuteTime": {
     "end_time": "2020-12-23T16:57:31.605364Z",
     "start_time": "2020-12-23T16:57:31.552996Z"
    }
   },
   "outputs": [],
   "source": [
    "antigen_map = {'H1':'h1', 'H9':'h9'}\n",
    "run_list['run_id'] = run_list.index\n",
    "for row in run_list.index:\n",
    "    antigen = run_list['antigen'][row]\n",
    "    mutant = run_list['mutant'][row]\n",
    "    if run_list['shortname'][row].endswith('syn'):\n",
    "        continue\n",
    "    if mutant == 'germline':\n",
    "        mutant = 'm'\n",
    "    if mutant == 'somatic':\n",
    "        mutant = 'n'"
   ]
  },
  {
   "cell_type": "code",
   "execution_count": 11,
   "metadata": {
    "ExecuteTime": {
     "end_time": "2020-12-23T16:57:31.661653Z",
     "start_time": "2020-12-23T16:57:31.610498Z"
    }
   },
   "outputs": [
    {
     "data": {
      "text/html": [
       "<div>\n",
       "<style scoped>\n",
       "    .dataframe tbody tr th:only-of-type {\n",
       "        vertical-align: middle;\n",
       "    }\n",
       "\n",
       "    .dataframe tbody tr th {\n",
       "        vertical-align: top;\n",
       "    }\n",
       "\n",
       "    .dataframe thead th {\n",
       "        text-align: right;\n",
       "    }\n",
       "</style>\n",
       "<table border=\"1\" class=\"dataframe\">\n",
       "  <thead>\n",
       "    <tr style=\"text-align: right;\">\n",
       "      <th></th>\n",
       "      <th></th>\n",
       "      <th></th>\n",
       "      <th>run_id</th>\n",
       "      <th>KD</th>\n",
       "      <th>KD_err</th>\n",
       "    </tr>\n",
       "    <tr>\n",
       "      <th>antigen</th>\n",
       "      <th>shortname</th>\n",
       "      <th>replicate</th>\n",
       "      <th></th>\n",
       "      <th></th>\n",
       "      <th></th>\n",
       "    </tr>\n",
       "  </thead>\n",
       "  <tbody>\n",
       "    <tr>\n",
       "      <td rowspan=\"2\" valign=\"top\">H1</td>\n",
       "      <td rowspan=\"2\" valign=\"top\">som14</td>\n",
       "      <td>1</td>\n",
       "      <td>0</td>\n",
       "      <td>-9.153649</td>\n",
       "      <td>0.277946</td>\n",
       "    </tr>\n",
       "    <tr>\n",
       "      <td>2</td>\n",
       "      <td>2</td>\n",
       "      <td>-9.290719</td>\n",
       "      <td>0.264906</td>\n",
       "    </tr>\n",
       "    <tr>\n",
       "      <td rowspan=\"2\" valign=\"top\">H9</td>\n",
       "      <td rowspan=\"2\" valign=\"top\">som14</td>\n",
       "      <td>1</td>\n",
       "      <td>1</td>\n",
       "      <td>-10.153371</td>\n",
       "      <td>0.371282</td>\n",
       "    </tr>\n",
       "    <tr>\n",
       "      <td>2</td>\n",
       "      <td>3</td>\n",
       "      <td>-10.275734</td>\n",
       "      <td>0.270712</td>\n",
       "    </tr>\n",
       "  </tbody>\n",
       "</table>\n",
       "</div>"
      ],
      "text/plain": [
       "                             run_id         KD    KD_err\n",
       "antigen shortname replicate                             \n",
       "H1      som14     1               0  -9.153649  0.277946\n",
       "                  2               2  -9.290719  0.264906\n",
       "H9      som14     1               1 -10.153371  0.371282\n",
       "                  2               3 -10.275734  0.270712"
      ]
     },
     "execution_count": 11,
     "metadata": {},
     "output_type": "execute_result"
    }
   ],
   "source": [
    "results = run_list.set_index(['antigen', 'shortname', 'replicate']).sort_index()[['run_id', 'KD', 'KD_err']]\n",
    "results.loc[results.KD > -7, 'KD'] = -7\n",
    "results = results[results['KD_err'] < 1]\n",
    "results.to_csv('fitted_Kds.csv')\n",
    "results"
   ]
  },
  {
   "cell_type": "code",
   "execution_count": 13,
   "metadata": {
    "ExecuteTime": {
     "end_time": "2020-12-23T16:57:31.731508Z",
     "start_time": "2020-12-23T16:57:31.665001Z"
    }
   },
   "outputs": [
    {
     "data": {
      "text/html": [
       "<div>\n",
       "<style scoped>\n",
       "    .dataframe tbody tr th:only-of-type {\n",
       "        vertical-align: middle;\n",
       "    }\n",
       "\n",
       "    .dataframe tbody tr th {\n",
       "        vertical-align: top;\n",
       "    }\n",
       "\n",
       "    .dataframe thead th {\n",
       "        text-align: right;\n",
       "    }\n",
       "</style>\n",
       "<table border=\"1\" class=\"dataframe\">\n",
       "  <thead>\n",
       "    <tr style=\"text-align: right;\">\n",
       "      <th></th>\n",
       "      <th></th>\n",
       "      <th>KD</th>\n",
       "      <th>KD_err</th>\n",
       "    </tr>\n",
       "    <tr>\n",
       "      <th>antigen</th>\n",
       "      <th>shortname</th>\n",
       "      <th></th>\n",
       "      <th></th>\n",
       "    </tr>\n",
       "  </thead>\n",
       "  <tbody>\n",
       "    <tr>\n",
       "      <td>H1</td>\n",
       "      <td>som14</td>\n",
       "      <td>9.222184</td>\n",
       "      <td>0.096923</td>\n",
       "    </tr>\n",
       "    <tr>\n",
       "      <td>H9</td>\n",
       "      <td>som14</td>\n",
       "      <td>10.214553</td>\n",
       "      <td>0.086524</td>\n",
       "    </tr>\n",
       "  </tbody>\n",
       "</table>\n",
       "</div>"
      ],
      "text/plain": [
       "                          KD    KD_err\n",
       "antigen shortname                     \n",
       "H1      som14       9.222184  0.096923\n",
       "H9      som14      10.214553  0.086524"
      ]
     },
     "execution_count": 13,
     "metadata": {},
     "output_type": "execute_result"
    }
   ],
   "source": [
    "g = results.groupby(['antigen', 'shortname'])\n",
    "results_merge = pd.DataFrame({\n",
    "    'KD' : -g.mean()['KD'],\n",
    "    'KD_err' : g.std()['KD']})\n",
    "results_merge"
   ]
  },
  {
   "cell_type": "markdown",
   "metadata": {},
   "source": [
    "## comparison to isogenic measurements"
   ]
  },
  {
   "cell_type": "code",
   "execution_count": 2,
   "metadata": {},
   "outputs": [],
   "source": [
    "som_14_h1 = np.array([-9.153649, -9.290719])\n",
    "som_14_h1_mean = som_14_h1.mean()\n",
    "som_14_h1_sem = som_14_h1.std()\n",
    "som_14_h9 = np.array([-10.153371, -10.275734])\n",
    "som_14_h9_mean = som_14_h9.mean()\n",
    "som_14_h9_sem = som_14_h9.std()\n",
    "som_h1 = np.array([-9.504139081844661, -9.503407397619684])\n",
    "som_h1_mean = som_h1.mean()\n",
    "som_h1_sem = som_h1.std()\n",
    "som_h9 = np.array([-10.190717035679013, -10.160267401601297])\n",
    "som_h9_mean = som_h9.mean()\n",
    "som_h9_sem = som_h9.std()"
   ]
  },
  {
   "cell_type": "code",
   "execution_count": 20,
   "metadata": {},
   "outputs": [
    {
     "data": {
      "image/png": "[encoded data removed]",
      "text/plain": [
       "<Figure size 144x108 with 2 Axes>"
      ]
     },
     "metadata": {},
     "output_type": "display_data"
    }
   ],
   "source": [
    "sns.set_style('ticks')\n",
    "plt.rcParams['font.sans-serif'] = \"Arial\"\n",
    "# Then, \"ALWAYS use sans-serif fonts\"\n",
    "plt.rcParams['font.family'] = \"sans-serif\"\n",
    "plt.rcParams['axes.linewidth'] = 0.5\n",
    "h1_x= ['somatic-11','somatic-14']\n",
    "h1_y = [-som_h1_mean,-som_14_h1_mean]\n",
    "h1_y_err = [-som_h1_sem,-som_14_h1_sem]\n",
    "h3_x= ['somatic-11','somatic-14']\n",
    "h3_y = [-som_h9_mean,-som_14_h9_mean]\n",
    "h3_y_err = [-som_h9_sem,-som_14_h9_sem]\n",
    "fig, (ax1,ax2) = plt.subplots(1,2,figsize=(2,1.5))\n",
    "ax2.bar(h3_x,h3_y, yerr=h3_y_err,color='rebeccapurple')\n",
    "ax2.set_ylim(7,11)\n",
    "ax2.set_ylabel('-logKD',fontsize=8)\n",
    "ax2.set_xlabel('genotype',fontsize=8)\n",
    "ax2.tick_params(axis='x',rotation=30,labelsize=7)\n",
    "ax2.set_title('H9',fontsize=8)\n",
    "ax2.tick_params(axis='y',labelsize=7)\n",
    "ax1.bar(h1_x,h1_y, yerr=h1_y_err, color='#e8735c')\n",
    "ax1.set_ylim(7,11)\n",
    "ax1.set_ylabel('-logKD',fontsize=8)\n",
    "ax1.set_xlabel('genotype',fontsize=8)\n",
    "ax1.set_title('H1',fontsize=8)\n",
    "ax1.tick_params(axis='x',rotation=30,labelsize=7)\n",
    "ax1.tick_params(axis='y',labelsize=7)\n",
    "plt.subplots_adjust(wspace=0.75)\n",
    "plt.savefig('6261_revertant_comparison.png',dpi=1200,bbox_inches='tight')"
   ]
  },
  {
   "cell_type": "code",
   "execution_count": null,
   "metadata": {},
   "outputs": [],
   "source": []
  }
 ],
 "metadata": {
  "kernelspec": {
   "display_name": "Python 3",
   "language": "python",
   "name": "python3"
  },
  "language_info": {
   "codemirror_mode": {
    "name": "ipython",
    "version": 3
   },
   "file_extension": ".py",
   "mimetype": "text/x-python",
   "name": "python",
   "nbconvert_exporter": "python",
   "pygments_lexer": "ipython3",
   "version": "3.7.4"
  },
  "toc": {
   "base_numbering": 1,
   "nav_menu": {},
   "number_sections": true,
   "sideBar": true,
   "skip_h1_title": false,
   "title_cell": "Table of Contents",
   "title_sidebar": "Contents",
   "toc_cell": false,
   "toc_position": {},
   "toc_section_display": true,
   "toc_window_display": false
  }
 },
 "nbformat": 4,
 "nbformat_minor": 4
}
