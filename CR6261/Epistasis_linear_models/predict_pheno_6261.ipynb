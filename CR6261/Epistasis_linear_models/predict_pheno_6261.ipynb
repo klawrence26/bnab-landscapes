{
 "cells": [
  {
   "cell_type": "code",
   "execution_count": 1,
   "metadata": {},
   "outputs": [],
   "source": [
    "import numpy as np\n",
    "import csv\n",
    "import sys\n",
    "from scipy.special import comb\n",
    "from sklearn.preprocessing import PolynomialFeatures\n",
    "import pandas as pd\n",
    "\n",
    "from mutation_info import *\n",
    "\n"
   ]
  },
  {
   "cell_type": "code",
   "execution_count": 4,
   "metadata": {},
   "outputs": [
    {
     "name": "stdout",
     "output_type": "stream",
     "text": [
      "[ 11  55 165 330] 561\n",
      "[1, 12, 67, 232, 562]\n",
      "[ 11  55 165 330] 561\n",
      "[1, 12, 67, 232, 562]\n"
     ]
    }
   ],
   "source": [
    "# set some things\n",
    "\n",
    "# choose statistical or biochemical epistasis\n",
    "ep_type = 'biochem' \n",
    "#ep_type = 'stat'\n",
    "\n",
    "\n",
    "order_H1 = 4\n",
    "order_H9 = 4\n",
    "\n",
    "num_term_list_H1 = np.array([int(comb(num_muts_total,i)) for i in range(1,order_H1+1)])\n",
    "total_params_H1 = sum(num_term_list_H1)\n",
    "order_start_indices_H1 = list(np.cumsum(num_term_list_H1)+1)\n",
    "order_start_indices_H1.insert(0,1)\n",
    "print(num_term_list_H1,total_params_H1)\n",
    "print(order_start_indices_H1)\n",
    "\n",
    "num_term_list_H9 = np.array([int(comb(num_muts_total,i)) for i in range(1,order_H9+1)])\n",
    "total_params_H9 = sum(num_term_list_H9)\n",
    "order_start_indices_H9 = list(np.cumsum(num_term_list_H9)+1)\n",
    "order_start_indices_H9.insert(0,1)\n",
    "print(num_term_list_H9,total_params_H9)\n",
    "print(order_start_indices_H9)\n",
    "\n"
   ]
  },
  {
   "cell_type": "code",
   "execution_count": 5,
   "metadata": {},
   "outputs": [
    {
     "name": "stdout",
     "output_type": "stream",
     "text": [
      "(1887, 11) (1887,)\n",
      "(1842, 11) (1842,)\n"
     ]
    }
   ],
   "source": [
    "# read in KD data, filter, and transform to numpy arrays\n",
    "\n",
    "df = pd.read_csv('../Kd_meanbin/kd_processed/20210323_6261_HA_unadj_fil_merg.csv',dtype={\"variant\": str})\n",
    "\n",
    "all_genos = df[['variant']].values.flatten()\n",
    "\n",
    "# H1\n",
    "df_H1 = df.dropna(subset=['h1_mean'])\n",
    "genos_H1 = np.array(df_H1[['pos'+x for x in mutations]].copy(),dtype=np.float64)\n",
    "phenos_H1 = df_H1[['h1_mean']].values.flatten()\n",
    "print(genos_H1.shape,phenos_H1.shape)\n",
    "\n",
    "# H9\n",
    "df_H9 = df.dropna(subset=['h9_mean'])\n",
    "genos_H9 = np.array(df_H9[['pos'+x for x in mutations]].copy(),dtype=np.float64)\n",
    "phenos_H9 = df_H9[['h9_mean']].values.flatten()\n",
    "print(genos_H9.shape,phenos_H9.shape)\n",
    "\n",
    "\n",
    "# for statistical epistasis, shift genotypes from 0,1 to -1,1\n",
    "if ep_type == 'stat':\n",
    "    genos_H1 = 2*(genos_H1-0.5)\n",
    "    genos_H9 = 2*(genos_H9-0.5)\n",
    "\n"
   ]
  },
  {
   "cell_type": "code",
   "execution_count": 7,
   "metadata": {},
   "outputs": [
    {
     "name": "stdout",
     "output_type": "stream",
     "text": [
      "562\n",
      "562\n"
     ]
    }
   ],
   "source": [
    "# read model coefficients from file\n",
    "\n",
    "coefs_H1 = np.zeros(total_params_H1+1)\n",
    "names_H1 = []\n",
    "sig_H1 = np.full((total_params_H1+1),0)\n",
    "\n",
    "with open('model_coefs/H1_'+str(order_H1)+'order_'+ep_type+'.txt','r') as readfile:\n",
    "    coef_reader = csv.reader(readfile,delimiter='\\t')\n",
    "    num_params = int(next(coef_reader)[-1])\n",
    "    r2_train = float(next(coef_reader)[-1])\n",
    "    header = next(coef_reader)\n",
    "    for i in range(total_params_H1+1):\n",
    "        row = next(coef_reader)\n",
    "        names_H1.append(row[0])\n",
    "        coefs_H1[i] = float(row[1])\n",
    "        if i > 1:\n",
    "            if float(row[3])*float(row[4]) > 0:\n",
    "                sig_H1[i] = 1\n",
    "    readfile.close()\n",
    "            \n",
    "print(len(coefs_H1))  \n",
    "\n",
    "coefs_H9 = np.zeros(total_params_H9+1)\n",
    "names_H9 = []\n",
    "sig_H9 = np.full((total_params_H9+1),0)\n",
    "\n",
    "with open('model_coefs/H9_'+str(order_H9)+'order_'+ep_type+'.txt','r') as readfile:\n",
    "    coef_reader = csv.reader(readfile,delimiter='\\t')\n",
    "    num_params = int(next(coef_reader)[-1])\n",
    "    r2_train = float(next(coef_reader)[-1])\n",
    "    header = next(coef_reader)\n",
    "    for i in range(total_params_H9+1):\n",
    "        row = next(coef_reader)\n",
    "        names_H9.append(row[0])\n",
    "        coefs_H9[i] = float(row[1])\n",
    "        if i > 1:\n",
    "            if float(row[3])*float(row[4]) > 0:\n",
    "                sig_H9[i] = 1\n",
    "    readfile.close()\n",
    "            \n",
    "print(len(coefs_H9)) \n",
    "\n"
   ]
  },
  {
   "cell_type": "code",
   "execution_count": 8,
   "metadata": {},
   "outputs": [
    {
     "name": "stdout",
     "output_type": "stream",
     "text": [
      "done\n"
     ]
    }
   ],
   "source": [
    "poly_current_H1 = PolynomialFeatures(order_H1,interaction_only=True)\n",
    "genos_current_H1 = poly_current_H1.fit_transform(genos_H1)\n",
    "predicted_phenos_H1 = np.tensordot(genos_current_H1,coefs_H1,axes=1)\n",
    "\n",
    "poly_current_H9 = PolynomialFeatures(order_H9,interaction_only=True)\n",
    "genos_current_H9 = poly_current_H9.fit_transform(genos_H9)\n",
    "predicted_phenos_H9 = np.tensordot(genos_current_H9,coefs_H9,axes=1)\n",
    "\n",
    "print('done')"
   ]
  },
  {
   "cell_type": "code",
   "execution_count": 11,
   "metadata": {},
   "outputs": [
    {
     "name": "stdout",
     "output_type": "stream",
     "text": [
      "0\n",
      "500\n",
      "1000\n",
      "1500\n",
      "0 0\n",
      "done\n"
     ]
    }
   ],
   "source": [
    "# write predicted phenotypes to file\n",
    "num_H1 = 0\n",
    "num_H9 = 0\n",
    "with open('model_coefs/predicted_phenos_'+ep_type+'.csv','w') as writefile:\n",
    "    pheno_writer = csv.writer(writefile,delimiter=',')\n",
    "    pheno_writer.writerow(['Genotype','H1_Phenotype_'+str(order_H1),\n",
    "                          'H9_Phenotype_'+str(order_H9)])\n",
    "    for i in range(len(all_genos)):\n",
    "        if i%500 == 0: print(i)\n",
    "        geno_string = all_genos[i]\n",
    "        geno = np.array([float(x) for x in geno_string])\n",
    "        \n",
    "        # H1 prediction\n",
    "        H1_index = np.where((genos_H1 == geno).all(axis=1))[0]\n",
    "        if len(H1_index) == 1:\n",
    "            H1_pred_pheno = predicted_phenos_H1[H1_index[0]]\n",
    "        else:\n",
    "            H1_pred_pheno = np.nan\n",
    "            \n",
    "            \n",
    "        # H9 prediction\n",
    "        H9_index = np.where((genos_H9 == geno).all(axis=1))[0]\n",
    "        if len(H9_index) == 1:\n",
    "            H9_pred_pheno = predicted_phenos_H9[H9_index[0]]\n",
    "        else:\n",
    "            H9_pred_pheno = np.nan\n",
    "\n",
    "        pheno_writer.writerow([geno_string,H1_pred_pheno,H9_pred_pheno])\n",
    "        \n",
    "    writefile.close()\n",
    "\n",
    "print(num_H1,num_H9)    \n",
    "print('done')\n",
    "    "
   ]
  },
  {
   "cell_type": "code",
   "execution_count": null,
   "metadata": {},
   "outputs": [],
   "source": []
  }
 ],
 "metadata": {
  "kernelspec": {
   "display_name": "Python 3",
   "language": "python",
   "name": "python3"
  },
  "language_info": {
   "codemirror_mode": {
    "name": "ipython",
    "version": 3
   },
   "file_extension": ".py",
   "mimetype": "text/x-python",
   "name": "python",
   "nbconvert_exporter": "python",
   "pygments_lexer": "ipython3",
   "version": "3.8.2"
  }
 },
 "nbformat": 4,
 "nbformat_minor": 4
}
