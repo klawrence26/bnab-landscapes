{
 "cells": [
  {
   "cell_type": "code",
   "execution_count": 1,
   "metadata": {},
   "outputs": [],
   "source": [
    "import numpy as np\n",
    "import matplotlib.pyplot as plt\n",
    "import csv\n",
    "import sys\n",
    "from sklearn.preprocessing import PolynomialFeatures\n",
    "import statsmodels.api as sm\n",
    "import pandas as pd\n",
    "\n",
    "from mutation_info import *"
   ]
  },
  {
   "cell_type": "code",
   "execution_count": 24,
   "metadata": {},
   "outputs": [],
   "source": [
    "# choose statistical or biochemical epistasis\n",
    "ep_type = 'biochem' \n",
    "#ep_type = 'stat'\n"
   ]
  },
  {
   "cell_type": "markdown",
   "metadata": {},
   "source": [
    "## Read in data"
   ]
  },
  {
   "cell_type": "code",
   "execution_count": 25,
   "metadata": {},
   "outputs": [
    {
     "name": "stdout",
     "output_type": "stream",
     "text": [
      "(1887, 11) (1887,)\n",
      "(1842, 11) (1842,)\n"
     ]
    }
   ],
   "source": [
    "# read in KD data, filter, and transform to numpy arrays\n",
    "\n",
    "df = pd.read_csv('../Kd_meanbin/kd_processed/20210323_6261_HA_unadj_fil_merg.csv',dtype={\"variant\": str})\n",
    "\n",
    "all_genos = df[['variant']].values.flatten()\n",
    "\n",
    "# H1\n",
    "df_H1 = df.dropna(subset=['h1_mean'])\n",
    "genos_H1 = np.array(df_H1[['pos'+x for x in mutations]].copy(),dtype=np.float64)\n",
    "phenos_H1 = df_H1[['h1_mean']].values.flatten()\n",
    "print(genos_H1.shape,phenos_H1.shape)\n",
    "\n",
    "# H9\n",
    "df_H9 = df.dropna(subset=['h9_mean'])\n",
    "genos_H9 = np.array(df_H9[['pos'+x for x in mutations]].copy(),dtype=np.float64)\n",
    "phenos_H9 = df_H9[['h9_mean']].values.flatten()\n",
    "print(genos_H9.shape,phenos_H9.shape)\n",
    "\n",
    "\n",
    "# for statistical epistasis, shift genotypes from 0,1 to -1,1\n",
    "if ep_type == 'stat':\n",
    "    genos_H1 = 2*(genos_H1-0.5)\n",
    "    genos_H9 = 2*(genos_H9-0.5)\n",
    "\n"
   ]
  },
  {
   "cell_type": "markdown",
   "metadata": {},
   "source": [
    "## CV to choose optimal order of interaction"
   ]
  },
  {
   "cell_type": "markdown",
   "metadata": {},
   "source": [
    "### H1"
   ]
  },
  {
   "cell_type": "code",
   "execution_count": 17,
   "metadata": {},
   "outputs": [
    {
     "name": "stdout",
     "output_type": "stream",
     "text": [
      "188 1699\n",
      "Fold:  0\n",
      "Fold:  1\n",
      "Fold:  2\n",
      "Fold:  3\n",
      "Fold:  4\n",
      "Fold:  5\n",
      "Fold:  6\n",
      "Fold:  7\n",
      "Fold:  8\n",
      "Fold:  9\n",
      "Optimal order, H1:  4\n"
     ]
    }
   ],
   "source": [
    "num_folds = 10\n",
    "max_order = 5\n",
    "\n",
    "# set up permutation\n",
    "np.random.seed(2112)\n",
    "indices_permuted_H1 = np.random.permutation(np.arange(len(genos_H1)))\n",
    "size_test_H1 = int(1.0/float(num_folds)*len(genos_H1))\n",
    "size_train_H1 = len(genos_H1)-size_test_H1\n",
    "print(size_test_H1,size_train_H1)\n",
    "\n",
    "# lists to store r squared values\n",
    "rsq_train_list_H1 = np.zeros((max_order+1,num_folds))\n",
    "rsq_test_list_H1 = np.zeros((max_order+1,num_folds))\n",
    "\n",
    "\n",
    "# loop over CV folds\n",
    "for f in range(num_folds):\n",
    "\n",
    "    # get train & test sets\n",
    "    start = int(f*size_test_H1)\n",
    "    stop = int((f+1)*size_test_H1)\n",
    "    genos_train_H1 = np.concatenate((genos_H1[indices_permuted_H1[:start]],genos_H1[indices_permuted_H1[stop:]]))\n",
    "    genos_test_H1 = genos_H1[indices_permuted_H1[start:stop]]\n",
    "    phenos_train_H1 = np.concatenate((phenos_H1[indices_permuted_H1[:start]],phenos_H1[indices_permuted_H1[stop:]]))\n",
    "    phenos_test_H1 = phenos_H1[indices_permuted_H1[start:stop]]\n",
    "    \n",
    "    print('Fold: ',f)\n",
    "        \n",
    "    # initialize zero-order (intercept-only) model\n",
    "    genos_train_H1_previous = np.full(len(genos_train_H1),1.0)\n",
    "    genos_test_H1_previous = np.full(len(genos_test_H1),1.0)\n",
    "\n",
    "    reg_H1_previous = sm.OLS(phenos_train_H1,genos_train_H1_previous).fit()\n",
    "    reg_H1_coefs_previous = reg_H1_previous.params\n",
    "\n",
    "    rsquared_train_H1_previous = reg_H1_previous.rsquared\n",
    "    rsquared_test_H1_previous = 1-np.sum((phenos_test_H1-reg_H1_previous.predict(genos_test_H1_previous))**2)/np.sum((phenos_test_H1-np.mean(phenos_test_H1))**2)\n",
    "    rsq_train_list_H1[0,f] = rsquared_train_H1_previous\n",
    "    rsq_test_list_H1[0,f] = rsquared_test_H1_previous\n",
    "\n",
    "    mean_pheno_train = np.mean(phenos_train_H1)\n",
    "    mean_pheno_test = np.mean(phenos_test_H1)\n",
    "\n",
    "\n",
    "    # fit models of increasing order\n",
    "    for order in range(1,max_order+1):\n",
    "        #print('Order: ',str(order))\n",
    "        poly_H1_current = PolynomialFeatures(order,interaction_only=True)\n",
    "        genos_train_H1_current = poly_H1_current.fit_transform(genos_train_H1)\n",
    "        genos_test_H1_current = poly_H1_current.fit_transform(genos_test_H1)\n",
    "\n",
    "        reg_H1_current = sm.OLS(phenos_train_H1, genos_train_H1_current).fit()\n",
    "        reg_H1_coefs_current = reg_H1_current.params\n",
    "        reg_H1_CIs_current = reg_H1_current.conf_int(alpha=0.05, cols=None)\n",
    "        reg_H1_stderr = reg_H1_current.bse\n",
    "    \n",
    "        rsquared_train_H1_current = reg_H1_current.rsquared\n",
    "        rsquared_test_H1_current = 1-np.sum((phenos_test_H1-reg_H1_current.predict(genos_test_H1_current))**2)/np.sum((phenos_test_H1-np.mean(phenos_test_H1))**2)\n",
    "        rsq_train_list_H1[order,f] = rsquared_train_H1_current\n",
    "        rsq_test_list_H1[order,f] = rsquared_test_H1_current\n",
    "        \n",
    "\n",
    "# average over folds\n",
    "mean_rsq_train_H1 = np.mean(rsq_train_list_H1,axis=1)\n",
    "stdev_rsq_train_H1 = np.std(rsq_train_list_H1,axis=1)\n",
    "mean_rsq_test_H1 = np.mean(rsq_test_list_H1,axis=1)\n",
    "stdev_rsq_test_H1 = np.std(rsq_test_list_H1,axis=1)\n",
    "\n",
    "optimal_H1_order = np.argmax(mean_rsq_test_H1)\n",
    "print('Optimal order, H1: ',optimal_H1_order)\n"
   ]
  },
  {
   "cell_type": "code",
   "execution_count": 18,
   "metadata": {},
   "outputs": [],
   "source": [
    "# print CV results to file\n",
    "with open('model_coefs/H1_CV_rsquared_'+ep_type+'.csv','w') as writefile:\n",
    "    rsq_writer = csv.writer(writefile)\n",
    "    rsq_writer.writerow(['Optimal order: '+str(optimal_H1_order)])\n",
    "    rsq_writer.writerow(['Type','Order','Mean','Std'])\n",
    "    for i in range(len(mean_rsq_train_H1)):\n",
    "        rsq_writer.writerow(['Train',str(i),mean_rsq_train_H1[i],stdev_rsq_train_H1[i]])\n",
    "    for i in range(len(mean_rsq_test_H1)):\n",
    "        rsq_writer.writerow(['Test',str(i),mean_rsq_test_H1[i],stdev_rsq_test_H1[i]])\n",
    "    writefile.close()\n",
    "\n"
   ]
  },
  {
   "cell_type": "markdown",
   "metadata": {},
   "source": [
    "### H9"
   ]
  },
  {
   "cell_type": "code",
   "execution_count": 18,
   "metadata": {},
   "outputs": [
    {
     "name": "stdout",
     "output_type": "stream",
     "text": [
      "184 1658\n",
      "Fold:  0\n",
      "Fold:  1\n",
      "Fold:  2\n",
      "Fold:  3\n",
      "Fold:  4\n",
      "Fold:  5\n",
      "Fold:  6\n",
      "Fold:  7\n",
      "Fold:  8\n",
      "Fold:  9\n",
      "Optimal order, H9:  4\n"
     ]
    }
   ],
   "source": [
    "num_folds = 10\n",
    "max_order = 5\n",
    "\n",
    "# set up permutation\n",
    "np.random.seed(2112)\n",
    "indices_permuted_H9 = np.random.permutation(np.arange(len(genos_H9)))\n",
    "size_test_H9 = int(1.0/float(num_folds)*len(genos_H9))\n",
    "size_train_H9 = len(genos_H9)-size_test_H9\n",
    "print(size_test_H9,size_train_H9)\n",
    "\n",
    "# lists to store r squared values\n",
    "rsq_train_list_H9 = np.zeros((max_order+1,num_folds))\n",
    "rsq_test_list_H9 = np.zeros((max_order+1,num_folds))\n",
    "\n",
    "\n",
    "# loop over CV folds\n",
    "for f in range(num_folds):\n",
    "\n",
    "    # get train & test sets\n",
    "    start = int(f*size_test_H9)\n",
    "    stop = int((f+1)*size_test_H9)\n",
    "    genos_train_H9 = np.concatenate((genos_H9[indices_permuted_H9[:start]],genos_H9[indices_permuted_H9[stop:]]))\n",
    "    genos_test_H9 = genos_H9[indices_permuted_H9[start:stop]]\n",
    "    phenos_train_H9 = np.concatenate((phenos_H9[indices_permuted_H9[:start]],phenos_H9[indices_permuted_H9[stop:]]))\n",
    "    phenos_test_H9 = phenos_H9[indices_permuted_H9[start:stop]]\n",
    "    \n",
    "    print('Fold: ',f)\n",
    "        \n",
    "    # initialize zero-order (intercept-only) model\n",
    "    genos_train_H9_previous = np.full(len(genos_train_H9),1.0)\n",
    "    genos_test_H9_previous = np.full(len(genos_test_H9),1.0)\n",
    "\n",
    "    reg_H9_previous = sm.OLS(phenos_train_H9,genos_train_H9_previous).fit()\n",
    "    reg_H9_coefs_previous = reg_H9_previous.params\n",
    "\n",
    "    rsquared_train_H9_previous = reg_H9_previous.rsquared\n",
    "    rsquared_test_H9_previous = 1-np.sum((phenos_test_H9-reg_H9_previous.predict(genos_test_H9_previous))**2)/np.sum((phenos_test_H9-np.mean(phenos_test_H9))**2)\n",
    "    rsq_train_list_H9[0,f] = rsquared_train_H9_previous\n",
    "    rsq_test_list_H9[0,f] = rsquared_test_H9_previous\n",
    "\n",
    "    mean_pheno_train = np.mean(phenos_train_H9)\n",
    "    mean_pheno_test = np.mean(phenos_test_H9)\n",
    "\n",
    "\n",
    "    # fit models of increasing order\n",
    "    for order in range(1,max_order+1):\n",
    "        #print('Order: ',str(order))\n",
    "        poly_H9_current = PolynomialFeatures(order,interaction_only=True)\n",
    "        genos_train_H9_current = poly_H9_current.fit_transform(genos_train_H9)\n",
    "        genos_test_H9_current = poly_H9_current.fit_transform(genos_test_H9)\n",
    "\n",
    "        reg_H9_current = sm.OLS(phenos_train_H9, genos_train_H9_current).fit()\n",
    "        reg_H9_coefs_current = reg_H9_current.params\n",
    "        reg_H9_CIs_current = reg_H9_current.conf_int(alpha=0.05, cols=None)\n",
    "        reg_H9_stderr = reg_H9_current.bse\n",
    "    \n",
    "        rsquared_train_H9_current = reg_H9_current.rsquared\n",
    "        rsquared_test_H9_current = 1-np.sum((phenos_test_H9-reg_H9_current.predict(genos_test_H9_current))**2)/np.sum((phenos_test_H9-np.mean(phenos_test_H9))**2)\n",
    "        rsq_train_list_H9[order,f] = rsquared_train_H9_current\n",
    "        rsq_test_list_H9[order,f] = rsquared_test_H9_current\n",
    "        \n",
    "\n",
    "# average over folds\n",
    "mean_rsq_train_H9 = np.mean(rsq_train_list_H9,axis=1)\n",
    "stdev_rsq_train_H9 = np.std(rsq_train_list_H9,axis=1)\n",
    "mean_rsq_test_H9 = np.mean(rsq_test_list_H9,axis=1)\n",
    "stdev_rsq_test_H9 = np.std(rsq_test_list_H9,axis=1)\n",
    "\n",
    "optimal_H9_order = np.argmax(mean_rsq_test_H9)\n",
    "print('Optimal order, H9: ',optimal_H9_order)\n"
   ]
  },
  {
   "cell_type": "code",
   "execution_count": 20,
   "metadata": {},
   "outputs": [],
   "source": [
    "# print CV results to file\n",
    "with open('model_coefs/H9_CV_rsquared_'+ep_type+'.csv','w') as writefile:\n",
    "    rsq_writer = csv.writer(writefile)\n",
    "    rsq_writer.writerow(['Optimal order: '+str(optimal_H9_order)])\n",
    "    rsq_writer.writerow(['Type','Order','Mean','Std'])\n",
    "    for i in range(len(mean_rsq_train_H9)):\n",
    "        rsq_writer.writerow(['Train',str(i),mean_rsq_train_H9[i],stdev_rsq_train_H9[i]])\n",
    "    for i in range(len(mean_rsq_test_H9)):\n",
    "        rsq_writer.writerow(['Test',str(i),mean_rsq_test_H9[i],stdev_rsq_test_H9[i]])\n",
    "    writefile.close()\n",
    "    "
   ]
  },
  {
   "cell_type": "markdown",
   "metadata": {},
   "source": [
    "## Fit final models"
   ]
  },
  {
   "cell_type": "markdown",
   "metadata": {},
   "source": [
    "### H1"
   ]
  },
  {
   "cell_type": "code",
   "execution_count": 26,
   "metadata": {},
   "outputs": [
    {
     "name": "stdout",
     "output_type": "stream",
     "text": [
      "Order:  1\n",
      "10\n",
      "Params:  12\n",
      "Performance:  0.7430261110294989\n",
      "Order:  2\n",
      "30\n",
      "Params:  67\n",
      "Performance:  0.9151429662861195\n",
      "Order:  3\n",
      "41\n",
      "Params:  232\n",
      "Performance:  0.957979520212946\n",
      "Order:  4\n",
      "69\n",
      "Params:  562\n",
      "Performance:  0.9827390892301666\n"
     ]
    }
   ],
   "source": [
    "# fit models of increasing order\n",
    "for order in range(1,optimal_H1_order+1):\n",
    "    \n",
    "    genos_H1_permuted = genos_H1[indices_permuted_H1]\n",
    "    phenos_H1_permuted = phenos_H1[indices_permuted_H1]\n",
    "    print('Order: ',str(order))\n",
    "    poly_H1_current = PolynomialFeatures(order,interaction_only=True)\n",
    "    genos_H1_current = poly_H1_current.fit_transform(genos_H1_permuted)\n",
    "\n",
    "    # fit\n",
    "    reg_H1_current = sm.OLS(phenos_H1_permuted,genos_H1_current).fit()\n",
    "    reg_H1_coefs_current = reg_H1_current.params\n",
    "    reg_H1_CIs_current = reg_H1_current.conf_int(alpha=0.05/float(len(reg_H1_coefs_current)), cols=None)\n",
    "    reg_H1_stderr = reg_H1_current.bse\n",
    "    reg_H1_pvalues = reg_H1_current.pvalues\n",
    "    \n",
    "    num_sig = len(np.where(reg_H1_pvalues < 0.05/float(len(reg_H1_coefs_current)))[0])\n",
    "    print(num_sig)\n",
    "\n",
    "    predicted_phenos_permuted_H1 = reg_H1_current.predict(genos_H1_current)\n",
    "    rsquared_H1_current = reg_H1_current.rsquared\n",
    "    print('Params: ',len(reg_H1_coefs_current))\n",
    "    print('Performance: ',rsquared_H1_current)\n",
    "     \n",
    "    # write model to file\n",
    "    if order > 0:\n",
    "        coef_names = poly_H1_current.get_feature_names(input_features = mutations)\n",
    "        with open('model_coefs/H1_'+str(order)+'order_'+ep_type+'.txt','w') as writefile:\n",
    "            coef_writer = csv.writer(writefile,delimiter='\\t')\n",
    "            coef_writer.writerow(['Params: ',len(reg_H1_coefs_current)])\n",
    "            coef_writer.writerow(['Performance: ',rsquared_H1_current])\n",
    "            coef_writer.writerow(['Term','Coefficient','Standard Error','p-value','95% CI lower','95% CI upper'])\n",
    "            coef_writer.writerow(['Intercept',reg_H1_coefs_current[0]])\n",
    "            for i in range(1,len(reg_H1_coefs_current)):\n",
    "                coef_writer.writerow([','.join(coef_names[i].split(' ')),reg_H1_coefs_current[i],reg_H1_stderr[i],\n",
    "                                  reg_H1_pvalues[i],reg_H1_CIs_current[i][0],reg_H1_CIs_current[i][1]])\n",
    "            writefile.close()\n"
   ]
  },
  {
   "cell_type": "markdown",
   "metadata": {},
   "source": [
    "### H9"
   ]
  },
  {
   "cell_type": "code",
   "execution_count": 27,
   "metadata": {},
   "outputs": [
    {
     "name": "stdout",
     "output_type": "stream",
     "text": [
      "Order:  1\n",
      "11\n",
      "Params:  12\n",
      "Performance:  0.7924868580010378\n",
      "Order:  2\n",
      "24\n",
      "Params:  67\n",
      "Performance:  0.8743026327570844\n",
      "Order:  3\n",
      "32\n",
      "Params:  232\n",
      "Performance:  0.9292041206369122\n",
      "Order:  4\n",
      "41\n",
      "Params:  562\n",
      "Performance:  0.9680505884789233\n"
     ]
    }
   ],
   "source": [
    "# fit models of increasing order\n",
    "for order in range(1,optimal_H9_order+1):\n",
    "    \n",
    "    genos_H9_permuted = genos_H9[indices_permuted_H9]\n",
    "    phenos_H9_permuted = phenos_H9[indices_permuted_H9]\n",
    "    print('Order: ',str(order))\n",
    "    poly_H9_current = PolynomialFeatures(order,interaction_only=True)\n",
    "    genos_H9_current = poly_H9_current.fit_transform(genos_H9_permuted)\n",
    "\n",
    "    # fit\n",
    "    reg_H9_current = sm.OLS(phenos_H9_permuted,genos_H9_current).fit()\n",
    "    reg_H9_coefs_current = reg_H9_current.params\n",
    "    reg_H9_CIs_current = reg_H9_current.conf_int(alpha=0.05/float(len(reg_H9_coefs_current)), cols=None)\n",
    "    reg_H9_stderr = reg_H9_current.bse\n",
    "    reg_H9_pvalues = reg_H9_current.pvalues\n",
    "    \n",
    "    num_sig = len(np.where(reg_H9_pvalues < 0.05/float(len(reg_H9_coefs_current)))[0])\n",
    "    print(num_sig)\n",
    "\n",
    "    predicted_phenos_permuted_H9 = reg_H9_current.predict(genos_H9_current)\n",
    "    rsquared_H9_current = reg_H9_current.rsquared\n",
    "    print('Params: ',len(reg_H9_coefs_current))\n",
    "    print('Performance: ',rsquared_H9_current)\n",
    "     \n",
    "    # write model to file\n",
    "    if order > 0:\n",
    "        coef_names = poly_H9_current.get_feature_names(input_features = mutations)\n",
    "        with open('model_coefs/H9_'+str(order)+'order_'+ep_type+'.txt','w') as writefile:\n",
    "            coef_writer = csv.writer(writefile,delimiter='\\t')\n",
    "            coef_writer.writerow(['Params: ',len(reg_H9_coefs_current)])\n",
    "            coef_writer.writerow(['Performance: ',rsquared_H9_current])\n",
    "            coef_writer.writerow(['Term','Coefficient','Standard Error','p-value','95% CI lower','95% CI upper'])\n",
    "            coef_writer.writerow(['Intercept',reg_H9_coefs_current[0]])\n",
    "            for i in range(1,len(reg_H9_coefs_current)):\n",
    "                coef_writer.writerow([','.join(coef_names[i].split(' ')),reg_H9_coefs_current[i],reg_H9_stderr[i],\n",
    "                                  reg_H9_pvalues[i],reg_H9_CIs_current[i][0],reg_H9_CIs_current[i][1]])\n",
    "            writefile.close()\n"
   ]
  },
  {
   "cell_type": "code",
   "execution_count": null,
   "metadata": {},
   "outputs": [],
   "source": []
  },
  {
   "cell_type": "code",
   "execution_count": null,
   "metadata": {},
   "outputs": [],
   "source": []
  }
 ],
 "metadata": {
  "kernelspec": {
   "display_name": "Python 3",
   "language": "python",
   "name": "python3"
  },
  "language_info": {
   "codemirror_mode": {
    "name": "ipython",
    "version": 3
   },
   "file_extension": ".py",
   "mimetype": "text/x-python",
   "name": "python",
   "nbconvert_exporter": "python",
   "pygments_lexer": "ipython3",
   "version": "3.8.2"
  }
 },
 "nbformat": 4,
 "nbformat_minor": 4
}
