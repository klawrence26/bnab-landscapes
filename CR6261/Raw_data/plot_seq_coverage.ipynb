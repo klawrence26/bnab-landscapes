{
 "cells": [
  {
   "cell_type": "code",
   "execution_count": 15,
   "metadata": {},
   "outputs": [],
   "source": [
    "import string\n",
    "import numpy as np\n",
    "import sys\n",
    "import csv\n",
    "import itertools\n",
    "import seaborn as sns\n",
    "import matplotlib.pyplot as plt\n",
    "import pandas as pd\n",
    "\n",
    "plt.rcParams.update({'font.size': 8})\n",
    "plt.rcParams.update({'font.family': 'sans-serif'})\n",
    "plt.rcParams.update({'xtick.labelsize': 7})\n",
    "plt.rcParams.update({'ytick.labelsize': 7})\n",
    "\n",
    "sns.set_style(\"ticks\")\n",
    "plt.rcParams['scatter.edgecolors'] = 'black'\n",
    "plt.rcParams['font.sans-serif'] = \"Arial\"\n",
    "# Then, \"ALWAYS use sans-serif fonts\"\n",
    "plt.rcParams['font.family'] = \"sans-serif\"\n",
    "plt.rcParams['axes.linewidth'] = 0.5\n",
    "\n",
    "\n",
    "\n",
    "antibody = '6261'\n",
    "\n",
    "if antibody == '9114':\n",
    "    antigens = ['H1','H3','FluB']\n",
    "    exps = {'H1':['a','b','c'],\n",
    "            'H3':['d','e','f'],\n",
    "            'FluB':['g','h','i']}\n",
    "    concs = {'H1':['7','75','7','85','9','95','10','105','11','115','12','0'],\n",
    "            'H3':['6','65','7','75','7','85','9','95','10','105','11','0'],\n",
    "            'FluB':['6','65','7','75','7','85','9','95','10','105','11','0']}\n",
    "    \n",
    "elif antibody == '6261':\n",
    "    antigens = ['H1','H9']\n",
    "    exps = {'H1':['a','b','c'],\n",
    "            'H9':['x','y','z']}\n",
    "    concs = {'H1':['7','75','7','85','9','95','10','105','11','115','12','0'],\n",
    "             'H9':['7','75','7','85','9','95','10','105','11','115','12','0']}\n",
    " "
   ]
  },
  {
   "cell_type": "code",
   "execution_count": 7,
   "metadata": {},
   "outputs": [
    {
     "name": "stdout",
     "output_type": "stream",
     "text": [
      "1133.7658127482266 1161.5\n",
      "951.0830133555255 890.0\n",
      "786.7652013858118 785.625\n",
      "1009.5262256612205 1046.75\n",
      "961.957419612574 978.5833333333334\n",
      "833.3583048172204 819.0833333333334\n"
     ]
    }
   ],
   "source": [
    "df = pd.DataFrame(columns = ['antibody', 'antigen', 'replicate','mean_coverage','median_coverage'])\n",
    "\n",
    "for antigen in antigens:\n",
    "\n",
    "    for i in range(3):\n",
    "        exp = exps[antigen][i]\n",
    "        cov_means = []\n",
    "        cov_medians = []\n",
    "\n",
    "        for conc in concs[antigen]:\n",
    "            count_dict = {}\n",
    "            # sum sequence counts across bins\n",
    "            for binn in range(4):\n",
    "                count_reader = csv.reader(open('seq_counts/Binding/6261'+exp+'/correct_counts_6261_'+exp+'_'+conc+'_'+str(binn+1)+'.txt','r'),delimiter='\\t')\n",
    "\n",
    "                for row in count_reader:\n",
    "                    if len(row) == 3:\n",
    "                        geno,space,count = row\n",
    "                        if geno in count_dict.keys():\n",
    "                            count_dict[geno] += float(count)\n",
    "                        else:\n",
    "                            count_dict[geno] = float(count)\n",
    "\n",
    "            # get mean and median coverage\n",
    "            counts = np.array(list(count_dict.values()),dtype=float)\n",
    "            cov_means.append(np.mean(counts))\n",
    "            cov_medians.append(np.median(counts))\n",
    "\n",
    "        mean_cov_mean = np.mean(cov_means)\n",
    "        mean_cov_median = np.mean(cov_medians)\n",
    "\n",
    "        print(mean_cov_mean,mean_cov_median)\n",
    "\n",
    "        df = df.append({'antibody' : antibody, 'antigen' : antigen, 'replicate' : i+1,\n",
    "                        'mean_coverage':mean_cov_mean,'median_coverage':mean_cov_median},\n",
    "                           ignore_index = True)\n",
    "\n",
    "#df.to_csv('stats/6261_coverage_summary.csv',index=False)\n"
   ]
  },
  {
   "cell_type": "code",
   "execution_count": 8,
   "metadata": {},
   "outputs": [
    {
     "data": {
      "text/html": [
       "<div>\n",
       "<style scoped>\n",
       "    .dataframe tbody tr th:only-of-type {\n",
       "        vertical-align: middle;\n",
       "    }\n",
       "\n",
       "    .dataframe tbody tr th {\n",
       "        vertical-align: top;\n",
       "    }\n",
       "\n",
       "    .dataframe thead th {\n",
       "        text-align: right;\n",
       "    }\n",
       "</style>\n",
       "<table border=\"1\" class=\"dataframe\">\n",
       "  <thead>\n",
       "    <tr style=\"text-align: right;\">\n",
       "      <th></th>\n",
       "      <th>antibody</th>\n",
       "      <th>antigen</th>\n",
       "      <th>replicate</th>\n",
       "      <th>mean_coverage</th>\n",
       "      <th>median_coverage</th>\n",
       "    </tr>\n",
       "  </thead>\n",
       "  <tbody>\n",
       "    <tr>\n",
       "      <th>0</th>\n",
       "      <td>6261</td>\n",
       "      <td>H1</td>\n",
       "      <td>1</td>\n",
       "      <td>1133.765813</td>\n",
       "      <td>1161.500000</td>\n",
       "    </tr>\n",
       "    <tr>\n",
       "      <th>1</th>\n",
       "      <td>6261</td>\n",
       "      <td>H1</td>\n",
       "      <td>2</td>\n",
       "      <td>951.083013</td>\n",
       "      <td>890.000000</td>\n",
       "    </tr>\n",
       "    <tr>\n",
       "      <th>2</th>\n",
       "      <td>6261</td>\n",
       "      <td>H1</td>\n",
       "      <td>3</td>\n",
       "      <td>786.765201</td>\n",
       "      <td>785.625000</td>\n",
       "    </tr>\n",
       "    <tr>\n",
       "      <th>3</th>\n",
       "      <td>6261</td>\n",
       "      <td>H9</td>\n",
       "      <td>1</td>\n",
       "      <td>1009.526226</td>\n",
       "      <td>1046.750000</td>\n",
       "    </tr>\n",
       "    <tr>\n",
       "      <th>4</th>\n",
       "      <td>6261</td>\n",
       "      <td>H9</td>\n",
       "      <td>2</td>\n",
       "      <td>961.957420</td>\n",
       "      <td>978.583333</td>\n",
       "    </tr>\n",
       "    <tr>\n",
       "      <th>5</th>\n",
       "      <td>6261</td>\n",
       "      <td>H9</td>\n",
       "      <td>3</td>\n",
       "      <td>833.358305</td>\n",
       "      <td>819.083333</td>\n",
       "    </tr>\n",
       "  </tbody>\n",
       "</table>\n",
       "</div>"
      ],
      "text/plain": [
       "  antibody antigen replicate  mean_coverage  median_coverage\n",
       "0     6261      H1         1    1133.765813      1161.500000\n",
       "1     6261      H1         2     951.083013       890.000000\n",
       "2     6261      H1         3     786.765201       785.625000\n",
       "3     6261      H9         1    1009.526226      1046.750000\n",
       "4     6261      H9         2     961.957420       978.583333\n",
       "5     6261      H9         3     833.358305       819.083333"
      ]
     },
     "execution_count": 8,
     "metadata": {},
     "output_type": "execute_result"
    }
   ],
   "source": [
    "df"
   ]
  },
  {
   "cell_type": "code",
   "execution_count": 39,
   "metadata": {},
   "outputs": [
    {
     "data": {
      "image/png": "[encoded data removed]",
      "text/plain": [
       "<Figure size 144x144 with 1 Axes>"
      ]
     },
     "metadata": {},
     "output_type": "display_data"
    },
    {
     "data": {
      "image/png": "[encoded data removed]",
      "text/plain": [
       "<Figure size 144x144 with 1 Axes>"
      ]
     },
     "metadata": {},
     "output_type": "display_data"
    }
   ],
   "source": [
    "fig,ax = plt.subplots(figsize=(2,2))\n",
    "sns.barplot(data=df,x='antigen',y='mean_coverage',hue='replicate',palette='Blues',ax=ax)\n",
    "plt.ylabel('Mean coverage')\n",
    "plt.ylim([0,1500])\n",
    "ax.legend(ncol=4,handlelength=1,handletextpad=0.5,columnspacing=1,title='replicate')\n",
    "plt.savefig('images/6261_mean_cov.pdf')\n",
    "plt.show()\n",
    "\n",
    "fig,ax = plt.subplots(figsize=(2,2))\n",
    "sns.barplot(data=df,x='antigen',y='median_coverage',hue='replicate',palette='Blues',ax=ax)\n",
    "plt.ylabel('Median coverage')\n",
    "ax.legend(ncol=4,handlelength=1,handletextpad=0.5,columnspacing=1,title='replicate')\n",
    "plt.ylim([0,1500])\n",
    "plt.savefig('images/6261_median_cov.pdf')\n",
    "plt.show()\n",
    "\n"
   ]
  },
  {
   "cell_type": "code",
   "execution_count": null,
   "metadata": {},
   "outputs": [],
   "source": []
  }
 ],
 "metadata": {
  "kernelspec": {
   "display_name": "Python 3",
   "language": "python",
   "name": "python3"
  },
  "language_info": {
   "codemirror_mode": {
    "name": "ipython",
    "version": 3
   },
   "file_extension": ".py",
   "mimetype": "text/x-python",
   "name": "python",
   "nbconvert_exporter": "python",
   "pygments_lexer": "ipython3",
   "version": "3.8.2"
  }
 },
 "nbformat": 4,
 "nbformat_minor": 4
}
