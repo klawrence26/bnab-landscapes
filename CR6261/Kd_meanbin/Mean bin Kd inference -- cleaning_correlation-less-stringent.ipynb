{
 "cells": [
  {
   "cell_type": "markdown",
   "metadata": {},
   "source": [
    "## these inferred Kd do not require data for all concentrations, relaxing this requirement retains more variants, which is important for inferring the full epistasis model, as presented in the SI. Note that all Kd presented in the main text were inferred requiring data for all concentrations."
   ]
  },
  {
   "cell_type": "markdown",
   "metadata": {},
   "source": [
    "## import stuff"
   ]
  },
  {
   "cell_type": "code",
   "execution_count": 2,
   "metadata": {},
   "outputs": [],
   "source": [
    "#importing things\n",
    "import pandas as pd\n",
    "import numpy as np\n",
    "import csv\n",
    "import pylab as pl\n",
    "import matplotlib.pyplot as plt\n",
    "import copy\n",
    "import scipy\n",
    "from scipy.stats import linregress\n",
    "from scipy.stats import t\n",
    "from scipy.stats import sem\n",
    "from scipy.stats import ttest_ind_from_stats\n",
    "from mpl_toolkits.mplot3d import Axes3D\n",
    "from scipy.stats import ttest_ind_from_stats\n",
    "from collections import OrderedDict\n",
    "import seaborn as sns"
   ]
  },
  {
   "cell_type": "markdown",
   "metadata": {},
   "source": [
    "## fetch the data"
   ]
  },
  {
   "cell_type": "code",
   "execution_count": 3,
   "metadata": {},
   "outputs": [],
   "source": [
    "#h1\n",
    "h1a = pd.DataFrame(pd.read_csv('6261a_results/6261a_kd_meanbin_err_keepall.csv',delimiter=',',names=['variant', 'logKd','A','B','r2','sigma','c1', 'c2', 'c3', 'c4', 'c5', 'c6', 'c7', 'c8', 'c9', 'c10', 'c11', 'c12', 'e1', 'e2', 'e3', 'e4', 'e5', 'e6', 'e7', 'e8', 'e9', 'e10', 'e11', 'e12'],dtype={'variant': str}))\n",
    "h1b = pd.DataFrame(pd.read_csv('6261b_results/6261b_kd_meanbin_err_keepall.csv',delimiter=',',names=['variant', 'logKd','A','B','r2','sigma','c1', 'c2', 'c3', 'c4', 'c5', 'c6', 'c7', 'c8', 'c9', 'c10', 'c11', 'c12', 'e1', 'e2', 'e3', 'e4', 'e5', 'e6', 'e7', 'e8', 'e9', 'e10', 'e11', 'e12'],dtype={'variant': str}))\n",
    "h1c = pd.DataFrame(pd.read_csv('6261c_results/6261c_kd_meanbin_err_keepall.csv',delimiter=',',names=['variant', 'logKd','A','B','r2','sigma','c1', 'c2', 'c3', 'c4', 'c5', 'c6', 'c7', 'c8', 'c9', 'c10', 'c11', 'c12', 'e1', 'e2', 'e3', 'e4', 'e5', 'e6', 'e7', 'e8', 'e9', 'e10', 'e11', 'e12'],dtype={'variant': str}))\n",
    "#h1\n",
    "h9x = pd.DataFrame(pd.read_csv('6261x_results/6261x_kd_meanbin_err_keepall.csv',delimiter=',',names=['variant', 'logKd','A','B','r2','sigma','c1', 'c2', 'c3', 'c4', 'c5', 'c6', 'c7', 'c8', 'c9', 'c10', 'c11', 'c12', 'e1', 'e2', 'e3', 'e4', 'e5', 'e6', 'e7', 'e8', 'e9', 'e10', 'e11', 'e12'],dtype={'variant': str}))\n",
    "h9y = pd.DataFrame(pd.read_csv('6261y_results/6261y_kd_meanbin_err_keepall.csv',delimiter=',',names=['variant', 'logKd','A','B','r2','sigma','c1', 'c2', 'c3', 'c4', 'c5', 'c6', 'c7', 'c8', 'c9', 'c10', 'c11', 'c12', 'e1', 'e2', 'e3', 'e4', 'e5', 'e6', 'e7', 'e8', 'e9', 'e10', 'e11', 'e12'],dtype={'variant': str}))\n",
    "h9z = pd.DataFrame(pd.read_csv('6261z_results/6261z_kd_meanbin_err_keepall.csv',delimiter=',',names=['variant', 'logKd','A','B','r2','sigma','c1', 'c2', 'c3', 'c4', 'c5', 'c6', 'c7', 'c8', 'c9', 'c10', 'c11', 'c12', 'e1', 'e2', 'e3', 'e4', 'e5', 'e6', 'e7', 'e8', 'e9', 'e10', 'e11', 'e12'],dtype={'variant': str}))"
   ]
  },
  {
   "cell_type": "code",
   "execution_count": 4,
   "metadata": {},
   "outputs": [
    {
     "name": "stdout",
     "output_type": "stream",
     "text": [
      "2048 2048\n"
     ]
    }
   ],
   "source": [
    "#merge by antigen\n",
    "#H1\n",
    "h1_all = pd.DataFrame()\n",
    "h1_all = pd.merge(h1a, h1b, on='variant',how='outer')\n",
    "h1_all = pd.merge(h1_all, h1c, on='variant',how='outer')\n",
    "#H9\n",
    "h9_all = pd.DataFrame()\n",
    "h9_all = pd.merge(h9x, h9y, on='variant',how='outer')\n",
    "h9_all = pd.merge(h9_all, h9z, on='variant',how='outer')\n",
    "print(h1_all.shape[0],h9_all.shape[0])"
   ]
  },
  {
   "cell_type": "markdown",
   "metadata": {},
   "source": [
    "## save these files"
   ]
  },
  {
   "cell_type": "code",
   "execution_count": 5,
   "metadata": {},
   "outputs": [],
   "source": [
    "h1_all.to_csv('kd_processed/20210521_h1_all_keepall.csv', index=False)\n",
    "h9_all.to_csv('kd_processed/20210521_h9_all_keepall.csv', index=False)"
   ]
  },
  {
   "cell_type": "code",
   "execution_count": 9,
   "metadata": {},
   "outputs": [],
   "source": [
    "h1_s = h1_all[['variant','logKd_x','logKd_y','logKd']].copy()\n",
    "h1_s['mean'] = h1_s.mean(axis=1)\n",
    "h1_s['sem'] = h1_s.sem(axis=1)\n",
    "h1_s.rename(columns={\"logKd_x\": \"repa\", \"logKd_y\": \"repb\", \"logKd\": \"repc\",\"mean\": \"h1_mean\", \"sem\": \"h1_sem\"},inplace=True)\n",
    "\n",
    "h9_s = h9_all[['variant','logKd_x','logKd_y','logKd']].copy()\n",
    "h9_s['mean'] = h9_s.mean(axis=1)\n",
    "h9_s['sem'] = h9_s.sem(axis=1)\n",
    "h9_s.rename(columns={\"logKd_x\": \"repx\", \"logKd_y\": \"repy\", \"logKd\": \"repz\",\"mean\": \"h9_mean\", \"sem\": \"h9_sem\"},inplace=True)\n",
    "\n",
    "#merge all antigens\n",
    "HA_all_unf = pd.DataFrame()\n",
    "HA_all_unf = pd.merge(h1_s, h9_s, on='variant',how='outer')\n",
    "\n",
    "\n",
    "#add a column with the number of mutations and save the file\n",
    "def sum_digits(digit):\n",
    "    return sum(int(x) for x in digit if x.isdigit())\n",
    "\n",
    "HA_all_unf['som_mut'] = HA_all_unf['variant'].apply(sum_digits)\n",
    "HA_all_unf.to_csv('kd_processed/20210521_6261_HA_unadj_unfilt_merg_keepall.csv', index=False)"
   ]
  },
  {
   "cell_type": "code",
   "execution_count": null,
   "metadata": {},
   "outputs": [],
   "source": []
  }
 ],
 "metadata": {
  "kernelspec": {
   "display_name": "Python 3",
   "language": "python",
   "name": "python3"
  },
  "language_info": {
   "codemirror_mode": {
    "name": "ipython",
    "version": 3
   },
   "file_extension": ".py",
   "mimetype": "text/x-python",
   "name": "python",
   "nbconvert_exporter": "python",
   "pygments_lexer": "ipython3",
   "version": "3.7.4"
  }
 },
 "nbformat": 4,
 "nbformat_minor": 2
}
