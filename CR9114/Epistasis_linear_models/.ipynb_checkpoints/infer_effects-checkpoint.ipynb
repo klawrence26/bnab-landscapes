{
 "cells": [
  {
   "cell_type": "code",
   "execution_count": 3,
   "metadata": {},
   "outputs": [],
   "source": [
    "import numpy as np\n",
    "import matplotlib.pyplot as plt\n",
    "import csv\n",
    "import sys\n",
    "from sklearn.preprocessing import PolynomialFeatures\n",
    "import statsmodels.api as sm\n",
    "import pandas as pd\n",
    "\n",
    "from mutation_info import *"
   ]
  },
  {
   "cell_type": "code",
   "execution_count": 4,
   "metadata": {},
   "outputs": [],
   "source": [
    "# choose statistical or biochemical epistasis\n",
    "ep_type = 'biochem' \n",
    "#ep_type = 'stat'\n"
   ]
  },
  {
   "cell_type": "markdown",
   "metadata": {},
   "source": [
    "## Read in data"
   ]
  },
  {
   "cell_type": "code",
   "execution_count": 5,
   "metadata": {},
   "outputs": [
    {
     "name": "stdout",
     "output_type": "stream",
     "text": [
      "(65094, 16) (65094,)\n",
      "(8192, 13) (8192,)\n",
      "(254, 8) (254,)\n"
     ]
    }
   ],
   "source": [
    "# read in KD data, filter, and transform to numpy arrays\n",
    "\n",
    "df = pd.read_csv('../Kd_meanbin/kd_processed/20210427_HA_unadj_fil_merg.csv',dtype={\"variant\": str})\n",
    "\n",
    "all_genos = df[['variant']].values.flatten()\n",
    "\n",
    "# H1\n",
    "df_H1 = df.dropna(subset=['h1_mean'])\n",
    "genos_H1 = np.array(df_H1[['pos'+x for x in H1_mutations]].copy(),dtype=np.float64)\n",
    "phenos_H1 = df_H1[['h1_mean']].values.flatten()\n",
    "print(genos_H1.shape,phenos_H1.shape)\n",
    "N_H1 = len(phenos_H1)\n",
    "\n",
    "# for H3, filter for the three required mutations and remove them\n",
    "df_H3 = df.dropna(subset=['h3_mean'])\n",
    "for mut in H3_required_mutations:\n",
    "    df_H3 = df_H3.loc[df_H3['pos'+mut] == 1]\n",
    "\n",
    "genos_H3 = np.array(df_H3[['pos'+x for x in H3_mutations]].copy(),dtype=np.float64)\n",
    "phenos_H3 = df_H3[['h3_mean']].values.flatten()\n",
    "print(genos_H3.shape,phenos_H3.shape)\n",
    "N_H3 = len(phenos_H3)\n",
    "\n",
    "# for FluB, filter for the eight required mutations and remove them\n",
    "df_B = df.dropna(subset=['fluB_mean'])\n",
    "for mut in B_required_mutations:\n",
    "    df_B = df_B.loc[df_B['pos'+mut] == 1]\n",
    "    \n",
    "genos_B = np.array(df_B[['pos'+x for x in B_mutations]].copy(),dtype=np.float64)\n",
    "phenos_B = df_B[['fluB_mean']].values.flatten()\n",
    "print(genos_B.shape,phenos_B.shape)\n",
    "N_B = len(phenos_B)\n",
    "\n",
    "# for statistical epistasis, shift genotypes from 0,1 to -1,1\n",
    "if ep_type == 'stat':\n",
    "    genos_H1 = 2*(genos_H1-0.5)\n",
    "    genos_H3 = 2*(genos_H3-0.5)\n",
    "    genos_B = 2*(genos_B-0.5)\n",
    "\n"
   ]
  },
  {
   "cell_type": "markdown",
   "metadata": {},
   "source": [
    "## CV to choose optimal order of interaction"
   ]
  },
  {
   "cell_type": "markdown",
   "metadata": {},
   "source": [
    " for H1, dataset is too big to run locally -- see separate scripts for running on cluster."
   ]
  },
  {
   "cell_type": "markdown",
   "metadata": {},
   "source": [
    "### H3"
   ]
  },
  {
   "cell_type": "code",
   "execution_count": 6,
   "metadata": {},
   "outputs": [
    {
     "name": "stdout",
     "output_type": "stream",
     "text": [
      "819 7373\n",
      "Fold:  0\n",
      "Fold:  1\n",
      "Fold:  2\n",
      "Fold:  3\n",
      "Fold:  4\n",
      "Fold:  5\n",
      "Fold:  6\n",
      "Fold:  7\n",
      "Fold:  8\n",
      "Fold:  9\n",
      "Optimal order, H3:  4\n"
     ]
    }
   ],
   "source": [
    "num_folds = 10\n",
    "max_order = 5\n",
    "\n",
    "# set up permutation\n",
    "np.random.seed(2112)\n",
    "indices_permuted_H3 = np.random.permutation(np.arange(len(genos_H3)))\n",
    "size_test_H3 = int(1.0/float(num_folds)*len(genos_H3))\n",
    "size_train_H3 = len(genos_H3)-size_test_H3\n",
    "print(size_test_H3,size_train_H3)\n",
    "\n",
    "# lists to store r squared values\n",
    "rsq_train_list_H3 = np.zeros((max_order+1,num_folds))\n",
    "rsq_test_list_H3 = np.zeros((max_order+1,num_folds))\n",
    "\n",
    "\n",
    "# loop over CV folds\n",
    "for f in range(num_folds):\n",
    "\n",
    "    # get train & test sets\n",
    "    start = int(f*size_test_H3)\n",
    "    stop = int((f+1)*size_test_H3)\n",
    "    genos_train_H3 = np.concatenate((genos_H3[indices_permuted_H3[:start]],genos_H3[indices_permuted_H3[stop:]]))\n",
    "    genos_test_H3 = genos_H3[indices_permuted_H3[start:stop]]\n",
    "    phenos_train_H3 = np.concatenate((phenos_H3[indices_permuted_H3[:start]],phenos_H3[indices_permuted_H3[stop:]]))\n",
    "    phenos_test_H3 = phenos_H3[indices_permuted_H3[start:stop]]\n",
    "    \n",
    "    print('Fold: ',f)\n",
    "        \n",
    "    # initialize zero-order (intercept-only) model\n",
    "    genos_train_H3_previous = np.full(len(genos_train_H3),1.0)\n",
    "    genos_test_H3_previous = np.full(len(genos_test_H3),1.0)\n",
    "\n",
    "    reg_H3_previous = sm.OLS(phenos_train_H3,genos_train_H3_previous).fit()\n",
    "    reg_H3_coefs_previous = reg_H3_previous.params\n",
    "\n",
    "    rsquared_train_H3_previous = reg_H3_previous.rsquared\n",
    "    rsquared_test_H3_previous = 1-np.sum((phenos_test_H3-reg_H3_previous.predict(genos_test_H3_previous))**2)/np.sum((phenos_test_H3-np.mean(phenos_test_H3))**2)\n",
    "    rsq_train_list_H3[0,f] = rsquared_train_H3_previous\n",
    "    rsq_test_list_H3[0,f] = rsquared_test_H3_previous\n",
    "\n",
    "    mean_pheno_train = np.mean(phenos_train_H3)\n",
    "    mean_pheno_test = np.mean(phenos_test_H3)\n",
    "\n",
    "\n",
    "    # fit models of increasing order\n",
    "    for order in range(1,max_order+1):\n",
    "        #print('Order: ',str(order))\n",
    "        poly_H3_current = PolynomialFeatures(order,interaction_only=True)\n",
    "        genos_train_H3_current = poly_H3_current.fit_transform(genos_train_H3)\n",
    "        genos_test_H3_current = poly_H3_current.fit_transform(genos_test_H3)\n",
    "\n",
    "        reg_H3_current = sm.OLS(phenos_train_H3, genos_train_H3_current).fit()\n",
    "        reg_H3_coefs_current = reg_H3_current.params\n",
    "        reg_H3_CIs_current = reg_H3_current.conf_int(alpha=0.05, cols=None)\n",
    "        reg_H3_stderr = reg_H3_current.bse\n",
    "    \n",
    "        rsquared_train_H3_current = reg_H3_current.rsquared\n",
    "        rsquared_test_H3_current = 1-np.sum((phenos_test_H3-reg_H3_current.predict(genos_test_H3_current))**2)/np.sum((phenos_test_H3-np.mean(phenos_test_H3))**2)\n",
    "        rsq_train_list_H3[order,f] = rsquared_train_H3_current\n",
    "        rsq_test_list_H3[order,f] = rsquared_test_H3_current\n",
    "        \n",
    "\n",
    "# average over folds\n",
    "mean_rsq_train_H3 = np.mean(rsq_train_list_H3,axis=1)\n",
    "stdev_rsq_train_H3 = np.std(rsq_train_list_H3,axis=1)\n",
    "mean_rsq_test_H3 = np.mean(rsq_test_list_H3,axis=1)\n",
    "stdev_rsq_test_H3 = np.std(rsq_test_list_H3,axis=1)\n",
    "\n",
    "optimal_H3_order = np.argmax(mean_rsq_test_H3)\n",
    "print('Optimal order, H3: ',optimal_H3_order)\n"
   ]
  },
  {
   "cell_type": "code",
   "execution_count": 36,
   "metadata": {},
   "outputs": [],
   "source": [
    "# print CV results to file\n",
    "with open('model_coefs/H3_CV_rsquared_'+ep_type+'.csv','w') as writefile:\n",
    "    rsq_writer = csv.writer(writefile)\n",
    "    rsq_writer.writerow(['Optimal order: '+str(optimal_H3_order)])\n",
    "    rsq_writer.writerow(['Type','Order','Mean','Std'])\n",
    "    for i in range(len(mean_rsq_train_H3)):\n",
    "        rsq_writer.writerow(['Train',str(i),mean_rsq_train_H3[i],stdev_rsq_train_H3[i]])\n",
    "    for i in range(len(mean_rsq_test_H3)):\n",
    "        rsq_writer.writerow(['Test',str(i),mean_rsq_test_H3[i],stdev_rsq_test_H3[i]])\n",
    "    writefile.close()\n"
   ]
  },
  {
   "cell_type": "markdown",
   "metadata": {},
   "source": [
    "### FluB"
   ]
  },
  {
   "cell_type": "code",
   "execution_count": 7,
   "metadata": {},
   "outputs": [
    {
     "name": "stdout",
     "output_type": "stream",
     "text": [
      "50 204\n",
      "Fold:  0\n",
      "Fold:  1\n",
      "Fold:  2\n",
      "Fold:  3\n",
      "Fold:  4\n",
      "Optimal order, B:  1\n"
     ]
    }
   ],
   "source": [
    "num_folds = 5\n",
    "max_order = 3\n",
    "\n",
    "# set up permutation\n",
    "np.random.seed(2112)\n",
    "indices_permuted_B = np.random.permutation(np.arange(len(genos_B)))\n",
    "size_test_B = int(1.0/float(num_folds)*len(genos_B))\n",
    "size_train_B = len(genos_B)-size_test_B\n",
    "print(size_test_B,size_train_B)\n",
    "\n",
    "# lists to store r squared values\n",
    "rsq_train_list_B = np.zeros((max_order+1,num_folds))\n",
    "rsq_test_list_B = np.zeros((max_order+1,num_folds))\n",
    "\n",
    "\n",
    "# loop over CV folds\n",
    "for f in range(num_folds):\n",
    "\n",
    "    # get train & test sets\n",
    "    start = int(f*size_test_B)\n",
    "    stop = int((f+1)*size_test_B)\n",
    "    genos_train_B = np.concatenate((genos_B[indices_permuted_B[:start]],genos_B[indices_permuted_B[stop:]]))\n",
    "    genos_test_B = genos_B[indices_permuted_B[start:stop]]\n",
    "    phenos_train_B = np.concatenate((phenos_B[indices_permuted_B[:start]],phenos_B[indices_permuted_B[stop:]]))\n",
    "    phenos_test_B = phenos_B[indices_permuted_B[start:stop]]\n",
    "    \n",
    "    print('Fold: ',f)\n",
    "        \n",
    "    # initialize zero-order (intercept-only) model\n",
    "    genos_train_B_previous = np.full(len(genos_train_B),1.0)\n",
    "    genos_test_B_previous = np.full(len(genos_test_B),1.0)\n",
    "\n",
    "    reg_B_previous = sm.OLS(phenos_train_B,genos_train_B_previous).fit()\n",
    "    reg_B_coefs_previous = reg_B_previous.params\n",
    "\n",
    "    rsquared_train_B_previous = reg_B_previous.rsquared\n",
    "    rsquared_test_B_previous = 1-np.sum((phenos_test_B-reg_B_previous.predict(genos_test_B_previous))**2)/np.sum((phenos_test_B-np.mean(phenos_test_B))**2)\n",
    "    rsq_train_list_B[0,f] = rsquared_train_B_previous\n",
    "    rsq_test_list_B[0,f] = rsquared_test_B_previous\n",
    "\n",
    "    mean_pheno_train = np.mean(phenos_train_B)\n",
    "    mean_pheno_test = np.mean(phenos_test_B)\n",
    "\n",
    "\n",
    "    # fit models of increasing order\n",
    "    for order in range(1,max_order+1):\n",
    "        #print('Order: ',str(order))\n",
    "        poly_B_current = PolynomialFeatures(order,interaction_only=True)\n",
    "        genos_train_B_current = poly_B_current.fit_transform(genos_train_B)\n",
    "        genos_test_B_current = poly_B_current.fit_transform(genos_test_B)\n",
    "\n",
    "        reg_B_current = sm.OLS(phenos_train_B, genos_train_B_current).fit()\n",
    "        reg_B_coefs_current = reg_B_current.params\n",
    "        reg_B_CIs_current = reg_B_current.conf_int(alpha=0.05, cols=None)\n",
    "        reg_B_stderr = reg_B_current.bse\n",
    "    \n",
    "        rsquared_train_B_current = reg_B_current.rsquared\n",
    "        rsquared_test_B_current = 1-np.sum((phenos_test_B-reg_B_current.predict(genos_test_B_current))**2)/np.sum((phenos_test_B-np.mean(phenos_test_B))**2)\n",
    "        rsq_train_list_B[order,f] = rsquared_train_B_current\n",
    "        rsq_test_list_B[order,f] = rsquared_test_B_current\n",
    "        \n",
    "\n",
    "# average over folds\n",
    "mean_rsq_train_B = np.mean(rsq_train_list_B,axis=1)\n",
    "stdev_rsq_train_B = np.std(rsq_train_list_B,axis=1)\n",
    "mean_rsq_test_B = np.mean(rsq_test_list_B,axis=1)\n",
    "stdev_rsq_test_B = np.std(rsq_test_list_B,axis=1)\n",
    "\n",
    "optimal_B_order = np.argmax(mean_rsq_test_B)\n",
    "print('Optimal order, B: ',optimal_B_order)\n"
   ]
  },
  {
   "cell_type": "code",
   "execution_count": 38,
   "metadata": {},
   "outputs": [],
   "source": [
    "# print CV results to file\n",
    "with open('model_coefs/B_CV_rsquared_'+ep_type+'.csv','w') as writefile:\n",
    "    rsq_writer = csv.writer(writefile)\n",
    "    rsq_writer.writerow(['Optimal order: '+str(optimal_B_order)])\n",
    "    rsq_writer.writerow(['Type','Order','Mean','Std'])\n",
    "    for i in range(len(mean_rsq_train_B)):\n",
    "        rsq_writer.writerow(['Train',str(i),mean_rsq_train_B[i],stdev_rsq_train_B[i]])\n",
    "    for i in range(len(mean_rsq_test_B)):\n",
    "        rsq_writer.writerow(['Test',str(i),mean_rsq_test_B[i],stdev_rsq_test_B[i]])\n",
    "    writefile.close()\n",
    "    "
   ]
  },
  {
   "cell_type": "markdown",
   "metadata": {},
   "source": [
    "## Fit final models"
   ]
  },
  {
   "cell_type": "markdown",
   "metadata": {},
   "source": [
    "for H1, dataset is too big to run locally -- see separate scripts for running on cluster.\n"
   ]
  },
  {
   "cell_type": "markdown",
   "metadata": {},
   "source": [
    "### H3"
   ]
  },
  {
   "cell_type": "code",
   "execution_count": 16,
   "metadata": {},
   "outputs": [
    {
     "name": "stdout",
     "output_type": "stream",
     "text": [
      "Order:  1\n",
      "14\n",
      "14\n",
      "Params:  14\n",
      "Performance:  0.7879895730787162\n",
      "Order:  2\n",
      "45\n",
      "45\n",
      "Params:  92\n",
      "Performance:  0.9395417612121162\n",
      "Order:  3\n",
      "66\n",
      "66\n",
      "Params:  378\n",
      "Performance:  0.9659113035758967\n",
      "Order:  4\n",
      "74\n",
      "74\n",
      "Params:  1093\n",
      "Performance:  0.9755444393210079\n"
     ]
    }
   ],
   "source": [
    "# fit models of increasing order\n",
    "for order in range(1,optimal_H3_order+1):\n",
    "    \n",
    "    genos_H3_permuted = genos_H3[indices_permuted_H3]\n",
    "    phenos_H3_permuted = phenos_H3[indices_permuted_H3]\n",
    "    print('Order: ',str(order))\n",
    "    poly_H3_current = PolynomialFeatures(order,interaction_only=True)\n",
    "    genos_H3_current = poly_H3_current.fit_transform(genos_H3_permuted)\n",
    "\n",
    "    # fit\n",
    "    reg_H3_current = sm.OLS(phenos_H3_permuted,genos_H3_current).fit()\n",
    "    reg_H3_coefs_current = reg_H3_current.params\n",
    "    reg_H3_CIs_current = reg_H3_current.conf_int(alpha=0.05/float(len(reg_H3_coefs_current)), cols=None)\n",
    "    reg_H3_stderr = reg_H3_current.bse\n",
    "    reg_H3_pvalues = reg_H3_current.pvalues\n",
    "    \n",
    "    num_sig = len(np.where(reg_H3_pvalues < 0.05/float(len(reg_H3_coefs_current)))[0])\n",
    "    print(num_sig)\n",
    "    \n",
    "    predicted_phenos_permuted_H3 = reg_H3_current.predict(genos_H3_current)\n",
    "    rsquared_H3_current = reg_H3_current.rsquared\n",
    "    print('Params: ',len(reg_H3_coefs_current))\n",
    "    print('Performance: ',rsquared_H3_current)\n",
    "     \n",
    "    #write model to file\n",
    "    if order > 0:\n",
    "        coef_names = poly_H3_current.get_feature_names(input_features = H3_mutations)\n",
    "        with open('model_coefs/H3_'+str(order)+'order_'+ep_type+'.txt','w') as writefile:\n",
    "            coef_writer = csv.writer(writefile,delimiter='\\t')           \n",
    "            coef_writer.writerow(['Params: ',len(reg_H3_coefs_current)])\n",
    "            coef_writer.writerow(['Performance: ',rsquared_H3_current])\n",
    "            coef_writer.writerow(['Term','Coefficient','Standard Error','p-value','95% CI lower','95% CI upper'])\n",
    "            coef_writer.writerow(['Intercept',reg_H3_coefs_current[0]])\n",
    "            for i in range(1,len(reg_H3_coefs_current)):\n",
    "                coef_writer.writerow([','.join(coef_names[i].split(' ')),reg_H3_coefs_current[i],reg_H3_stderr[i],\n",
    "                                  reg_H3_pvalues[i],reg_H3_CIs_current[i][0],reg_H3_CIs_current[i][1]])\n",
    "            writefile.close()\n"
   ]
  },
  {
   "cell_type": "markdown",
   "metadata": {},
   "source": [
    "### FluB"
   ]
  },
  {
   "cell_type": "code",
   "execution_count": 18,
   "metadata": {},
   "outputs": [
    {
     "name": "stdout",
     "output_type": "stream",
     "text": [
      "Order:  1\n",
      "7\n",
      "Params:  9\n",
      "Performance:  0.872717229336111\n"
     ]
    }
   ],
   "source": [
    "# fit models of increasing order\n",
    "for order in range(1,optimal_B_order+1):\n",
    "    \n",
    "    genos_B_permuted = genos_B[indices_permuted_B]\n",
    "    phenos_B_permuted = phenos_B[indices_permuted_B]\n",
    "    print('Order: ',str(order))\n",
    "    poly_B_current = PolynomialFeatures(order,interaction_only=True)\n",
    "    genos_B_current = poly_B_current.fit_transform(genos_B_permuted)\n",
    "\n",
    "    # fit\n",
    "    reg_B_current = sm.OLS(phenos_B_permuted,genos_B_current).fit()\n",
    "    reg_B_coefs_current = reg_B_current.params\n",
    "    reg_B_CIs_current = reg_B_current.conf_int(alpha=0.05/float(len(reg_B_coefs_current)), cols=None)\n",
    "    reg_B_stderr = reg_B_current.bse\n",
    "    reg_B_pvalues = reg_B_current.pvalues\n",
    "    \n",
    "    num_sig = len(np.where(reg_B_pvalues < 0.05/float(len(reg_B_coefs_current)))[0])\n",
    "    print(num_sig)\n",
    "\n",
    "    predicted_phenos_permuted_B = reg_B_current.predict(genos_B_current)\n",
    "    rsquared_B_current = reg_B_current.rsquared\n",
    "    print('Params: ',len(reg_B_coefs_current))\n",
    "    print('Performance: ',rsquared_B_current)\n",
    "     \n",
    "    # write model to file\n",
    "    if order > 0:\n",
    "        coef_names = poly_B_current.get_feature_names(input_features = B_mutations)\n",
    "        with open('model_coefs/B_'+str(order)+'order_'+ep_type+'.txt','w') as writefile:\n",
    "            coef_writer = csv.writer(writefile,delimiter='\\t')\n",
    "            coef_writer.writerow(['Params: ',len(reg_B_coefs_current)])\n",
    "            coef_writer.writerow(['Performance: ',rsquared_B_current])\n",
    "            coef_writer.writerow(['Term','Coefficient','Standard Error','p-value','95% CI lower','95% CI upper'])\n",
    "            coef_writer.writerow(['Intercept',reg_B_coefs_current[0]])\n",
    "            for i in range(1,len(reg_B_coefs_current)):\n",
    "                coef_writer.writerow([','.join(coef_names[i].split(' ')),reg_B_coefs_current[i],reg_B_stderr[i],\n",
    "                                  reg_B_pvalues[i],reg_B_CIs_current[i][0],reg_B_CIs_current[i][1]])\n",
    "            writefile.close()\n"
   ]
  },
  {
   "cell_type": "code",
   "execution_count": null,
   "metadata": {},
   "outputs": [],
   "source": []
  }
 ],
 "metadata": {
  "kernelspec": {
   "display_name": "Python 3",
   "language": "python",
   "name": "python3"
  },
  "language_info": {
   "codemirror_mode": {
    "name": "ipython",
    "version": 3
   },
   "file_extension": ".py",
   "mimetype": "text/x-python",
   "name": "python",
   "nbconvert_exporter": "python",
   "pygments_lexer": "ipython3",
   "version": "3.8.2"
  }
 },
 "nbformat": 4,
 "nbformat_minor": 4
}
