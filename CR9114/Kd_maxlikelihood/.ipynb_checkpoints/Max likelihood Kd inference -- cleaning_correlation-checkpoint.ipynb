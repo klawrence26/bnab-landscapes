{
 "cells": [
  {
   "cell_type": "markdown",
   "metadata": {},
   "source": [
    "## import stuff"
   ]
  },
  {
   "cell_type": "code",
   "execution_count": 14,
   "metadata": {},
   "outputs": [],
   "source": [
    "#importing things\n",
    "import pandas as pd\n",
    "import numpy as np\n",
    "import csv\n",
    "import pylab as pl\n",
    "import matplotlib.pyplot as plt\n",
    "import copy\n",
    "import scipy\n",
    "from scipy.stats import linregress\n",
    "from scipy.stats import t\n",
    "from scipy.stats import sem\n",
    "from scipy.stats import ttest_ind_from_stats\n",
    "from mpl_toolkits.mplot3d import Axes3D\n",
    "from scipy.stats import ttest_ind_from_stats\n",
    "from collections import OrderedDict\n",
    "import seaborn as sns"
   ]
  },
  {
   "cell_type": "markdown",
   "metadata": {},
   "source": [
    "## fetch the data"
   ]
  },
  {
   "cell_type": "code",
   "execution_count": 25,
   "metadata": {},
   "outputs": [],
   "source": [
    "#h1\n",
    "h1a = pd.DataFrame(pd.read_csv('Kd_inference_9114_a_nova3.csv',delimiter=',',dtype={'sequence': str}))\n",
    "h1b = pd.DataFrame(pd.read_csv('Kd_inference_9114_b_nova3.csv',delimiter=',',dtype={'sequence': str}))\n",
    "h1c = pd.DataFrame(pd.read_csv('Kd_inference_9114_c_nova3.csv',delimiter=',',dtype={'sequence': str}))\n",
    "#h3\n",
    "h3d = pd.DataFrame(pd.read_csv('Kd_inference_9114_d_nova3.csv',delimiter=',',dtype={'sequence': str}))\n",
    "h3e = pd.DataFrame(pd.read_csv('Kd_inference_9114_e_nova3.csv',delimiter=',',dtype={'sequence': str}))\n",
    "h3f = pd.DataFrame(pd.read_csv('Kd_inference_9114_f_nova3.csv',delimiter=',',dtype={'sequence': str}))\n",
    "#fluB\n",
    "fluBg = pd.DataFrame(pd.read_csv('Kd_inference_9114_g_nova3.csv',delimiter=',',dtype={'sequence': str}))\n",
    "fluBh = pd.DataFrame(pd.read_csv('Kd_inference_9114_h_nova3.csv',delimiter=',',dtype={'sequence': str}))\n",
    "fluBi = pd.DataFrame(pd.read_csv('Kd_inference_9114_i_nova3.csv',delimiter=',',dtype={'sequence': str}))"
   ]
  },
  {
   "cell_type": "markdown",
   "metadata": {},
   "source": [
    "## merging unfiltered data"
   ]
  },
  {
   "cell_type": "code",
   "execution_count": 26,
   "metadata": {},
   "outputs": [
    {
     "name": "stdout",
     "output_type": "stream",
     "text": [
      "65536 65536 65536\n"
     ]
    }
   ],
   "source": [
    "#merge by antigen\n",
    "#H1\n",
    "h1_all = pd.DataFrame()\n",
    "h1_all = pd.merge(h1a, h1b, on='sequence',how='outer')\n",
    "h1_all = pd.merge(h1_all, h1c, on='sequence',how='outer')\n",
    "#H3\n",
    "h3_all = pd.DataFrame()\n",
    "h3_all = pd.merge(h3d, h3e, on='sequence',how='outer')\n",
    "h3_all = pd.merge(h3_all, h3f, on='sequence',how='outer')\n",
    "#fluB\n",
    "fluB_all = pd.DataFrame()\n",
    "fluB_all = pd.merge(fluBg, fluBh, on='sequence',how='outer')\n",
    "fluB_all = pd.merge(fluB_all, fluBi, on='sequence',how='outer')\n",
    "print(h1_all.shape[0],h3_all.shape[0],fluB_all.shape[0])\n",
    "\n",
    "#cleanup & calculate mean and SEM\n",
    "#H1\n",
    "h1_s = h1_all[['sequence','log10_Kd_x','log10_Kd_y','log10_Kd']].copy()\n",
    "h1_s['mean'] = h1_s.mean(axis=1)\n",
    "h1_s['sem'] = h1_s.sem(axis=1)\n",
    "h1_s.rename(columns={\"log10_Kd_x\": \"repa\", 'log10_Kd_y': \"repb\", 'log10_Kd': \"repc\",\"mean\": \"h1_mean\", \"sem\": \"h1_sem\"},inplace=True)\n",
    "#H3\n",
    "h3_s = h3_all[['sequence','log10_Kd_x','log10_Kd_y','log10_Kd']].copy()\n",
    "h3_s['mean'] = h3_s.mean(axis=1)\n",
    "h3_s['sem'] = h3_s.sem(axis=1)\n",
    "h3_s.rename(columns={\"log10_Kd_x\": \"repa\", 'log10_Kd_y': \"repb\", 'log10_Kd': \"repc\",\"mean\": \"h3_mean\", \"sem\": \"h3_sem\"},inplace=True)\n",
    "#FluB\n",
    "fluB_s = fluB_all[['sequence','log10_Kd_x','log10_Kd_y','log10_Kd']].copy()\n",
    "fluB_s['mean'] = fluB_s.mean(axis=1)\n",
    "fluB_s['sem'] = fluB_s.sem(axis=1)\n",
    "fluB_s.rename(columns={\"log10_Kd_x\": \"repa\", 'log10_Kd_y': \"repb\", 'log10_Kd': \"repc\",\"mean\": \"fluB_mean\", \"sem\": \"fluB_sem\"},inplace=True)"
   ]
  },
  {
   "cell_type": "markdown",
   "metadata": {},
   "source": [
    "## Pinning Kd to boundaries, removing poor fits, merging replicates"
   ]
  },
  {
   "cell_type": "code",
   "execution_count": 28,
   "metadata": {},
   "outputs": [
    {
     "name": "stdout",
     "output_type": "stream",
     "text": [
      "-8.79998480375719 -8.88299109355528\n"
     ]
    },
    {
     "data": {
      "text/plain": [
       "63608"
      ]
     },
     "execution_count": 28,
     "metadata": {},
     "output_type": "execute_result"
    }
   ],
   "source": [
    "#replacing things below the boundary with the boundary & then filtering out all poor fits\n",
    "h1a_filt = h1a.copy()\n",
    "column_name = \"log10_Kd\"\n",
    "new_value = -7\n",
    "boolean_condition = (h1a_filt.log10_Kd > -7)\n",
    "h1a_filt.loc[boolean_condition, column_name] = new_value\n",
    "print(h1a['log10_Kd'].mean(),h1a_filt['log10_Kd'].mean())\n",
    "h1a_filt_out = h1a_filt.loc[((h1a_filt['log10_Kd'] < -7) & (h1a_filt['ste_log10Kd'] <= 1))|(h1a_filt['log10_Kd'] >= -7)]\n",
    "h1a_filt_out.shape[0]"
   ]
  },
  {
   "cell_type": "code",
   "execution_count": 29,
   "metadata": {},
   "outputs": [
    {
     "name": "stdout",
     "output_type": "stream",
     "text": [
      "-8.719029316111714 -8.886458810086003\n"
     ]
    },
    {
     "data": {
      "text/plain": [
       "63831"
      ]
     },
     "execution_count": 29,
     "metadata": {},
     "output_type": "execute_result"
    }
   ],
   "source": [
    "#replacing things below the boundary with the boundary\n",
    "h1b_filt = h1b.copy()\n",
    "column_name = \"log10_Kd\"\n",
    "new_value = -7\n",
    "boolean_condition = (h1b_filt.log10_Kd > -7)\n",
    "h1b_filt.loc[boolean_condition, column_name] = new_value\n",
    "print(h1b['log10_Kd'].mean(),h1b_filt['log10_Kd'].mean())\n",
    "h1b_filt_out = h1b_filt.loc[((h1b_filt['log10_Kd'] < -7) & (h1b_filt['ste_log10Kd'] <= 1))|(h1b_filt['log10_Kd'] >= -7)]\n",
    "h1b_filt_out.shape[0]"
   ]
  },
  {
   "cell_type": "code",
   "execution_count": 31,
   "metadata": {},
   "outputs": [
    {
     "name": "stdout",
     "output_type": "stream",
     "text": [
      "-8.682367814449728 -8.833032304109741\n"
     ]
    },
    {
     "data": {
      "text/plain": [
       "63797"
      ]
     },
     "execution_count": 31,
     "metadata": {},
     "output_type": "execute_result"
    }
   ],
   "source": [
    "#replacing things below the boundary with the boundary\n",
    "h1c_filt = h1c.copy()\n",
    "column_name = \"log10_Kd\"\n",
    "new_value = -7\n",
    "boolean_condition = (h1c_filt.log10_Kd > -7)\n",
    "h1c_filt.loc[boolean_condition, column_name] = new_value\n",
    "print(h1c['log10_Kd'].mean(),h1c_filt['log10_Kd'].mean())\n",
    "h1c_filt_out = h1c_filt.loc[((h1c_filt['log10_Kd'] < -7) & (h1c_filt['ste_log10Kd'] <= 1))|(h1c_filt['log10_Kd'] >= -7)]\n",
    "h1c_filt_out.shape[0]"
   ]
  },
  {
   "cell_type": "code",
   "execution_count": 32,
   "metadata": {},
   "outputs": [
    {
     "name": "stdout",
     "output_type": "stream",
     "text": [
      "-2.8034274538583266 -6.169967764112354\n"
     ]
    },
    {
     "data": {
      "text/plain": [
       "58645"
      ]
     },
     "execution_count": 32,
     "metadata": {},
     "output_type": "execute_result"
    }
   ],
   "source": [
    "#replacing things below the boundary with the boundary\n",
    "h3d_filt = h3d.copy()\n",
    "column_name = \"log10_Kd\"\n",
    "new_value = -6\n",
    "boolean_condition = (h3d_filt.log10_Kd > -6)\n",
    "h3d_filt.loc[boolean_condition, column_name] = new_value\n",
    "print(h3d['log10_Kd'].mean(),h3d_filt['log10_Kd'].mean())\n",
    "h3d_filt_out = h3d_filt.loc[((h3d_filt['log10_Kd'] < -6) & (h3d_filt['ste_log10Kd'] <= 1))|(h3d_filt['log10_Kd'] >= -6)]\n",
    "h3d_filt_out.shape[0]"
   ]
  },
  {
   "cell_type": "code",
   "execution_count": 33,
   "metadata": {},
   "outputs": [
    {
     "name": "stdout",
     "output_type": "stream",
     "text": [
      "-3.283516545673938 -6.277910939460245\n"
     ]
    },
    {
     "data": {
      "text/plain": [
       "52306"
      ]
     },
     "execution_count": 33,
     "metadata": {},
     "output_type": "execute_result"
    }
   ],
   "source": [
    "#replacing things below the boundary with the boundary\n",
    "h3e_filt = h3e.copy()\n",
    "column_name = \"log10_Kd\"\n",
    "new_value = -6\n",
    "boolean_condition = (h3e_filt.log10_Kd > -6)\n",
    "h3e_filt.loc[boolean_condition, column_name] = new_value\n",
    "print(h3e['log10_Kd'].mean(),h3e_filt['log10_Kd'].mean())\n",
    "h3e_filt_out = h3e_filt.loc[((h3e_filt['log10_Kd'] < -6) & (h3e_filt['ste_log10Kd'] <= 1))|(h3e_filt['log10_Kd'] >= -6)]\n",
    "h3e_filt_out.shape[0]"
   ]
  },
  {
   "cell_type": "code",
   "execution_count": 48,
   "metadata": {},
   "outputs": [
    {
     "name": "stdout",
     "output_type": "stream",
     "text": [
      "-2.3826395572428547 -6.126541625761835\n"
     ]
    },
    {
     "data": {
      "text/plain": [
       "60502"
      ]
     },
     "execution_count": 48,
     "metadata": {},
     "output_type": "execute_result"
    }
   ],
   "source": [
    "#replacing things below the boundary with the boundary\n",
    "h3f_filt = h3f.copy()\n",
    "column_name = \"log10_Kd\"\n",
    "new_value = -6\n",
    "boolean_condition = (h3f_filt.log10_Kd > -6)\n",
    "h3f_filt.loc[boolean_condition, column_name] = new_value\n",
    "print(h3f['log10_Kd'].mean(),h3f_filt['log10_Kd'].mean())\n",
    "h3f_filt_out = h3f_filt.loc[((h3f_filt['log10_Kd'] < -6) & (h3f_filt['ste_log10Kd'] <= 1))|(h3f_filt['log10_Kd'] >= -6)]\n",
    "h3f_filt_out.shape[0]"
   ]
  },
  {
   "cell_type": "code",
   "execution_count": 49,
   "metadata": {},
   "outputs": [
    {
     "name": "stdout",
     "output_type": "stream",
     "text": [
      "-2.8699333705702945 -6.224335623519193\n"
     ]
    },
    {
     "data": {
      "text/plain": [
       "55061"
      ]
     },
     "execution_count": 49,
     "metadata": {},
     "output_type": "execute_result"
    }
   ],
   "source": [
    "#replacing things below the boundary with the boundary\n",
    "fluBg_filt = fluBg.copy()\n",
    "column_name = \"log10_Kd\"\n",
    "new_value = -6\n",
    "boolean_condition = (fluBg_filt.log10_Kd > -6)\n",
    "fluBg_filt.loc[boolean_condition, column_name] = new_value\n",
    "print(fluBg['log10_Kd'].mean(),fluBg_filt['log10_Kd'].mean())\n",
    "fluBg_filt_out = fluBg_filt.loc[((fluBg_filt['log10_Kd'] < -6) & (fluBg_filt['ste_log10Kd'] <= 1))|(fluBg_filt['log10_Kd'] >= -6)]\n",
    "fluBg_filt_out.shape[0]"
   ]
  },
  {
   "cell_type": "code",
   "execution_count": 50,
   "metadata": {},
   "outputs": [
    {
     "name": "stdout",
     "output_type": "stream",
     "text": [
      "-3.0293431359043463 -6.289495083193853\n"
     ]
    },
    {
     "data": {
      "text/plain": [
       "54200"
      ]
     },
     "execution_count": 50,
     "metadata": {},
     "output_type": "execute_result"
    }
   ],
   "source": [
    "#replacing things below the boundary with the boundary\n",
    "fluBh_filt = fluBh.copy()\n",
    "column_name = \"log10_Kd\"\n",
    "new_value = -6\n",
    "boolean_condition = (fluBh_filt.log10_Kd > -6)\n",
    "fluBh_filt.loc[boolean_condition, column_name] = new_value\n",
    "print(fluBh['log10_Kd'].mean(),fluBh_filt['log10_Kd'].mean())\n",
    "fluBh_filt_out = fluBh_filt.loc[((fluBh_filt['log10_Kd'] < -6) & (fluBh_filt['ste_log10Kd'] <= 1))|(fluBh_filt['log10_Kd'] >= -6)]\n",
    "fluBh_filt_out.shape[0]"
   ]
  },
  {
   "cell_type": "code",
   "execution_count": 51,
   "metadata": {},
   "outputs": [
    {
     "name": "stdout",
     "output_type": "stream",
     "text": [
      "-3.0543139814647406 -6.279643685870487\n"
     ]
    },
    {
     "data": {
      "text/plain": [
       "54521"
      ]
     },
     "execution_count": 51,
     "metadata": {},
     "output_type": "execute_result"
    }
   ],
   "source": [
    "#replacing things below the boundary with the boundary\n",
    "fluBi_filt = fluBi.copy()\n",
    "column_name = \"log10_Kd\"\n",
    "new_value = -6\n",
    "boolean_condition = (fluBi_filt.log10_Kd > -6)\n",
    "fluBi_filt.loc[boolean_condition, column_name] = new_value\n",
    "print(fluBi['log10_Kd'].mean(),fluBi_filt['log10_Kd'].mean())\n",
    "fluBi_filt_out = fluBi_filt.loc[((fluBi_filt['log10_Kd'] < -6) & (fluBi_filt['ste_log10Kd'] <= 1))|(fluBi_filt['log10_Kd'] >= -6)]\n",
    "fluBi_filt_out.shape[0]"
   ]
  },
  {
   "cell_type": "code",
   "execution_count": 40,
   "metadata": {},
   "outputs": [
    {
     "data": {
      "text/html": [
       "<div>\n",
       "<style scoped>\n",
       "    .dataframe tbody tr th:only-of-type {\n",
       "        vertical-align: middle;\n",
       "    }\n",
       "\n",
       "    .dataframe tbody tr th {\n",
       "        vertical-align: top;\n",
       "    }\n",
       "\n",
       "    .dataframe thead th {\n",
       "        text-align: right;\n",
       "    }\n",
       "</style>\n",
       "<table border=\"1\" class=\"dataframe\">\n",
       "  <thead>\n",
       "    <tr style=\"text-align: right;\">\n",
       "      <th></th>\n",
       "      <th>sequence</th>\n",
       "      <th>repa</th>\n",
       "      <th>repb</th>\n",
       "      <th>repc</th>\n",
       "      <th>h1_mean</th>\n",
       "      <th>h1_sem</th>\n",
       "    </tr>\n",
       "  </thead>\n",
       "  <tbody>\n",
       "    <tr>\n",
       "      <td>0</td>\n",
       "      <td>0000000000000000</td>\n",
       "      <td>-7.898447</td>\n",
       "      <td>-8.142321</td>\n",
       "      <td>-8.454509</td>\n",
       "      <td>-8.165092</td>\n",
       "      <td>0.113791</td>\n",
       "    </tr>\n",
       "    <tr>\n",
       "      <td>1</td>\n",
       "      <td>0000000000000001</td>\n",
       "      <td>-8.050910</td>\n",
       "      <td>-7.936590</td>\n",
       "      <td>-8.464933</td>\n",
       "      <td>-8.150811</td>\n",
       "      <td>0.113484</td>\n",
       "    </tr>\n",
       "    <tr>\n",
       "      <td>2</td>\n",
       "      <td>0000000000000010</td>\n",
       "      <td>-8.384770</td>\n",
       "      <td>-8.026676</td>\n",
       "      <td>-8.371892</td>\n",
       "      <td>-8.261113</td>\n",
       "      <td>0.082928</td>\n",
       "    </tr>\n",
       "    <tr>\n",
       "      <td>3</td>\n",
       "      <td>0000000000000011</td>\n",
       "      <td>-8.563147</td>\n",
       "      <td>-7.770484</td>\n",
       "      <td>-8.112529</td>\n",
       "      <td>-8.148720</td>\n",
       "      <td>0.162307</td>\n",
       "    </tr>\n",
       "    <tr>\n",
       "      <td>4</td>\n",
       "      <td>0000000000000100</td>\n",
       "      <td>-8.385538</td>\n",
       "      <td>-7.977133</td>\n",
       "      <td>-8.568714</td>\n",
       "      <td>-8.310462</td>\n",
       "      <td>0.123639</td>\n",
       "    </tr>\n",
       "    <tr>\n",
       "      <td>...</td>\n",
       "      <td>...</td>\n",
       "      <td>...</td>\n",
       "      <td>...</td>\n",
       "      <td>...</td>\n",
       "      <td>...</td>\n",
       "      <td>...</td>\n",
       "    </tr>\n",
       "    <tr>\n",
       "      <td>65169</td>\n",
       "      <td>1110110100010001</td>\n",
       "      <td>NaN</td>\n",
       "      <td>NaN</td>\n",
       "      <td>-7.000000</td>\n",
       "      <td>-7.000000</td>\n",
       "      <td>0.000000</td>\n",
       "    </tr>\n",
       "    <tr>\n",
       "      <td>65170</td>\n",
       "      <td>1110111000011100</td>\n",
       "      <td>NaN</td>\n",
       "      <td>NaN</td>\n",
       "      <td>-7.000000</td>\n",
       "      <td>-7.000000</td>\n",
       "      <td>0.000000</td>\n",
       "    </tr>\n",
       "    <tr>\n",
       "      <td>65171</td>\n",
       "      <td>1110111000100100</td>\n",
       "      <td>NaN</td>\n",
       "      <td>NaN</td>\n",
       "      <td>-7.000000</td>\n",
       "      <td>-7.000000</td>\n",
       "      <td>0.000000</td>\n",
       "    </tr>\n",
       "    <tr>\n",
       "      <td>65172</td>\n",
       "      <td>1110111000100110</td>\n",
       "      <td>NaN</td>\n",
       "      <td>NaN</td>\n",
       "      <td>-7.000000</td>\n",
       "      <td>-7.000000</td>\n",
       "      <td>0.000000</td>\n",
       "    </tr>\n",
       "    <tr>\n",
       "      <td>65173</td>\n",
       "      <td>1110111100010110</td>\n",
       "      <td>NaN</td>\n",
       "      <td>NaN</td>\n",
       "      <td>-7.734136</td>\n",
       "      <td>-7.734136</td>\n",
       "      <td>0.000000</td>\n",
       "    </tr>\n",
       "  </tbody>\n",
       "</table>\n",
       "<p>65174 rows × 6 columns</p>\n",
       "</div>"
      ],
      "text/plain": [
       "               sequence      repa      repb      repc   h1_mean    h1_sem\n",
       "0      0000000000000000 -7.898447 -8.142321 -8.454509 -8.165092  0.113791\n",
       "1      0000000000000001 -8.050910 -7.936590 -8.464933 -8.150811  0.113484\n",
       "2      0000000000000010 -8.384770 -8.026676 -8.371892 -8.261113  0.082928\n",
       "3      0000000000000011 -8.563147 -7.770484 -8.112529 -8.148720  0.162307\n",
       "4      0000000000000100 -8.385538 -7.977133 -8.568714 -8.310462  0.123639\n",
       "...                 ...       ...       ...       ...       ...       ...\n",
       "65169  1110110100010001       NaN       NaN -7.000000 -7.000000  0.000000\n",
       "65170  1110111000011100       NaN       NaN -7.000000 -7.000000  0.000000\n",
       "65171  1110111000100100       NaN       NaN -7.000000 -7.000000  0.000000\n",
       "65172  1110111000100110       NaN       NaN -7.000000 -7.000000  0.000000\n",
       "65173  1110111100010110       NaN       NaN -7.734136 -7.734136  0.000000\n",
       "\n",
       "[65174 rows x 6 columns]"
      ]
     },
     "execution_count": 40,
     "metadata": {},
     "output_type": "execute_result"
    }
   ],
   "source": [
    "#merging\n",
    "h1_filt_merg = pd.DataFrame()\n",
    "h1_filt_merg = pd.merge(h1a_filt_out, h1b_filt_out, on='sequence',how='outer')\n",
    "h1_filt_merg = pd.merge(h1_filt_merg, h1c_filt_out, on='sequence',how='outer')\n",
    "h1_filt_merg_sm = h1_filt_merg[['sequence','log10_Kd_x','log10_Kd_y','log10_Kd']].copy()\n",
    "h1_filt_merg_sm['mean'] = h1_filt_merg_sm.mean(axis=1)\n",
    "h1_filt_merg_sm['sem'] = h1_filt_merg_sm.sem(axis=1)\n",
    "h1_filt_merg_sm.rename(columns={\"log10_Kd_x\": \"repa\", \"log10_Kd_y\": \"repb\", \"log10_Kd\": \"repc\",\"mean\": \"h1_mean\", \"sem\": \"h1_sem\"},inplace=True)\n",
    "h1_filt_merg_sm"
   ]
  },
  {
   "cell_type": "code",
   "execution_count": 41,
   "metadata": {},
   "outputs": [
    {
     "data": {
      "text/html": [
       "<div>\n",
       "<style scoped>\n",
       "    .dataframe tbody tr th:only-of-type {\n",
       "        vertical-align: middle;\n",
       "    }\n",
       "\n",
       "    .dataframe tbody tr th {\n",
       "        vertical-align: top;\n",
       "    }\n",
       "\n",
       "    .dataframe thead th {\n",
       "        text-align: right;\n",
       "    }\n",
       "</style>\n",
       "<table border=\"1\" class=\"dataframe\">\n",
       "  <thead>\n",
       "    <tr style=\"text-align: right;\">\n",
       "      <th></th>\n",
       "      <th>sequence</th>\n",
       "      <th>repa</th>\n",
       "      <th>repb</th>\n",
       "      <th>repc</th>\n",
       "      <th>h3_mean</th>\n",
       "      <th>h3_sem</th>\n",
       "    </tr>\n",
       "  </thead>\n",
       "  <tbody>\n",
       "    <tr>\n",
       "      <td>0</td>\n",
       "      <td>0000000000000000</td>\n",
       "      <td>-6.0</td>\n",
       "      <td>NaN</td>\n",
       "      <td>-6.0</td>\n",
       "      <td>-6.0</td>\n",
       "      <td>0.0</td>\n",
       "    </tr>\n",
       "    <tr>\n",
       "      <td>1</td>\n",
       "      <td>0000000000000001</td>\n",
       "      <td>-6.0</td>\n",
       "      <td>NaN</td>\n",
       "      <td>NaN</td>\n",
       "      <td>-6.0</td>\n",
       "      <td>0.0</td>\n",
       "    </tr>\n",
       "    <tr>\n",
       "      <td>2</td>\n",
       "      <td>0000000000000100</td>\n",
       "      <td>-6.0</td>\n",
       "      <td>-6.0</td>\n",
       "      <td>-6.0</td>\n",
       "      <td>-6.0</td>\n",
       "      <td>0.0</td>\n",
       "    </tr>\n",
       "    <tr>\n",
       "      <td>3</td>\n",
       "      <td>0000000000000101</td>\n",
       "      <td>-6.0</td>\n",
       "      <td>NaN</td>\n",
       "      <td>-6.0</td>\n",
       "      <td>-6.0</td>\n",
       "      <td>0.0</td>\n",
       "    </tr>\n",
       "    <tr>\n",
       "      <td>4</td>\n",
       "      <td>0000000000000110</td>\n",
       "      <td>-6.0</td>\n",
       "      <td>-6.0</td>\n",
       "      <td>-6.0</td>\n",
       "      <td>-6.0</td>\n",
       "      <td>0.0</td>\n",
       "    </tr>\n",
       "    <tr>\n",
       "      <td>...</td>\n",
       "      <td>...</td>\n",
       "      <td>...</td>\n",
       "      <td>...</td>\n",
       "      <td>...</td>\n",
       "      <td>...</td>\n",
       "      <td>...</td>\n",
       "    </tr>\n",
       "    <tr>\n",
       "      <td>65116</td>\n",
       "      <td>1111111000011111</td>\n",
       "      <td>NaN</td>\n",
       "      <td>NaN</td>\n",
       "      <td>-6.0</td>\n",
       "      <td>-6.0</td>\n",
       "      <td>0.0</td>\n",
       "    </tr>\n",
       "    <tr>\n",
       "      <td>65117</td>\n",
       "      <td>1111111010100000</td>\n",
       "      <td>NaN</td>\n",
       "      <td>NaN</td>\n",
       "      <td>-6.0</td>\n",
       "      <td>-6.0</td>\n",
       "      <td>0.0</td>\n",
       "    </tr>\n",
       "    <tr>\n",
       "      <td>65118</td>\n",
       "      <td>1111111100110001</td>\n",
       "      <td>NaN</td>\n",
       "      <td>NaN</td>\n",
       "      <td>-6.0</td>\n",
       "      <td>-6.0</td>\n",
       "      <td>0.0</td>\n",
       "    </tr>\n",
       "    <tr>\n",
       "      <td>65119</td>\n",
       "      <td>1111111101011000</td>\n",
       "      <td>NaN</td>\n",
       "      <td>NaN</td>\n",
       "      <td>-6.0</td>\n",
       "      <td>-6.0</td>\n",
       "      <td>0.0</td>\n",
       "    </tr>\n",
       "    <tr>\n",
       "      <td>65120</td>\n",
       "      <td>1111111110110001</td>\n",
       "      <td>NaN</td>\n",
       "      <td>NaN</td>\n",
       "      <td>-6.0</td>\n",
       "      <td>-6.0</td>\n",
       "      <td>0.0</td>\n",
       "    </tr>\n",
       "  </tbody>\n",
       "</table>\n",
       "<p>65121 rows × 6 columns</p>\n",
       "</div>"
      ],
      "text/plain": [
       "               sequence  repa  repb  repc  h3_mean  h3_sem\n",
       "0      0000000000000000  -6.0   NaN  -6.0     -6.0     0.0\n",
       "1      0000000000000001  -6.0   NaN   NaN     -6.0     0.0\n",
       "2      0000000000000100  -6.0  -6.0  -6.0     -6.0     0.0\n",
       "3      0000000000000101  -6.0   NaN  -6.0     -6.0     0.0\n",
       "4      0000000000000110  -6.0  -6.0  -6.0     -6.0     0.0\n",
       "...                 ...   ...   ...   ...      ...     ...\n",
       "65116  1111111000011111   NaN   NaN  -6.0     -6.0     0.0\n",
       "65117  1111111010100000   NaN   NaN  -6.0     -6.0     0.0\n",
       "65118  1111111100110001   NaN   NaN  -6.0     -6.0     0.0\n",
       "65119  1111111101011000   NaN   NaN  -6.0     -6.0     0.0\n",
       "65120  1111111110110001   NaN   NaN  -6.0     -6.0     0.0\n",
       "\n",
       "[65121 rows x 6 columns]"
      ]
     },
     "execution_count": 41,
     "metadata": {},
     "output_type": "execute_result"
    }
   ],
   "source": [
    "#merging\n",
    "h3_filt_merg = pd.DataFrame()\n",
    "h3_filt_merg = pd.merge(h3d_filt_out, h3e_filt_out, on='sequence',how='outer')\n",
    "h3_filt_merg = pd.merge(h3_filt_merg, h3f_filt_out, on='sequence',how='outer')\n",
    "h3_filt_merg_sm = h3_filt_merg[['sequence','log10_Kd_x','log10_Kd_y','log10_Kd']].copy()\n",
    "h3_filt_merg_sm['mean'] = h3_filt_merg_sm.mean(axis=1)\n",
    "h3_filt_merg_sm['sem'] = h3_filt_merg_sm.sem(axis=1)\n",
    "h3_filt_merg_sm.rename(columns={\"log10_Kd_x\": \"repa\", \"log10_Kd_y\": \"repb\", \"log10_Kd\": \"repc\",\"mean\": \"h3_mean\", \"sem\": \"h3_sem\"},inplace=True)\n",
    "h3_filt_merg_sm"
   ]
  },
  {
   "cell_type": "code",
   "execution_count": 42,
   "metadata": {},
   "outputs": [
    {
     "data": {
      "text/html": [
       "<div>\n",
       "<style scoped>\n",
       "    .dataframe tbody tr th:only-of-type {\n",
       "        vertical-align: middle;\n",
       "    }\n",
       "\n",
       "    .dataframe tbody tr th {\n",
       "        vertical-align: top;\n",
       "    }\n",
       "\n",
       "    .dataframe thead th {\n",
       "        text-align: right;\n",
       "    }\n",
       "</style>\n",
       "<table border=\"1\" class=\"dataframe\">\n",
       "  <thead>\n",
       "    <tr style=\"text-align: right;\">\n",
       "      <th></th>\n",
       "      <th>sequence</th>\n",
       "      <th>repa</th>\n",
       "      <th>repb</th>\n",
       "      <th>repc</th>\n",
       "      <th>fluB_mean</th>\n",
       "      <th>fluB_sem</th>\n",
       "    </tr>\n",
       "  </thead>\n",
       "  <tbody>\n",
       "    <tr>\n",
       "      <td>0</td>\n",
       "      <td>0000000000000000</td>\n",
       "      <td>-6.0</td>\n",
       "      <td>-6.0</td>\n",
       "      <td>-6.00000</td>\n",
       "      <td>-6.00000</td>\n",
       "      <td>0.0</td>\n",
       "    </tr>\n",
       "    <tr>\n",
       "      <td>1</td>\n",
       "      <td>0000000000000001</td>\n",
       "      <td>-6.0</td>\n",
       "      <td>-6.0</td>\n",
       "      <td>NaN</td>\n",
       "      <td>-6.00000</td>\n",
       "      <td>0.0</td>\n",
       "    </tr>\n",
       "    <tr>\n",
       "      <td>2</td>\n",
       "      <td>0000000000000010</td>\n",
       "      <td>-6.0</td>\n",
       "      <td>NaN</td>\n",
       "      <td>-6.00000</td>\n",
       "      <td>-6.00000</td>\n",
       "      <td>0.0</td>\n",
       "    </tr>\n",
       "    <tr>\n",
       "      <td>3</td>\n",
       "      <td>0000000000000011</td>\n",
       "      <td>-6.0</td>\n",
       "      <td>NaN</td>\n",
       "      <td>-6.00000</td>\n",
       "      <td>-6.00000</td>\n",
       "      <td>0.0</td>\n",
       "    </tr>\n",
       "    <tr>\n",
       "      <td>4</td>\n",
       "      <td>0000000000000100</td>\n",
       "      <td>-6.0</td>\n",
       "      <td>-6.0</td>\n",
       "      <td>-6.00000</td>\n",
       "      <td>-6.00000</td>\n",
       "      <td>0.0</td>\n",
       "    </tr>\n",
       "    <tr>\n",
       "      <td>...</td>\n",
       "      <td>...</td>\n",
       "      <td>...</td>\n",
       "      <td>...</td>\n",
       "      <td>...</td>\n",
       "      <td>...</td>\n",
       "      <td>...</td>\n",
       "    </tr>\n",
       "    <tr>\n",
       "      <td>64922</td>\n",
       "      <td>1111111001110010</td>\n",
       "      <td>NaN</td>\n",
       "      <td>NaN</td>\n",
       "      <td>-6.00000</td>\n",
       "      <td>-6.00000</td>\n",
       "      <td>0.0</td>\n",
       "    </tr>\n",
       "    <tr>\n",
       "      <td>64923</td>\n",
       "      <td>1111111010101110</td>\n",
       "      <td>NaN</td>\n",
       "      <td>NaN</td>\n",
       "      <td>-6.00000</td>\n",
       "      <td>-6.00000</td>\n",
       "      <td>0.0</td>\n",
       "    </tr>\n",
       "    <tr>\n",
       "      <td>64924</td>\n",
       "      <td>1111111010110010</td>\n",
       "      <td>NaN</td>\n",
       "      <td>NaN</td>\n",
       "      <td>-6.00000</td>\n",
       "      <td>-6.00000</td>\n",
       "      <td>0.0</td>\n",
       "    </tr>\n",
       "    <tr>\n",
       "      <td>64925</td>\n",
       "      <td>1111111110000110</td>\n",
       "      <td>NaN</td>\n",
       "      <td>NaN</td>\n",
       "      <td>-6.00000</td>\n",
       "      <td>-6.00000</td>\n",
       "      <td>0.0</td>\n",
       "    </tr>\n",
       "    <tr>\n",
       "      <td>64926</td>\n",
       "      <td>1111111111011101</td>\n",
       "      <td>NaN</td>\n",
       "      <td>NaN</td>\n",
       "      <td>-7.05774</td>\n",
       "      <td>-7.05774</td>\n",
       "      <td>0.0</td>\n",
       "    </tr>\n",
       "  </tbody>\n",
       "</table>\n",
       "<p>64927 rows × 6 columns</p>\n",
       "</div>"
      ],
      "text/plain": [
       "               sequence  repa  repb     repc  fluB_mean  fluB_sem\n",
       "0      0000000000000000  -6.0  -6.0 -6.00000   -6.00000       0.0\n",
       "1      0000000000000001  -6.0  -6.0      NaN   -6.00000       0.0\n",
       "2      0000000000000010  -6.0   NaN -6.00000   -6.00000       0.0\n",
       "3      0000000000000011  -6.0   NaN -6.00000   -6.00000       0.0\n",
       "4      0000000000000100  -6.0  -6.0 -6.00000   -6.00000       0.0\n",
       "...                 ...   ...   ...      ...        ...       ...\n",
       "64922  1111111001110010   NaN   NaN -6.00000   -6.00000       0.0\n",
       "64923  1111111010101110   NaN   NaN -6.00000   -6.00000       0.0\n",
       "64924  1111111010110010   NaN   NaN -6.00000   -6.00000       0.0\n",
       "64925  1111111110000110   NaN   NaN -6.00000   -6.00000       0.0\n",
       "64926  1111111111011101   NaN   NaN -7.05774   -7.05774       0.0\n",
       "\n",
       "[64927 rows x 6 columns]"
      ]
     },
     "execution_count": 42,
     "metadata": {},
     "output_type": "execute_result"
    }
   ],
   "source": [
    "#merging\n",
    "fluB_filt_merg = pd.DataFrame()\n",
    "fluB_filt_merg = pd.merge(fluBg_filt_out, fluBh_filt_out, on='sequence',how='outer')\n",
    "fluB_filt_merg = pd.merge(fluB_filt_merg, fluBi_filt_out, on='sequence',how='outer')\n",
    "fluB_filt_merg_sm = fluB_filt_merg[['sequence','log10_Kd_x','log10_Kd_y','log10_Kd']].copy()\n",
    "fluB_filt_merg_sm['mean'] = fluB_filt_merg_sm.mean(axis=1)\n",
    "fluB_filt_merg_sm['sem'] = fluB_filt_merg_sm.sem(axis=1)\n",
    "fluB_filt_merg_sm.rename(columns={\"log10_Kd_x\": \"repa\", \"log10_Kd_y\": \"repb\", \"log10_Kd\": \"repc\",\"mean\": \"fluB_mean\", \"sem\": \"fluB_sem\"},inplace=True)\n",
    "fluB_filt_merg_sm"
   ]
  },
  {
   "cell_type": "markdown",
   "metadata": {},
   "source": [
    "## merging antigens: unfiltered, unadjusted data"
   ]
  },
  {
   "cell_type": "code",
   "execution_count": 45,
   "metadata": {},
   "outputs": [],
   "source": [
    "#merge all antigens\n",
    "HA_all_unf = pd.DataFrame()\n",
    "HA_all_unf = pd.merge(h1_s, h3_s, on='sequence',how='outer')\n",
    "HA_all_unf = pd.merge(HA_all_unf, fluB_s, on='sequence',how='outer')\n",
    "HA_all_unf.to_csv('kd_processed/20210427_HA_unadj_unfilt_merg_ML.csv', index=False)"
   ]
  },
  {
   "cell_type": "markdown",
   "metadata": {},
   "source": [
    "## merging antigens: filtered, only adjusted if outside titration boundaries"
   ]
  },
  {
   "cell_type": "code",
   "execution_count": 47,
   "metadata": {},
   "outputs": [],
   "source": [
    "#merge all antigens\n",
    "HA_all_fil = pd.DataFrame()\n",
    "HA_all_fil = pd.merge(h1_filt_merg_sm, h3_filt_merg_sm, on='sequence',how='outer')\n",
    "HA_all_fil = pd.merge(HA_all_fil, fluB_filt_merg_sm, on='sequence',how='outer')\n",
    "HA_all_fil.to_csv('kd_processed/20210427_HA_unadj_fil_merg_ML.csv', index=False)"
   ]
  }
 ],
 "metadata": {
  "kernelspec": {
   "display_name": "Python 3",
   "language": "python",
   "name": "python3"
  },
  "language_info": {
   "codemirror_mode": {
    "name": "ipython",
    "version": 3
   },
   "file_extension": ".py",
   "mimetype": "text/x-python",
   "name": "python",
   "nbconvert_exporter": "python",
   "pygments_lexer": "ipython3",
   "version": "3.7.4"
  }
 },
 "nbformat": 4,
 "nbformat_minor": 2
}
