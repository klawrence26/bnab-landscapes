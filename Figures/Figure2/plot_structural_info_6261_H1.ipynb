{
 "cells": [
  {
   "cell_type": "markdown",
   "metadata": {},
   "source": [
    "### imports"
   ]
  },
  {
   "cell_type": "code",
   "execution_count": 1,
   "metadata": {},
   "outputs": [],
   "source": [
    "#importing things\n",
    "import pandas as pd\n",
    "import numpy as np\n",
    "import csv\n",
    "import pylab as pl\n",
    "import matplotlib.pyplot as plt\n",
    "import copy\n",
    "import scipy\n",
    "from collections import OrderedDict\n",
    "import seaborn as sns\n",
    "from matplotlib.ticker import FixedLocator, FixedFormatter\n",
    "from scipy.special import comb\n",
    "from matplotlib.colors import LogNorm\n",
    "from matplotlib.patches import Patch\n",
    "import matplotlib as mpl\n",
    "import matplotlib.lines as lines\n",
    "\n",
    "plt.rcParams.update({'font.size': 8})\n",
    "plt.rcParams.update({'font.family': 'sans-serif'})\n",
    "plt.rcParams['font.sans-serif'] = \"Arial\"\n",
    "plt.rcParams.update({'xtick.labelsize': 7})\n",
    "plt.rcParams.update({'ytick.labelsize': 7})\n",
    "plt.rcParams['scatter.edgecolors'] = 'black'\n",
    "plt.rcParams['axes.linewidth'] = 0.5"
   ]
  },
  {
   "cell_type": "markdown",
   "metadata": {},
   "source": [
    "### Load first order coefficients"
   ]
  },
  {
   "cell_type": "code",
   "execution_count": 2,
   "metadata": {},
   "outputs": [
    {
     "data": {
      "text/html": [
       "<div>\n",
       "<style scoped>\n",
       "    .dataframe tbody tr th:only-of-type {\n",
       "        vertical-align: middle;\n",
       "    }\n",
       "\n",
       "    .dataframe tbody tr th {\n",
       "        vertical-align: top;\n",
       "    }\n",
       "\n",
       "    .dataframe thead th {\n",
       "        text-align: right;\n",
       "    }\n",
       "</style>\n",
       "<table border=\"1\" class=\"dataframe\">\n",
       "  <thead>\n",
       "    <tr style=\"text-align: right;\">\n",
       "      <th></th>\n",
       "      <th>Term</th>\n",
       "      <th>H1_Effect</th>\n",
       "      <th>H1_SE</th>\n",
       "      <th>H1_95CI_low</th>\n",
       "      <th>H1_95CI_hi</th>\n",
       "      <th>H9_Effect</th>\n",
       "      <th>H9_SE</th>\n",
       "      <th>H9_95CI_low</th>\n",
       "      <th>H9_95CI_hi</th>\n",
       "    </tr>\n",
       "  </thead>\n",
       "  <tbody>\n",
       "    <tr>\n",
       "      <th>0</th>\n",
       "      <td>29</td>\n",
       "      <td>0.807303</td>\n",
       "      <td>0.079287</td>\n",
       "      <td>1.702347e-23</td>\n",
       "      <td>0.495627</td>\n",
       "      <td>-0.234604</td>\n",
       "      <td>0.134466</td>\n",
       "      <td>0.081277</td>\n",
       "      <td>-0.763246</td>\n",
       "    </tr>\n",
       "    <tr>\n",
       "      <th>1</th>\n",
       "      <td>35</td>\n",
       "      <td>0.573613</td>\n",
       "      <td>0.086393</td>\n",
       "      <td>4.576728e-11</td>\n",
       "      <td>0.234003</td>\n",
       "      <td>0.410971</td>\n",
       "      <td>0.136966</td>\n",
       "      <td>0.002747</td>\n",
       "      <td>-0.127500</td>\n",
       "    </tr>\n",
       "    <tr>\n",
       "      <th>2</th>\n",
       "      <td>65</td>\n",
       "      <td>0.073511</td>\n",
       "      <td>0.079230</td>\n",
       "      <td>3.536715e-01</td>\n",
       "      <td>-0.237941</td>\n",
       "      <td>-0.054637</td>\n",
       "      <td>0.134341</td>\n",
       "      <td>0.684290</td>\n",
       "      <td>-0.582787</td>\n",
       "    </tr>\n",
       "    <tr>\n",
       "      <th>3</th>\n",
       "      <td>66</td>\n",
       "      <td>-0.054930</td>\n",
       "      <td>0.079087</td>\n",
       "      <td>4.874615e-01</td>\n",
       "      <td>-0.365822</td>\n",
       "      <td>0.081023</td>\n",
       "      <td>0.134359</td>\n",
       "      <td>0.546595</td>\n",
       "      <td>-0.447200</td>\n",
       "    </tr>\n",
       "    <tr>\n",
       "      <th>4</th>\n",
       "      <td>69</td>\n",
       "      <td>0.024557</td>\n",
       "      <td>0.080114</td>\n",
       "      <td>7.592471e-01</td>\n",
       "      <td>-0.290368</td>\n",
       "      <td>-0.131260</td>\n",
       "      <td>0.136481</td>\n",
       "      <td>0.336361</td>\n",
       "      <td>-0.667824</td>\n",
       "    </tr>\n",
       "  </tbody>\n",
       "</table>\n",
       "</div>"
      ],
      "text/plain": [
       "  Term  H1_Effect     H1_SE   H1_95CI_low  H1_95CI_hi  H9_Effect     H9_SE  \\\n",
       "0   29   0.807303  0.079287  1.702347e-23    0.495627  -0.234604  0.134466   \n",
       "1   35   0.573613  0.086393  4.576728e-11    0.234003   0.410971  0.136966   \n",
       "2   65   0.073511  0.079230  3.536715e-01   -0.237941  -0.054637  0.134341   \n",
       "3   66  -0.054930  0.079087  4.874615e-01   -0.365822   0.081023  0.134359   \n",
       "4   69   0.024557  0.080114  7.592471e-01   -0.290368  -0.131260  0.136481   \n",
       "\n",
       "   H9_95CI_low  H9_95CI_hi  \n",
       "0     0.081277   -0.763246  \n",
       "1     0.002747   -0.127500  \n",
       "2     0.684290   -0.582787  \n",
       "3     0.546595   -0.447200  \n",
       "4     0.336361   -0.667824  "
      ]
     },
     "execution_count": 2,
     "metadata": {},
     "output_type": "execute_result"
    }
   ],
   "source": [
    "h1_linear = pd.read_table('../../CR6261/Epistasis_linear_models/model_coefs/H1_4order_biochem.txt',names=['Term','H1_Effect','H1_SE','H1_95CI_low','H1_95CI_hi'],skiprows=[0,1,2,3],index_col=False)\n",
    "h1_fil = h1_linear[~h1_linear[\"Term\"].str.contains(',')]\n",
    "H9_linear = pd.read_table('../../CR6261/Epistasis_linear_models/model_coefs/H9_4order_biochem.txt',names=['Term','H9_Effect','H9_SE','H9_95CI_low','H9_95CI_hi'],skiprows=[0,1,2,3],index_col=False)\n",
    "H9_fil = H9_linear[~H9_linear[\"Term\"].str.contains(',')]\n",
    "first_order = pd.merge(h1_fil,H9_fil,on='Term',how='outer')\n",
    "first_order['Term'] = first_order['Term'].replace({'1':'29','2':'35','3':'65','4':'66','5':'69','6':'82','7':'83','8':'84','9':'85','10':'87','11':'112.1'})\n",
    "first_order.head()"
   ]
  },
  {
   "cell_type": "markdown",
   "metadata": {},
   "source": [
    "### Load structure with selected regions and mutated residues"
   ]
  },
  {
   "cell_type": "code",
   "execution_count": 3,
   "metadata": {
    "scrolled": true
   },
   "outputs": [
    {
     "name": "stdout",
     "output_type": "stream",
     "text": [
      " PyMOL not running, entering library mode (experimental)\n"
     ]
    }
   ],
   "source": [
    "antigen=\"H1\"\n",
    "#import stuff\n",
    "from pymol import cmd\n",
    "#load pdb\n",
    "if antigen == \"H1\" or \"H9\":\n",
    "    cmd.fetch('3GBN') #1918 H1N1 with fab\n",
    "    cmd.hide('everything')\n",
    "    ##########################\n",
    "    #rename chains and sugars for individual selections\n",
    "    #H5 chains\n",
    "    monoA1 = cmd.select('monoA1', 'chain A')\n",
    "    monoA2 = cmd.select('monoA2', 'chain B')\n",
    "    HA = cmd.select('HA', 'chain A or chain B')\n",
    "    #Fab CR9114 chains\n",
    "    HC = cmd.select('HC', 'chain H')\n",
    "    LC = cmd.select('LC', 'chain L')\n",
    "    Ab = cmd.select('Ab', 'chain H or chain L')\n",
    "    #sugars\n",
    "    sugars = cmd.select('sugars', 'resn EDO or resn NAG or resn GOL')\n",
    "    #create selections for mutated residues\n",
    "    mut1 = cmd.select('mut29',('chain H and resi 28'))\n",
    "    mut2 = cmd.select('mut35',('chain H and resi 30'))\n",
    "    mut3 = cmd.select('mut65',('chain H and resi 57'))\n",
    "    mut4 = cmd.select('mut66',('chain H and resi 58'))\n",
    "    mut5 = cmd.select('mut69',('chain H and resi 61'))\n",
    "    mut6 = cmd.select('mut82',('chain H and resi 73'))\n",
    "    mut7 = cmd.select('mut83',('chain H and resi 74'))\n",
    "    mut8 = cmd.select('mut84',('chain H and resi 75'))\n",
    "    mut9 = cmd.select('mut85',('chain H and resi 76'))\n",
    "    mut10 = cmd.select('mut87',('chain H and resi 78'))\n",
    "    mut11 = cmd.select('mut112.1',('chain H and resi 100'))\n",
    "    mutations = ['mut29','mut35','mut65','mut66','mut69','mut82','mut83','mut84','mut85','mut87','mut112.1']"
   ]
  },
  {
   "cell_type": "markdown",
   "metadata": {},
   "source": [
    "### Count HA residues with atoms within 6 Angstroms of an atom in each CR-9114 mutated residue"
   ]
  },
  {
   "cell_type": "code",
   "execution_count": 4,
   "metadata": {},
   "outputs": [
    {
     "name": "stdout",
     "output_type": "stream",
     "text": [
      "mut29\n",
      "There are 2 residues with atoms within 6 A of mut29 in HA\n",
      "['B53ASN', 'B56ILE']\n",
      "mut35\n",
      "There are 3 residues with atoms within 6 A of mut35 in HA\n",
      "['B45ILE', 'B49THR', 'B53ASN']\n",
      "mut65\n",
      "There are 0 residues with atoms within 6 A of mut65 in HA\n",
      "[]\n",
      "mut66\n",
      "There are 0 residues with atoms within 6 A of mut66 in HA\n",
      "[]\n",
      "mut69\n",
      "There are 0 residues with atoms within 6 A of mut69 in HA\n",
      "[]\n",
      "mut82\n",
      "There are 0 residues with atoms within 6 A of mut82 in HA\n",
      "[]\n",
      "mut83\n",
      "There are 8 residues with atoms within 6 A of mut83 in HA\n",
      "['A40VAL', 'A41ASN', 'A42LEU', 'A291SER', 'A292LEU', 'A293PRO', 'B52VAL', 'B56ILE']\n",
      "mut84\n",
      "There are 1 residues with atoms within 6 A of mut84 in HA\n",
      "['A291SER']\n",
      "mut85\n",
      "There are 0 residues with atoms within 6 A of mut85 in HA\n",
      "[]\n",
      "mut87\n",
      "There are 0 residues with atoms within 6 A of mut87 in HA\n",
      "[]\n",
      "mut112.1\n",
      "There are 0 residues with atoms within 6 A of mut112.1 in HA\n",
      "[]\n",
      "[2, 3, 0, 0, 0, 0, 8, 1, 0, 0, 0]\n"
     ]
    }
   ],
   "source": [
    "#make a list of positions within a certain distance of other things\n",
    "#################################################\n",
    "#intermolecular interaction distances\n",
    "#hydrogen bond: 4 A\n",
    "#salt bridge: 4 A\n",
    "#vWaals: 6 A\n",
    "#resolution of structure is 1.71 A, so call potential interactions as within 6 A\n",
    "#################################################\n",
    "#import things\n",
    "from pymol import *\n",
    "distance = 6\n",
    "neighbors_summary=[]\n",
    "region='HA'\n",
    "for mutant in mutations:\n",
    "    print(mutant)\n",
    "    focal='%s' % mutant\n",
    "    selection='br. pol. in ('+str(region)+')within %s of (' % distance +str(focal)+')'\n",
    "    nearby = cmd.select('nearby',selection) #change focal point here\n",
    "#print list of these residues\n",
    "    stored.chains = []\n",
    "    cmd.iterate('nearby', 'stored.chains.append(chain+resi+resn)')\n",
    "#################################################\n",
    "#export to csv file\n",
    "    contacts=[]\n",
    "    count = 0\n",
    "    for i in stored.chains:\n",
    "        if i not in contacts:\n",
    "            count = count + 1\n",
    "            contacts.append(i)\n",
    "    if region=='HC':\n",
    "        count = count - 1 #dont want to count the residue of interest\n",
    "    else:\n",
    "        count = count\n",
    "    neighbors_summary.append(count)\n",
    "    print(\"There are \"+str(count)+\" residues with atoms within %s A of \" % distance +str(mutant)+\" in \"+str(region))\n",
    "    print(contacts)\n",
    "    import csv\n",
    "    with open('structure_output/CR6261/CR6261_contacts/%s_residues_near%s.txt' %(antigen,mutant), 'w') as f:\n",
    "        for item in contacts:\n",
    "            f.write(\"%s\\n\" % item)\n",
    "print(neighbors_summary)\n",
    "first_order['contacts_%s' % antigen]=neighbors_summary"
   ]
  },
  {
   "cell_type": "markdown",
   "metadata": {},
   "source": [
    "### Figure 3c"
   ]
  },
  {
   "cell_type": "code",
   "execution_count": 5,
   "metadata": {},
   "outputs": [],
   "source": [
    "first_order.to_csv('structure_output/CR6261/firstorder_summary%s.csv'% antigen,index=False)\n",
    "first_order = pd.DataFrame(pd.read_csv('structure_output/CR6261/firstorder_summary%s.csv'% antigen,delimiter=','))\n",
    "first_order.replace(to_replace=10, value=1.2,inplace=True)\n",
    "upper = max(list(first_order['H1_Effect']))\n",
    "lowerh1 = min(list(first_order['H1_Effect']))\n",
    "if min(list(first_order['H9_Effect'])) < lowerh1:\n",
    "    lower= min(list(first_order['H9_Effect']))\n",
    "else:\n",
    "    lower=lowerh1"
   ]
  },
  {
   "cell_type": "code",
   "execution_count": 1,
   "metadata": {},
   "outputs": [
    {
     "ename": "NameError",
     "evalue": "name 'first_order' is not defined",
     "output_type": "error",
     "traceback": [
      "\u001b[0;31m---------------------------------------------------------------------------\u001b[0m",
      "\u001b[0;31mNameError\u001b[0m                                 Traceback (most recent call last)",
      "\u001b[0;32m<ipython-input-1-b9960ed6ba43>\u001b[0m in \u001b[0;36m<module>\u001b[0;34m\u001b[0m\n\u001b[1;32m      1\u001b[0m \u001b[0;31m#print commands for mapping onto pymol structure\u001b[0m\u001b[0;34m\u001b[0m\u001b[0;34m\u001b[0m\u001b[0;34m\u001b[0m\u001b[0m\n\u001b[0;32m----> 2\u001b[0;31m \u001b[0mprint\u001b[0m\u001b[0;34m(\u001b[0m\u001b[0;34m'stored.newB='\u001b[0m\u001b[0;34m+\u001b[0m\u001b[0mstr\u001b[0m\u001b[0;34m(\u001b[0m\u001b[0mlist\u001b[0m\u001b[0;34m(\u001b[0m\u001b[0mfirst_order\u001b[0m\u001b[0;34m[\u001b[0m\u001b[0;34m\"%s_Effect\"\u001b[0m \u001b[0;34m%\u001b[0m \u001b[0mantigen\u001b[0m\u001b[0;34m]\u001b[0m\u001b[0;34m)\u001b[0m\u001b[0;34m)\u001b[0m\u001b[0;34m+\u001b[0m\u001b[0;34m'\\nalter 6261m, b=0.0\\nalter 6261m and n. CA, b=stored.newB.pop(0)\\nalphatoall *,b\\nspectrum b, blue_white_red, 6261m, minimum=-1.5, maximum=1.5'\u001b[0m\u001b[0;34m)\u001b[0m\u001b[0;34m\u001b[0m\u001b[0;34m\u001b[0m\u001b[0m\n\u001b[0m",
      "\u001b[0;31mNameError\u001b[0m: name 'first_order' is not defined"
     ]
    }
   ],
   "source": [
    "#print commands for mapping onto pymol structure\n",
    "print('stored.newB='+str(list(first_order[\"%s_Effect\" % antigen]))+'\\nalter 6261m, b=0.0\\nalter 6261m and n. CA, b=stored.newB.pop(0)\\nalphatoall *,b\\nspectrum b, blue_white_red, 6261m, minimum=-1.5, maximum=1.5')"
   ]
  },
  {
   "cell_type": "code",
   "execution_count": 6,
   "metadata": {},
   "outputs": [
    {
     "data": {
      "image/png": "[encoded data removed]",
      "text/plain": [
       "<Figure size 115.2x64.8 with 1 Axes>"
      ]
     },
     "metadata": {
      "needs_background": "light"
     },
     "output_type": "display_data"
    }
   ],
   "source": [
    "#H1 scatter\n",
    "%matplotlib inline\n",
    "import matplotlib as mpl\n",
    "import matplotlib.cm as cm\n",
    "plt.rcParams['lines.markeredgewidth'] = 0.1\n",
    "plt.rcParams['scatter.edgecolors'] = 'black'\n",
    "plt.rcParams['font.sans-serif'] = \"Arial\"\n",
    "# Then, \"ALWAYS use sans-serif fonts\"\n",
    "plt.rcParams['font.family'] = \"sans-serif\"\n",
    "plt.rcParams['axes.linewidth'] = 0.5\n",
    "fig, ax = plt.subplots(figsize=(1.6,0.9))\n",
    "plt.ylim(-1.0,1.5)\n",
    "plt.xlim(-1,9)\n",
    "x_locator = FixedLocator([0,2,4,6,8])\n",
    "ax.xaxis.set_major_locator(x_locator)\n",
    "ax.set_xticklabels(['0','2','4','6','8'])\n",
    "plt.tick_params(labelsize=6,length=2.5,pad=0.5)\n",
    "y_locator = FixedLocator([-1,0,1])\n",
    "ax.yaxis.set_major_locator(y_locator)\n",
    "ax.set_yticklabels(['-1','0','1'])\n",
    "norm = mpl.colors.Normalize(vmin=-1.5, vmax=1.5)\n",
    "cmap = cm.get_cmap(\"bwr\")\n",
    "x=first_order['contacts_%s' % antigen]\n",
    "y=first_order['%s_Effect' % antigen]\n",
    "p1=sns.scatterplot(x=x,\n",
    "            y=y,\n",
    "            data=first_order,\n",
    "            palette=\"bwr\",\n",
    "            hue_norm=(-1.5,1.5),\n",
    "            x_jitter=True,\n",
    "            marker='o',\n",
    "            edgecolor='black',\n",
    "            linewidth=0.25,\n",
    "            size=4,\n",
    "            hue='%s_Effect' % antigen)\n",
    "\n",
    "\n",
    "# Loop over the points to force the edge colors\n",
    "for i,thisbar in enumerate(p1.patches):\n",
    "    # Set a different hatch for each bar\n",
    "    thisbar.set_edgecolor('black')\n",
    "#sort dataframe to only label outliers\n",
    "first_order_s = first_order.iloc[(-first_order['%s_Effect' % antigen].abs()).argsort()].reset_index(drop=True)\n",
    "lim=3\n",
    "for line in range(0,lim):\n",
    "    if antigen==\"H9\":\n",
    "        ax.text(first_order_s.contacts_H9[line]+0.5, first_order_s.H9_Effect[line]-0.2, int(first_order_s.Term[line]), horizontalalignment='center', fontsize=6, color='black')\n",
    "    elif antigen==\"H1\":\n",
    "        ax.text(first_order_s.contacts_H1[line]+0.5, first_order_s.H1_Effect[line]-0.2, int(first_order_s.Term[line]), horizontalalignment='center', fontsize=6, color='black')\n",
    "\n",
    "\n",
    "#plt.title('%s' % antigen,fontsize=8,weight='bold')\n",
    "plt.xlabel('# proximal HA residues',fontsize=7 ,labelpad = 0)\n",
    "plt.legend([],[], frameon=False)\n",
    "\n",
    "#plt.legend(loc=\"upper center\", bbox_to_anchor=(1.1, 1.1), ncol=1, fontsize=7,markerscale=0.5)\n",
    "plt.axhline(y=0,linestyle='dashed',c='black',linewidth=0.5)\n",
    "plt.ylabel('CR-6261: %s \\n first order effect' % antigen,fontsize=7,labelpad=0)\n",
    "plt.savefig('images/6261_%s_linear_contacts.png' % antigen, transparent=True, dpi=600,bbox_inches='tight')"
   ]
  },
  {
   "cell_type": "code",
   "execution_count": 2,
   "metadata": {},
   "outputs": [
    {
     "data": {
      "image/png": "[encoded data removed]",
      "text/plain": [
       "<Figure size 115.2x64.8 with 1 Axes>"
      ]
     },
     "metadata": {
      "needs_background": "light"
     },
     "output_type": "display_data"
    }
   ],
   "source": [
    "toplot = pd.DataFrame(pd.read_csv('structure_output/CR6261/chimera_buried_H1.csv',delimiter=','))\n",
    "antigen=\"H1\"\n",
    "#H1 scatter\n",
    "%matplotlib inline\n",
    "import matplotlib.pyplot as plt\n",
    "import matplotlib as mpl\n",
    "import matplotlib.cm as cm\n",
    "plt.rcParams['lines.markeredgewidth'] = 1\n",
    "plt.rcParams['scatter.edgecolors'] = 'black'\n",
    "plt.rcParams['font.sans-serif'] = \"Arial\"\n",
    "# Then, \"ALWAYS use sans-serif fonts\"\n",
    "plt.rcParams['font.family'] = \"sans-serif\"\n",
    "plt.rcParams['axes.linewidth'] = 0.5\n",
    "fig, ax = plt.subplots(figsize=(1.6,0.9))\n",
    "plt.ylim(-1.6,1.6)\n",
    "plt.tick_params(labelsize=6,length=2.5,pad=1)\n",
    "y_locator = FixedLocator([-1,0,1])\n",
    "ax.yaxis.set_major_locator(y_locator)\n",
    "ax.set_yticklabels(['-1','0','1'])\n",
    "norm = mpl.colors.Normalize(vmin=-1, vmax=1)\n",
    "cmap = cm.get_cmap(\"bwr\")\n",
    "x=toplot['buriedSA_H1']\n",
    "y=toplot['%s_Effect' % antigen]\n",
    "p1=sns.scatterplot(x=x,\n",
    "            y=y,\n",
    "            data=toplot,\n",
    "            palette=\"bwr\",\n",
    "            hue_norm=(-1,1),\n",
    "            x_jitter=True,\n",
    "            marker='o',\n",
    "            edgecolor='black',\n",
    "            linewidth=0.25,\n",
    "            size=4,\n",
    "            hue='%s_Effect' % antigen)\n",
    "\n",
    "\n",
    "#sort dataframe to only label outliers\n",
    "toplot_s = toplot.iloc[(-toplot['buriedSA_%s' % antigen].abs()).argsort()].reset_index(drop=True)\n",
    "lim=4\n",
    "for line in range(0,lim):\n",
    "    if antigen==\"H9\":\n",
    "        ax.text(toplot_s.buriedSA_H9[line]-5, toplot_s.H9_Effect[line], toplot_s.Term[line], horizontalalignment='right', fontsize=6, color='black')\n",
    "    elif antigen==\"H1\":\n",
    "        ax.text(toplot_s.buriedSA_H1[line]-5, toplot_s.H1_Effect[line], toplot_s.Term[line], horizontalalignment='right', fontsize=6, color='black')\n",
    "\n",
    "#plt.title('%s' % antigen,fontsize=8,weight='bold')\n",
    "plt.xlabel('contact surface area ($\\AA^2$)',fontsize=7,labelpad=0)\n",
    "plt.legend([],[], frameon=False)\n",
    "\n",
    "#plt.legend(loc=\"upper center\", bbox_to_anchor=(1.1, 1.1), ncol=1, fontsize=7,markerscale=0.5)\n",
    "plt.axhline(y=0,linestyle='dashed',c='black',linewidth=0.5)\n",
    "plt.ylabel('CR6261: %s \\n first order effect' % antigen,fontsize=7,labelpad=0)\n",
    "plt.savefig('images/6261_%s_linear_BSA.png' % antigen, transparent=True, dpi=600,bbox_inches='tight')"
   ]
  },
  {
   "cell_type": "markdown",
   "metadata": {},
   "source": [
    "### Figure 3f"
   ]
  },
  {
   "cell_type": "code",
   "execution_count": 7,
   "metadata": {},
   "outputs": [
    {
     "name": "stderr",
     "output_type": "stream",
     "text": [
      "/Users/angelaphillips/opt/anaconda3/envs/pymol_v2/lib/python3.7/site-packages/pandas/core/frame.py:2963: SettingWithCopyWarning: \n",
      "A value is trying to be set on a copy of a slice from a DataFrame.\n",
      "Try using .loc[row_indexer,col_indexer] = value instead\n",
      "\n",
      "See the caveats in the documentation: https://pandas.pydata.org/pandas-docs/stable/user_guide/indexing.html#returning-a-view-versus-a-copy\n",
      "  self[k1] = value[k2]\n",
      "/Users/angelaphillips/.local/lib/python3.7/site-packages/ipykernel_launcher.py:15: SettingWithCopyWarning: \n",
      "A value is trying to be set on a copy of a slice from a DataFrame\n",
      "\n",
      "See the caveats in the documentation: https://pandas.pydata.org/pandas-docs/stable/user_guide/indexing.html#returning-a-view-versus-a-copy\n",
      "  from ipykernel import kernelapp as app\n"
     ]
    }
   ],
   "source": [
    "model = \"biochem\"\n",
    "plotting = \"pairwise\"\n",
    "#import kl second order effects from second order model\n",
    "mut_names = ['30','35','36','57','64','65','66','79','82','83','84','85','92','95','103','113']\n",
    "if antigen == \"H1\":\n",
    "    h1 = pd.read_table('../../CR6261/Epistasis_linear_models/model_coefs/H1_4order_biochem.txt',names=['Term','H1_Effect','H1_SE','pval','H1_95CI_low','H1_95CI_hi'],skiprows=[0,1,2,3],index_col=False)\n",
    "    h1['order'] = h1[['Term']].applymap(lambda x: str.count(x, ',')+1)\n",
    "    h1_pairwise = h1[h1['order']==2]\n",
    "    h1_pairwise[['Mutation 1','Mutation 2']] = h1_pairwise.Term.str.split(\",\",expand=True)\n",
    "    toplot = pd.DataFrame()\n",
    "    toplot = h1_pairwise[['Mutation 1','Mutation 2','H1_Effect','H1_SE','H1_95CI_low','H1_95CI_hi']].copy()\n",
    "    toplot['Mutation 1'] = toplot['Mutation 1'].replace({'1':'mut29','2':'mut35','3':'mut65','4':'mut66','5':'mut69','6':'mut82','7':'mut83','8':'mut84','9':'mut85','10':'mut87','11':'mut112.1'})\n",
    "    toplot['Mutation 2'] = toplot['Mutation 2'].replace({'1':'mut29','2':'mut35','3':'mut65','4':'mut66','5':'mut69','6':'mut82','7':'mut83','8':'mut84','9':'mut85','10':'mut87','11':'mut112.1'})\n",
    "    mask = (toplot['H1_95CI_low'] <= 0) & (toplot['H1_95CI_hi'] >=0)\n",
    "    toplot['H1_Effect'][mask] = 0\n",
    "elif antigen == \"H9\":\n",
    "    H9 = pd.read_table('../../CR6261/Epistasis_linear_models/model_coefs/H9_4order_biochem.txt',names=['Term','H9_Effect','H9_SE','pval','H9_95CI_low','H9_95CI_hi'],skiprows=[0,1,2,3],index_col=False)\n",
    "    H9['order'] = H9[['Term']].applymap(lambda x: str.count(x, ',')+1)\n",
    "    H9_pairwise = H9[H9['order']==2]\n",
    "    H9_pairwise[['Mutation 1','Mutation 2']] = H9_pairwise.Term.str.split(\",\",expand=True)\n",
    "    toplot = pd.DataFrame()\n",
    "    toplot = H9_pairwise[['Mutation 1','Mutation 2','H9_Effect','H9_SE','H9_95CI_low','H9_95CI_hi']].copy()\n",
    "    toplot['Mutation 1'] = toplot['Mutation 1'].replace({'1':'mut29','2':'mut35','3':'mut65','4':'mut66','5':'mut69','6':'mut82','7':'mut83','8':'mut84','9':'mut85','10':'mut87','11':'mut112.1'})\n",
    "    toplot['Mutation 2'] = toplot['Mutation 2'].replace({'1':'mut29','2':'mut35','3':'mut65','4':'mut66','5':'mut69','6':'mut82','7':'mut83','8':'mut84','9':'mut85','10':'mut87','11':'mut112.1'})\n",
    "    mask = (toplot['H9_95CI_low'] <= 0) & (toplot['H9_95CI_hi'] >=0)\n",
    "    toplot['H9_Effect'][mask] = 0"
   ]
  },
  {
   "cell_type": "markdown",
   "metadata": {},
   "source": [
    "### Measure distance between alpha carbons"
   ]
  },
  {
   "cell_type": "code",
   "execution_count": 8,
   "metadata": {},
   "outputs": [],
   "source": [
    "distance_log=[]\n",
    "loc_muta = list(toplot['Mutation 1'])\n",
    "loc_mutb = list(toplot['Mutation 2'])\n",
    "epistasis = list(toplot['%s_Effect' % antigen])\n",
    "labels=[]\n",
    "for l in range(len(loc_muta)):\n",
    "    var1=loc_muta[l]\n",
    "    var2=loc_mutb[l]\n",
    "    label = str(var1[3:])+','+str(var2[3:])\n",
    "    labels.append(label)\n",
    "    distance=cmd.distance(None, \"%s and n. CA\"%var1, \"%s and n. CA\"%var2) #distance between alpha carbons\n",
    "    distance_log.append(distance)\n",
    "df_toplot=pd.DataFrame()\n",
    "df_toplot['labels']=labels\n",
    "df_toplot['distance']=distance_log\n",
    "df_toplot['epistasis']= epistasis\n",
    "df_toplot.dropna(inplace=True)\n",
    "s = df_toplot.sort_values(by='epistasis',ascending=False)\n",
    "s.to_csv('structure_output/CR6261/2ndorder_summary%s.csv'% antigen,index=False)"
   ]
  },
  {
   "cell_type": "code",
   "execution_count": 9,
   "metadata": {},
   "outputs": [
    {
     "data": {
      "image/png": "[encoded data removed]",
      "text/plain": [
       "<Figure size 86.4x57.6 with 1 Axes>"
      ]
     },
     "metadata": {
      "needs_background": "light"
     },
     "output_type": "display_data"
    }
   ],
   "source": [
    "#sort dataframe to only label outliers\n",
    "df_toplot_s = df_toplot.iloc[(-df_toplot['epistasis'].abs()).argsort()].reset_index(drop=True)\n",
    "\n",
    "#number of outliers to label\n",
    "if antigen==\"H1\":\n",
    "    spot = \"darksalmon\"\n",
    "    edge = \"maroon\"\n",
    "elif antigen==\"H9\":\n",
    "    spot = \"rebeccapurple\"\n",
    "    edge = \"rebeccapurple\"\n",
    "lim = 5\n",
    "%matplotlib inline\n",
    "import matplotlib as mpl\n",
    "plt.rcParams['font.sans-serif'] = \"Arial\"\n",
    "# Then, \"ALWAYS use sans-serif fonts\"\n",
    "plt.rcParams['font.family'] = \"sans-serif\"\n",
    "plt.rcParams['axes.linewidth'] = 0.25\n",
    "fig, ax = plt.subplots(figsize=(1.2,0.8))\n",
    "plt.tick_params(labelsize=7,length=2.5,pad=0.5)\n",
    "#Create figure\n",
    "# Create scatterplot. alpha controls the opacity and s controls the size.\n",
    "ax = sns.scatterplot(df_toplot_s.distance, df_toplot_s.epistasis, alpha = 1, linewidth=0.25,color=spot,edgecolor=edge,s=5,legend=False)\n",
    "\n",
    "#plt.title('%s' % antigen,fontsize=8,weight='bold')\n",
    "plt.axhline(y=0,linestyle='dashed',c='black',linewidth=0.5)\n",
    "plt.ylim(-1.5,1.5)\n",
    "ax.set_xlabel('',fontsize=7,labelpad=0)\n",
    "if plotting == \"sum\":\n",
    "    ax.set_ylabel('weighted epistasis',fontsize=7)\n",
    "else:\n",
    "    ax.set_ylabel('',fontsize=7,labelpad=0)\n",
    "\n",
    "plt.savefig('images/6261_%s_2ndorder_structure.png'% antigen, transparent=True, dpi=600,bbox_inches='tight')"
   ]
  },
  {
   "cell_type": "markdown",
   "metadata": {},
   "source": [
    "### Bin by distances for SI fig"
   ]
  },
  {
   "cell_type": "code",
   "execution_count": 10,
   "metadata": {},
   "outputs": [
    {
     "data": {
      "image/png": "[encoded data removed]",
      "text/plain": [
       "<Figure size 36x36 with 1 Axes>"
      ]
     },
     "metadata": {
      "needs_background": "light"
     },
     "output_type": "display_data"
    }
   ],
   "source": [
    "df_toplot_pos = df_toplot_s.copy()\n",
    "df_toplot_pos['epistasis']=df_toplot_pos['epistasis'].abs()\n",
    "\n",
    "plt.rcParams['font.sans-serif'] = \"Arial\"\n",
    "# Then, \"ALWAYS use sans-serif fonts\"\n",
    "plt.rcParams['font.family'] = \"sans-serif\"\n",
    "plt.rcParams['axes.linewidth'] = 0.5\n",
    "fig, ax = plt.subplots(figsize=(0.5,0.5))\n",
    "plt.tick_params(labelsize=7,length=2.5,pad=0.1)\n",
    "y = df_toplot_pos.groupby(pd.cut(df_toplot_pos['distance'], bins=10))['epistasis'].mean()\n",
    "yerr = df_toplot_pos.groupby(pd.cut(df_toplot_pos['distance'], bins=10))['epistasis'].std()\n",
    "x = df_toplot_pos.groupby(pd.cut(df_toplot_pos['distance'], bins=10))['distance'].mean()\n",
    "plt.scatter(x,y,color=spot,s=5)\n",
    "plt.errorbar(x,y,yerr,color=spot,linewidth=1)\n",
    "plt.axhline(y=0,linestyle='dashed',c='black',linewidth=0.5)\n",
    "plt.xlabel(' ')\n",
    "plt.ylabel('')\n",
    "plt.savefig('images/6261_%s_2ndorder_structure_binned.png'% antigen, transparent=True, dpi=600,bbox_inches='tight')\n"
   ]
  },
  {
   "cell_type": "markdown",
   "metadata": {},
   "source": [
    "### permute the distances for null expectation"
   ]
  },
  {
   "cell_type": "code",
   "execution_count": 11,
   "metadata": {},
   "outputs": [
    {
     "data": {
      "image/png": "[encoded data removed]",
      "text/plain": [
       "<Figure size 36x36 with 1 Axes>"
      ]
     },
     "metadata": {
      "needs_background": "light"
     },
     "output_type": "display_data"
    }
   ],
   "source": [
    "#permute for control\n",
    "df_toplot_pos = df_toplot_s.copy()\n",
    "df_toplot_pos['epistasis']=df_toplot_pos['epistasis'].abs()\n",
    "df_toplot_pos['permuted'] = np.random.permutation(df_toplot_pos['distance'].values)\n",
    "fig, ax = plt.subplots(figsize=(0.5,0.5))\n",
    "plt.tick_params(labelsize=7,length=2.5,pad=0.1)\n",
    "y = df_toplot_pos.groupby(pd.cut(df_toplot_pos['permuted'], bins=10))['epistasis'].mean()\n",
    "yerr = df_toplot_pos.groupby(pd.cut(df_toplot_pos['permuted'], bins=10))['epistasis'].std()\n",
    "x = df_toplot_pos.groupby(pd.cut(df_toplot_pos['permuted'], bins=10))['permuted'].mean()\n",
    "plt.scatter(x,y,color='gray',s=5)\n",
    "plt.errorbar(x,y,yerr,color='gray',linewidth=1)\n",
    "plt.axhline(y=0,linestyle='dashed',c='black',linewidth=0.5)\n",
    "plt.xlabel(' ')\n",
    "plt.ylabel('')\n",
    "plt.savefig('images/6261_%s_2ndorder_structure_binned_permuted.png'% antigen, transparent=True, dpi=600,bbox_inches='tight')\n"
   ]
  },
  {
   "cell_type": "code",
   "execution_count": null,
   "metadata": {},
   "outputs": [],
   "source": []
  }
 ],
 "metadata": {
  "kernelspec": {
   "display_name": "pymol_v2",
   "language": "python",
   "name": "pymol_v2"
  },
  "language_info": {
   "codemirror_mode": {
    "name": "ipython",
    "version": 3
   },
   "file_extension": ".py",
   "mimetype": "text/x-python",
   "name": "python",
   "nbconvert_exporter": "python",
   "pygments_lexer": "ipython3",
   "version": "3.7.7"
  }
 },
 "nbformat": 4,
 "nbformat_minor": 4
}
