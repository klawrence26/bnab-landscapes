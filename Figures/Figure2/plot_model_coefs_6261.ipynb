{
 "cells": [
  {
   "cell_type": "code",
   "execution_count": 27,
   "metadata": {},
   "outputs": [],
   "source": [
    "import numpy as np\n",
    "import matplotlib.pyplot as plt\n",
    "import csv\n",
    "import sys\n",
    "import seaborn as sns\n",
    "from scipy.special import comb\n",
    "from matplotlib.colors import LogNorm\n",
    "from matplotlib.patches import Patch\n",
    "import matplotlib as mpl\n",
    "import matplotlib.lines as lines\n",
    "\n",
    "plt.rcParams.update({'font.size': 8})\n",
    "plt.rcParams.update({'font.family': 'sans-serif'})\n",
    "plt.rcParams.update({'xtick.labelsize': 7})\n",
    "plt.rcParams.update({'ytick.labelsize': 7})\n",
    "\n",
    "sns.set_style(\"ticks\")\n",
    "plt.rcParams['scatter.edgecolors'] = 'black'\n",
    "plt.rcParams['font.sans-serif'] = \"Arial\"\n",
    "# Then, \"ALWAYS use sans-serif fonts\"\n",
    "plt.rcParams['font.family'] = \"sans-serif\"\n",
    "plt.rcParams['axes.linewidth'] = 0.5\n"
   ]
  },
  {
   "cell_type": "code",
   "execution_count": 28,
   "metadata": {},
   "outputs": [
    {
     "name": "stdout",
     "output_type": "stream",
     "text": [
      "[ 11  55 165 330] 561\n",
      "[1, 12, 67, 232, 562]\n",
      "[ 11  55 165 330] 561\n",
      "[1, 12, 67, 232, 562]\n"
     ]
    }
   ],
   "source": [
    "# set some things\n",
    "num_muts_total = 11\n",
    "\n",
    "num_mutations_H1 = 11\n",
    "order_H1 = 4\n",
    "num_term_list_H1 = np.array([int(comb(num_mutations_H1,i)) for i in range(1,order_H1+1)])\n",
    "total_params_H1 = sum(num_term_list_H1)\n",
    "order_start_indices_H1 = list(np.cumsum(num_term_list_H1)+1)\n",
    "order_start_indices_H1.insert(0,1)\n",
    "print(num_term_list_H1,total_params_H1)\n",
    "print(order_start_indices_H1)\n",
    "\n",
    "num_mutations_H9 = 11\n",
    "order_H9 = 4\n",
    "num_term_list_H9 = np.array([int(comb(num_mutations_H9,i)) for i in range(1,order_H9+1)])\n",
    "total_params_H9 = sum(num_term_list_H9)\n",
    "order_start_indices_H9 = list(np.cumsum(num_term_list_H9)+1)\n",
    "order_start_indices_H9.insert(0,1)\n",
    "print(num_term_list_H9,total_params_H9)\n",
    "print(order_start_indices_H9)\n",
    "\n",
    "\n",
    "mut_names = ['29','35','65','66','69','82','83','84','85','87','112.1']\n",
    "\n",
    "H1_color = '#e8735c'\n",
    "H9_color = 'rebeccapurple'\n",
    "\n",
    "ep_type = 'biochem'"
   ]
  },
  {
   "cell_type": "code",
   "execution_count": 29,
   "metadata": {},
   "outputs": [
    {
     "name": "stdout",
     "output_type": "stream",
     "text": [
      "[ 0.80730334  0.57361296  0.0735109  -0.05492991  0.02455746  0.0850556\n",
      "  1.34160851  0.06296433  0.31995218  0.24254109  0.06319712]\n"
     ]
    }
   ],
   "source": [
    "# read first and second order effects for H1\n",
    "first_coefs_H1 = np.zeros(num_muts_total)\n",
    "first_coefs_H1_stderr = np.zeros(num_muts_total)\n",
    "first_coefs_H1_ci = np.zeros((num_muts_total,2))\n",
    "second_coefs_H1_matrix = np.zeros((num_muts_total,num_muts_total))\n",
    "second_coefs_H1_matrix_sigmask = np.zeros((num_muts_total,num_muts_total))\n",
    " \n",
    "with open('../../CR6261/Epistasis_linear_models/model_coefs/H1_'+str(order_H1)+'order_'+ep_type+'.txt','r') as readfile:\n",
    "    coef_reader = csv.reader(readfile,delimiter='\\t')\n",
    "    num_params = int(next(coef_reader)[-1])\n",
    "    r2_train = float(next(coef_reader)[-1])\n",
    "    header = next(coef_reader)\n",
    "    intercept = next(coef_reader)\n",
    "    for i in range(num_term_list_H1[0]):\n",
    "        row = next(coef_reader)\n",
    "        index = int(row[0])-1\n",
    "        first_coefs_H1[index] = float(row[1])\n",
    "        first_coefs_H1_stderr[index] = float(row[2])\n",
    "        first_coefs_H1_ci[index,:] = [float(row[4]),float(row[5])]\n",
    "    for i in range(num_term_list_H1[1]):\n",
    "        row = next(coef_reader)\n",
    "        i1,i2 = row[0].split(',')\n",
    "        index1 = int(i1)-1\n",
    "        index2 = int(i2)-1\n",
    "        second_coefs_H1_matrix[index1][index2] = float(row[1])\n",
    "        second_coefs_H1_matrix[index2][index1] = float(row[1])\n",
    "        if float(row[4])*float(row[5]) > 0.0:\n",
    "            second_coefs_H1_matrix_sigmask[index1][index2] = float(row[1])\n",
    "            second_coefs_H1_matrix_sigmask[index2][index1] = float(row[1])\n",
    "        \n",
    "    readfile.close()\n",
    "\n",
    "print(first_coefs_H1)"
   ]
  },
  {
   "cell_type": "code",
   "execution_count": 30,
   "metadata": {},
   "outputs": [
    {
     "name": "stdout",
     "output_type": "stream",
     "text": [
      "[-0.23460353  0.41097108 -0.05463749  0.08102278 -0.13125967 -0.06530365\n",
      " -0.2945172   0.14817135 -0.0948856  -0.07782193  0.0354402 ]\n"
     ]
    }
   ],
   "source": [
    "# read first and second order effects for H9\n",
    "first_coefs_H9 = np.zeros(num_muts_total)\n",
    "first_coefs_H9_stderr = np.zeros(num_muts_total)\n",
    "first_coefs_H9_ci = np.zeros((num_muts_total,2))\n",
    "second_coefs_H9_matrix = np.zeros((num_muts_total,num_muts_total))\n",
    "second_coefs_H9_matrix_sigmask = np.zeros((num_muts_total,num_muts_total))\n",
    " \n",
    "with open('../../CR6261/Epistasis_linear_models/model_coefs/H9_'+str(order_H9)+'order_'+ep_type+'.txt','r') as readfile:\n",
    "    coef_reader = csv.reader(readfile,delimiter='\\t')\n",
    "    num_params = int(next(coef_reader)[-1])\n",
    "    r2_train = float(next(coef_reader)[-1])\n",
    "    header = next(coef_reader)\n",
    "    intercept = next(coef_reader)\n",
    "    for i in range(num_term_list_H9[0]):\n",
    "        row = next(coef_reader)\n",
    "        index = int(row[0])-1\n",
    "        first_coefs_H9[index] = float(row[1])\n",
    "        first_coefs_H9_stderr[index] = float(row[2])\n",
    "        first_coefs_H9_ci[index,:] = [float(row[4]),float(row[5])]\n",
    "    for i in range(num_term_list_H9[1]):\n",
    "        row = next(coef_reader)\n",
    "        i1,i2 = row[0].split(',')\n",
    "        index1 = int(i1)-1\n",
    "        index2 = int(i2)-1\n",
    "        second_coefs_H9_matrix[index1][index2] = float(row[1])\n",
    "        second_coefs_H9_matrix[index2][index1] = float(row[1])\n",
    "        if float(row[4])*float(row[5]) > 0.0:\n",
    "            second_coefs_H9_matrix_sigmask[index1][index2] = float(row[1])\n",
    "            second_coefs_H9_matrix_sigmask[index2][index1] = float(row[1])\n",
    "        \n",
    "    readfile.close()\n",
    "\n",
    "print(first_coefs_H9)"
   ]
  },
  {
   "cell_type": "markdown",
   "metadata": {},
   "source": [
    "## plot first order effects"
   ]
  },
  {
   "cell_type": "code",
   "execution_count": 31,
   "metadata": {},
   "outputs": [
    {
     "data": {
      "image/png": "[encoded data removed]",
      "text/plain": [
       "<Figure size 180x111.6 with 1 Axes>"
      ]
     },
     "metadata": {},
     "output_type": "display_data"
    }
   ],
   "source": [
    "full_mut_names = ['T29P','S35R','A65T','N66K','Q69P','K82D','S83F','T84A','S85G','A87V','L112.1V']\n",
    "# plot first order\n",
    "fig, ax = plt.subplots(figsize=(2.5,1.55))\n",
    "plt.tick_params(size=2,labelsize=7,length=2.5,pad=1)\n",
    "\n",
    "x = np.arange(11)\n",
    "width = 0.25\n",
    "ymax = 2\n",
    "\n",
    "for xval in x:\n",
    "    plt.bar(xval-width/2,first_coefs_H1[xval],width,color=H1_color,linewidth=0.25)\n",
    "    plt.plot([xval-width/2,xval-width/2],\n",
    "             [first_coefs_H1[xval]+first_coefs_H1_stderr[xval],first_coefs_H1[xval]-first_coefs_H1_stderr[xval]],'k-',linewidth=0.5)\n",
    "    plt.bar(xval+width/2,first_coefs_H9[xval],width,color=H9_color,linewidth=0.25)\n",
    "    plt.plot([xval+width/2,xval+width/2],\n",
    "             [first_coefs_H9[xval]+first_coefs_H9_stderr[xval],first_coefs_H9[xval]-first_coefs_H9_stderr[xval]],'k-',linewidth=0.5)\n",
    "\n",
    "plt.xticks(x,full_mut_names,fontsize=7,rotation=45,ha='right',rotation_mode=\"anchor\")\n",
    "plt.yticks([-1.0,0,1.0,2.0],['-1','0','1','2'],fontsize=7)\n",
    "plt.ylim([-1,2])\n",
    "plt.xlabel('',fontsize=8)\n",
    "plt.ylabel('First order effect',labelpad=0,fontsize=8)\n",
    "legend_elements = [Patch(facecolor=H1_color, label='H1'),\n",
    "                  Patch(facecolor=H9_color, label='H9')]\n",
    "plt.legend(handles=legend_elements,fontsize=7,bbox_to_anchor=(0.5, 1.1), loc='center',ncol=3,frameon=False)\n",
    "plt.axhline(y=0,linestyle='dashed',c='black',linewidth=0.5)\n",
    "\n",
    "plt.tight_layout()\n",
    "plt.savefig('images/6261_linear_effects.pdf')\n"
   ]
  },
  {
   "cell_type": "markdown",
   "metadata": {},
   "source": [
    "## plot second order effects"
   ]
  },
  {
   "cell_type": "code",
   "execution_count": 32,
   "metadata": {},
   "outputs": [
    {
     "name": "stdout",
     "output_type": "stream",
     "text": [
      "-1.0440814553464355 2.297527658655054\n"
     ]
    },
    {
     "data": {
      "image/png": "[encoded data removed]",
      "text/plain": [
       "<Figure size 151.2x122.4 with 2 Axes>"
      ]
     },
     "metadata": {},
     "output_type": "display_data"
    }
   ],
   "source": [
    "# heatmap of second order effects\n",
    "\n",
    "# combine coefs into one matrix\n",
    "coefs_to_plot = np.full((num_mutations_H1,num_mutations_H1),np.nan)\n",
    "for i in range(num_mutations_H1):\n",
    "    for j in range(i,num_mutations_H1):\n",
    "        # upper diagonal H1\n",
    "        coefs_to_plot[i,j] = second_coefs_H1_matrix_sigmask[i,j]\n",
    "        # lower diagonal H9\n",
    "        coefs_to_plot[j,i] = second_coefs_H9_matrix_sigmask[i,j]\n",
    "print(np.nanmin(coefs_to_plot),np.nanmax(coefs_to_plot))\n",
    "\n",
    "sns.set_style(\"white\",{\"axes.facecolor\": \".8\"})\n",
    "plt.figure(figsize=(2.1,1.7))\n",
    "\n",
    "ax = sns.heatmap(coefs_to_plot,cmap='bwr',xticklabels=mut_names,yticklabels=mut_names,vmin=-2.5,vmax=2.5)\n",
    "for _, spine in ax.spines.items():\n",
    "    spine.set_visible(True)\n",
    "    \n",
    "line = lines.Line2D([0,num_mutations_H1], [0,num_mutations_H1],\n",
    "                    lw=.5, color='black', axes=ax)\n",
    "ax.add_line(line)\n",
    "ax.tick_params(pad=0)\n",
    "plt.xticks(rotation=90) \n",
    "plt.yticks(rotation=0) \n",
    "plt.tight_layout() #rect=[0, 0.03, 1, 0.95])\n",
    "plt.savefig('images/6261_2ndorder_effects.pdf')\n",
    "plt.show()"
   ]
  },
  {
   "cell_type": "code",
   "execution_count": null,
   "metadata": {},
   "outputs": [],
   "source": []
  },
  {
   "cell_type": "code",
   "execution_count": null,
   "metadata": {},
   "outputs": [],
   "source": []
  }
 ],
 "metadata": {
  "kernelspec": {
   "display_name": "Python 3",
   "language": "python",
   "name": "python3"
  },
  "language_info": {
   "codemirror_mode": {
    "name": "ipython",
    "version": 3
   },
   "file_extension": ".py",
   "mimetype": "text/x-python",
   "name": "python",
   "nbconvert_exporter": "python",
   "pygments_lexer": "ipython3",
   "version": "3.8.2"
  }
 },
 "nbformat": 4,
 "nbformat_minor": 4
}
