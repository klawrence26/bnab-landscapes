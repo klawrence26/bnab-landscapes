{
 "cells": [
  {
   "cell_type": "code",
   "execution_count": 2,
   "metadata": {},
   "outputs": [],
   "source": [
    "#importing things\n",
    "import pandas as pd\n",
    "import numpy as np\n",
    "import csv\n",
    "import pylab as pl\n",
    "import matplotlib.pyplot as plt\n",
    "import copy\n",
    "import scipy\n",
    "from scipy.stats import linregress\n",
    "from scipy.stats import t\n",
    "from scipy.stats import chi2\n",
    "from scipy.stats import sem\n",
    "from scipy.linalg import hadamard\n",
    "from scipy.stats import ttest_ind_from_stats\n",
    "from mpl_toolkits.mplot3d import Axes3D\n",
    "from scipy.stats import ttest_ind_from_stats\n",
    "from collections import OrderedDict\n",
    "import seaborn as sns"
   ]
  },
  {
   "cell_type": "code",
   "execution_count": 3,
   "metadata": {},
   "outputs": [],
   "source": [
    "HA_all = pd.DataFrame(pd.read_csv('../../../CR9114/Kd_meanbin/kd_processed/20210427_HA_unadj_fil_merg.csv',delimiter=',',dtype={'variant': str}))"
   ]
  },
  {
   "cell_type": "code",
   "execution_count": 5,
   "metadata": {},
   "outputs": [
    {
     "name": "stdout",
     "output_type": "stream",
     "text": [
      "0.9537087039933119\n"
     ]
    },
    {
     "data": {
      "image/png": "[encoded data removed]",
      "text/plain": [
       "<Figure size 72x57.6 with 2 Axes>"
      ]
     },
     "metadata": {
      "needs_background": "light"
     },
     "output_type": "display_data"
    }
   ],
   "source": [
    "#H1 rep a & b\n",
    "from matplotlib.ticker import FixedLocator, FixedFormatter\n",
    "from numpy import polyfit\n",
    "plt.rcParams['font.sans-serif'] = \"Arial\"\n",
    "# Then, \"ALWAYS use sans-serif fonts\"\n",
    "plt.rcParams['font.family'] = \"sans-serif\"\n",
    "plt.rcParams['axes.linewidth'] = 0.5\n",
    "flierprops = dict(marker='o', markersize=2)\n",
    "fig, ax = plt.subplots(figsize=(1,0.8))\n",
    "from scipy.stats import pearsonr\n",
    "plotting = HA_all[['repa_x', 'repb_x']].copy()\n",
    "plotting.dropna(inplace=True)\n",
    "hb=plt.hexbin(plotting['repa_x'], plotting['repb_x'],cmap='Reds',bins='log',gridsize=25,linewidths=0.2)\n",
    "plt.xlabel(\"Rep. 1 -logKd\",fontsize=7,labelpad=1)\n",
    "plt.ylabel(\"Rep. 2 -logKd\",fontsize=7,labelpad=0)\n",
    "plt.tick_params(labelsize=7,length=2.5)\n",
    "x_locator = FixedLocator([7,8,9,10])\n",
    "ax.xaxis.set_major_locator(x_locator)\n",
    "ax.set_xticklabels(['7','8','9','10'])\n",
    "y_locator = FixedLocator([7,8,9,10])\n",
    "ax.yaxis.set_major_locator(x_locator)\n",
    "ax.set_yticklabels(['7','8','9','10'])\n",
    "plt.xlim(7,10)\n",
    "plt.ylim(7,10)\n",
    "x = plotting['repa_x']\n",
    "y = plotting['repb_x']\n",
    "cb = fig.colorbar(hb, ax=ax,ticks=[1,10,100,1000],orientation='vertical',pad=0.05)\n",
    "#cb.set_label('log10(N)',size=6,labelpad=1)\n",
    "cb.ax.tick_params(labelsize=7,pad=1,size=1)\n",
    "xs = np.array([7,10])\n",
    "plt.plot(xs, xs, 'k-',linewidth=0.5)\n",
    "corr, _ = pearsonr(plotting['repa_x'], plotting['repb_x'])\n",
    "m, b = np.polyfit(plotting['repa_x'], plotting['repb_x'], 1)\n",
    "plt.plot(x, m*x + b,'k:',zorder=10000,c='black',linewidth=0.5)\n",
    "print(corr)\n",
    "plt.suptitle(\"N = \"+str(plotting.shape[0])+'; r =  %.2f' % corr,fontsize=7,y=1)\n",
    "plt.savefig('9114_corr_figs/h1_repab.png',transparent=True, dpi=600,bbox_inches='tight')"
   ]
  },
  {
   "cell_type": "code",
   "execution_count": 6,
   "metadata": {},
   "outputs": [
    {
     "name": "stdout",
     "output_type": "stream",
     "text": [
      "0.9534362735295128\n"
     ]
    },
    {
     "data": {
      "image/png": "[encoded data removed]",
      "text/plain": [
       "<Figure size 72x57.6 with 2 Axes>"
      ]
     },
     "metadata": {
      "needs_background": "light"
     },
     "output_type": "display_data"
    }
   ],
   "source": [
    "#H1 rep a & c\n",
    "from matplotlib.ticker import FixedLocator, FixedFormatter\n",
    "from numpy import polyfit\n",
    "plt.rcParams['font.sans-serif'] = \"Arial\"\n",
    "# Then, \"ALWAYS use sans-serif fonts\"\n",
    "plt.rcParams['font.family'] = \"sans-serif\"\n",
    "plt.rcParams['axes.linewidth'] = 0.5\n",
    "flierprops = dict(marker='o', markersize=2)\n",
    "fig, ax = plt.subplots(figsize=(1,0.8))\n",
    "from scipy.stats import pearsonr\n",
    "plotting = HA_all[['repa_x', 'repc_x']].copy()\n",
    "plotting.dropna(inplace=True)\n",
    "hb=plt.hexbin(plotting['repa_x'], plotting['repc_x'],cmap='Reds',bins='log',gridsize=25,linewidths=0.2)\n",
    "plt.xlabel(\"Rep. 1 -logKd\",fontsize=7,labelpad=1)\n",
    "plt.ylabel(\"Rep. 3 -logKd\",fontsize=7,labelpad=0)\n",
    "plt.tick_params(labelsize=7,length=2.5)\n",
    "x_locator = FixedLocator([7,8,9,10])\n",
    "ax.xaxis.set_major_locator(x_locator)\n",
    "ax.set_xticklabels(['7','8','9','10'])\n",
    "y_locator = FixedLocator([7,8,9,10])\n",
    "ax.yaxis.set_major_locator(x_locator)\n",
    "ax.set_yticklabels(['7','8','9','10'])\n",
    "plt.xlim(7,10)\n",
    "plt.ylim(7,10)\n",
    "x = plotting['repa_x']\n",
    "y = plotting['repc_x']\n",
    "cb = fig.colorbar(hb, ax=ax,ticks=[1,10,100,1000],orientation='vertical',pad=0.05)\n",
    "#cb.set_label('log10(N)',size=6,labelpad=1)\n",
    "cb.ax.tick_params(labelsize=7,pad=1,size=1)\n",
    "xs = np.array([7,10])\n",
    "plt.plot(xs, xs, 'k-',linewidth=0.5)\n",
    "corr, _ = pearsonr(plotting['repa_x'], plotting['repc_x'])\n",
    "m, b = np.polyfit(plotting['repa_x'], plotting['repc_x'], 1)\n",
    "plt.plot(x, m*x + b,'k:',zorder=10000,c='black',linewidth=0.5)\n",
    "print(corr)\n",
    "plt.suptitle(\"N = \"+str(plotting.shape[0])+'; r =  %.2f' % corr,fontsize=7,y=1)\n",
    "plt.savefig('9114_corr_figs/h1_repac.png',transparent=True, dpi=600,bbox_inches='tight')"
   ]
  },
  {
   "cell_type": "code",
   "execution_count": 7,
   "metadata": {},
   "outputs": [
    {
     "name": "stdout",
     "output_type": "stream",
     "text": [
      "0.9594349413088563\n"
     ]
    },
    {
     "data": {
      "image/png": "[encoded data removed]",
      "text/plain": [
       "<Figure size 72x57.6 with 2 Axes>"
      ]
     },
     "metadata": {
      "needs_background": "light"
     },
     "output_type": "display_data"
    }
   ],
   "source": [
    "#H1 rep b & c\n",
    "from matplotlib.ticker import FixedLocator, FixedFormatter\n",
    "from numpy import polyfit\n",
    "plt.rcParams['font.sans-serif'] = \"Arial\"\n",
    "# Then, \"ALWAYS use sans-serif fonts\"\n",
    "plt.rcParams['font.family'] = \"sans-serif\"\n",
    "plt.rcParams['axes.linewidth'] = 0.5\n",
    "flierprops = dict(marker='o', markersize=2)\n",
    "fig, ax = plt.subplots(figsize=(1,0.8))\n",
    "from scipy.stats import pearsonr\n",
    "plotting = HA_all[['repb_x', 'repc_x']].copy()\n",
    "plotting.dropna(inplace=True)\n",
    "hb=plt.hexbin(plotting['repb_x'], plotting['repc_x'],cmap='Reds',bins='log',gridsize=25,linewidths=0.2)\n",
    "plt.xlabel(\"Rep. 2 -logKd\",fontsize=7,labelpad=1)\n",
    "plt.ylabel(\"Rep. 3 -logKd\",fontsize=7,labelpad=0)\n",
    "plt.tick_params(labelsize=7,length=2.5)\n",
    "x_locator = FixedLocator([7,8,9,10])\n",
    "ax.xaxis.set_major_locator(x_locator)\n",
    "ax.set_xticklabels(['7','8','9','10'])\n",
    "y_locator = FixedLocator([7,8,9,10])\n",
    "ax.yaxis.set_major_locator(x_locator)\n",
    "ax.set_yticklabels(['7','8','9','10'])\n",
    "plt.xlim(7,10)\n",
    "plt.ylim(7,10)\n",
    "x = plotting['repb_x']\n",
    "y = plotting['repc_x']\n",
    "cb = fig.colorbar(hb, ax=ax,ticks=[1,10,100,1000],orientation='vertical',pad=0.05)\n",
    "#cb.set_label('log10(N)',size=6,labelpad=1)\n",
    "cb.ax.tick_params(labelsize=7,pad=1,size=1)\n",
    "xs = np.array([7,10])\n",
    "plt.plot(xs, xs, 'k-',linewidth=0.5)\n",
    "corr, _ = pearsonr(plotting['repb_x'], plotting['repc_x'])\n",
    "m, b = np.polyfit(plotting['repb_x'], plotting['repc_x'], 1)\n",
    "plt.plot(x, m*x + b,'k:',zorder=10000,c='black',linewidth=0.5)\n",
    "print(corr)\n",
    "plt.suptitle(\"N = \"+str(plotting.shape[0])+'; r =  %.2f' % corr,fontsize=7,y=1)\n",
    "plt.savefig('9114_corr_figs/h1_repbc.png',transparent=True, dpi=600,bbox_inches='tight')"
   ]
  },
  {
   "cell_type": "code",
   "execution_count": 4,
   "metadata": {},
   "outputs": [
    {
     "name": "stdout",
     "output_type": "stream",
     "text": [
      "0.969854856248624\n"
     ]
    },
    {
     "data": {
      "image/png": "[encoded data removed]",
      "text/plain": [
       "<Figure size 72x57.6 with 2 Axes>"
      ]
     },
     "metadata": {
      "needs_background": "light"
     },
     "output_type": "display_data"
    }
   ],
   "source": [
    "#H3 repd & e\n",
    "from matplotlib.ticker import FixedLocator, FixedFormatter\n",
    "from numpy import polyfit\n",
    "plt.rcParams['font.sans-serif'] = \"Arial\"\n",
    "# Then, \"ALWAYS use sans-serif fonts\"\n",
    "plt.rcParams['font.family'] = \"sans-serif\"\n",
    "plt.rcParams['axes.linewidth'] = 0.5\n",
    "flierprops = dict(marker='o', markersize=2)\n",
    "fig, ax = plt.subplots(figsize=(1,0.8))\n",
    "from scipy.stats import pearsonr\n",
    "plotting = HA_all[['repa_y', 'repb_y']].copy()\n",
    "plotting.dropna(inplace=True)\n",
    "hc = plt.hexbin(plotting['repa_y'], plotting['repb_y'],cmap='Greens',bins='log',gridsize=25,vmin=1,vmax=100,linewidths=0.2)\n",
    "plt.xlabel(\"Rep. 1 -logKd\",fontsize=7,labelpad=1)\n",
    "plt.ylabel(\"Rep. 2 -logKd\",fontsize=7,labelpad=0)\n",
    "plt.tick_params(labelsize=7,length=2.5)\n",
    "x_locator = FixedLocator([6,7,8,9])\n",
    "ax.xaxis.set_major_locator(x_locator)\n",
    "ax.set_xticklabels(['6','7','8','9','10'])\n",
    "y_locator = FixedLocator([6,7,8,9])\n",
    "ax.yaxis.set_major_locator(x_locator)\n",
    "ax.set_yticklabels(['6','7','8','9','10'])\n",
    "plt.xlim(6,9)\n",
    "plt.ylim(6,9)\n",
    "x = plotting['repa_y']\n",
    "y = plotting['repb_y']\n",
    "cb = fig.colorbar(hc, ax=ax,ticks=[1,10,100],orientation='vertical',pad=0.05)\n",
    "cb.ax.tick_params(labelsize=7,pad=1,size=1)\n",
    "xs = np.array([6,10])\n",
    "plt.plot(xs, xs, 'k-',linewidth=0.5)\n",
    "corr, _ = pearsonr(plotting['repa_y'], plotting['repb_y'])\n",
    "m, b = np.polyfit(plotting['repa_y'], plotting['repb_y'], 1)\n",
    "plt.plot(x, m*x + b,'k:',zorder=10000,c='black',linewidth=0.5)\n",
    "print(corr)\n",
    "plt.suptitle(\"N = \"+str(plotting.shape[0])+'; r =  %.2f' % corr,fontsize=7,y=1)\n",
    "xs = np.array([6,10])\n",
    "plt.savefig('9114_corr_figs/h3_repde.png',transparent=True, dpi=600,bbox_inches='tight')"
   ]
  },
  {
   "cell_type": "code",
   "execution_count": 5,
   "metadata": {},
   "outputs": [
    {
     "name": "stdout",
     "output_type": "stream",
     "text": [
      "0.9519997827021803\n"
     ]
    },
    {
     "data": {
      "image/png": "[encoded data removed]",
      "text/plain": [
       "<Figure size 72x57.6 with 2 Axes>"
      ]
     },
     "metadata": {
      "needs_background": "light"
     },
     "output_type": "display_data"
    }
   ],
   "source": [
    "#H3 repd & f\n",
    "from matplotlib.ticker import FixedLocator, FixedFormatter\n",
    "from numpy import polyfit\n",
    "plt.rcParams['font.sans-serif'] = \"Arial\"\n",
    "# Then, \"ALWAYS use sans-serif fonts\"\n",
    "plt.rcParams['font.family'] = \"sans-serif\"\n",
    "plt.rcParams['axes.linewidth'] = 0.5\n",
    "flierprops = dict(marker='o', markersize=2)\n",
    "fig, ax = plt.subplots(figsize=(1,0.8))\n",
    "from scipy.stats import pearsonr\n",
    "plotting = HA_all[['repa_y', 'repc_y']].copy()\n",
    "plotting.dropna(inplace=True)\n",
    "hc = plt.hexbin(plotting['repa_y'], plotting['repc_y'],cmap='Greens',bins='log',gridsize=25,vmin=1,vmax=100,linewidths=0.2)\n",
    "plt.xlabel(\"Rep. 1 -logKd\",fontsize=7,labelpad=1)\n",
    "plt.ylabel(\"Rep. 3 -logKd\",fontsize=7,labelpad=0)\n",
    "plt.tick_params(labelsize=7,length=2.5)\n",
    "x_locator = FixedLocator([6,7,8,9])\n",
    "ax.xaxis.set_major_locator(x_locator)\n",
    "ax.set_xticklabels(['6','7','8','9','10'])\n",
    "y_locator = FixedLocator([6,7,8,9])\n",
    "ax.yaxis.set_major_locator(x_locator)\n",
    "ax.set_yticklabels(['6','7','8','9','10'])\n",
    "plt.xlim(6,9)\n",
    "plt.ylim(6,9)\n",
    "x = plotting['repa_y']\n",
    "y = plotting['repc_y']\n",
    "cb = fig.colorbar(hc, ax=ax,ticks=[1,10,100],orientation='vertical',pad=0.05)\n",
    "cb.ax.tick_params(labelsize=7,pad=1,size=1)\n",
    "xs = np.array([6,10])\n",
    "plt.plot(xs, xs, 'k-',linewidth=0.5)\n",
    "corr, _ = pearsonr(plotting['repa_y'], plotting['repc_y'])\n",
    "m, b = np.polyfit(plotting['repa_y'], plotting['repc_y'], 1)\n",
    "plt.plot(x, m*x + b,'k:',zorder=10000,c='black',linewidth=0.5)\n",
    "print(corr)\n",
    "plt.suptitle(\"N = \"+str(plotting.shape[0])+'; r =  %.2f' % corr,fontsize=7,y=1)\n",
    "xs = np.array([6,10])\n",
    "plt.savefig('9114_corr_figs/h3_repdf.png',transparent=True, dpi=600,bbox_inches='tight')"
   ]
  },
  {
   "cell_type": "code",
   "execution_count": 6,
   "metadata": {},
   "outputs": [
    {
     "name": "stdout",
     "output_type": "stream",
     "text": [
      "0.9557915532541491\n"
     ]
    },
    {
     "data": {
      "image/png": "[encoded data removed]",
      "text/plain": [
       "<Figure size 72x57.6 with 2 Axes>"
      ]
     },
     "metadata": {
      "needs_background": "light"
     },
     "output_type": "display_data"
    }
   ],
   "source": [
    "#H3 repe & f\n",
    "from matplotlib.ticker import FixedLocator, FixedFormatter\n",
    "from numpy import polyfit\n",
    "plt.rcParams['font.sans-serif'] = \"Arial\"\n",
    "# Then, \"ALWAYS use sans-serif fonts\"\n",
    "plt.rcParams['font.family'] = \"sans-serif\"\n",
    "plt.rcParams['axes.linewidth'] = 0.5\n",
    "flierprops = dict(marker='o', markersize=2)\n",
    "fig, ax = plt.subplots(figsize=(1,0.8))\n",
    "from scipy.stats import pearsonr\n",
    "plotting = HA_all[['repb_y', 'repc_y']].copy()\n",
    "plotting.dropna(inplace=True)\n",
    "hc = plt.hexbin(plotting['repb_y'], plotting['repc_y'],cmap='Greens',bins='log',gridsize=25,vmin=1,vmax=100,linewidths=0.2)\n",
    "plt.xlabel(\"Rep. 2 -logKd\",fontsize=7,labelpad=1)\n",
    "plt.ylabel(\"Rep. 3 -logKd\",fontsize=7,labelpad=0)\n",
    "plt.tick_params(labelsize=7,length=2.5)\n",
    "x_locator = FixedLocator([6,7,8,9])\n",
    "ax.xaxis.set_major_locator(x_locator)\n",
    "ax.set_xticklabels(['6','7','8','9','10'])\n",
    "y_locator = FixedLocator([6,7,8,9])\n",
    "ax.yaxis.set_major_locator(x_locator)\n",
    "ax.set_yticklabels(['6','7','8','9','10'])\n",
    "plt.xlim(6,9)\n",
    "plt.ylim(6,9)\n",
    "x = plotting['repb_y']\n",
    "y = plotting['repc_y']\n",
    "cb = fig.colorbar(hc, ax=ax,ticks=[1,10,100],orientation='vertical',pad=0.05)\n",
    "cb.ax.tick_params(labelsize=7,pad=1,size=1)\n",
    "xs = np.array([6,10])\n",
    "plt.plot(xs, xs, 'k-',linewidth=0.5)\n",
    "corr, _ = pearsonr(plotting['repb_y'], plotting['repc_y'])\n",
    "m, b = np.polyfit(plotting['repb_y'], plotting['repc_y'], 1)\n",
    "plt.plot(x, m*x + b,'k:',zorder=10000,c='black',linewidth=0.5)\n",
    "print(corr)\n",
    "plt.suptitle(\"N = \"+str(plotting.shape[0])+'; r =  %.2f' % corr,fontsize=7,y=1)\n",
    "xs = np.array([6,10])\n",
    "plt.savefig('9114_corr_figs/h3_repef.png',transparent=True, dpi=600,bbox_inches='tight')"
   ]
  },
  {
   "cell_type": "code",
   "execution_count": 7,
   "metadata": {},
   "outputs": [
    {
     "name": "stdout",
     "output_type": "stream",
     "text": [
      "0.9556855846749623\n"
     ]
    },
    {
     "data": {
      "image/png": "[encoded data removed]",
      "text/plain": [
       "<Figure size 72x57.6 with 2 Axes>"
      ]
     },
     "metadata": {
      "needs_background": "light"
     },
     "output_type": "display_data"
    }
   ],
   "source": [
    "#flu b rep g & h\n",
    "from matplotlib.ticker import FixedLocator, FixedFormatter\n",
    "from numpy import polyfit\n",
    "plt.rcParams['font.sans-serif'] = \"Arial\"\n",
    "# Then, \"ALWAYS use sans-serif fonts\"\n",
    "plt.rcParams['font.family'] = \"sans-serif\"\n",
    "plt.rcParams['axes.linewidth'] = 0.5\n",
    "flierprops = dict(marker='o', markersize=2)\n",
    "fig, ax = plt.subplots(figsize=(1,0.8))\n",
    "from scipy.stats import pearsonr\n",
    "plotting = HA_all[['repa', 'repb']].copy()\n",
    "plotting.dropna(inplace=True)\n",
    "hd = plt.hexbin(plotting['repa'], plotting['repb'],cmap='Blues',bins='log',gridsize=10,vmin=1,vmax=10,linewidths=0.2)\n",
    "plt.xlabel(\"Rep. 1 -logKd\",fontsize=7,labelpad=1)\n",
    "plt.ylabel(\"Rep. 2 -logKd\",fontsize=7,labelpad=0)\n",
    "plt.tick_params(labelsize=7,length=2.5)\n",
    "x_locator = FixedLocator([6,7,8])\n",
    "ax.xaxis.set_major_locator(x_locator)\n",
    "ax.set_xticklabels(['6','7','8'])\n",
    "y_locator = FixedLocator([6,7,8])\n",
    "ax.yaxis.set_major_locator(x_locator)\n",
    "ax.set_yticklabels(['6','7','8'])\n",
    "xs = np.array([6,8.5])\n",
    "plt.plot(xs, xs, 'k-',linewidth=0.5,zorder=1000)\n",
    "plt.xlim(6,8.25)\n",
    "plt.ylim(6,8.25)\n",
    "x = plotting['repa']\n",
    "y = plotting['repb']\n",
    "cb = fig.colorbar(hd, ax=ax,ticks=[1,10],orientation='vertical',pad=0.05)\n",
    "#cb.ax.tick_params(labelsize=7,pad=1,size=1)\n",
    "cb.ax.set_yticklabels(['1', '10'],fontsize=7)\n",
    "xs = np.array([6,10])\n",
    "plt.plot(xs, xs, 'k-',linewidth=0.5)\n",
    "corr, _ = pearsonr(plotting['repa'], plotting['repb'])\n",
    "m, b = np.polyfit(plotting['repa'], plotting['repb'], 1)\n",
    "plt.plot(x, m*x + b,'k:',zorder=10000,c='black',linewidth=0.5)\n",
    "print(corr)\n",
    "plt.suptitle(\"N = \"+str(plotting.shape[0])+'; r =  %.2f' % corr,fontsize=7,y=1)\n",
    "xs = np.array([6,10])\n",
    "plt.savefig('9114_corr_figs/fluB_repgh.png',transparent=True, dpi=600,bbox_inches='tight')"
   ]
  },
  {
   "cell_type": "code",
   "execution_count": 8,
   "metadata": {},
   "outputs": [
    {
     "name": "stdout",
     "output_type": "stream",
     "text": [
      "0.9708621146427471\n"
     ]
    },
    {
     "data": {
      "image/png": "[encoded data removed]",
      "text/plain": [
       "<Figure size 72x57.6 with 2 Axes>"
      ]
     },
     "metadata": {
      "needs_background": "light"
     },
     "output_type": "display_data"
    }
   ],
   "source": [
    "#flu b rep g & i\n",
    "from matplotlib.ticker import FixedLocator, FixedFormatter\n",
    "from numpy import polyfit\n",
    "plt.rcParams['font.sans-serif'] = \"Arial\"\n",
    "# Then, \"ALWAYS use sans-serif fonts\"\n",
    "plt.rcParams['font.family'] = \"sans-serif\"\n",
    "plt.rcParams['axes.linewidth'] = 0.5\n",
    "flierprops = dict(marker='o', markersize=2)\n",
    "fig, ax = plt.subplots(figsize=(1,0.8))\n",
    "from scipy.stats import pearsonr\n",
    "plotting = HA_all[['repa', 'repc']].copy()\n",
    "plotting.dropna(inplace=True)\n",
    "hd = plt.hexbin(plotting['repa'], plotting['repc'],cmap='Blues',bins='log',gridsize=10,vmin=1,vmax=10,linewidths=0.2)\n",
    "plt.xlabel(\"Rep. 1 -logKd\",fontsize=7,labelpad=1)\n",
    "plt.ylabel(\"Rep. 3 -logKd\",fontsize=7,labelpad=0)\n",
    "plt.tick_params(labelsize=7,length=2.5)\n",
    "x_locator = FixedLocator([6,7,8])\n",
    "ax.xaxis.set_major_locator(x_locator)\n",
    "ax.set_xticklabels(['6','7','8'])\n",
    "y_locator = FixedLocator([6,7,8])\n",
    "ax.yaxis.set_major_locator(x_locator)\n",
    "ax.set_yticklabels(['6','7','8'])\n",
    "xs = np.array([6,8.5])\n",
    "plt.plot(xs, xs, 'k-',linewidth=0.5,zorder=1000)\n",
    "plt.xlim(6,8.25)\n",
    "plt.ylim(6,8.25)\n",
    "x = plotting['repa']\n",
    "y = plotting['repc']\n",
    "cb = fig.colorbar(hd, ax=ax,ticks=[1,10],orientation='vertical',pad=0.05)\n",
    "#cb.ax.tick_params(labelsize=7,pad=1,size=1)\n",
    "cb.ax.set_yticklabels(['1', '10'],fontsize=7)\n",
    "xs = np.array([6,10])\n",
    "plt.plot(xs, xs, 'k-',linewidth=0.5)\n",
    "corr, _ = pearsonr(plotting['repa'], plotting['repc'])\n",
    "m, b = np.polyfit(plotting['repa'], plotting['repc'], 1)\n",
    "plt.plot(x, m*x + b,'k:',zorder=10000,c='black',linewidth=0.5)\n",
    "print(corr)\n",
    "plt.suptitle(\"N = \"+str(plotting.shape[0])+'; r =  %.2f' % corr,fontsize=7,y=1)\n",
    "xs = np.array([6,10])\n",
    "plt.savefig('9114_corr_figs/fluB_repgi.png',transparent=True, dpi=600,bbox_inches='tight')"
   ]
  },
  {
   "cell_type": "code",
   "execution_count": 9,
   "metadata": {},
   "outputs": [
    {
     "name": "stdout",
     "output_type": "stream",
     "text": [
      "0.961928105809654\n"
     ]
    },
    {
     "data": {
      "image/png": "[encoded data removed]",
      "text/plain": [
       "<Figure size 72x57.6 with 2 Axes>"
      ]
     },
     "metadata": {
      "needs_background": "light"
     },
     "output_type": "display_data"
    }
   ],
   "source": [
    "#flub rep h & i\n",
    "from matplotlib.ticker import FixedLocator, FixedFormatter\n",
    "from numpy import polyfit\n",
    "plt.rcParams['font.sans-serif'] = \"Arial\"\n",
    "# Then, \"ALWAYS use sans-serif fonts\"\n",
    "plt.rcParams['font.family'] = \"sans-serif\"\n",
    "plt.rcParams['axes.linewidth'] = 0.5\n",
    "flierprops = dict(marker='o', markersize=2)\n",
    "fig, ax = plt.subplots(figsize=(1,0.8))\n",
    "from scipy.stats import pearsonr\n",
    "plotting = HA_all[['repb', 'repc']].copy()\n",
    "plotting.dropna(inplace=True)\n",
    "hd = plt.hexbin(plotting['repb'], plotting['repc'],cmap='Blues',bins='log',gridsize=10,vmin=1,vmax=10,linewidths=0.2)\n",
    "plt.xlabel(\"Rep. 2 -logKd\",fontsize=7,labelpad=1)\n",
    "plt.ylabel(\"Rep. 3 -logKd\",fontsize=7,labelpad=0)\n",
    "plt.tick_params(labelsize=7,length=2.5)\n",
    "x_locator = FixedLocator([6,7,8])\n",
    "ax.xaxis.set_major_locator(x_locator)\n",
    "ax.set_xticklabels(['6','7','8'])\n",
    "y_locator = FixedLocator([6,7,8])\n",
    "ax.yaxis.set_major_locator(x_locator)\n",
    "ax.set_yticklabels(['6','7','8'])\n",
    "xs = np.array([6,8.5])\n",
    "plt.plot(xs, xs, 'k-',linewidth=0.5,zorder=1000)\n",
    "plt.xlim(6,8.25)\n",
    "plt.ylim(6,8.25)\n",
    "x = plotting['repb']\n",
    "y = plotting['repc']\n",
    "cb = fig.colorbar(hd, ax=ax,ticks=[1,10],orientation='vertical',pad=0.05)\n",
    "#cb.ax.tick_params(labelsize=7,pad=1,size=1)\n",
    "cb.ax.set_yticklabels(['1', '10'],fontsize=7)\n",
    "xs = np.array([6,10])\n",
    "plt.plot(xs, xs, 'k-',linewidth=0.5)\n",
    "corr, _ = pearsonr(plotting['repb'], plotting['repc'])\n",
    "m, b = np.polyfit(plotting['repb'], plotting['repc'], 1)\n",
    "plt.plot(x, m*x + b,'k:',zorder=10000,c='black',linewidth=0.5)\n",
    "print(corr)\n",
    "plt.suptitle(\"N = \"+str(plotting.shape[0])+'; r =  %.2f' % corr,fontsize=7,y=1)\n",
    "xs = np.array([6,10])\n",
    "plt.savefig('9114_corr_figs/fluB_rephi.png',transparent=True, dpi=600,bbox_inches='tight')"
   ]
  },
  {
   "cell_type": "code",
   "execution_count": null,
   "metadata": {},
   "outputs": [],
   "source": []
  }
 ],
 "metadata": {
  "kernelspec": {
   "display_name": "Python 3",
   "language": "python",
   "name": "python3"
  },
  "language_info": {
   "codemirror_mode": {
    "name": "ipython",
    "version": 3
   },
   "file_extension": ".py",
   "mimetype": "text/x-python",
   "name": "python",
   "nbconvert_exporter": "python",
   "pygments_lexer": "ipython3",
   "version": "3.7.4"
  }
 },
 "nbformat": 4,
 "nbformat_minor": 2
}
