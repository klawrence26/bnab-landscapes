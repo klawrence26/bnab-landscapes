{
 "cells": [
  {
   "cell_type": "code",
   "execution_count": 21,
   "metadata": {},
   "outputs": [],
   "source": [
    "import numpy as np\n",
    "import matplotlib.pyplot as plt\n",
    "import csv\n",
    "import sys\n",
    "import seaborn as sns\n",
    "from scipy.special import comb\n",
    "from sklearn.preprocessing import PolynomialFeatures\n",
    "from matplotlib.colors import LogNorm\n",
    "import pandas as pd\n",
    "import scipy.stats as st\n",
    "from matplotlib.patches import Patch\n",
    "\n",
    "plt.rcParams.update({'font.size': 7,'axes.linewidth':0.5,\n",
    "                     'xtick.major.size':2,'xtick.major.width':0.5,\n",
    "                    'ytick.major.size':2,'ytick.major.width':0.5})\n",
    "plt.rcParams.update({'mathtext.default':  'regular' })\n",
    "\n",
    "\n",
    "colorH1, colorH3, colorFluB, colorH9 = \"#E8735C\", \"#72C2A6\", \"#5482A7\", \"#663399\"\n"
   ]
  },
  {
   "cell_type": "code",
   "execution_count": 22,
   "metadata": {},
   "outputs": [],
   "source": [
    "# set some things\n",
    "num_mutations_H1 = 16\n",
    "order_H1 = 5\n",
    "total_params_H1 = np.sum(np.array([int(comb(num_mutations_H1,i)) for i in range(1,order_H1+1)]))\n",
    "\n",
    "\n",
    "num_mutations_H3 = 13\n",
    "order_H3 = 4\n",
    "total_params_H3 = np.sum(np.array([int(comb(num_mutations_H3,i)) for i in range(1,order_H3+1)]))\n",
    "\n",
    "\n",
    "num_mutations_6261_H1 = 11\n",
    "order_6261_H1 = 4\n",
    "total_params_6261_H1 = np.sum(np.array([int(comb(num_mutations_6261_H1,i)) for i in range(1,order_6261_H1+1)]))\n",
    "\n",
    "num_mutations_6261_H9 = 11\n",
    "order_6261_H9 = 4\n",
    "total_params_6261_H9 = np.sum(np.array([int(comb(num_mutations_6261_H9,i)) for i in range(1,order_6261_H9+1)]))\n"
   ]
  },
  {
   "cell_type": "markdown",
   "metadata": {},
   "source": [
    "# 9114"
   ]
  },
  {
   "cell_type": "code",
   "execution_count": 23,
   "metadata": {},
   "outputs": [
    {
     "name": "stdout",
     "output_type": "stream",
     "text": [
      "162 354\n",
      "73 128\n"
     ]
    }
   ],
   "source": [
    "# read model coefficients\n",
    "\n",
    "coefs_H1_biochem = np.zeros(total_params_H1+1)\n",
    "sig_H1_biochem = np.full((total_params_H1+1),0)\n",
    "with open('../../../CR9114/Epistasis_linear_models/model_coefs/H1_'+str(order_H1)+'order_biochem.txt','r') as readfile:\n",
    "    coef_reader = csv.reader(readfile,delimiter='\\t')\n",
    "    num_params = int(next(coef_reader)[-1])\n",
    "    r2 = float(next(coef_reader)[-1])\n",
    "    header = next(coef_reader)\n",
    "    for i in range(total_params_H1+1):\n",
    "        row = next(coef_reader)\n",
    "        coefs_H1_biochem[i] = float(row[1])\n",
    "        if i >= 1:\n",
    "             if float(row[4])*float(row[5]) > 0:\n",
    "                sig_H1_biochem[i] = 1\n",
    "    readfile.close()           \n",
    "num_sig_H1_biochem = len(np.nonzero(sig_H1_biochem == 1)[0])\n",
    "\n",
    "coefs_H1_stat = np.zeros(total_params_H1+1)\n",
    "sig_H1_stat = np.full((total_params_H1+1),0)\n",
    "with open('../../../CR9114/Epistasis_linear_models/model_coefs/H1_'+str(order_H1)+'order_stat.txt','r') as readfile:\n",
    "    coef_reader = csv.reader(readfile,delimiter='\\t')\n",
    "    num_params = int(next(coef_reader)[-1])\n",
    "    r2 = float(next(coef_reader)[-1])\n",
    "    header = next(coef_reader)\n",
    "    for i in range(total_params_H1+1):\n",
    "        row = next(coef_reader)\n",
    "        coefs_H1_stat[i] = float(row[1])\n",
    "        if i >= 1:\n",
    "             if float(row[4])*float(row[5]) > 0:\n",
    "                sig_H1_stat[i] = 1\n",
    "    readfile.close()           \n",
    "num_sig_H1_stat = len(np.nonzero(sig_H1_stat == 1)[0])\n",
    "\n",
    "\n",
    "print(num_sig_H1_biochem,num_sig_H1_stat)\n",
    "\n",
    "\n",
    "coefs_H3_biochem = np.zeros(total_params_H3+1)\n",
    "sig_H3_biochem = np.full((total_params_H3+1),0)\n",
    "with open('../../../CR9114/Epistasis_linear_models/model_coefs/H3_'+str(order_H3)+'order_biochem.txt','r') as readfile:\n",
    "    coef_reader = csv.reader(readfile,delimiter='\\t')\n",
    "    num_params = int(next(coef_reader)[-1])\n",
    "    r2 = float(next(coef_reader)[-1])\n",
    "    header = next(coef_reader)\n",
    "    for i in range(total_params_H3+1):\n",
    "        row = next(coef_reader)\n",
    "        coefs_H3_biochem[i] = float(row[1])\n",
    "        if i >= 1:\n",
    "             if float(row[4])*float(row[5]) > 0:\n",
    "                sig_H3_biochem[i] = 1\n",
    "    readfile.close()           \n",
    "num_sig_H3_biochem = len(np.nonzero(sig_H3_biochem == 1)[0])\n",
    "\n",
    "coefs_H3_stat = np.zeros(total_params_H3+1)\n",
    "sig_H3_stat = np.full((total_params_H3+1),0)\n",
    "with open('../../../CR9114/Epistasis_linear_models/model_coefs/H3_'+str(order_H3)+'order_stat.txt','r') as readfile:\n",
    "    coef_reader = csv.reader(readfile,delimiter='\\t')\n",
    "    num_params = int(next(coef_reader)[-1])\n",
    "    r2 = float(next(coef_reader)[-1])\n",
    "    header = next(coef_reader)\n",
    "    for i in range(total_params_H3+1):\n",
    "        row = next(coef_reader)\n",
    "        coefs_H3_stat[i] = float(row[1])\n",
    "        if i >= 1:\n",
    "             if float(row[4])*float(row[5]) > 0:\n",
    "                sig_H3_stat[i] = 1\n",
    "    readfile.close()           \n",
    "num_sig_H3_stat = len(np.nonzero(sig_H3_stat == 1)[0])\n",
    "\n",
    "\n",
    "print(num_sig_H3_biochem,num_sig_H3_stat)\n"
   ]
  },
  {
   "cell_type": "markdown",
   "metadata": {},
   "source": [
    "# 6261"
   ]
  },
  {
   "cell_type": "code",
   "execution_count": 24,
   "metadata": {},
   "outputs": [
    {
     "name": "stdout",
     "output_type": "stream",
     "text": [
      "68 87\n",
      "40 62\n"
     ]
    }
   ],
   "source": [
    "# read model coefficients\n",
    "\n",
    "coefs_6261_H1_biochem = np.zeros(total_params_6261_H1+1)\n",
    "sig_6261_H1_biochem = np.full((total_params_6261_H1+1),0)\n",
    "with open('../../../CR6261/Epistasis_linear_models/model_coefs/H1_'+str(order_6261_H1)+'order_biochem.txt','r') as readfile:\n",
    "    coef_reader = csv.reader(readfile,delimiter='\\t')\n",
    "    num_params = int(next(coef_reader)[-1])\n",
    "    r2 = float(next(coef_reader)[-1])\n",
    "    header = next(coef_reader)\n",
    "    for i in range(total_params_6261_H1+1):\n",
    "        row = next(coef_reader)\n",
    "        coefs_6261_H1_biochem[i] = float(row[1])\n",
    "        if i >= 1:\n",
    "             if float(row[4])*float(row[5]) > 0:\n",
    "                sig_6261_H1_biochem[i] = 1\n",
    "    readfile.close()           \n",
    "num_sig_6261_H1_biochem = len(np.nonzero(sig_6261_H1_biochem == 1)[0])\n",
    "\n",
    "coefs_6261_H1_stat = np.zeros(total_params_6261_H1+1)\n",
    "sig_6261_H1_stat = np.full((total_params_6261_H1+1),0)\n",
    "with open('../../../CR6261/Epistasis_linear_models/model_coefs/H1_'+str(order_6261_H1)+'order_stat.txt','r') as readfile:\n",
    "    coef_reader = csv.reader(readfile,delimiter='\\t')\n",
    "    num_params = int(next(coef_reader)[-1])\n",
    "    r2 = float(next(coef_reader)[-1])\n",
    "    header = next(coef_reader)\n",
    "    for i in range(total_params_6261_H1+1):\n",
    "        row = next(coef_reader)\n",
    "        coefs_6261_H1_stat[i] = float(row[1])\n",
    "        if i >= 1:\n",
    "             if float(row[4])*float(row[5]) > 0:\n",
    "                sig_6261_H1_stat[i] = 1\n",
    "    readfile.close()           \n",
    "num_sig_6261_H1_stat = len(np.nonzero(sig_6261_H1_stat == 1)[0])\n",
    "\n",
    "\n",
    "print(num_sig_6261_H1_biochem,num_sig_6261_H1_stat)\n",
    "\n",
    "\n",
    "coefs_6261_H9_biochem = np.zeros(total_params_6261_H9+1)\n",
    "sig_6261_H9_biochem = np.full((total_params_6261_H9+1),0)\n",
    "with open('../../../CR6261/Epistasis_linear_models/model_coefs/H9_'+str(order_6261_H9)+'order_biochem.txt','r') as readfile:\n",
    "    coef_reader = csv.reader(readfile,delimiter='\\t')\n",
    "    num_params = int(next(coef_reader)[-1])\n",
    "    r2 = float(next(coef_reader)[-1])\n",
    "    header = next(coef_reader)\n",
    "    for i in range(total_params_6261_H9+1):\n",
    "        row = next(coef_reader)\n",
    "        coefs_6261_H9_biochem[i] = float(row[1])\n",
    "        if i >= 1:\n",
    "             if float(row[4])*float(row[5]) > 0:\n",
    "                sig_6261_H9_biochem[i] = 1\n",
    "    readfile.close()           \n",
    "num_sig_6261_H9_biochem = len(np.nonzero(sig_6261_H9_biochem == 1)[0])\n",
    "\n",
    "coefs_6261_H9_stat = np.zeros(total_params_6261_H9+1)\n",
    "sig_6261_H9_stat = np.full((total_params_6261_H9+1),0)\n",
    "with open('../../../CR6261/Epistasis_linear_models/model_coefs/H9_'+str(order_6261_H9)+'order_stat.txt','r') as readfile:\n",
    "    coef_reader = csv.reader(readfile,delimiter='\\t')\n",
    "    num_params = int(next(coef_reader)[-1])\n",
    "    r2 = float(next(coef_reader)[-1])\n",
    "    header = next(coef_reader)\n",
    "    for i in range(total_params_6261_H9+1):\n",
    "        row = next(coef_reader)\n",
    "        coefs_6261_H9_stat[i] = float(row[1])\n",
    "        if i >= 1:\n",
    "             if float(row[4])*float(row[5]) > 0:\n",
    "                sig_6261_H9_stat[i] = 1\n",
    "    readfile.close()           \n",
    "num_sig_6261_H9_stat = len(np.nonzero(sig_6261_H9_stat == 1)[0])\n",
    "\n",
    "\n",
    "print(num_sig_6261_H9_biochem,num_sig_6261_H9_stat)\n"
   ]
  },
  {
   "cell_type": "code",
   "execution_count": 26,
   "metadata": {
    "scrolled": true
   },
   "outputs": [
    {
     "data": {
      "image/png": "[encoded data removed]",
      "text/plain": [
       "<Figure size 187.2x158.4 with 1 Axes>"
      ]
     },
     "metadata": {
      "needs_background": "light"
     },
     "output_type": "display_data"
    },
    {
     "data": {
      "image/png": "[encoded data removed]",
      "text/plain": [
       "<Figure size 187.2x158.4 with 1 Axes>"
      ]
     },
     "metadata": {
      "needs_background": "light"
     },
     "output_type": "display_data"
    }
   ],
   "source": [
    "fig,ax = plt.subplots(figsize=(2.6,2.2))\n",
    "\n",
    "width = 0.1\n",
    "adj = 0.01\n",
    "\n",
    "plt.bar(1-width/2-adj,num_sig_H1_biochem,width=width,color=colorH1)\n",
    "plt.bar(1+width/2+adj,num_sig_H1_stat,width=width,color=colorH1)\n",
    "\n",
    "plt.bar(1.3-width/2-adj,num_sig_H3_biochem,width=width,color=colorH3)\n",
    "plt.bar(1.3+width/2+adj,num_sig_H3_stat,width=width,color=colorH3)\n",
    "\n",
    "plt.xticks([1-width/2-adj,1+width/2+adj,1.3-width/2-adj,1.3+width/2+adj],\n",
    "           ['H1 biochemical (5th)','H1 statistical (5th)','H3 biochemical (4th)','H3 statistical (4th)']\n",
    "           ,rotation=-35,ha='left',rotation_mode=\"anchor\")\n",
    "plt.ylabel('Number of\\nsignificant coefficients')\n",
    "plt.tight_layout()\n",
    "plt.savefig('images/sig_coef_comparison_9114.pdf')\n",
    "plt.show()\n",
    "\n",
    "\n",
    "\n",
    "fig,ax = plt.subplots(figsize=(2.6,2.2))\n",
    "\n",
    "plt.bar(1-width/2-adj,num_sig_6261_H1_biochem,width=width,color=colorH1)\n",
    "plt.bar(1+width/2+adj,num_sig_6261_H1_stat,width=width,color=colorH1)\n",
    "\n",
    "plt.bar(1.3-width/2-adj,num_sig_6261_H9_biochem,width=width,color=colorH9)\n",
    "plt.bar(1.3+width/2+adj,num_sig_6261_H9_stat,width=width,color=colorH9)\n",
    "\n",
    "plt.xticks([1-width/2-adj,1+width/2+adj,1.3-width/2-adj,1.3+width/2+adj],\n",
    "           ['H1 biochemical (4th)','H1 statistical (4th)','H9 biochemical (4th)','H9 statistical (4th)']\n",
    "           ,rotation=-35,ha='left',rotation_mode=\"anchor\")\n",
    "plt.ylabel('Number of\\nsignificant coefficients')\n",
    "\n",
    "plt.tight_layout()\n",
    "plt.savefig('images/sig_coef_comparison_6261.pdf')\n",
    "\n",
    "plt.show()\n",
    "\n"
   ]
  },
  {
   "cell_type": "code",
   "execution_count": null,
   "metadata": {},
   "outputs": [],
   "source": []
  },
  {
   "cell_type": "code",
   "execution_count": null,
   "metadata": {},
   "outputs": [],
   "source": []
  }
 ],
 "metadata": {
  "kernelspec": {
   "display_name": "Python 3",
   "language": "python",
   "name": "python3"
  },
  "language_info": {
   "codemirror_mode": {
    "name": "ipython",
    "version": 3
   },
   "file_extension": ".py",
   "mimetype": "text/x-python",
   "name": "python",
   "nbconvert_exporter": "python",
   "pygments_lexer": "ipython3",
   "version": "3.8.2"
  }
 },
 "nbformat": 4,
 "nbformat_minor": 4
}
