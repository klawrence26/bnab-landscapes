{
 "cells": [
  {
   "cell_type": "code",
   "execution_count": 21,
   "metadata": {},
   "outputs": [],
   "source": [
    "import numpy as np\n",
    "import matplotlib.pyplot as plt\n",
    "import csv\n",
    "import sys\n",
    "import seaborn as sns\n",
    "from scipy.special import comb\n",
    "from sklearn.preprocessing import PolynomialFeatures\n",
    "from matplotlib.colors import LogNorm\n",
    "import pandas as pd\n",
    "\n",
    "\n",
    "plt.rcParams.update({'font.size': 7})\n",
    "plt.rcParams['font.sans-serif'] = \"Arial\"\n",
    "plt.rcParams['font.family'] = \"sans-serif\"\n",
    "plt.rcParams['axes.linewidth'] = 0.5\n",
    "plt.rcParams[\"xtick.major.size\"] = 3\n",
    "plt.rcParams[\"ytick.major.size\"] = 3"
   ]
  },
  {
   "cell_type": "code",
   "execution_count": 22,
   "metadata": {},
   "outputs": [
    {
     "name": "stdout",
     "output_type": "stream",
     "text": [
      "[ 11  55 165 330] 561\n",
      "[1, 12, 67, 232, 562]\n",
      "[ 11  55 165 330] 561\n",
      "[1, 12, 67, 232, 562]\n"
     ]
    }
   ],
   "source": [
    "# set some things\n",
    "num_mutations_H1 = 11\n",
    "order_H1 = 4\n",
    "num_term_list_H1 = np.array([int(comb(num_mutations_H1,i)) for i in range(1,order_H1+1)])\n",
    "total_params_H1 = sum(num_term_list_H1)\n",
    "order_start_indices_H1 = list(np.cumsum(num_term_list_H1)+1)\n",
    "order_start_indices_H1.insert(0,1)\n",
    "print(num_term_list_H1,total_params_H1)\n",
    "print(order_start_indices_H1)\n",
    "\n",
    "num_mutations_H9 = 11\n",
    "order_H9 = 4\n",
    "num_term_list_H9 = np.array([int(comb(num_mutations_H9,i)) for i in range(1,order_H9+1)])\n",
    "total_params_H9 = sum(num_term_list_H9)\n",
    "order_start_indices_H9 = list(np.cumsum(num_term_list_H9)+1)\n",
    "order_start_indices_H9.insert(0,1)\n",
    "print(num_term_list_H9,total_params_H9)\n",
    "print(order_start_indices_H9)\n",
    "\n",
    "mut_names = ['29','35','65','66','69','82','83','84','85','87','112.1']\n",
    "\n",
    "#ep_type = 'biochem'\n",
    "ep_type = 'stat'\n",
    "\n"
   ]
  },
  {
   "cell_type": "markdown",
   "metadata": {},
   "source": [
    "# H1"
   ]
  },
  {
   "cell_type": "code",
   "execution_count": 23,
   "metadata": {},
   "outputs": [
    {
     "name": "stdout",
     "output_type": "stream",
     "text": [
      "['Term', 'Coefficient', 'Standard Error', 'p-value', '95% CI lower', '95% CI upper']\n",
      "562\n"
     ]
    }
   ],
   "source": [
    "# read model coefficients\n",
    "\n",
    "\n",
    "coefs_H1 = np.zeros(total_params_H1+1)\n",
    "stderrs_H1 = np.zeros(total_params_H1+1)\n",
    "names_H1 = []\n",
    "sig_H1 = np.full((total_params_H1+1),0)\n",
    "cis_H1 = np.zeros((total_params_H1+1,2))\n",
    "\n",
    "with open('../../../CR6261/Epistasis_linear_models/model_coefs/H1_'+str(order_H1)+'order_'+ep_type+'.txt','r') as readfile:\n",
    "    coef_reader = csv.reader(readfile,delimiter='\\t')\n",
    "    num_params = int(next(coef_reader)[-1])\n",
    "    r2 = float(next(coef_reader)[-1])\n",
    "    header = next(coef_reader)\n",
    "    print(header)\n",
    "    for i in range(total_params_H1+1):\n",
    "        row = next(coef_reader)\n",
    "        names_H1.append(row[0])\n",
    "        coefs_H1[i] = float(row[1])\n",
    "        if i >= 1:\n",
    "            stderrs_H1[i] = float(row[2])\n",
    "            cis_H1[i,0] = float(row[4])\n",
    "            cis_H1[i,1] = float(row[5])\n",
    "            if float(row[4])*float(row[5]) > 0:\n",
    "                sig_H1[i] = 1\n",
    "    readfile.close()\n",
    "            \n",
    "print(len(coefs_H1))  \n"
   ]
  },
  {
   "cell_type": "code",
   "execution_count": 26,
   "metadata": {},
   "outputs": [
    {
     "name": "stdout",
     "output_type": "stream",
     "text": [
      "0.0 0.541789051306897\n"
     ]
    },
    {
     "data": {
      "image/png": "[encoded data removed]",
      "text/plain": [
       "<Figure size 151.2x122.4 with 2 Axes>"
      ]
     },
     "metadata": {
      "needs_background": "light"
     },
     "output_type": "display_data"
    }
   ],
   "source": [
    "# initialize matrices to store values\n",
    "\n",
    "# total \n",
    "total_epistasis = np.zeros((num_mutations_H1,num_mutations_H1),dtype=float)\n",
    "for i in range(num_mutations_H1):  \n",
    "    total_epistasis[i,i] = np.nan\n",
    "\n",
    "\n",
    "# add up all coefficients\n",
    "for i in range(1,len(coefs_H1)):\n",
    "\n",
    "    muts_involved = [int(x)-1 for x in names_H1[i].split(',')]\n",
    "    \n",
    "    # only consider 3rd order and higher\n",
    "    if len(muts_involved) >= 3:\n",
    "        if sig_H1[i]:\n",
    "            for j in range(len(muts_involved)):\n",
    "                for k in range(j+1,len(muts_involved)):\n",
    "                    total_epistasis[muts_involved[k],muts_involved[j]] += np.abs(coefs_H1[i])\n",
    "                    total_epistasis[muts_involved[j],muts_involved[k]] += np.abs(coefs_H1[i])\n",
    "\n",
    "\n",
    "print(np.nanmin(total_epistasis),np.nanmax(total_epistasis))\n",
    "min_val = np.nanmin(total_epistasis)\n",
    "\n",
    "    \n",
    "sns.set_style({\"axes.facecolor\": \"k\"})       \n",
    "plt.figure(figsize=(2.1,1.7))\n",
    "sns.heatmap(total_epistasis,cmap='inferno',cbar_kws={\"pad\": 0.05}) #,vmin=0.0,vmax=np.nanmax(total_epistasis)) \n",
    "plt.xticks(np.arange(0.5,num_mutations_H1+0.5,1),mut_names,rotation='90')\n",
    "plt.yticks(np.arange(0.5,num_mutations_H1+0.5,1),mut_names,rotation='0')\n",
    "plt.tick_params(length=0,pad=1)\n",
    "#plt.title('H1, 3rd-5th Order Epistasis')\n",
    "\n",
    "plt.tight_layout()\n",
    "plt.savefig('images/6261_H1_3andup_total_stat.pdf')\n",
    "plt.show()\n",
    "\n"
   ]
  },
  {
   "cell_type": "markdown",
   "metadata": {},
   "source": [
    "# H9"
   ]
  },
  {
   "cell_type": "code",
   "execution_count": 28,
   "metadata": {},
   "outputs": [
    {
     "name": "stdout",
     "output_type": "stream",
     "text": [
      "['Term', 'Coefficient', 'Standard Error', 'p-value', '95% CI lower', '95% CI upper']\n",
      "562\n"
     ]
    }
   ],
   "source": [
    "# read model coefficients\n",
    "\n",
    "\n",
    "coefs_H9 = np.zeros(total_params_H9+1)\n",
    "stderrs_H9 = np.zeros(total_params_H9+1)\n",
    "names_H9 = []\n",
    "sig_H9 = np.full((total_params_H9+1),0)\n",
    "cis_H9 = np.zeros((total_params_H9+1,2))\n",
    "\n",
    "with open('../../../CR6261/Epistasis_linear_models/model_coefs/H9_'+str(order_H9)+'order_'+ep_type+'.txt','r') as readfile:\n",
    "    coef_reader = csv.reader(readfile,delimiter='\\t')\n",
    "    num_params = int(next(coef_reader)[-1])\n",
    "    r2 = float(next(coef_reader)[-1])\n",
    "    header = next(coef_reader)\n",
    "    print(header)\n",
    "    for i in range(total_params_H9+1):\n",
    "        row = next(coef_reader)\n",
    "        names_H9.append(row[0])\n",
    "        coefs_H9[i] = float(row[1])\n",
    "        if i >= 1:\n",
    "            stderrs_H9[i] = float(row[2])\n",
    "            cis_H9[i,0] = float(row[4])\n",
    "            cis_H9[i,1] = float(row[5])\n",
    "            if float(row[4])*float(row[5]) > 0:\n",
    "                sig_H9[i] = 1\n",
    "    readfile.close()\n",
    "            \n",
    "print(len(coefs_H9))  \n"
   ]
  },
  {
   "cell_type": "code",
   "execution_count": 30,
   "metadata": {},
   "outputs": [
    {
     "name": "stdout",
     "output_type": "stream",
     "text": [
      "0.0 0.646185434795857\n",
      "0.0 0.646185434795857\n"
     ]
    },
    {
     "data": {
      "image/png": "[encoded data removed]",
      "text/plain": [
       "<Figure size 151.2x122.4 with 2 Axes>"
      ]
     },
     "metadata": {
      "needs_background": "light"
     },
     "output_type": "display_data"
    }
   ],
   "source": [
    "# look at higher-order contributions\n",
    "\n",
    "# initialize matrices to store values\n",
    "total_epistasis = np.zeros((num_mutations_H9,num_mutations_H9),dtype=float)\n",
    "for i in range(num_mutations_H9):  \n",
    "    total_epistasis[i,i] = np.nan\n",
    "\n",
    "\n",
    "for i in range(1,len(coefs_H9)):\n",
    "\n",
    "    muts_involved = [int(x)-1 for x in names_H9[i].split(',')]\n",
    "    # 3rd order and higher\n",
    "    if len(muts_involved) >= 3:\n",
    "        if sig_H9[i]:\n",
    "            for j in range(len(muts_involved)):\n",
    "                for k in range(j+1,len(muts_involved)):\n",
    "                    total_epistasis[muts_involved[k],muts_involved[j]] += np.abs(coefs_H9[i])\n",
    "                    total_epistasis[muts_involved[j],muts_involved[k]] += np.abs(coefs_H9[i])\n",
    "\n",
    "\n",
    "print(np.nanmin(total_epistasis),np.nanmax(total_epistasis))\n",
    "\n",
    "print(np.nanmin(total_epistasis),np.nanmax(total_epistasis))\n",
    "min_val = np.nanmin(total_epistasis)\n",
    "\n",
    "    \n",
    "       \n",
    "plt.figure(figsize=(2.1,1.7))\n",
    "sns.heatmap(total_epistasis,cmap='inferno',cbar_kws={\"pad\": 0.04}) \n",
    "\n",
    "plt.xticks(np.arange(0.5,num_mutations_H9+0.5,1),mut_names,rotation='90')\n",
    "plt.yticks(np.arange(0.5,num_mutations_H9+0.5,1),mut_names,rotation='0')\n",
    "plt.tick_params(length=0,pad=1)\n",
    "\n",
    "plt.tight_layout()\n",
    "plt.savefig('images/6261_H9_3andup_total_stat.pdf')\n",
    "plt.show()\n"
   ]
  },
  {
   "cell_type": "markdown",
   "metadata": {},
   "source": [
    "# Variance partitioning"
   ]
  },
  {
   "cell_type": "code",
   "execution_count": 6,
   "metadata": {},
   "outputs": [
    {
     "name": "stdout",
     "output_type": "stream",
     "text": [
      "(1887, 11) (1887,)\n",
      "0.9913319773063751 0.9827390892301674\n",
      "[0.7425126287892454, 0.9145438011514918, 0.9562926510963226, 0.9827390892301674]\n",
      "0.2444458178916078\n",
      "[0, 0.7555541821083922, 0.9306069242324566, 0.9730890544360439, 1.0]\n",
      "[0.7555541821083922, 0.1750527421240644, 0.042482130203587265, 0.026910945563956123]\n"
     ]
    }
   ],
   "source": [
    "# read in genos and phenos\n",
    "df = pd.read_csv('../../../CR6261/Kd_meanbin/kd_processed/20210323_6261_HA_unadj_fil_merg.csv',dtype={\"variant\": str})\n",
    "# H1\n",
    "df_H1 = df.dropna(subset=['h1_mean'])\n",
    "genos_H1 = np.array(df_H1[['pos'+str(x) for x in range(1,12)]].copy(),dtype=np.float64)\n",
    "phenos_H1 = df_H1[['h1_mean']].values.flatten()\n",
    "print(genos_H1.shape,phenos_H1.shape)\n",
    "genos_H1 = 2*genos_H1-1\n",
    "\n",
    "\n",
    "poly_current_H1 = PolynomialFeatures(order_H1,interaction_only=True)\n",
    "genos_current_H1 = poly_current_H1.fit_transform(genos_H1)\n",
    "\n",
    "phenos_pred = np.tensordot(genos_current_H1,coefs_H1,axes=1)\n",
    "pearsonr = np.corrcoef(phenos_pred,phenos_H1)[1,0]\n",
    "print(pearsonr,pearsonr**2)\n",
    "\n",
    "\n",
    "order_r2_H1 = []\n",
    "for i in range(1,order_H1+1):\n",
    "    phenos_pred = np.tensordot(genos_current_H1[:,:order_start_indices_H1[i]],coefs_H1[:order_start_indices_H1[i]],axes=1)\n",
    "    pearsonr = np.corrcoef(phenos_pred,phenos_H1)[1,0]\n",
    "    order_r2_H1.append(pearsonr**2)\n",
    "print(order_r2_H1)\n",
    "var_expl = np.array(order_r2_H1)/order_r2_H1[-1]\n",
    "\n",
    "total_ep = 1-var_expl[0]\n",
    "print(total_ep)\n",
    "\n",
    "delta_ep = list(var_expl)\n",
    "delta_ep.insert(0,0)\n",
    "print(delta_ep)\n",
    "\n",
    "H1_delta_ep = [delta_ep[i]-delta_ep[i-1] for i in range(1,order_H1+1)]\n",
    "print(H1_delta_ep)\n"
   ]
  },
  {
   "cell_type": "code",
   "execution_count": 7,
   "metadata": {},
   "outputs": [
    {
     "name": "stdout",
     "output_type": "stream",
     "text": [
      "(1842, 11) (1842,)\n",
      "0.9838956186907856 0.9680505884789237\n",
      "[0.7915340573992489, 0.8722146520128531, 0.9259595813664392, 0.9680505884789237]\n",
      "0.1823422589485032\n",
      "[0, 0.8176577410514968, 0.9010011071666663, 0.9565198269455927, 1.0]\n",
      "[0.8176577410514968, 0.08334336611516946, 0.05551871977892642, 0.04348017305440732]\n"
     ]
    }
   ],
   "source": [
    "# read in genos and phenos\n",
    "df = pd.read_csv('../../../CR6261/Kd_meanbin/kd_processed/20210323_6261_HA_unadj_fil_merg.csv',dtype={\"variant\": str})\n",
    "# H9\n",
    "df_H9 = df.dropna(subset=['h9_mean'])\n",
    "genos_H9 = np.array(df_H9[['pos'+str(x) for x in range(1,12)]].copy(),dtype=np.float64)\n",
    "phenos_H9 = df_H9[['h9_mean']].values.flatten()\n",
    "print(genos_H9.shape,phenos_H9.shape)\n",
    "genos_H9 = 2*genos_H9-1\n",
    "\n",
    "\n",
    "poly_current_H9 = PolynomialFeatures(order_H9,interaction_only=True)\n",
    "genos_current_H9 = poly_current_H9.fit_transform(genos_H9)\n",
    "\n",
    "phenos_pred = np.tensordot(genos_current_H9,coefs_H9,axes=1)\n",
    "pearsonr = np.corrcoef(phenos_pred,phenos_H9)[1,0]\n",
    "print(pearsonr,pearsonr**2)\n",
    "\n",
    "\n",
    "order_r2_H9 = []\n",
    "for i in range(1,order_H9+1):\n",
    "    phenos_pred = np.tensordot(genos_current_H9[:,:order_start_indices_H9[i]],coefs_H9[:order_start_indices_H9[i]],axes=1)\n",
    "    pearsonr = np.corrcoef(phenos_pred,phenos_H9)[1,0]\n",
    "    order_r2_H9.append(pearsonr**2)\n",
    "print(order_r2_H9)\n",
    "var_expl = np.array(order_r2_H9)/order_r2_H9[-1]\n",
    "\n",
    "total_ep = 1-var_expl[0]\n",
    "print(total_ep)\n",
    "\n",
    "delta_ep = list(var_expl)\n",
    "delta_ep.insert(0,0)\n",
    "print(delta_ep)\n",
    "\n",
    "H9_delta_ep = [delta_ep[i]-delta_ep[i-1] for i in range(1,order_H9+1)]\n",
    "print(H9_delta_ep)\n"
   ]
  },
  {
   "cell_type": "code",
   "execution_count": 11,
   "metadata": {},
   "outputs": [
    {
     "data": {
      "image/png": "[encoded data removed]",
      "text/plain": [
       "<Figure size 151.2x144 with 1 Axes>"
      ]
     },
     "metadata": {
      "needs_background": "light"
     },
     "output_type": "display_data"
    }
   ],
   "source": [
    "colorH1, colorH3, colorFluB, colorH9 = \"#E8735C\", \"#72C2A6\", \"#5482A7\", \"#663399\"\n",
    "\n",
    "\n",
    "width = 0.4\n",
    "xvals = range(1,order_H1+1)\n",
    "\n",
    "plt.figure(figsize=(2.1,2))\n",
    "for xval in xvals:\n",
    "    if xval == 1:\n",
    "        plt.bar(xval-width/2,H1_delta_ep[xval-1],width=width,color=colorH1,label='H1')\n",
    "        plt.bar(xval+width/2,H9_delta_ep[xval-1],width=width,color=colorH9,label='H9')        \n",
    "    else:\n",
    "        plt.bar(xval-width/2,H1_delta_ep[xval-1],width=width,color=colorH1)\n",
    "        plt.bar(xval+width/2,H9_delta_ep[xval-1],width=width,color=colorH9)\n",
    "plt.ylim([0,1])\n",
    "plt.xticks([1,2,3,4],['1','2','3','4'])\n",
    "plt.ylabel('Fractional variance explained')\n",
    "plt.xlabel('Order of interaction')\n",
    "plt.legend()\n",
    "plt.tight_layout()\n",
    "plt.savefig('images/6261_var_partitioning.pdf')\n",
    "plt.show()"
   ]
  },
  {
   "cell_type": "code",
   "execution_count": null,
   "metadata": {},
   "outputs": [],
   "source": []
  }
 ],
 "metadata": {
  "kernelspec": {
   "display_name": "Python 3",
   "language": "python",
   "name": "python3"
  },
  "language_info": {
   "codemirror_mode": {
    "name": "ipython",
    "version": 3
   },
   "file_extension": ".py",
   "mimetype": "text/x-python",
   "name": "python",
   "nbconvert_exporter": "python",
   "pygments_lexer": "ipython3",
   "version": "3.8.2"
  }
 },
 "nbformat": 4,
 "nbformat_minor": 4
}
