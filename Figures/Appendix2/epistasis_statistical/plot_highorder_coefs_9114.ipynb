{
 "cells": [
  {
   "cell_type": "code",
   "execution_count": 1,
   "metadata": {},
   "outputs": [],
   "source": [
    "import numpy as np\n",
    "import matplotlib.pyplot as plt\n",
    "import csv\n",
    "import sys\n",
    "import seaborn as sns\n",
    "from scipy.special import comb\n",
    "from sklearn.preprocessing import PolynomialFeatures\n",
    "from matplotlib.colors import LogNorm\n",
    "import matplotlib as mpl\n",
    "import pandas as pd\n",
    "import itertools as it\n",
    "import matplotlib.colors as colors\n",
    "\n",
    "from mutation_info import *\n",
    "\n",
    "def powerset(iterable):\n",
    "    \"powerset([1,2,3]) --> () (1,) (2,) (3,) (1,2) (1,3) (2,3) (1,2,3)\"\n",
    "    s = list(iterable)\n",
    "    return it.chain.from_iterable(it.combinations(s, r) for r in range(len(s)+1))\n",
    "\n",
    "plt.rcParams.update({'font.size': 7})\n",
    "plt.rcParams['font.sans-serif'] = \"Arial\"\n",
    "plt.rcParams['font.family'] = \"sans-serif\"\n",
    "plt.rcParams['axes.linewidth'] = 0.5\n",
    "plt.rcParams[\"xtick.major.size\"] = 2\n",
    "plt.rcParams[\"ytick.major.size\"] = 2\n",
    "\n",
    "def truncate_colormap(cmap, minval=0.0, maxval=1.0, n=100):\n",
    "    new_cmap = colors.LinearSegmentedColormap.from_list(\n",
    "        'trunc({n},{a:.2f},{b:.2f})'.format(n=cmap.name, a=minval, b=maxval),\n",
    "        cmap(np.linspace(minval, maxval, n)))\n",
    "    return new_cmap\n"
   ]
  },
  {
   "cell_type": "code",
   "execution_count": 2,
   "metadata": {},
   "outputs": [
    {
     "name": "stdout",
     "output_type": "stream",
     "text": [
      "[  16  120  560 1820 4368] 6884\n",
      "[1, 17, 137, 697, 2517, 6885]\n",
      "[ 13  78 286 715] 1092\n",
      "[1, 14, 92, 378, 1093]\n"
     ]
    }
   ],
   "source": [
    "# set some things\n",
    "num_mutations_H1 = 16\n",
    "order_H1 = 5\n",
    "num_term_list_H1 = np.array([int(comb(num_mutations_H1,i)) for i in range(1,order_H1+1)])\n",
    "total_params_H1 = sum(num_term_list_H1)\n",
    "order_start_indices_H1 = list(np.cumsum(num_term_list_H1)+1)\n",
    "order_start_indices_H1.insert(0,1)\n",
    "print(num_term_list_H1,total_params_H1)\n",
    "print(order_start_indices_H1)\n",
    "\n",
    "num_mutations_H3 = 13\n",
    "order_H3 = 4\n",
    "num_term_list_H3 = np.array([int(comb(num_mutations_H3,i)) for i in range(1,order_H3+1)])\n",
    "total_params_H3 = sum(num_term_list_H3)\n",
    "order_start_indices_H3 = list(np.cumsum(num_term_list_H3)+1)\n",
    "order_start_indices_H3.insert(0,1)\n",
    "print(num_term_list_H3,total_params_H3)\n",
    "print(order_start_indices_H3)\n",
    "\n",
    "\n",
    "mut_names = ['30','35','36','57','64','65','66','79','82','83','84','85','92','95','103','113']\n",
    "\n",
    "H1_color = '#e8735c'\n",
    "H3_color = '#72c2a6'\n",
    "B_color = '#5482a7'\n",
    "H9_color = 'rebeccapurple'\n",
    "\n",
    "\n",
    "ep_type = 'stat'"
   ]
  },
  {
   "cell_type": "markdown",
   "metadata": {},
   "source": [
    "# H1"
   ]
  },
  {
   "cell_type": "code",
   "execution_count": 3,
   "metadata": {},
   "outputs": [
    {
     "name": "stdout",
     "output_type": "stream",
     "text": [
      "0.97351889734628\n",
      "['Term', 'Coefficient', 'Standard Error', 'p-value', '95% CI lower', '95% CI upper']\n",
      "6885\n"
     ]
    }
   ],
   "source": [
    "# read model coefficients\n",
    "\n",
    "\n",
    "coefs_H1 = np.zeros(total_params_H1+1)\n",
    "stderr_H1 = np.zeros(total_params_H1+1)\n",
    "names_H1 = []\n",
    "sig_H1 = np.full((total_params_H1+1),0)\n",
    "cis_H1 = np.zeros((total_params_H1+1,2))\n",
    "\n",
    "with open('../../../CR9114/Epistasis_linear_models/model_coefs/H1_'+str(order_H1)+'order_'+ep_type+'.txt','r') as readfile:\n",
    "    coef_reader = csv.reader(readfile,delimiter='\\t')\n",
    "    num_params = int(next(coef_reader)[-1])\n",
    "    r2_train = float(next(coef_reader)[-1])\n",
    "    print(r2_train)\n",
    "    header = next(coef_reader)\n",
    "    print(header)\n",
    "    for i in range(total_params_H1+1):\n",
    "        row = next(coef_reader)\n",
    "        names_H1.append(row[0])\n",
    "        coefs_H1[i] = float(row[1])\n",
    "        if i >= 1:\n",
    "            stderr_H1[i] = float(row[2])\n",
    "            cis_H1[i,0] = float(row[4])\n",
    "            cis_H1[i,1] = float(row[5])\n",
    "            if float(row[4])*float(row[5]) > 0:\n",
    "                sig_H1[i] = 1\n",
    "    readfile.close()\n",
    "            \n",
    "print(len(coefs_H1))      "
   ]
  },
  {
   "cell_type": "code",
   "execution_count": 6,
   "metadata": {},
   "outputs": [
    {
     "name": "stdout",
     "output_type": "stream",
     "text": [
      "0.0 0.5942704153396922\n"
     ]
    },
    {
     "data": {
      "image/png": "[encoded data removed]",
      "text/plain": [
       "<Figure size 180x144 with 2 Axes>"
      ]
     },
     "metadata": {
      "needs_background": "light"
     },
     "output_type": "display_data"
    }
   ],
   "source": [
    "# initialize matrices to store values\n",
    "\n",
    "# total (lower diagonal)\n",
    "total_epistasis = np.zeros((16,16),dtype=float)\n",
    "for i in range(16):  \n",
    "    total_epistasis[i,i] = np.nan\n",
    "\n",
    "\n",
    "# add up all coefficients\n",
    "for i in range(1,len(coefs_H1)):\n",
    "\n",
    "    muts_involved = [int(x)-1 for x in names_H1[i].split(',')]\n",
    "    \n",
    "    # only consider 3rd order and higher\n",
    "    if len(muts_involved) >= 3:\n",
    "        if sig_H1[i]:\n",
    "            for j in range(len(muts_involved)):\n",
    "                for k in range(j+1,len(muts_involved)):\n",
    "                    total_epistasis[muts_involved[k],muts_involved[j]] += np.abs(coefs_H1[i])\n",
    "                    total_epistasis[muts_involved[j],muts_involved[k]] += np.abs(coefs_H1[i])\n",
    "\n",
    "\n",
    "print(np.nanmin(total_epistasis),np.nanmax(total_epistasis))\n",
    "\n",
    "# normalize total epistasis\n",
    "#print(total_sum,total_sum_signed)\n",
    "#total_epistasis = total_epistasis/total_sum\n",
    "#print(np.nanmin(total_epistasis),np.nanmax(total_epistasis))\n",
    "min_val = np.nanmin(total_epistasis)\n",
    "\n",
    "\n",
    "#cbar_ticks = [10**i for i in range(int(np.floor(np.log10(np.nanmin(total_epistasis)))), 1+int(np.ceil(np.log10(np.nanmax(total_epistasis)))))]\n",
    "# for i in range(16):\n",
    "#     total_epistasis[i,i] = min_val\n",
    "    \n",
    "sns.set_style({\"axes.facecolor\": \"k\"})       \n",
    "plt.figure(figsize=(2.5,2))\n",
    "sns.heatmap(total_epistasis,cmap='inferno',cbar_kws={\"pad\": 0.05}) #,vmin=0.0,vmax=np.nanmax(total_epistasis)) \n",
    "plt.xticks(np.arange(0.5,num_mutations_H1+0.5,1),mut_names,rotation='90')\n",
    "plt.yticks(np.arange(0.5,num_mutations_H1+0.5,1),mut_names,rotation='0')\n",
    "plt.tick_params(length=0,pad=1)\n",
    "#plt.title('H1, 3rd-5th Order Epistasis')\n",
    "\n",
    "\n",
    "\n",
    "plt.tight_layout()\n",
    "plt.savefig('images/9114_H1_3andup_total_'+ep_type+'.pdf')\n",
    "plt.show()\n",
    "\n"
   ]
  },
  {
   "cell_type": "code",
   "execution_count": null,
   "metadata": {},
   "outputs": [],
   "source": []
  },
  {
   "cell_type": "code",
   "execution_count": 12,
   "metadata": {},
   "outputs": [
    {
     "name": "stdout",
     "output_type": "stream",
     "text": [
      "31\n"
     ]
    },
    {
     "data": {
      "image/png": "[encoded data removed]",
      "text/plain": [
       "<Figure size 432x180 with 2 Axes>"
      ]
     },
     "metadata": {
      "needs_background": "light"
     },
     "output_type": "display_data"
    }
   ],
   "source": [
    "# \n",
    "sns.set_style({\"axes.facecolor\": \"w\"})       \n",
    "\n",
    "muts_to_consider = [1,4,6,9,10]\n",
    "\n",
    "coefs = {}\n",
    "\n",
    "num_sig = 0\n",
    "\n",
    "for s in powerset(muts_to_consider):\n",
    "    if len(s) >= 1: \n",
    "        name = ','.join([str(x) for x in s])\n",
    "        if cis_H1[names_H1.index(name)][0]*cis_H1[names_H1.index(name)][1] > 0: num_sig += 1\n",
    "        coefs[name] = [coefs_H1[names_H1.index(name)],stderr_H1[names_H1.index(name)]]\n",
    "        \n",
    "print(num_sig)\n",
    "namedict = {'-':'germline','1':'30','4':'57','6':'65','9':'82','10':'83'}\n",
    "\n",
    "order = ['1','4','1,4','6','1,6','9','1,9','4,6','1,4,6','6,9','1,6,9','4,9','1,4,9','4,6,9','1,4,6,9',\n",
    "        '10','1,10','4,10','1,4,10','6,10','1,6,10','9,10','1,9,10','4,6,10','1,4,6,10','6,9,10','1,6,9,10','4,9,10','1,4,9,10','4,6,9,10','1,4,6,9,10']\n",
    "colordict = {'gray':'#808080','darkolivegreen':'#556b2f','maroon2':'#7f0000','darkslateblue':'#483d8b',\n",
    "            'green':'#008000','mediumseagreen':'#3cb371','darkkhaki':'#bdb76b','peru':'#cd853f',\n",
    "             'lightseagreen':'#20b2aa','darkblue':'#00008b','limegreen':'#32cd32','darkmagenta':'#8b008b',\n",
    "             'maroon3':'#b03060','orangered':'#ff4500','darkorange':'#ff8c00','lime':'#00ff00',\n",
    "             \n",
    "             'mediumspringgreen':'#00fa9a','blueviolet':'#8a2be2','crimson':'#dc143c','blue':'#0000ff',\n",
    "             'greenyellow':'#adff2f','thistle':'#d8bfd8','fuchsia':'#ff00ff','salmon':'#fa8072',\n",
    "             'laserlemon':'#ffff54','cornflower':'#6495ed','deeppink':'#ff1493','mediumslateblue':'#7b68ee',\n",
    "             'violet':'#ee82ee','lightskyblue':'#87cefa','aquamarine':'#7fffd4','bisque':'#ffe4c4',\n",
    "            \n",
    "            'gold':'gold','mediumorchid':'mediumorchid','black':'black','mediumvioletred':'mediumvioletred',\n",
    "            'cyan':'cyan','darkcyan':'darkcyan'}\n",
    "\n",
    "palette = ['bisque','crimson','salmon',\n",
    "           'darkorange','laserlemon','greenyellow','green',\n",
    "            'mediumspringgreen','cyan','lightskyblue','mediumslateblue',\n",
    "           'blue','violet','mediumorchid','mediumvioletred',\n",
    "             \n",
    "            \n",
    "            \n",
    "            'gray','darkkhaki','maroon2','peru',\n",
    "           'orangered','gold','limegreen','darkolivegreen',\n",
    "            'mediumseagreen','darkcyan','cornflower','darkslateblue',\n",
    "           'darkblue','darkmagenta','blueviolet','black'\n",
    "            \n",
    "            ]\n",
    "\n",
    "palette_dict = dict(zip(order, palette))\n",
    "\n",
    "new_order = ['1','4','6','9','10',\n",
    "           '1,4','1,6','1,9','1,10','4,6','4,9','4,10','6,9','6,10','9,10',\n",
    "        '1,4,6','1,4,9','1,4,10','1,6,9','1,6,10','1,9,10','4,6,9','4,6,10','4,9,10','6,9,10',\n",
    "          '1,4,6,9','1,4,6,10','1,4,9,10','1,6,9,10','4,6,9,10',\n",
    "          '1,4,6,9,10']\n",
    "\n",
    "new_palette = [palette_dict[x] for x in new_order]\n",
    "labels = [','.join([namedict[i] for i in x.split(',')]) for x in new_order]\n",
    "\n",
    "xvals = list(range(36))\n",
    "for i in [33,27,16,5]:\n",
    "    xvals.pop(i)\n",
    "    \n",
    "width = 0.25\n",
    "\n",
    "plt.rcParams.update({'font.size': 7})    \n",
    "\n",
    "plt.figure(figsize=(6,2.5))\n",
    "\n",
    "ax = plt.subplot(121)\n",
    "for i in range(15):\n",
    "    plt.bar(xvals[i],coefs[new_order[i]][0],zorder=1,color=colordict[new_palette[i]])\n",
    "    plt.plot([xvals[i],xvals[i]],\n",
    "             [coefs[new_order[i]][0]-coefs[new_order[i]][1],coefs[new_order[i]][0]+coefs[new_order[i]][1]],'k-',zorder=10,linewidth=1)\n",
    "\n",
    "for i in [5,16,27,33]:\n",
    "    plt.plot([i,i],[-1.5,1.5],linestyle='--',color='grey',linewidth=0.5)\n",
    "plt.plot([-1,35],[0,0],'k-',linewidth=0.5)\n",
    "plt.xticks(xvals,labels,rotation=-50,ha='left',rotation_mode=\"anchor\")\n",
    "plt.xlim([-1,16])\n",
    "plt.ylabel('Coefficient',labelpad=0)\n",
    "ax.tick_params(pad=1)\n",
    "plt.ylim([-.2,0.5])\n",
    "\n",
    "ax2 = plt.subplot(122)\n",
    "for i in range(15,len(new_order)):\n",
    "    plt.bar(xvals[i],coefs[new_order[i]][0],zorder=1,color=colordict[new_palette[i]])\n",
    "    plt.plot([xvals[i],xvals[i]],\n",
    "             [coefs[new_order[i]][0]-coefs[new_order[i]][1],coefs[new_order[i]][0]+coefs[new_order[i]][1]],'k-',zorder=10,linewidth=1)\n",
    "plt.xticks(xvals,labels,rotation=-50,ha='left',rotation_mode=\"anchor\")\n",
    "plt.ylabel('Coefficient',labelpad=0)\n",
    "plt.xlim([16,35])\n",
    "plt.ylim([-.1,.1])\n",
    "\n",
    "for i in [5,16,27,33]:\n",
    "    plt.plot([i,i],[-1.5,1.5],linestyle='--',color='grey',linewidth=0.5)\n",
    "\n",
    "plt.plot([-1,35],[0,0],'k-',linewidth=0.5)\n",
    "ax2.tick_params(pad=1)\n",
    "\n",
    "plt.tight_layout()\n",
    "plt.subplots_adjust(hspace=.3)\n",
    "plt.savefig('images/coefs_colored_'+ep_type+'.pdf',dpi=300)\n",
    "plt.show()"
   ]
  },
  {
   "cell_type": "markdown",
   "metadata": {},
   "source": [
    "# H3"
   ]
  },
  {
   "cell_type": "code",
   "execution_count": 13,
   "metadata": {},
   "outputs": [
    {
     "name": "stdout",
     "output_type": "stream",
     "text": [
      "['Term', 'Coefficient', 'Standard Error', 'p-value', '95% CI lower', '95% CI upper']\n",
      "1093\n"
     ]
    }
   ],
   "source": [
    "# read model coefficients\n",
    "\n",
    "\n",
    "coefs_H3 = np.zeros(total_params_H3+1)\n",
    "stderr_H3 = np.zeros(total_params_H3+1)\n",
    "names_H3 = []\n",
    "sig_H3 = np.full((total_params_H3+1),0)\n",
    "cis_H3 = np.zeros((total_params_H3+1,2))\n",
    "\n",
    "with open('../../../CR9114/Epistasis_linear_models/model_coefs/H3_'+str(order_H3)+'order_'+ep_type+'.txt','r') as readfile:\n",
    "    coef_reader = csv.reader(readfile,delimiter='\\t')\n",
    "    num_params = int(next(coef_reader)[-1])\n",
    "    r2_train = float(next(coef_reader)[-1])\n",
    "    header = next(coef_reader)\n",
    "    print(header)\n",
    "    for i in range(total_params_H3+1):\n",
    "        row = next(coef_reader)\n",
    "        names_H3.append(row[0])\n",
    "        coefs_H3[i] = float(row[1])\n",
    "        if i >= 1:\n",
    "            stderr_H3[i] = float(row[2])\n",
    "            cis_H3[i,0] = float(row[4])\n",
    "            cis_H3[i,1] = float(row[5])\n",
    "            if float(row[4])*float(row[5]) > 0:\n",
    "                sig_H3[i] = 1\n",
    "    readfile.close()\n",
    "            \n",
    "print(len(coefs_H3))  "
   ]
  },
  {
   "cell_type": "code",
   "execution_count": 16,
   "metadata": {},
   "outputs": [
    {
     "name": "stdout",
     "output_type": "stream",
     "text": [
      "0.0 0.1923589543562832\n"
     ]
    },
    {
     "data": {
      "image/png": "[encoded data removed]",
      "text/plain": [
       "<Figure size 250x200 with 2 Axes>"
      ]
     },
     "metadata": {},
     "output_type": "display_data"
    }
   ],
   "source": [
    "# combine H1 and H3\n",
    "\n",
    "# initialize matrices to store values\n",
    "total_epistasis = np.zeros((num_mutations_H1,num_mutations_H1),dtype=float)\n",
    "\n",
    "\n",
    "    \n",
    "muts_H3 = np.array([1,2,3,5,6,7,8,11,12,13,14,15,16])-1\n",
    "\n",
    "\n",
    "\n",
    "for i in range(1,len(coefs_H3)):\n",
    "    muts_involved = [int(x)-1 for x in names_H3[i].split(',')]\n",
    "    if len(muts_involved) >= 3:\n",
    "        if sig_H3[i]:\n",
    "            for j in range(len(muts_involved)):\n",
    "                for k in range(j+1,len(muts_involved)):\n",
    "                    total_epistasis[muts_involved[k],muts_involved[j]] += np.abs(coefs_H3[i])\n",
    "                    total_epistasis[muts_involved[j],muts_involved[k]] += np.abs(coefs_H3[i])\n",
    "\n",
    "\n",
    "print(np.nanmin(total_epistasis),np.nanmax(total_epistasis))\n",
    "min_val = np.nanmin(total_epistasis)\n",
    "max_val = np.nanmax(total_epistasis)\n",
    "\n",
    "\n",
    "overlay = np.full((num_mutations_H1,num_mutations_H1),np.nan)\n",
    "\n",
    "for i in range(num_mutations_H1):\n",
    "    overlay[i,i] = np.nan\n",
    "    total_epistasis[i,i] = np.nan\n",
    "\n",
    "    for j in [4,9,10]:\n",
    "        overlay[j-1,i] = 1\n",
    "        total_epistasis[j-1,i] = np.nan\n",
    "        overlay[i,j-1] = 1\n",
    "        total_epistasis[i,j-1] = np.nan\n",
    "            \n",
    "    \n",
    "mpl.rc_file_defaults() \n",
    "plt.rcParams.update({'font.size': 7,\"axes.facecolor\": \"k\"})\n",
    "\n",
    "\n",
    "cmap = plt.get_cmap('inferno')\n",
    "new_cmap = truncate_colormap(cmap, 0,0.9)\n",
    "\n",
    "\n",
    "plt.figure(figsize=(2.5,2))\n",
    "\n",
    "sns.heatmap(total_epistasis,cmap=new_cmap,cbar_kws={\"pad\": 0.05},vmax=0.2) \n",
    "sns.heatmap(overlay,cmap=cmap,vmin=0,vmax=1,cbar=None) \n",
    "\n",
    "plt.xticks(np.arange(0.5,num_mutations_H1+0.5,1),mut_names,rotation='90')\n",
    "plt.yticks(np.arange(0.5,num_mutations_H1+0.5,1),mut_names,rotation='0')\n",
    "plt.tick_params(length=0,pad=1)\n",
    "\n",
    "plt.tight_layout()\n",
    "plt.savefig('images/9114_H3_3andup_total_'+ep_type+'.pdf')\n",
    "\n",
    "plt.show()"
   ]
  },
  {
   "cell_type": "markdown",
   "metadata": {},
   "source": [
    "# Variance partitioning"
   ]
  },
  {
   "cell_type": "code",
   "execution_count": 37,
   "metadata": {},
   "outputs": [
    {
     "name": "stdout",
     "output_type": "stream",
     "text": [
      "(65094, 16) (65094,)\n",
      "0.986670843178178 0.9735193527779367\n",
      "[0.6503318130819457, 0.8930953827545407, 0.9545879255206181, 0.966222929756095, 0.9735193527779367]\n",
      "0.3319785464703662\n",
      "[0, 0.6680214535296338, 0.9173884219210371, 0.9805536200145403, 0.9925051073704685, 1.0]\n",
      "[0.6680214535296338, 0.24936696839140327, 0.06316519809350318, 0.011951487355928214, 0.007494892629531513]\n"
     ]
    }
   ],
   "source": [
    "# read in genos and phenos\n",
    "df = pd.read_csv('../../../CR9114/Kd_meanbin/kd_processed/20210427_HA_unadj_fil_merg.csv',dtype={\"variant\": str})\n",
    "# H1\n",
    "df_H1 = df.dropna(subset=['h1_mean'])\n",
    "genos_H1 = np.array(df_H1[['pos'+x for x in H1_mutations]].copy(),dtype=np.float64)\n",
    "phenos_H1 = df_H1[['h1_mean']].values.flatten()\n",
    "print(genos_H1.shape,phenos_H1.shape)\n",
    "genos_H1 = 2*genos_H1-1\n",
    "\n",
    "\n",
    "poly_current_H1 = PolynomialFeatures(order_H1,interaction_only=True)\n",
    "genos_current_H1 = poly_current_H1.fit_transform(genos_H1)\n",
    "\n",
    "phenos_pred = np.tensordot(genos_current_H1,coefs_H1,axes=1)\n",
    "pearsonr = np.corrcoef(phenos_pred,phenos_H1)[1,0]\n",
    "print(pearsonr,pearsonr**2)\n",
    "\n",
    "\n",
    "order_r2_H1 = []\n",
    "for i in range(1,order_H1+1):\n",
    "    phenos_pred = np.tensordot(genos_current_H1[:,:order_start_indices_H1[i]],coefs_H1[:order_start_indices_H1[i]],axes=1)\n",
    "    pearsonr = np.corrcoef(phenos_pred,phenos_H1)[1,0]\n",
    "    order_r2_H1.append(pearsonr**2)\n",
    "print(order_r2_H1)\n",
    "var_expl = np.array(order_r2_H1)/order_r2_H1[-1]\n",
    "\n",
    "total_ep = 1-var_expl[0]\n",
    "print(total_ep)\n",
    "\n",
    "delta_ep = list(var_expl)\n",
    "delta_ep.insert(0,0)\n",
    "print(delta_ep)\n",
    "\n",
    "delta_ep = [delta_ep[i]-delta_ep[i-1] for i in range(1,6)]\n",
    "print(delta_ep)\n"
   ]
  },
  {
   "cell_type": "code",
   "execution_count": 39,
   "metadata": {},
   "outputs": [
    {
     "data": {
      "image/png": "[encoded data removed]",
      "text/plain": [
       "<Figure size 115.2x144 with 1 Axes>"
      ]
     },
     "metadata": {
      "needs_background": "light"
     },
     "output_type": "display_data"
    }
   ],
   "source": [
    "plt.figure(figsize=(1.6,2))\n",
    "plt.bar(range(1,6),delta_ep,width=0.8,color=H1_color,label='H1')\n",
    "plt.ylim([0,1])\n",
    "plt.ylabel('Fractional variance explained')\n",
    "plt.xlabel('Order of interaction')\n",
    "plt.xticks([1,2,3,4,5],['1','2','3','4','5'])\n",
    "plt.legend()\n",
    "plt.tight_layout()\n",
    "plt.savefig('images/9114_H1_var_partitioning.pdf')\n",
    "plt.show()"
   ]
  },
  {
   "cell_type": "code",
   "execution_count": 26,
   "metadata": {},
   "outputs": [
    {
     "name": "stdout",
     "output_type": "stream",
     "text": [
      "(8192, 13) (8192,)\n",
      "0.9876964929495002 0.9755443621847422\n",
      "[0.7879895725677158, 0.9395417561314713, 0.9659112788761394, 0.9755443621847422]\n",
      "0.19225654607546017\n",
      "[0, 0.8077434539245398, 0.9630948550892727, 0.9901254277283409, 1.0]\n",
      "[0.8077434539245398, 0.1553514011647329, 0.027030572639068162, 0.00987457227165911]\n"
     ]
    }
   ],
   "source": [
    "# read in genos and phenos\n",
    "df = pd.read_csv('../../../CR9114/Kd_meanbin/kd_processed/20210427_HA_unadj_fil_merg.csv',dtype={\"variant\": str})\n",
    "# H3\n",
    "# # for H3, filter for the three required mutations and remove them\n",
    "df_H3 = df.dropna(subset=['h3_mean'])\n",
    "for mut in H3_required_mutations:\n",
    "    df_H3 = df_H3.loc[df_H3['pos'+mut] == 1]\n",
    "\n",
    "genos_H3 = np.array(df_H3[['pos'+x for x in H3_mutations]].copy(),dtype=np.float64)\n",
    "phenos_H3 = df_H3[['h3_mean']].values.flatten()\n",
    "print(genos_H3.shape,phenos_H3.shape)\n",
    "genos_H3 = 2*genos_H3-1\n",
    "\n",
    "\n",
    "poly_current_H3 = PolynomialFeatures(order_H3,interaction_only=True)\n",
    "genos_current_H3 = poly_current_H3.fit_transform(genos_H3)\n",
    "\n",
    "phenos_pred = np.tensordot(genos_current_H3,coefs_H3,axes=1)\n",
    "pearsonr = np.corrcoef(phenos_pred,phenos_H3)[1,0]\n",
    "print(pearsonr,pearsonr**2)\n",
    "\n",
    "\n",
    "order_r2_H3 = []\n",
    "for i in range(1,order_H3+1):\n",
    "    phenos_pred = np.tensordot(genos_current_H3[:,:order_start_indices_H3[i]],coefs_H3[:order_start_indices_H3[i]],axes=1)\n",
    "    pearsonr = np.corrcoef(phenos_pred,phenos_H3)[1,0]\n",
    "    order_r2_H3.append(pearsonr**2)\n",
    "print(order_r2_H3)\n",
    "var_expl = np.array(order_r2_H3)/order_r2_H3[-1]\n",
    "\n",
    "total_ep = 1-var_expl[0]\n",
    "print(total_ep)\n",
    "\n",
    "delta_ep = list(var_expl)\n",
    "delta_ep.insert(0,0)\n",
    "print(delta_ep)\n",
    "\n",
    "delta_ep = [delta_ep[i]-delta_ep[i-1] for i in range(1,order_H3+1)]\n",
    "print(delta_ep)\n"
   ]
  },
  {
   "cell_type": "code",
   "execution_count": 35,
   "metadata": {},
   "outputs": [
    {
     "data": {
      "image/png": "[encoded data removed]",
      "text/plain": [
       "<Figure size 100.8x144 with 1 Axes>"
      ]
     },
     "metadata": {
      "needs_background": "light"
     },
     "output_type": "display_data"
    }
   ],
   "source": [
    "plt.figure(figsize=(1.4,2))\n",
    "plt.bar(range(1,order_H3+1),delta_ep,width=0.8,color=H3_color,label='H3')\n",
    "plt.ylim([0,1])\n",
    "plt.ylabel('Fractional variance explained')\n",
    "plt.xlabel('Order of interaction')\n",
    "plt.xticks([1,2,3,4],['1','2','3','4','5'])\n",
    "plt.legend()\n",
    "plt.tight_layout()\n",
    "plt.savefig('images/9114_H3_var_partitioning.pdf')\n",
    "plt.show()"
   ]
  },
  {
   "cell_type": "code",
   "execution_count": null,
   "metadata": {},
   "outputs": [],
   "source": []
  },
  {
   "cell_type": "code",
   "execution_count": null,
   "metadata": {},
   "outputs": [],
   "source": []
  }
 ],
 "metadata": {
  "kernelspec": {
   "display_name": "Python 3",
   "language": "python",
   "name": "python3"
  },
  "language_info": {
   "codemirror_mode": {
    "name": "ipython",
    "version": 3
   },
   "file_extension": ".py",
   "mimetype": "text/x-python",
   "name": "python",
   "nbconvert_exporter": "python",
   "pygments_lexer": "ipython3",
   "version": "3.8.2"
  }
 },
 "nbformat": 4,
 "nbformat_minor": 4
}
