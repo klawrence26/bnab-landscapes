{
 "cells": [
  {
   "cell_type": "code",
   "execution_count": 10,
   "metadata": {},
   "outputs": [],
   "source": [
    "import numpy as np\n",
    "import matplotlib.pyplot as plt\n",
    "import csv\n",
    "import sys\n",
    "import seaborn as sns\n",
    "from scipy.special import comb\n",
    "from matplotlib.colors import LogNorm\n",
    "from matplotlib.patches import Patch\n",
    "import matplotlib as mpl\n",
    "import matplotlib.lines as lines\n",
    "\n",
    "plt.rcParams.update({'font.size': 7})\n",
    "plt.rcParams.update({'font.family': 'sans-serif'})\n",
    "plt.rcParams.update({'xtick.labelsize': 7})\n",
    "plt.rcParams.update({'ytick.labelsize': 7})\n",
    "\n",
    "sns.set_style(\"ticks\")\n",
    "plt.rcParams['scatter.edgecolors'] = 'black'\n",
    "plt.rcParams['font.sans-serif'] = \"Arial\"\n",
    "# Then, \"ALWAYS use sans-serif fonts\"\n",
    "plt.rcParams['font.family'] = \"sans-serif\"\n",
    "plt.rcParams['axes.linewidth'] = 0.5\n",
    "\n"
   ]
  },
  {
   "cell_type": "code",
   "execution_count": 11,
   "metadata": {},
   "outputs": [
    {
     "name": "stdout",
     "output_type": "stream",
     "text": [
      "[  16  120  560 1820 4368] 6884\n",
      "[1, 17, 137, 697, 2517, 6885]\n",
      "[ 13  78 286 715] 1092\n",
      "[1, 14, 92, 378, 1093]\n",
      "[8] 1092\n",
      "[1, 9]\n"
     ]
    }
   ],
   "source": [
    "# set some things\n",
    "num_muts_total = 16\n",
    "\n",
    "num_mutations_H1 = 16\n",
    "order_H1 = 5\n",
    "num_term_list_H1 = np.array([int(comb(num_mutations_H1,i)) for i in range(1,order_H1+1)])\n",
    "total_params_H1 = sum(num_term_list_H1)\n",
    "order_start_indices_H1 = list(np.cumsum(num_term_list_H1)+1)\n",
    "order_start_indices_H1.insert(0,1)\n",
    "print(num_term_list_H1,total_params_H1)\n",
    "print(order_start_indices_H1)\n",
    "\n",
    "num_mutations_H3 = 13\n",
    "order_H3 = 4\n",
    "num_term_list_H3 = np.array([int(comb(num_mutations_H3,i)) for i in range(1,order_H3+1)])\n",
    "total_params_H3 = sum(num_term_list_H3)\n",
    "order_start_indices_H3 = list(np.cumsum(num_term_list_H3)+1)\n",
    "order_start_indices_H3.insert(0,1)\n",
    "print(num_term_list_H3,total_params_H3)\n",
    "print(order_start_indices_H3)\n",
    "\n",
    "num_mutations_B = 8\n",
    "order_B = 1\n",
    "num_term_list_B = np.array([int(comb(num_mutations_B,i)) for i in range(1,order_B+1)])\n",
    "total_params_B = sum(num_term_list_H3)\n",
    "order_start_indices_B = list(np.cumsum(num_term_list_B)+1)\n",
    "order_start_indices_B.insert(0,1)\n",
    "print(num_term_list_B,total_params_B)\n",
    "print(order_start_indices_B)\n",
    "\n",
    "\n",
    "mut_names = ['30','35','36','57','64','65','66','79','82','83','84','85','92','95','103','113']\n",
    "\n",
    "H1_color = '#e8735c'\n",
    "H3_color = '#72c2a6'\n",
    "B_color = '#5482a7'\n",
    "\n",
    "ep_type = 'stat'"
   ]
  },
  {
   "cell_type": "code",
   "execution_count": 13,
   "metadata": {},
   "outputs": [
    {
     "name": "stdout",
     "output_type": "stream",
     "text": [
      "[-0.08731554  0.00814752  0.0235626   0.20909079  0.03003236 -0.02053125\n",
      " -0.07237194  0.00361167  0.22876592  0.40912309  0.0054135   0.00268782\n",
      "  0.00245499  0.00455819 -0.00543652 -0.0009135 ]\n"
     ]
    }
   ],
   "source": [
    "# read first and second order effects for H1\n",
    "first_coefs_H1 = np.zeros(num_muts_total)\n",
    "first_coefs_H1_stderr = np.zeros(num_muts_total)\n",
    "first_coefs_H1_ci = np.zeros((num_muts_total,2))\n",
    "second_coefs_H1_matrix = np.zeros((num_muts_total,num_muts_total))\n",
    "second_coefs_H1_matrix_sigmask = np.zeros((num_muts_total,num_muts_total))\n",
    " \n",
    "with open('../../../CR9114/Epistasis_linear_models/model_coefs/H1_'+str(order_H1)+'order_'+ep_type+'.txt','r') as readfile:\n",
    "    coef_reader = csv.reader(readfile,delimiter='\\t')\n",
    "    num_params = int(next(coef_reader)[-1])\n",
    "    r2_train = float(next(coef_reader)[-1])\n",
    "    header = next(coef_reader)\n",
    "    intercept = next(coef_reader)\n",
    "    for i in range(num_term_list_H1[0]):\n",
    "        row = next(coef_reader)\n",
    "        index = int(row[0])-1\n",
    "        first_coefs_H1[index] = float(row[1])\n",
    "        first_coefs_H1_stderr[index] = float(row[2])\n",
    "        first_coefs_H1_ci[index,:] = [float(row[4]),float(row[5])]\n",
    "    for i in range(num_term_list_H1[1]):\n",
    "        row = next(coef_reader)\n",
    "        i1,i2 = row[0].split(',')\n",
    "        index1 = int(i1)-1\n",
    "        index2 = int(i2)-1\n",
    "        second_coefs_H1_matrix[index1][index2] = float(row[1])\n",
    "        second_coefs_H1_matrix[index2][index1] = float(row[1])\n",
    "        if float(row[4])*float(row[5]) > 0.0:\n",
    "            second_coefs_H1_matrix_sigmask[index1][index2] = float(row[1])\n",
    "            second_coefs_H1_matrix_sigmask[index2][index1] = float(row[1])\n",
    "        \n",
    "    readfile.close()\n",
    "\n",
    "print(first_coefs_H1)"
   ]
  },
  {
   "cell_type": "code",
   "execution_count": 21,
   "metadata": {},
   "outputs": [
    {
     "name": "stdout",
     "output_type": "stream",
     "text": [
      "[ 0.1230792   0.26799132  0.22533555  1.4         0.34300799  0.19349639\n",
      " -0.19951511  0.01643926  1.4         1.4         0.05256241  0.06420417\n",
      "  0.01829209  0.04726265 -0.02158381  0.09484796]\n"
     ]
    }
   ],
   "source": [
    "# read H3 effects - 4th order model\n",
    "first_coefs_H3 = np.full(num_muts_total,1.4)\n",
    "first_coefs_H3_stderr = np.zeros(num_muts_total)\n",
    "first_coefs_H3_ci = np.zeros((num_muts_total,2))\n",
    "second_coefs_H3_matrix = np.full((num_muts_total,num_muts_total),np.nan)\n",
    "second_coefs_H3_matrix_sigmask = np.full((num_muts_total,num_muts_total),np.nan)\n",
    "for i in range(num_mutations_H1):\n",
    "    second_coefs_H3_matrix[i,i] = 0.0\n",
    "    second_coefs_H3_matrix_sigmask[i,i] = 0.0\n",
    "\n",
    " \n",
    "with open('../../../CR9114/Epistasis_linear_models/model_coefs/H3_'+str(order_H3)+'order_'+ep_type+'.txt','r') as readfile:\n",
    "    coef_reader = csv.reader(readfile,delimiter='\\t')\n",
    "    num_params = int(next(coef_reader)[-1])\n",
    "    r2_train = float(next(coef_reader)[-1])\n",
    "    header = next(coef_reader)\n",
    "    intercept = next(coef_reader)\n",
    "    for i in range(num_term_list_H3[0]):\n",
    "        row = next(coef_reader)\n",
    "        index = int(row[0])-1\n",
    "        first_coefs_H3[index] = float(row[1])\n",
    "        first_coefs_H3_stderr[index] = float(row[2])\n",
    "        first_coefs_H3_ci[index,:] = [float(row[4]),float(row[5])]\n",
    "    for i in range(num_term_list_H3[1]):\n",
    "        row = next(coef_reader)\n",
    "        i1,i2 = row[0].split(',')\n",
    "        index1 = int(i1)-1\n",
    "        index2 = int(i2)-1\n",
    "        second_coefs_H3_matrix[index1][index2] = float(row[1])\n",
    "        second_coefs_H3_matrix[index2][index1] = float(row[1])\n",
    "\n",
    "        if float(row[4])*float(row[5]) > 0.0:\n",
    "            second_coefs_H3_matrix_sigmask[index1][index2] = float(row[1])\n",
    "            second_coefs_H3_matrix_sigmask[index2][index1] = float(row[1])\n",
    "        else:\n",
    "            second_coefs_H3_matrix_sigmask[index1][index2] = 0.0\n",
    "            second_coefs_H3_matrix_sigmask[index2][index1] = 0.0\n",
    "            \n",
    "        \n",
    "    readfile.close()\n",
    "\n",
    "print(first_coefs_H3)"
   ]
  },
  {
   "cell_type": "code",
   "execution_count": 15,
   "metadata": {},
   "outputs": [
    {
     "name": "stdout",
     "output_type": "stream",
     "text": [
      "[ 1.4        -0.15855831  1.4         1.4         1.4         1.4\n",
      "  0.0137455   0.06508717  1.4         1.4        -0.09956377  1.4\n",
      "  0.05987837  0.00968433 -0.05005663  0.6152546 ]\n"
     ]
    }
   ],
   "source": [
    "# read first order effects for FluB\n",
    "first_coefs_B = np.full(num_muts_total,1.4)\n",
    "first_coefs_B_stderr = np.zeros(num_muts_total)\n",
    "first_coefs_B_ci = np.zeros((num_muts_total,2))\n",
    " \n",
    "with open('../../../CR9114/Epistasis_linear_models/model_coefs/B_'+str(order_B)+'order_'+ep_type+'.txt','r') as readfile:\n",
    "    coef_reader = csv.reader(readfile,delimiter='\\t')\n",
    "    num_params = int(next(coef_reader)[-1])\n",
    "    r2_train = float(next(coef_reader)[-1])\n",
    "    header = next(coef_reader)\n",
    "    intercept = next(coef_reader)\n",
    "    for i in range(num_term_list_B[0]):\n",
    "        row = next(coef_reader)\n",
    "        index = int(row[0])-1\n",
    "        first_coefs_B[index] = float(row[1])\n",
    "        first_coefs_B_stderr[index] = float(row[2])\n",
    "        first_coefs_B_ci[index,:] = [float(row[4]),float(row[5])]\n",
    "        \n",
    "    readfile.close()\n",
    "\n",
    "print(first_coefs_B)"
   ]
  },
  {
   "cell_type": "markdown",
   "metadata": {},
   "source": [
    "## plot first order effects"
   ]
  },
  {
   "cell_type": "code",
   "execution_count": 17,
   "metadata": {},
   "outputs": [
    {
     "data": {
      "image/png": "[encoded data removed]",
      "text/plain": [
       "<Figure size 273.6x108 with 1 Axes>"
      ]
     },
     "metadata": {},
     "output_type": "display_data"
    }
   ],
   "source": [
    "full_mut_names = ['F30S','S35N','S36N','I57S','T64S','A65T','N66A','T79S','K82I','S83F','T84S','S85N','S92N','R95T','Y103F','Y113S']\n",
    "sns.set_style(\"ticks\")\n",
    "fig, ax = plt.subplots(figsize=(3.8,1.5))\n",
    "plt.tick_params(size=2,labelsize=7,length=2.5)\n",
    "plt.tick_params(axis='x',rotation=45)\n",
    "x = np.arange(16)\n",
    "width = 0.25\n",
    "ymax = 1\n",
    "\n",
    "for xval in x:\n",
    "    plt.bar(xval-width,first_coefs_H1[xval],width,color=H1_color,linewidth=0.25)\n",
    "    plt.plot([xval-width,xval-width],\n",
    "             [first_coefs_H1[xval]-first_coefs_H1_stderr[xval],first_coefs_H1[xval]+first_coefs_H1_stderr[xval]],'k-',linewidth=0.5)\n",
    "\n",
    "    if first_coefs_H3[xval] == 1.4:\n",
    "        plt.bar(xval,ymax,width,color=H3_color,linewidth=0.25)\n",
    "    else:\n",
    "        plt.bar(xval,first_coefs_H3[xval],width,color=H3_color,linewidth=0.25)\n",
    "        plt.plot([xval,xval],\n",
    "                 [first_coefs_H3[xval]-first_coefs_H3_stderr[xval],first_coefs_H3[xval]+first_coefs_H3_stderr[xval]],'k-',linewidth=0.5)\n",
    " \n",
    "    if first_coefs_B[xval] == 1.4:\n",
    "        plt.bar(xval+width,ymax,width,color=B_color,linewidth=0.25)\n",
    "    else:\n",
    "        plt.bar(xval+width,first_coefs_B[xval],width,color=B_color,linewidth=0.25)\n",
    "        plt.plot([xval+width,xval+width],\n",
    "                 [first_coefs_B[xval]-first_coefs_B_stderr[xval],first_coefs_B[xval]+first_coefs_B_stderr[xval]],'k-',linewidth=0.5)\n",
    "\n",
    "plt.xticks(x,full_mut_names,fontsize=7)\n",
    "plt.yticks([0,0.5,1.0],['0.0','0.5','R'],fontsize=7)\n",
    "plt.ylim([-0.25,1.1])\n",
    "plt.xlabel('',fontsize=8)\n",
    "plt.ylabel('First order effect',labelpad=0,fontsize=8)\n",
    "legend_elements = [Patch(facecolor=H1_color, label='H1'),\n",
    "                  Patch(facecolor=H3_color, label='H3'),\n",
    "                  Patch(facecolor=B_color, label='FluB')]\n",
    "plt.legend(handles=legend_elements,fontsize=7,bbox_to_anchor=(0.5, 1.1), loc='center',ncol=3,frameon=False)\n",
    "plt.axhline(y=0,linestyle='dashed',c='black',linewidth=0.5)\n",
    "\n",
    "plt.tight_layout()\n",
    "plt.savefig('images/9114_linear_effects_'+ep_type+'.pdf',bbox_inches='tight')\n",
    "\n",
    "plt.show()"
   ]
  },
  {
   "cell_type": "markdown",
   "metadata": {},
   "source": [
    "## plot second order effects"
   ]
  },
  {
   "cell_type": "code",
   "execution_count": 22,
   "metadata": {},
   "outputs": [
    {
     "name": "stdout",
     "output_type": "stream",
     "text": [
      "-0.16378221859035075 0.1602623802919021\n"
     ]
    },
    {
     "data": {
      "image/png": "[encoded data removed]",
      "text/plain": [
       "<Figure size 180x144 with 2 Axes>"
      ]
     },
     "metadata": {},
     "output_type": "display_data"
    }
   ],
   "source": [
    "# heatmap of second order effects\n",
    "full_mut_names = ['F30S','S35N','S36N','I57S','T64S','A65T','N66A','T79S','K82I','S83F','T84S','S85N','S92N','R95T','Y103F','Y113S']\n",
    "\n",
    "# combine coefs into one matrix\n",
    "coefs_to_plot = np.full((num_mutations_H1,num_mutations_H1),np.nan)\n",
    "for i in range(num_mutations_H1):\n",
    "    for j in range(i,num_mutations_H1):\n",
    "        # upper diagonal H1\n",
    "        coefs_to_plot[i,j] = second_coefs_H1_matrix_sigmask[i,j]\n",
    "        # lower diagonal H3\n",
    "        coefs_to_plot[j,i] = second_coefs_H3_matrix_sigmask[i,j]\n",
    "print(np.nanmin(coefs_to_plot),np.nanmax(coefs_to_plot))\n",
    "\n",
    "sns.set_style(\"white\",{\"axes.facecolor\": \"firebrick\"})\n",
    "plt.figure(figsize=(2.5,2))\n",
    "\n",
    "\n",
    "ax = sns.heatmap(coefs_to_plot,cmap='bwr',xticklabels=mut_names,yticklabels=mut_names,vmin=-0.2,vmax=0.2,\n",
    "                linewidths=0,linecolor='w')\n",
    "for _, spine in ax.spines.items():\n",
    "    spine.set_visible(True)\n",
    "    \n",
    "line = lines.Line2D([0,num_mutations_H1], [0,num_mutations_H1],\n",
    "                    lw=0.5, color='black', axes=ax)\n",
    "ax.add_line(line)\n",
    "ax.tick_params(pad=0)\n",
    "plt.xticks(rotation=90) \n",
    "plt.yticks(rotation=0) \n",
    "plt.tight_layout() #rect=[0, 0.03, 1, 0.95])\n",
    "plt.savefig('images/9114_2ndorder_effects_'+ep_type+'.pdf')\n",
    "plt.show()\n",
    "\n"
   ]
  },
  {
   "cell_type": "code",
   "execution_count": null,
   "metadata": {},
   "outputs": [],
   "source": []
  },
  {
   "cell_type": "code",
   "execution_count": null,
   "metadata": {},
   "outputs": [],
   "source": []
  }
 ],
 "metadata": {
  "kernelspec": {
   "display_name": "Python 3",
   "language": "python",
   "name": "python3"
  },
  "language_info": {
   "codemirror_mode": {
    "name": "ipython",
    "version": 3
   },
   "file_extension": ".py",
   "mimetype": "text/x-python",
   "name": "python",
   "nbconvert_exporter": "python",
   "pygments_lexer": "ipython3",
   "version": "3.8.2"
  }
 },
 "nbformat": 4,
 "nbformat_minor": 4
}
