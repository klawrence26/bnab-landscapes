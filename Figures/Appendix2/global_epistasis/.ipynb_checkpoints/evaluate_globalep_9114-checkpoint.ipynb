{
 "cells": [
  {
   "cell_type": "code",
   "execution_count": 26,
   "metadata": {},
   "outputs": [],
   "source": [
    "import numpy as np\n",
    "import matplotlib.pyplot as plt\n",
    "import csv\n",
    "import sys\n",
    "import seaborn as sns\n",
    "from scipy.special import comb\n",
    "from sklearn.preprocessing import PolynomialFeatures\n",
    "from matplotlib.colors import LogNorm\n",
    "import pandas as pd\n",
    "import scipy.stats as st\n",
    "\n",
    "plt.rcParams.update({'font.size': 7,'axes.linewidth':0.5,\n",
    "                     'xtick.major.size':2,'xtick.major.width':0.5,\n",
    "                    'ytick.major.size':2,'ytick.major.width':0.5})\n",
    "plt.rcParams.update({'mathtext.default':  'regular' })\n",
    "\n",
    "\n",
    "colorH1, colorH3, colorFluB, colorH9 = \"#E8735C\", \"#72C2A6\", \"#5482A7\", \"#663399\"\n"
   ]
  },
  {
   "cell_type": "code",
   "execution_count": 27,
   "metadata": {},
   "outputs": [
    {
     "name": "stdout",
     "output_type": "stream",
     "text": [
      "[  16  120  560 1820] 2516\n",
      "[1, 17, 137, 697, 2517]\n",
      "[ 13  78 286 715] 1092\n",
      "[1, 14, 92, 378, 1093]\n"
     ]
    }
   ],
   "source": [
    "# set some things\n",
    "num_mutations_H1 = 16\n",
    "order_H1 = 4\n",
    "num_term_list_H1 = np.array([int(comb(num_mutations_H1,i)) for i in range(1,order_H1+1)])\n",
    "total_params_H1 = sum(num_term_list_H1)\n",
    "order_start_indices_H1 = list(np.cumsum(num_term_list_H1)+1)\n",
    "order_start_indices_H1.insert(0,1)\n",
    "print(num_term_list_H1,total_params_H1)\n",
    "print(order_start_indices_H1)\n",
    "\n",
    "\n",
    "num_mutations_H3 = 13\n",
    "order_H3 = 4\n",
    "num_term_list_H3 = np.array([int(comb(num_mutations_H3,i)) for i in range(1,order_H3+1)])\n",
    "total_params_H3 = sum(num_term_list_H3)\n",
    "order_start_indices_H3 = list(np.cumsum(num_term_list_H3)+1)\n",
    "order_start_indices_H3.insert(0,1)\n",
    "print(num_term_list_H3,total_params_H3)\n",
    "print(order_start_indices_H3)\n",
    "\n",
    "mut_names = ['30','35','36','57','64','65','66','79','82','83','84','85','92','95','103','113']\n",
    "\n",
    "ep_type = 'biochem'\n",
    "#ep_type = 'stat'\n",
    "\n",
    "function = 'logistic'\n",
    "num_func_params = 4"
   ]
  },
  {
   "cell_type": "markdown",
   "metadata": {},
   "source": [
    "# H1"
   ]
  },
  {
   "cell_type": "code",
   "execution_count": 28,
   "metadata": {},
   "outputs": [
    {
     "name": "stdout",
     "output_type": "stream",
     "text": [
      "No transformation:  2517 210\n",
      "Transformation:  2517 127\n",
      "239\n",
      "98\n",
      "Percent overlap of sig coefs:  0.4666666666666667 0.7716535433070866\n"
     ]
    }
   ],
   "source": [
    "# read model coefficients\n",
    "\n",
    "coefs_H1 = np.zeros(total_params_H1+1)\n",
    "names_H1 = []\n",
    "sig_H1 = np.full((total_params_H1+1),0)\n",
    "cis_H1 = np.zeros((total_params_H1+1,2))\n",
    "\n",
    "with open('../../../CR9114/Epistasis_linear_models/model_coefs/H1_'+str(order_H1)+'order_'+ep_type+'.txt','r') as readfile:\n",
    "    coef_reader = csv.reader(readfile,delimiter='\\t')\n",
    "    num_params = int(next(coef_reader)[-1])\n",
    "    r2 = float(next(coef_reader)[-1])\n",
    "    header = next(coef_reader)\n",
    "    #print(header)\n",
    "    for i in range(total_params_H1+1):\n",
    "        row = next(coef_reader)\n",
    "        names_H1.append(row[0])\n",
    "        coefs_H1[i] = float(row[1])\n",
    "        if i >= 1:\n",
    "            cis_H1[i,0] = float(row[4])\n",
    "            cis_H1[i,1] = float(row[5])\n",
    "            if float(row[4])*float(row[5]) > 0:\n",
    "                sig_H1[i] = 1\n",
    "    readfile.close()\n",
    "            \n",
    "\n",
    "num_sig = len(np.nonzero(sig_H1 == 1)[0])\n",
    "print('No transformation: ',len(coefs_H1),num_sig)\n",
    "\n",
    "coefs_H1_xform = np.zeros(total_params_H1+1)\n",
    "names_H1_xform = []\n",
    "sig_H1_xform = np.full((total_params_H1+1),0)\n",
    "cis_H1_xform = np.zeros((total_params_H1+1,2))\n",
    "\n",
    "with open('model_coefs/globalep_9114_H1_'+function+str(num_func_params)+'_'+str(order_H1)+'order_'+ep_type+'.txt','r') as readfile:\n",
    "    coef_reader = csv.reader(readfile,delimiter='\\t')\n",
    "    num_params_xform = int(next(coef_reader)[-1])\n",
    "    r2_xform = float(next(coef_reader)[-1])\n",
    "    header = next(coef_reader)\n",
    "    for i in range(total_params_H1+1):\n",
    "        row = next(coef_reader)\n",
    "        names_H1_xform.append(row[0])\n",
    "        coefs_H1_xform[i] = float(row[1])\n",
    "        if i >= 1:\n",
    "            cis_H1_xform[i,0] = float(row[4])\n",
    "            cis_H1_xform[i,1] = float(row[5])\n",
    "            if float(row[4])*float(row[5]) > 0:\n",
    "                sig_H1_xform[i] = 1\n",
    "    readfile.close()\n",
    "            \n",
    "\n",
    "num_sig_xform = len(np.nonzero(sig_H1_xform == 1)[0])\n",
    "print('Transformation: ',len(coefs_H1_xform),num_sig_xform)\n",
    "\n",
    "both_sig = np.nonzero((sig_H1 == 1) | (sig_H1_xform ==1))[0]\n",
    "print(len(both_sig))\n",
    "\n"
   ]
  },
  {
   "cell_type": "code",
   "execution_count": 30,
   "metadata": {
    "scrolled": false
   },
   "outputs": [
    {
     "name": "stdout",
     "output_type": "stream",
     "text": [
      "0.46667005472640904 0.003668010655649207\n",
      "0.4918588313706181\n"
     ]
    },
    {
     "data": {
      "image/png": "[encoded data removed]",
      "text/plain": [
       "<Figure size 144x144 with 1 Axes>"
      ]
     },
     "metadata": {
      "needs_background": "light"
     },
     "output_type": "display_data"
    }
   ],
   "source": [
    "# compare coefficients\n",
    "regress = st.linregress(coefs_H1[both_sig],coefs_H1_xform[both_sig])\n",
    "print(regress.slope,regress.intercept)\n",
    "print(regress.rvalue**2)\n",
    "        \n",
    "minval = min([min(coefs_H1[both_sig]),min(coefs_H1_xform[both_sig])])\n",
    "maxval = max([max(coefs_H1[both_sig]),max(coefs_H1_xform[both_sig])])\n",
    "\n",
    "    \n",
    "xvals = np.arange(minval-0.1,maxval+0.1,0.1)\n",
    "\n",
    "plt.figure(figsize=(2,2))\n",
    "plt.scatter(x=coefs_H1[both_sig],y=coefs_H1_xform[both_sig],alpha=0.2,s=3)\n",
    "plt.plot([0,0],[minval-0.1,maxval+0.1],color='grey',linewidth=1)\n",
    "plt.plot([minval-0.1,maxval+0.1],[0,0],color='grey',linewidth=1)\n",
    "\n",
    "plt.plot(xvals,regress.slope*xvals+regress.intercept,'k-',label=f\"$R^2={(regress.rvalue**2):.2f}$\",linewidth=1)\n",
    "plt.legend(loc='lower right',handlelength=1,frameon=False)\n",
    "plt.xlim([minval-0.1,maxval+0.1])\n",
    "plt.ylim([minval-0.1,maxval+0.1])\n",
    "plt.xlabel(r\"$\\beta$\",labelpad=0)\n",
    "plt.ylabel(r\"$\\beta\\prime$\",labelpad=0)\n",
    "plt.title('CR-9114, H1')\n",
    "plt.tight_layout()\n",
    "plt.savefig('images/9114_H1_'+function+'_coef_regress.pdf')\n",
    "plt.show()"
   ]
  },
  {
   "cell_type": "code",
   "execution_count": 32,
   "metadata": {},
   "outputs": [
    {
     "data": {
      "image/png": "[encoded data removed]",
      "text/plain": [
       "<Figure size 180x151.2 with 2 Axes>"
      ]
     },
     "metadata": {
      "needs_background": "light"
     },
     "output_type": "display_data"
    }
   ],
   "source": [
    "# heatmap of differences between coefs\n",
    "deltas_H1 = coefs_H1-coefs_H1_xform\n",
    "deltas_H1_heatmap = np.zeros((num_mutations_H1,num_mutations_H1))\n",
    "\n",
    "for i in range(1,len(deltas_H1)):\n",
    "\n",
    "    muts_involved = [int(x)-1 for x in names_H1[i].split(',')]\n",
    "    if len(muts_involved) == 1:\n",
    "        deltas_H1_heatmap[muts_involved[0],muts_involved[0]] += deltas_H1[i]\n",
    "    if len(muts_involved) >= 2:\n",
    "        for j in range(len(muts_involved)):\n",
    "            for k in range(j+1,len(muts_involved)):\n",
    "                deltas_H1_heatmap[muts_involved[k],muts_involved[j]] += deltas_H1[i]\n",
    "                deltas_H1_heatmap[muts_involved[j],muts_involved[k]] += deltas_H1[i]\n",
    "                \n",
    "norm_val = max(np.abs(np.nanmin(deltas_H1_heatmap)),np.abs(np.nanmax(deltas_H1_heatmap)))\n",
    "\n",
    "fig,ax = plt.subplots(figsize=(2.5,2.1))\n",
    "sns.heatmap(deltas_H1_heatmap,cmap='bwr',vmin=-1*norm_val,vmax=norm_val) #,norm=log_norm,cmap='rocket') #,cbar_kws={\"ticks\": cbar_ticks})\n",
    "\n",
    "plt.xticks(np.arange(0.5,num_mutations_H1+0.5,1),mut_names,rotation='90')\n",
    "plt.yticks(np.arange(0.5,num_mutations_H1+0.5,1),mut_names,rotation='0')\n",
    "ax.tick_params(length=0,pad=1)\n",
    "plt.title('CR-9114, H1')\n",
    "\n",
    "plt.tight_layout()\n",
    "plt.savefig('images/9114_H1_'+function+str(num_func_params)+'_coef_deltas.pdf')\n",
    "plt.show()\n"
   ]
  },
  {
   "cell_type": "markdown",
   "metadata": {},
   "source": [
    "## H3"
   ]
  },
  {
   "cell_type": "code",
   "execution_count": 33,
   "metadata": {},
   "outputs": [
    {
     "name": "stdout",
     "output_type": "stream",
     "text": [
      "No transformation:  1093 73\n",
      "Transformation:  1093 97\n",
      "109\n",
      "61\n",
      "Percent overlap of sig coefs:  0.8356164383561644 0.6288659793814433\n"
     ]
    }
   ],
   "source": [
    "# read model coefficients\n",
    "\n",
    "coefs_H3 = np.zeros(total_params_H3+1)\n",
    "names_H3 = []\n",
    "sig_H3 = np.full((total_params_H3+1),0)\n",
    "cis_H3 = np.zeros((total_params_H3+1,2))\n",
    "\n",
    "with open('../../../CR9114/Epistasis_linear_models/model_coefs/H3_'+str(order_H3)+'order_'+ep_type+'.txt','r') as readfile:\n",
    "    coef_reader = csv.reader(readfile,delimiter='\\t')\n",
    "    num_params = int(next(coef_reader)[-1])\n",
    "    r2 = float(next(coef_reader)[-1])\n",
    "    header = next(coef_reader)\n",
    "    #print(header)\n",
    "    for i in range(total_params_H3+1):\n",
    "        row = next(coef_reader)\n",
    "        names_H3.append(row[0])\n",
    "        coefs_H3[i] = float(row[1])\n",
    "        if i >= 1:\n",
    "            cis_H3[i,0] = float(row[4])\n",
    "            cis_H3[i,1] = float(row[5])\n",
    "            if float(row[4])*float(row[5]) > 0:\n",
    "                sig_H3[i] = 1\n",
    "    readfile.close()\n",
    "            \n",
    "\n",
    "num_sig = len(np.nonzero(sig_H3 == 1)[0])\n",
    "print('No transformation: ',len(coefs_H3),num_sig)\n",
    "\n",
    "coefs_H3_xform = np.zeros(total_params_H3+1)\n",
    "names_H3_xform = []\n",
    "sig_H3_xform = np.full((total_params_H3+1),0)\n",
    "cis_H3_xform = np.zeros((total_params_H3+1,2))\n",
    "\n",
    "with open('model_coefs/globalep_9114_H3_'+function+str(num_func_params)+'_'+str(order_H3)+'order_'+ep_type+'.txt','r') as readfile:\n",
    "    coef_reader = csv.reader(readfile,delimiter='\\t')\n",
    "    for i in range(num_func_params+2):\n",
    "        next(coef_reader)\n",
    "    num_params_xform = int(next(coef_reader)[-1])\n",
    "    r2_xform = float(next(coef_reader)[-1])\n",
    "    header = next(coef_reader)\n",
    "    #print(header)\n",
    "    for i in range(total_params_H3+1):\n",
    "        row = next(coef_reader)\n",
    "        names_H3_xform.append(row[0])\n",
    "        coefs_H3_xform[i] = float(row[1])\n",
    "        if i >= 1:\n",
    "            cis_H3_xform[i,0] = float(row[4])\n",
    "            cis_H3_xform[i,1] = float(row[5])\n",
    "            if float(row[4])*float(row[5]) > 0:\n",
    "                sig_H3_xform[i] = 1\n",
    "    readfile.close()\n",
    "            \n",
    "\n",
    "num_sig_xform = len(np.nonzero(sig_H3_xform == 1)[0])\n",
    "print('Transformation: ',len(coefs_H3_xform),num_sig_xform)\n",
    "\n",
    "both_sig = np.nonzero((sig_H3 == 1) | (sig_H3_xform ==1))[0]\n",
    "print(len(both_sig))\n"
   ]
  },
  {
   "cell_type": "code",
   "execution_count": 35,
   "metadata": {},
   "outputs": [
    {
     "name": "stdout",
     "output_type": "stream",
     "text": [
      "1.244788873836001 -0.007479427403151859\n",
      "0.8923423559072544\n",
      "5,6,7 -0.2425477164302703 5,6,7 0.13800226471802235\n",
      "1,2,6,7 0.0017003361866195776 1,2,6,7 -0.09605612726442128\n"
     ]
    },
    {
     "data": {
      "image/png": "[encoded data removed]",
      "text/plain": [
       "<Figure size 216x216 with 1 Axes>"
      ]
     },
     "metadata": {
      "needs_background": "light"
     },
     "output_type": "display_data"
    }
   ],
   "source": [
    "# compare coefficients\n",
    "regress = st.linregress(coefs_H3[both_sig],coefs_H3_xform[both_sig])\n",
    "print(regress.slope,regress.intercept)\n",
    "print(regress.rvalue**2)\n",
    "\n",
    "for i in range(len(both_sig)):\n",
    "    if coefs_H3[both_sig[i]]*coefs_H3_xform[both_sig[i]] < 0:\n",
    "        print(names_H3[both_sig[i]],coefs_H3[both_sig[i]],names_H3_xform[both_sig[i]],coefs_H3_xform[both_sig[i]])\n",
    "\n",
    "        \n",
    "xmin = -1\n",
    "xmax = 1\n",
    "xvals = np.arange(xmin,xmax,0.1)\n",
    "\n",
    "plt.figure(figsize=(3,3))\n",
    "plt.scatter(x=coefs_H3[both_sig],y=coefs_H3_xform[both_sig],alpha=0.2)\n",
    "plt.plot([xmin,xmax],[xmin,xmax],color='grey',linewidth=1)\n",
    "plt.plot([0,0],[xmin,xmax],color='grey',linewidth=1)\n",
    "plt.plot([xmin,xmax],[0,0],color='grey',linewidth=1)\n",
    "\n",
    "plt.plot(xvals,regress.slope*xvals+regress.intercept,'k-',label=f'Slope: {regress.slope:.2f}\\n R2: {(regress.rvalue**2):.2f}')\n",
    "plt.legend(loc='lower right')\n",
    "plt.xlim([xmin,xmax])\n",
    "plt.ylim([xmin,xmax])\n",
    "plt.xlabel('Coefs inferred on raw data')\n",
    "plt.ylabel('Coefs inferred on transformed data')\n",
    "plt.title('9114, H3, '+function)\n",
    "plt.tight_layout()\n",
    "plt.savefig('images/9114_H3_'+function+'_coef_regress.pdf')\n",
    "plt.show()"
   ]
  },
  {
   "cell_type": "code",
   "execution_count": 28,
   "metadata": {},
   "outputs": [
    {
     "data": {
      "image/png": "[encoded data removed]",
      "text/plain": [
       "<Figure size 324x288 with 2 Axes>"
      ]
     },
     "metadata": {
      "needs_background": "light"
     },
     "output_type": "display_data"
    }
   ],
   "source": [
    "# heatmap of differences between coefs\n",
    "deltas_H3 = coefs_H3-coefs_H3_xform\n",
    "deltas_H3_heatmap = np.zeros((num_mutations_H1,num_mutations_H1))\n",
    "\n",
    "for mut in [4,9,10]:\n",
    "    for i in range(num_mutations_H1):\n",
    "        deltas_H3_heatmap[mut-1,i] = np.nan\n",
    "        deltas_H3_heatmap[mut-1,i] = np.nan\n",
    "\n",
    "for i in range(1,len(deltas_H3)):\n",
    "\n",
    "    muts_involved = [int(x)-1 for x in names_H3[i].split(',')]\n",
    "    if len(muts_involved) == 1:\n",
    "        deltas_H3_heatmap[muts_involved[0],muts_involved[0]] += deltas_H3[i]\n",
    "    if len(muts_involved) >= 2:\n",
    "        for j in range(len(muts_involved)):\n",
    "            for k in range(j+1,len(muts_involved)):\n",
    "                deltas_H3_heatmap[muts_involved[k],muts_involved[j]] += deltas_H3[i]\n",
    "                deltas_H3_heatmap[muts_involved[j],muts_involved[k]] += deltas_H3[i]\n",
    "                \n",
    "norm_val = max(np.abs(np.nanmin(deltas_H3_heatmap)),np.abs(np.nanmax(deltas_H3_heatmap)))\n",
    "\n",
    "plt.figure(figsize=(4.5,4))\n",
    "sns.heatmap(deltas_H3_heatmap,cmap='bwr',vmin=-1*norm_val,vmax=norm_val) #,norm=log_norm,cmap='rocket') #,cbar_kws={\"ticks\": cbar_ticks})\n",
    "\n",
    "plt.xticks(np.arange(0.5,num_mutations_H1+0.5,1),mut_names,rotation='90')\n",
    "plt.yticks(np.arange(0.5,num_mutations_H1+0.5,1),mut_names,rotation='0')\n",
    "plt.tight_layout()\n",
    "plt.savefig('figures/9114_H3_'+function+str(num_func_params)+'_coef_deltas.pdf')\n",
    "plt.show()"
   ]
  },
  {
   "cell_type": "code",
   "execution_count": null,
   "metadata": {},
   "outputs": [],
   "source": []
  },
  {
   "cell_type": "code",
   "execution_count": null,
   "metadata": {},
   "outputs": [],
   "source": []
  },
  {
   "cell_type": "code",
   "execution_count": null,
   "metadata": {},
   "outputs": [],
   "source": []
  }
 ],
 "metadata": {
  "kernelspec": {
   "display_name": "Python 3",
   "language": "python",
   "name": "python3"
  },
  "language_info": {
   "codemirror_mode": {
    "name": "ipython",
    "version": 3
   },
   "file_extension": ".py",
   "mimetype": "text/x-python",
   "name": "python",
   "nbconvert_exporter": "python",
   "pygments_lexer": "ipython3",
   "version": "3.8.2"
  }
 },
 "nbformat": 4,
 "nbformat_minor": 4
}
