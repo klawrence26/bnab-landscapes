{
 "cells": [
  {
   "cell_type": "code",
   "execution_count": 56,
   "metadata": {},
   "outputs": [],
   "source": [
    "import numpy as np\n",
    "import matplotlib.pyplot as plt\n",
    "import csv\n",
    "import sys\n",
    "import seaborn as sns\n",
    "from scipy.special import comb\n",
    "from sklearn.preprocessing import PolynomialFeatures\n",
    "from matplotlib.colors import LogNorm\n",
    "import pandas as pd\n",
    "import scipy.stats as st\n",
    "\n",
    "plt.rcParams.update({'font.size': 7,'axes.linewidth':0.5,\n",
    "                     'xtick.major.size':2,'xtick.major.width':0.5,\n",
    "                    'ytick.major.size':2,'ytick.major.width':0.5})\n",
    "plt.rcParams.update({'mathtext.default':  'regular' })\n",
    "\n",
    "\n",
    "colorH1, colorH3, colorFluB, colorH9 = \"#E8735C\", \"#72C2A6\", \"#5482A7\", \"#663399\"\n"
   ]
  },
  {
   "cell_type": "code",
   "execution_count": 57,
   "metadata": {},
   "outputs": [
    {
     "name": "stdout",
     "output_type": "stream",
     "text": [
      "[ 11  55 165] 231\n",
      "[1, 12, 67, 232]\n",
      "[ 11  55 165 330] 561\n",
      "[1, 12, 67, 232, 562]\n"
     ]
    }
   ],
   "source": [
    "# set some things\n",
    "num_mutations_H1 = 11\n",
    "order_H1 = 3\n",
    "num_term_list_H1 = np.array([int(comb(num_mutations_H1,i)) for i in range(1,order_H1+1)])\n",
    "total_params_H1 = sum(num_term_list_H1)\n",
    "order_start_indices_H1 = list(np.cumsum(num_term_list_H1)+1)\n",
    "order_start_indices_H1.insert(0,1)\n",
    "print(num_term_list_H1,total_params_H1)\n",
    "print(order_start_indices_H1)\n",
    "\n",
    "order_H1_xform = 3\n",
    "num_term_list_H1_xform = np.array([int(comb(num_mutations_H1,i)) for i in range(1,order_H1_xform+1)])\n",
    "total_params_H1_xform = sum(num_term_list_H1_xform)\n",
    "order_start_indices_H1_xform = list(np.cumsum(num_term_list_H1_xform)+1)\n",
    "order_start_indices_H1.insert(0,1)\n",
    "\n",
    "\n",
    "num_mutations_H9 = 11\n",
    "order_H9 = 4\n",
    "num_term_list_H9 = np.array([int(comb(num_mutations_H9,i)) for i in range(1,order_H9+1)])\n",
    "total_params_H9 = sum(num_term_list_H9)\n",
    "order_start_indices_H9 = list(np.cumsum(num_term_list_H9)+1)\n",
    "order_start_indices_H9.insert(0,1)\n",
    "print(num_term_list_H9,total_params_H9)\n",
    "print(order_start_indices_H9)\n",
    "\n",
    "order_H9_xform = 3\n",
    "num_term_list_H9_xform = np.array([int(comb(num_mutations_H9,i)) for i in range(1,order_H9_xform+1)])\n",
    "total_params_H9_xform = sum(num_term_list_H9_xform)\n",
    "order_start_indices_H9_xform = list(np.cumsum(num_term_list_H9_xform)+1)\n",
    "order_start_indices_H9.insert(0,1)\n",
    "\n",
    "mut_names = ['29','35','65','66','69','82','83','84','85','87','112.1']\n",
    "\n",
    "ep_type = 'biochem'\n",
    "#ep_type = 'stat'\n",
    "\n",
    "# function = 'power'\n",
    "# num_func_params = 3\n",
    "\n",
    "# function = 'spline'\n",
    "# num_func_params = 5\n",
    "\n",
    "function = 'logistic'\n",
    "num_func_params = 4"
   ]
  },
  {
   "cell_type": "markdown",
   "metadata": {},
   "source": [
    "# H1"
   ]
  },
  {
   "cell_type": "code",
   "execution_count": 58,
   "metadata": {},
   "outputs": [
    {
     "name": "stdout",
     "output_type": "stream",
     "text": [
      "No transformation:  232 40\n",
      "Transformation:  232 25\n",
      "45\n",
      "20\n",
      "Percent overlap of sig coefs:  0.5 0.8\n"
     ]
    }
   ],
   "source": [
    "# read model coefficients\n",
    "\n",
    "coefs_H1 = np.zeros(total_params_H1+1)\n",
    "names_H1 = []\n",
    "sig_H1 = np.full((total_params_H1+1),0)\n",
    "cis_H1 = np.zeros((total_params_H1+1,2))\n",
    "\n",
    "with open('../../../CR6261/Epistasis_linear_models/model_coefs/H1_'+str(order_H1)+'order_'+ep_type+'.txt','r') as readfile:\n",
    "    coef_reader = csv.reader(readfile,delimiter='\\t')\n",
    "    num_params = int(next(coef_reader)[-1])\n",
    "    r2 = float(next(coef_reader)[-1])\n",
    "    header = next(coef_reader)\n",
    "    #print(header)\n",
    "    for i in range(total_params_H1+1):\n",
    "        row = next(coef_reader)\n",
    "        names_H1.append(row[0])\n",
    "        coefs_H1[i] = float(row[1])\n",
    "        if i >= 1:\n",
    "            cis_H1[i,0] = float(row[4])\n",
    "            cis_H1[i,1] = float(row[5])\n",
    "            if float(row[4])*float(row[5]) > 0:\n",
    "                sig_H1[i] = 1\n",
    "    readfile.close()\n",
    "            \n",
    "\n",
    "num_sig = len(np.nonzero(sig_H1 == 1)[0])\n",
    "print('No transformation: ',len(coefs_H1),num_sig)\n",
    "\n",
    "coefs_H1_xform = np.zeros(total_params_H1_xform+1)\n",
    "names_H1_xform = []\n",
    "sig_H1_xform = np.full((total_params_H1_xform+1),0)\n",
    "cis_H1_xform = np.zeros((total_params_H1_xform+1,2))\n",
    "\n",
    "with open('model_coefs/globalep_6261_H1_'+function+str(num_func_params)+'_'+str(order_H1_xform)+'order_'+ep_type+'.txt','r') as readfile:\n",
    "    coef_reader = csv.reader(readfile,delimiter='\\t')\n",
    "    for i in range(num_func_params+2):\n",
    "        next(coef_reader)\n",
    "    num_params_xform = int(next(coef_reader)[-1])\n",
    "    r2_xform = float(next(coef_reader)[-1])\n",
    "    header = next(coef_reader)\n",
    "    #print(header)\n",
    "    for i in range(total_params_H1_xform+1):\n",
    "        row = next(coef_reader)\n",
    "        names_H1_xform.append(row[0])\n",
    "        coefs_H1_xform[i] = float(row[1])\n",
    "        if i >= 1:\n",
    "            cis_H1_xform[i,0] = float(row[4])\n",
    "            cis_H1_xform[i,1] = float(row[5])\n",
    "            if float(row[4])*float(row[5]) > 0:\n",
    "                sig_H1_xform[i] = 1\n",
    "    readfile.close()\n",
    "            \n",
    "\n",
    "num_sig_xform = len(np.nonzero(sig_H1_xform == 1)[0])\n",
    "print('Transformation: ',len(coefs_H1_xform),num_sig_xform)\n",
    "\n",
    "both_sig = np.nonzero((sig_H1 == 1) | (sig_H1_xform ==1))[0]\n",
    "print(len(both_sig))\n",
    "\n"
   ]
  },
  {
   "cell_type": "code",
   "execution_count": 61,
   "metadata": {},
   "outputs": [
    {
     "name": "stdout",
     "output_type": "stream",
     "text": [
      "0.5237398410761058 0.006237604682839092\n",
      "0.6786127514487839\n"
     ]
    },
    {
     "data": {
      "image/png": "[encoded data removed]",
      "text/plain": [
       "<Figure size 144x144 with 1 Axes>"
      ]
     },
     "metadata": {
      "needs_background": "light"
     },
     "output_type": "display_data"
    }
   ],
   "source": [
    "# compare coefficients\n",
    "regress = st.linregress(coefs_H1[both_sig],coefs_H1_xform[both_sig])\n",
    "print(regress.slope,regress.intercept)\n",
    "print(regress.rvalue**2)\n",
    "\n",
    "minval = min([min(coefs_H1[both_sig]),min(coefs_H1_xform[both_sig])])\n",
    "maxval = max([max(coefs_H1[both_sig]),max(coefs_H1_xform[both_sig])])\n",
    "\n",
    "\n",
    "xvals = np.arange(-3,3,0.1)\n",
    "\n",
    "\n",
    "plt.figure(figsize=(2,2))\n",
    "plt.scatter(x=coefs_H1[both_sig],y=coefs_H1_xform[both_sig],alpha=0.5,s=4)\n",
    "#plt.plot([-3,3],[-3,3],color='grey',linewidth=1)\n",
    "plt.plot([0,0],[-3,3],color='grey',linewidth=1)\n",
    "plt.plot([-3,3],[0,0],color='grey',linewidth=1)\n",
    "\n",
    "plt.plot(xvals,regress.slope*xvals+regress.intercept,'k-',label=f'$R^2 = {(regress.rvalue**2):.2f}$',linewidth=1)\n",
    "plt.legend(loc='lower right',handlelength=1,frameon=False)\n",
    "plt.xlim([minval-0.1,maxval+0.1])\n",
    "plt.ylim([minval-0.1,maxval+0.1])\n",
    "#plt.xticks([-0.5,0,0.5,1,1.5],['-0.5','0','0.5','1.0','1.5'])\n",
    "plt.xlabel(r\"$\\beta$\",labelpad=0)\n",
    "plt.ylabel(r\"$\\beta\\prime$\",labelpad=0)\n",
    "plt.title('CR-6261, H1')\n",
    "plt.tight_layout()\n",
    "plt.savefig('images/6261_H1_'+function+str(num_func_params)+'_coef_regress.pdf')\n",
    "plt.show()"
   ]
  },
  {
   "cell_type": "code",
   "execution_count": 55,
   "metadata": {},
   "outputs": [
    {
     "data": {
      "image/png": "[encoded data removed]",
      "text/plain": [
       "<Figure size 165.6x144 with 2 Axes>"
      ]
     },
     "metadata": {
      "needs_background": "light"
     },
     "output_type": "display_data"
    }
   ],
   "source": [
    "# heatmap of differences between coefs\n",
    "deltas_H1 = coefs_H1-coefs_H1_xform\n",
    "deltas_H1_heatmap = np.zeros((num_mutations_H1,num_mutations_H1))\n",
    "\n",
    "for i in range(1,len(deltas_H1)):\n",
    "\n",
    "    muts_involved = [int(x)-1 for x in names_H1[i].split(',')]\n",
    "    if len(muts_involved) == 1:\n",
    "        deltas_H1_heatmap[muts_involved[0],muts_involved[0]] += deltas_H1[i]\n",
    "    if len(muts_involved) >= 2:\n",
    "        for j in range(len(muts_involved)):\n",
    "            for k in range(j+1,len(muts_involved)):\n",
    "                deltas_H1_heatmap[muts_involved[k],muts_involved[j]] += deltas_H1[i]\n",
    "                deltas_H1_heatmap[muts_involved[j],muts_involved[k]] += deltas_H1[i]\n",
    "                \n",
    "norm_val = max(np.abs(np.nanmin(deltas_H1_heatmap)),np.abs(np.nanmax(deltas_H1_heatmap)))\n",
    "\n",
    "fig,ax = plt.subplots(figsize=(2.3,2))\n",
    "sns.heatmap(deltas_H1_heatmap,cmap='bwr',vmin=-1*norm_val,vmax=norm_val) #,norm=log_norm,cmap='rocket') #,cbar_kws={\"ticks\": cbar_ticks})\n",
    "ax.tick_params(length=0,pad=1)\n",
    "plt.xticks(np.arange(0.5,num_mutations_H9+0.5,1),mut_names,rotation='90')\n",
    "plt.yticks(np.arange(0.5,num_mutations_H9+0.5,1),mut_names,rotation='0')\n",
    "plt.title('CR-6261, H1')\n",
    "\n",
    "plt.tight_layout()\n",
    "plt.savefig('images/6261_H1_'+function+str(num_func_params)+'_coef_deltas_'+ep_type+'.pdf')\n",
    "plt.show()\n"
   ]
  },
  {
   "cell_type": "markdown",
   "metadata": {},
   "source": [
    "## H9"
   ]
  },
  {
   "cell_type": "code",
   "execution_count": 8,
   "metadata": {},
   "outputs": [
    {
     "name": "stdout",
     "output_type": "stream",
     "text": [
      "No transformation:  562 105\n",
      "Transformation:  562 70\n",
      "121\n",
      "54\n",
      "Percent overlap of sig coefs:  0.5142857142857142 0.7714285714285715\n"
     ]
    }
   ],
   "source": [
    "# read model coefficients\n",
    "\n",
    "coefs_H9 = np.zeros(total_params_H9+1)\n",
    "names_H9 = []\n",
    "sig_H9 = np.full((total_params_H9+1),0)\n",
    "cis_H9 = np.zeros((total_params_H9+1,2))\n",
    "\n",
    "with open('../model_coefs/6261_H9_'+str(order_H9)+'order_'+ep_type+'.txt','r') as readfile:\n",
    "    coef_reader = csv.reader(readfile,delimiter='\\t')\n",
    "    num_params = int(next(coef_reader)[-1])\n",
    "    r2 = float(next(coef_reader)[-1])\n",
    "    header = next(coef_reader)\n",
    "    #print(header)\n",
    "    for i in range(total_params_H9+1):\n",
    "        row = next(coef_reader)\n",
    "        names_H9.append(row[0])\n",
    "        coefs_H9[i] = float(row[1])\n",
    "        if i >= 1:\n",
    "            cis_H9[i,0] = float(row[3])\n",
    "            cis_H9[i,1] = float(row[4])\n",
    "            if float(row[3])*float(row[4]) > 0:\n",
    "                sig_H9[i] = 1\n",
    "    readfile.close()\n",
    "            \n",
    "\n",
    "num_sig = len(np.nonzero(sig_H9 == 1)[0])\n",
    "print('No transformation: ',len(coefs_H9),num_sig)\n",
    "\n",
    "\n",
    "\n",
    "coefs_H9_xform = np.zeros(total_params_H9+1)\n",
    "names_H9_xform = []\n",
    "sig_H9_xform = np.full((total_params_H9+1),0)\n",
    "cis_H9_xform = np.zeros((total_params_H9+1,2))\n",
    "\n",
    "with open('coefs/globalep_6261_H9_'+function+str(num_func_params)+'_'+str(order_H9_xform)+'order_'+ep_type+'.txt','r') as readfile:\n",
    "    coef_reader = csv.reader(readfile,delimiter='\\t')\n",
    "    for i in range(num_func_params+2):\n",
    "        next(coef_reader)\n",
    "    num_params_xform = int(next(coef_reader)[-1])\n",
    "    r2_xform = float(next(coef_reader)[-1])\n",
    "    header = next(coef_reader)\n",
    "    #print(header)\n",
    "    for i in range(total_params_H9_xform+1):\n",
    "        row = next(coef_reader)\n",
    "        names_H9_xform.append(row[0])\n",
    "        coefs_H9_xform[i] = float(row[1])\n",
    "        if i >= 1:\n",
    "            cis_H9_xform[i,0] = float(row[3])\n",
    "            cis_H9_xform[i,1] = float(row[4])\n",
    "            if float(row[3])*float(row[4]) > 0:\n",
    "                sig_H9_xform[i] = 1\n",
    "    readfile.close()\n",
    "            \n",
    "for i in range(total_params_H9_xform,total_params_H9):\n",
    "    names_H9_xform.append(names_H9[i])\n",
    "    \n",
    "\n",
    "num_sig_xform = len(np.nonzero(sig_H9_xform == 1)[0])\n",
    "print('Transformation: ',len(coefs_H9_xform),num_sig_xform)\n",
    "\n",
    "both_sig = np.nonzero((sig_H9 == 1) | (sig_H9_xform ==1))[0]\n",
    "print(len(both_sig))\n"
   ]
  },
  {
   "cell_type": "code",
   "execution_count": 9,
   "metadata": {},
   "outputs": [
    {
     "name": "stdout",
     "output_type": "stream",
     "text": [
      "0.4468365852368063 0.026361553164029775\n",
      "0.4777841539405606\n"
     ]
    },
    {
     "data": {
      "image/png": "[encoded data removed]",
      "text/plain": [
       "<Figure size 216x216 with 1 Axes>"
      ]
     },
     "metadata": {
      "needs_background": "light"
     },
     "output_type": "display_data"
    }
   ],
   "source": [
    "# compare coefficients\n",
    "regress = st.linregress(coefs_H9[both_sig],coefs_H9_xform[both_sig])\n",
    "print(regress.slope,regress.intercept)\n",
    "print(regress.rvalue**2)\n",
    "\n",
    "xvals = np.arange(-3,3,0.1)\n",
    "\n",
    "plt.figure(figsize=(3,3))\n",
    "plt.scatter(x=coefs_H9[both_sig],y=coefs_H9_xform[both_sig],alpha=0.2)\n",
    "plt.plot([-3,3],[-3,3],color='grey',linewidth=1)\n",
    "plt.plot([0,0],[-3,3],color='grey',linewidth=1)\n",
    "plt.plot([-3,3],[0,0],color='grey',linewidth=1)\n",
    "\n",
    "plt.plot(xvals,regress.slope*xvals+regress.intercept,'k-',label=f'Slope: {regress.slope:.2f}\\n R2: {(regress.rvalue**2):.2f}')\n",
    "plt.legend(loc='lower right')\n",
    "plt.xlim([-2.2,2.2])\n",
    "plt.ylim([-2.2,2.2])\n",
    "plt.xlabel('Coefs inferred on raw data')\n",
    "plt.ylabel('Coefs inferred on transformed data')\n",
    "plt.title('6261, H9, '+function)\n",
    "plt.tight_layout()\n",
    "plt.savefig('images/6261_H9_'+function+str(num_func_params)+'_coef_regress.pdf')\n",
    "plt.show()"
   ]
  },
  {
   "cell_type": "code",
   "execution_count": 19,
   "metadata": {},
   "outputs": [
    {
     "data": {
      "image/png": "[encoded data removed]",
      "text/plain": [
       "<Figure size 252x216 with 2 Axes>"
      ]
     },
     "metadata": {
      "needs_background": "light"
     },
     "output_type": "display_data"
    }
   ],
   "source": [
    "# heatmap of differences between coefs\n",
    "deltas_H9 = coefs_H9-coefs_H9_xform\n",
    "deltas_H9_heatmap = np.zeros((num_mutations_H9,num_mutations_H9))\n",
    "\n",
    "for i in range(1,len(deltas_H9)):\n",
    "\n",
    "    muts_involved = [int(x)-1 for x in names_H9[i].split(',')]\n",
    "    if len(muts_involved) == 1:\n",
    "        deltas_H9_heatmap[muts_involved[0],muts_involved[0]] += deltas_H9[i]\n",
    "    if len(muts_involved) >= 2:\n",
    "        for j in range(len(muts_involved)):\n",
    "            for k in range(j+1,len(muts_involved)):\n",
    "                deltas_H9_heatmap[muts_involved[k],muts_involved[j]] += deltas_H9[i]\n",
    "                deltas_H9_heatmap[muts_involved[j],muts_involved[k]] += deltas_H9[i]\n",
    "                \n",
    "norm_val = max(np.abs(np.nanmin(deltas_H9_heatmap)),np.abs(np.nanmax(deltas_H9_heatmap)))\n",
    "\n",
    "plt.figure(figsize=(3.5,3))\n",
    "sns.heatmap(deltas_H9_heatmap,cmap='bwr',vmin=-1*norm_val,vmax=norm_val) #,norm=log_norm,cmap='rocket') #,cbar_kws={\"ticks\": cbar_ticks})\n",
    "\n",
    "plt.xticks(np.arange(0.5,num_mutations_H9+0.5,1),mut_names,rotation='90')\n",
    "plt.yticks(np.arange(0.5,num_mutations_H9+0.5,1),mut_names,rotation='0')\n",
    "plt.tight_layout()\n",
    "plt.savefig('images/6261_H9_'+function+str(num_func_params)+'_coef_deltas.pdf')\n",
    "\n",
    "plt.show()\n"
   ]
  },
  {
   "cell_type": "code",
   "execution_count": null,
   "metadata": {},
   "outputs": [],
   "source": []
  },
  {
   "cell_type": "code",
   "execution_count": null,
   "metadata": {},
   "outputs": [],
   "source": []
  }
 ],
 "metadata": {
  "kernelspec": {
   "display_name": "Python 3",
   "language": "python",
   "name": "python3"
  },
  "language_info": {
   "codemirror_mode": {
    "name": "ipython",
    "version": 3
   },
   "file_extension": ".py",
   "mimetype": "text/x-python",
   "name": "python",
   "nbconvert_exporter": "python",
   "pygments_lexer": "ipython3",
   "version": "3.8.2"
  }
 },
 "nbformat": 4,
 "nbformat_minor": 4
}
