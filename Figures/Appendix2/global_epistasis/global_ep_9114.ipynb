{
 "cells": [
  {
   "cell_type": "markdown",
   "metadata": {},
   "source": [
    "### importing and formatting data"
   ]
  },
  {
   "cell_type": "code",
   "execution_count": 1,
   "metadata": {},
   "outputs": [],
   "source": [
    "#import packages\n",
    "%matplotlib inline\n",
    "import matplotlib.pyplot as plt\n",
    "import numpy as np\n",
    "import csv\n",
    "import seaborn as sns\n",
    "from gpmap import GenotypePhenotypeMap\n",
    "from epistasis.models import *\n",
    "from epistasis import *\n",
    "from epistasis.pyplot import plot_power_transform, plot_coefs\n",
    "from epistasis.pyplot.nonlinear import plot_scale\n",
    "from epistasis.stats import *\n",
    "import pandas as pd\n",
    "from sklearn.model_selection import train_test_split\n",
    "import statsmodels.api as sm\n",
    "from sklearn.preprocessing import PolynomialFeatures\n",
    "import statsmodels.api as sm\n",
    "import scipy.stats as st\n",
    "from sklearn.metrics import r2_score\n",
    "\n",
    "plt.rcParams.update({'font.size': 7,'axes.linewidth':0.5,\n",
    "                     'xtick.major.size':2,'xtick.major.width':0.5,\n",
    "                    'ytick.major.size':2,'ytick.major.width':0.5})\n",
    "plt.rcParams.update({'mathtext.default':  'regular' })\n",
    "\n",
    "\n",
    "colorH1, colorH3, colorFluB, colorH9 = \"#E8735C\", \"#72C2A6\", \"#5482A7\", \"#663399\"\n"
   ]
  },
  {
   "cell_type": "code",
   "execution_count": 10,
   "metadata": {},
   "outputs": [
    {
     "name": "stdout",
     "output_type": "stream",
     "text": [
      "H3 13\n"
     ]
    }
   ],
   "source": [
    "#arbitrary params\n",
    "#choose between local (wt) and global (geo mean) origins for data\n",
    "#origin = \"local\" \n",
    "origin = 'global'\n",
    "\n",
    "if origin == 'local':\n",
    "    ep_type = 'biochem'\n",
    "elif origin == 'global':\n",
    "    ep_type = 'stat'\n",
    "\n",
    "# choose type of nonlinear function\n",
    "#function = 'power'\n",
    "#function = 'spline'\n",
    "function = 'logistic'\n",
    "\n",
    "# antigen='H1'\n",
    "# antigen_column='h1_mean'\n",
    "antigen='H3'\n",
    "antigen_column='h3_mean'\n",
    "\n",
    "num_muts_dict = {'H1':16,'H3':13,'B':8}\n",
    "num_muts = num_muts_dict[antigen]\n",
    "print(antigen,num_muts)"
   ]
  },
  {
   "cell_type": "code",
   "execution_count": 3,
   "metadata": {},
   "outputs": [],
   "source": [
    "def logistic(x,A,B,mu,sigma):\n",
    "    return A*(1-(1/(1+np.exp((x-mu)/sigma))))+B\n",
    "\n",
    "def logistic_inverse(xadd,y,param_list):\n",
    "    A,B,mu,sigma = param_list\n",
    "    yvals = np.array(y)\n",
    "    maxval = logistic(np.max(xadd),A,B,mu,sigma)\n",
    "    above_indices = np.where(yvals > maxval)[0]\n",
    "    yvals_trimmed = np.where(yvals > maxval,maxval,yvals)\n",
    "    inv = sigma*np.log(1/(1-((yvals_trimmed-B)/A))-1)+mu\n",
    "    return inv\n",
    "    "
   ]
  },
  {
   "cell_type": "code",
   "execution_count": 11,
   "metadata": {},
   "outputs": [
    {
     "name": "stdout",
     "output_type": "stream",
     "text": [
      "65536\n",
      "65535\n",
      "8192\n"
     ]
    }
   ],
   "source": [
    "#import data\n",
    "df_data = pd.read_csv('../../../CR9114/Kd_meanbin/kd_processed/20210427_HA_unadj_fil_merg.csv',dtype={\"variant\": str})\n",
    "print(len(df_data))\n",
    "\n",
    "df = df_data.dropna(subset=[antigen_column])\n",
    "print(len(df))\n",
    "\n",
    "# filter based on required mutations\n",
    "if antigen == 'H3':\n",
    "    df = df.loc[(df['pos4'] == 1) & (df['pos9'] == 1) & (df['pos10'] == 1)]\n",
    "    df.drop(columns=['pos4','pos9','pos10'])\n",
    "    df['variant'] = df['variant'].str.slice_replace(10-1,10)\n",
    "    df['variant'] = df['variant'].str.slice_replace(9-1,9)\n",
    "    df['variant'] = df['variant'].str.slice_replace(4-1,4)\n",
    "    print(len(df))\n",
    "\n"
   ]
  },
  {
   "cell_type": "code",
   "execution_count": 12,
   "metadata": {},
   "outputs": [],
   "source": [
    "#format training set for epistasis package\n",
    "\n",
    "wildtype = \"0000000000000000\"\n",
    "\n",
    "#gpm\n",
    "gpm = GenotypePhenotypeMap(\n",
    "    wildtype,\n",
    "    genotypes=df['variant'],\n",
    "    phenotypes=df[antigen_column], model_type=origin)\n",
    "\n"
   ]
  },
  {
   "cell_type": "code",
   "execution_count": 13,
   "metadata": {},
   "outputs": [
    {
     "name": "stdout",
     "output_type": "stream",
     "text": [
      "[ 6.81471673  0.1230792   0.26799132  0.22533555  0.34300799  0.19349639\n",
      " -0.19951511  0.01643926  0.05256241  0.06420417  0.01829209  0.04726265\n",
      " -0.02158381  0.09484796]\n"
     ]
    }
   ],
   "source": [
    "# fit linear model to original phenotypes\n",
    "if antigen == 'H1':\n",
    "    genos = np.array(df[['pos1','pos2','pos3','pos4','pos5','pos6','pos7','pos8','pos9','pos10','pos11','pos12','pos13','pos14','pos15','pos16']].copy(),dtype=np.float64)\n",
    "elif antigen == 'H3':\n",
    "    genos = np.array(df[['pos1','pos2','pos3','pos5','pos6','pos7','pos8','pos11','pos12','pos13','pos14','pos15','pos16']].copy(),dtype=np.float64)\n",
    "    \n",
    "if ep_type == 'stat':\n",
    "    genos = 2.0*genos-1.0\n",
    "    \n",
    "phenos = df[[antigen_column]].values.flatten()\n",
    "\n",
    "poly_linear = PolynomialFeatures(1,interaction_only=True)\n",
    "genos_linear = poly_linear.fit_transform(genos)\n",
    "\n",
    "raw_reg_linear = sm.OLS(phenos, genos_linear).fit()\n",
    "raw_reg_coefs_linear = raw_reg_linear.params\n",
    "print(raw_reg_linear.params)\n",
    "\n",
    "pred_phenos_linear = raw_reg_linear.predict(genos_linear)\n"
   ]
  },
  {
   "cell_type": "markdown",
   "metadata": {},
   "source": [
    "# fit power transform"
   ]
  },
  {
   "cell_type": "code",
   "execution_count": null,
   "metadata": {},
   "outputs": [],
   "source": []
  },
  {
   "cell_type": "code",
   "execution_count": 14,
   "metadata": {},
   "outputs": [
    {
     "name": "stderr",
     "output_type": "stream",
     "text": [
      "/Library/Frameworks/Python.framework/Versions/3.8/lib/python3.8/site-packages/sklearn/base.py:209: FutureWarning: From version 0.24, get_params will raise an AttributeError if a parameter cannot be retrieved as an instance attribute. Previously it would return None.\n",
      "  warnings.warn('From version 0.24, get_params will raise an '\n"
     ]
    },
    {
     "name": "stdout",
     "output_type": "stream",
     "text": [
      "0.8200393607958057\n",
      "odict_values([<Parameter 'A', value=3.878481878138292 +/- 0.165, bounds=[-inf:inf]>, <Parameter 'B', value=5.675810274295905 +/- 0.0324, bounds=[-inf:inf]>, <Parameter 'mu', value=7.535446649531967 +/- 0.0448, bounds=[-inf:inf]>, <Parameter 'sigma', value=0.7157812443975667 +/- 0.0293, bounds=[-inf:inf]>])\n"
     ]
    },
    {
     "data": {
      "image/png": "[encoded data removed]",
      "text/plain": [
       "<Figure size 144x144 with 1 Axes>"
      ]
     },
     "metadata": {
      "needs_background": "light"
     },
     "output_type": "display_data"
    },
    {
     "data": {
      "image/png": "[encoded data removed]",
      "text/plain": [
       "<Figure size 216x216 with 1 Axes>"
      ]
     },
     "metadata": {
      "needs_background": "light"
     },
     "output_type": "display_data"
    }
   ],
   "source": [
    "# Initialize the model\n",
    "\n",
    "if function == 'power':\n",
    "    num_params = 3\n",
    "    func = EpistasisPowerTransform(lmbda=-1, A=0, B=0, model_type=origin)\n",
    "elif function == 'spline':\n",
    "    num_params = 6\n",
    "    func = EpistasisSpline(k=num_params-1, model_type=origin)\n",
    "elif function == 'logistic':\n",
    "    num_params = 4\n",
    "    func = EpistasisLogisticTransform(A=4,B=7,mu=8,sigma=.1, model_type=origin)\n",
    "\n",
    "func.add_gpm(gpm)\n",
    "\n",
    "# Fit the model.\n",
    "func.fit()\n",
    "\n",
    "# Transform Pobs to Pobs,linearized via nonlinear function\n",
    "params = []\n",
    "for i in func.parameters.values():\n",
    "    params.append(i.value)\n",
    "\n",
    "if function == 'logistic':\n",
    "    linearized_phenotypes = logistic_inverse(pred_phenos_linear,phenos,params)\n",
    "elif function == 'power':\n",
    "    linearized_phenotypes = power_inverse(pred_phenos_linear,phenos,params)\n",
    "    \n",
    "    \n",
    "df['linearized_pheno'] = linearized_phenotypes.tolist()\n",
    "\n",
    "\n",
    "if antigen == 'H1':\n",
    "    # write to another dataframe to infer on cluster\n",
    "    new_df = df_train[['variant', 'linearized_pheno']].copy()\n",
    "    #print(new_df)\n",
    "    new_df.to_csv('../new_Kds/globalep_9114_H1_'+function+str(num_params)+'_transformed.csv',index=False)\n",
    "\n",
    "\n",
    "\n",
    "\n",
    "print(func.score())\n",
    "print(func.parameters.values())\n",
    "\n",
    "if antigen == 'H3':\n",
    "    minval=5\n",
    "    maxval=10\n",
    "elif antigen == 'H1':\n",
    "    minval = 6\n",
    "    maxval=11\n",
    "\n",
    "fig, ax = plt.subplots(figsize=(2,2))\n",
    "if antigen == 'H1':\n",
    "    plot_scale(func, ax=ax,alpha=0.01,s=2)\n",
    "elif antigen == 'H3':\n",
    "    plot_scale(func, ax=ax,alpha=0.1,s=2)\n",
    "    \n",
    "ax.set_xlim([minval,maxval])\n",
    "ax.set_ylim([minval,maxval])\n",
    "ax.set_xlabel(\"Additive predicted phenotypes\")\n",
    "ax.set_ylabel(\"Observed phenotypes\")\n",
    "plt.title('CR-9114, '+antigen)\n",
    "plt.text(minval+0.5,maxval-1,f'$R^2 = {func.score():.2f}$')\n",
    "plt.tight_layout()\n",
    "if antigen == 'H1':\n",
    "    plt.savefig('images/9114_'+antigen+'_'+function+str(num_params)+'_transformation.png',dpi=300)\n",
    "else:\n",
    "    plt.savefig('images/9114_'+antigen+'_'+function+str(num_params)+'_transformation.pdf')\n",
    "\n",
    "plt.show()\n",
    "\n"
   ]
  },
  {
   "cell_type": "markdown",
   "metadata": {},
   "source": [
    "## Fit linear interaction models to transformed data"
   ]
  },
  {
   "cell_type": "code",
   "execution_count": 15,
   "metadata": {},
   "outputs": [
    {
     "name": "stdout",
     "output_type": "stream",
     "text": [
      "Fold:  0\n",
      "Order: 0\n",
      "Fold:  1\n",
      "Order: 0\n",
      "Fold:  2\n",
      "Order: 0\n",
      "Fold:  3\n",
      "Order: 0\n",
      "Fold:  4\n",
      "Order: 0\n",
      "Fold:  5\n",
      "Order: 0\n",
      "Fold:  6\n",
      "Order: 0\n",
      "Fold:  7\n",
      "Order: 0\n",
      "Fold:  8\n",
      "Order: 0\n",
      "Fold:  9\n",
      "Order: 0\n",
      "Optimal order:  4\n"
     ]
    }
   ],
   "source": [
    "# format geno and pheno data\n",
    "if antigen == 'H1':\n",
    "    genos = np.array(df[['pos1','pos2','pos3','pos4','pos5','pos6','pos7','pos8','pos9','pos10','pos11','pos12','pos13','pos14','pos15','pos16']].copy(),dtype=np.float64)\n",
    "elif antigen == 'H3':\n",
    "    genos = np.array(df[['pos1','pos2','pos3','pos5','pos6','pos7','pos8','pos11','pos12','pos13','pos14','pos15','pos16']].copy(),dtype=np.float64)\n",
    "    \n",
    "phenos_pred = df[['linearized_pheno']].values.flatten()\n",
    "\n",
    "if ep_type == 'stat':\n",
    "    genos = 2.0*genos-1.0\n",
    "\n",
    "# set parameters for CV\n",
    "max_order = 5\n",
    "num_folds = 10\n",
    "\n",
    "# lists to store r squared values\n",
    "rsq_train_list = np.zeros((max_order+1,num_folds))\n",
    "rsq_test_list = np.zeros((max_order+1,num_folds))\n",
    "\n",
    "size_test = int(1.0/num_folds*len(genos))\n",
    "\n",
    "\n",
    "# loop over CV folds\n",
    "for f in range(num_folds):\n",
    "\n",
    "    # get train & test sets\n",
    "    start = int(f*size_test)\n",
    "    stop = int((f+1)*size_test)\n",
    "    genos_train = np.concatenate((genos[:start],genos[stop:]))\n",
    "    genos_test = genos[start:stop]\n",
    "    phenos_train = np.concatenate((phenos_pred[:start],phenos_pred[stop:]))\n",
    "    phenos_test = phenos_pred[start:stop]\n",
    "    \n",
    "    print('Fold: ',f)\n",
    "    \n",
    "    # initialize zero-order (intercept-only) model\n",
    "    print('Order: 0')\n",
    "    genos_train_previous = np.full(len(genos_train),1.0)\n",
    "    genos_test_previous = np.full(len(genos_test),1.0)\n",
    "\n",
    "    reg_previous = sm.OLS(phenos_train,genos_train_previous).fit()\n",
    "    reg_coefs_previous = reg_previous.params\n",
    "\n",
    "    rsquared_train_previous = reg_previous.rsquared\n",
    "    rsquared_test_previous = 1-np.sum((phenos_test-reg_previous.predict(genos_test_previous))**2)/np.sum((phenos_test-np.mean(phenos_test))**2)\n",
    "    rsq_train_list[0,f] = rsquared_train_previous\n",
    "    rsq_test_list[0,f] = rsquared_test_previous\n",
    "\n",
    "    mean_pheno_train = np.mean(phenos_train)\n",
    "    mean_pheno_test = np.mean(phenos_test)\n",
    "\n",
    "\n",
    "    # fit models of increasing order\n",
    "    for order in range(1,max_order+1):\n",
    "        #print('Order: ',str(order))\n",
    "        poly_current = PolynomialFeatures(order,interaction_only=True)\n",
    "        genos_train_current = poly_current.fit_transform(genos_train)\n",
    "        genos_test_current = poly_current.fit_transform(genos_test)\n",
    "\n",
    "        reg_current = sm.OLS(phenos_train, genos_train_current).fit()\n",
    "        reg_coefs_current = reg_current.params\n",
    "        reg_CIs_current = reg_current.conf_int(alpha=0.05, cols=None)\n",
    "        reg_stderr = reg_current.bse\n",
    "    \n",
    "        rsquared_train_current = reg_current.rsquared\n",
    "        rsquared_test_current = 1-np.sum((phenos_test-reg_current.predict(genos_test_current))**2)/np.sum((phenos_test-np.mean(phenos_test))**2)\n",
    "        rsq_train_list[order,f] = rsquared_train_current\n",
    "        rsq_test_list[order,f] = rsquared_test_current\n",
    "        \n",
    "\n",
    "\n",
    "# average over folds\n",
    "mean_rsq_train = np.mean(rsq_train_list,axis=1)\n",
    "stdev_rsq_train = np.std(rsq_train_list,axis=1)\n",
    "mean_rsq_test = np.mean(rsq_test_list,axis=1)\n",
    "stdev_rsq_test = np.std(rsq_test_list,axis=1)\n",
    "\n",
    "optimal_order = np.argmax(mean_rsq_test)\n",
    "print('Optimal order: ',optimal_order)\n"
   ]
  },
  {
   "cell_type": "code",
   "execution_count": 16,
   "metadata": {},
   "outputs": [
    {
     "name": "stdout",
     "output_type": "stream",
     "text": [
      "Order:  1\n",
      "Params:  14\n",
      "Performance:  0.7772137353719866\n",
      "Order:  2\n",
      "Params:  92\n",
      "Performance:  0.9248774555942139\n",
      "Order:  3\n",
      "Params:  378\n",
      "Performance:  0.9541922799600785\n",
      "Order:  4\n",
      "Params:  1093\n",
      "Performance:  0.9703626938105278\n"
     ]
    }
   ],
   "source": [
    "# fit final models & write to file\n",
    "\n",
    "if antigen == 'H1':\n",
    "    mutations = [str(x) for x in np.arange(1,num_muts)]\n",
    "elif antigen == 'H3':\n",
    "    mutations = ['1','2', '3', '5', '6', '7', '8', '11', '12', '13', '14', '15', '16']\n",
    "\n",
    "\n",
    "# loop through orders\n",
    "for order in range(1,optimal_order+1):\n",
    "    \n",
    "    print('Order: ',str(order))\n",
    "    poly_current = PolynomialFeatures(order,interaction_only=True)\n",
    "    genos_current = poly_current.fit_transform(genos)\n",
    "\n",
    "    # fit\n",
    "    reg_current = sm.OLS(phenos_pred,genos_current).fit()\n",
    "    reg_coefs_current = reg_current.params\n",
    "    reg_CIs_current = reg_current.conf_int(alpha=0.05/float(len(reg_coefs_current)), cols=None)\n",
    "    reg_stderr = reg_current.bse\n",
    "    reg_pvalues = reg_current.pvalues\n",
    "\n",
    "    predicted_phenos_permuted = reg_current.predict(genos_current)\n",
    "    rsquared_current = reg_current.rsquared\n",
    "    print('Params: ',len(reg_coefs_current))\n",
    "    print('Performance: ',rsquared_current)\n",
    "     \n",
    "    # write model to file\n",
    "    if order == optimal_order:\n",
    "        coef_names = poly_current.get_feature_names(input_features = mutations)\n",
    "        with open('model_coefs/globalep_9114_'+antigen+'_'+function+str(num_params)+'_'+str(order)+'order_'+ep_type+'.txt','w') as writefile:\n",
    "            coef_writer = csv.writer(writefile,delimiter='\\t')\n",
    "            coef_writer.writerow(['Nonlinear function type: ',function])\n",
    "            for i in func.parameters.values():\n",
    "                coef_writer.writerow([i.name,i.value])\n",
    "            coef_writer.writerow(['Nonlinear function performance: ',func.score()])\n",
    "            coef_writer.writerow(['Params: ',len(reg_coefs_current)])\n",
    "            coef_writer.writerow(['Performance: ',rsquared_current])\n",
    "            coef_writer.writerow(['Term','Coefficient','Standard Error','p-values','95% CI lower','95% CI upper'])\n",
    "            coef_writer.writerow(['Intercept',reg_coefs_current[0]])\n",
    "            for i in range(1,len(reg_coefs_current)):\n",
    "                coef_writer.writerow([','.join(coef_names[i].split(' ')),reg_coefs_current[i],reg_stderr[i],\n",
    "                                  reg_pvalues[i],reg_CIs_current[i][0],reg_CIs_current[i][1]])\n",
    "            writefile.close()\n"
   ]
  },
  {
   "cell_type": "code",
   "execution_count": null,
   "metadata": {},
   "outputs": [],
   "source": [
    "\n"
   ]
  },
  {
   "cell_type": "code",
   "execution_count": null,
   "metadata": {},
   "outputs": [],
   "source": []
  }
 ],
 "metadata": {
  "kernelspec": {
   "display_name": "Python 3",
   "language": "python",
   "name": "python3"
  },
  "language_info": {
   "codemirror_mode": {
    "name": "ipython",
    "version": 3
   },
   "file_extension": ".py",
   "mimetype": "text/x-python",
   "name": "python",
   "nbconvert_exporter": "python",
   "pygments_lexer": "ipython3",
   "version": "3.8.2"
  }
 },
 "nbformat": 4,
 "nbformat_minor": 2
}
