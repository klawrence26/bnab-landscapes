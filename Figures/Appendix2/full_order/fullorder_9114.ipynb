{
 "cells": [
  {
   "cell_type": "code",
   "execution_count": 66,
   "metadata": {},
   "outputs": [],
   "source": [
    "import string\n",
    "import numpy as np\n",
    "import sys\n",
    "import csv\n",
    "import itertools\n",
    "import seaborn as sns\n",
    "import matplotlib.pyplot as plt\n",
    "import pandas as pd\n",
    "import scipy as sp\n",
    "import scipy.stats as st\n",
    "import time\n",
    "\n",
    "\n",
    "#### antibody choice ####\n",
    "antibody = \"9114\"\n",
    "#antibody = \"6261\" \n",
    "\n",
    "antigens = [\"H1\", \"H3\", \"FluB\"] if antibody == \"9114\" else [\"H1\", \"H9\"]\n",
    "L = (16 if antibody == \"9114\" else 11)\n",
    "sequences_int = range(2**L)\n",
    "\n",
    "L_H3 = 13\n",
    "H3_required_mutations = ['4', '9', '10']\n",
    "H3_mutations = ['1', '2', '3', '5', '6', '7', '8', '11', '12', '13', '14', '15', '16']\n",
    "\n",
    "L_B = 8\n",
    "B_required_mutations = ['1', '3', '4', '5', '6', '9', '10', '12']\n",
    "B_mutations = ['2', '7', '8', '11', '13', '14', '15', '16']\n",
    "\n",
    "def nb_mutation(s):\n",
    "    \"\"\" Number of mutations in variant s \"\"\"\n",
    "    return bin(s).count(\"1\")\n",
    "\n",
    "def get_coef_name(s_string,antigen):\n",
    "    if antigen == 'H1':\n",
    "        if s_string == '0'*L:\n",
    "            return 'mean'\n",
    "        else:\n",
    "            return ','.join([str(i+1) for i in range(L) if s_string[i] == '1'])\n",
    "\n",
    "    elif antigen == 'H3':\n",
    "        if s_string == '0'*L_H3:\n",
    "            return 'mean'\n",
    "        else:\n",
    "            return ','.join([H3_mutations[i] for i in range(L_H3) if s_string[i] == '1'])\n",
    "\n",
    "    elif antigen == 'B':\n",
    "        if s_string == '0'*L_B:\n",
    "            return 'mean'\n",
    "        else:\n",
    "            return ','.join([B_mutations[i] for i in range(L_B) if s_string[i] == '1'])\n",
    "\n",
    "def remove_required_muts(s_str,antigen):\n",
    "    \n",
    "    if antigen == 'H3':\n",
    "        return ''.join([s_str[int(i)-1] for i in H3_mutations])\n",
    "        \n",
    "        \n",
    "    elif antigen == 'B':\n",
    "        return ''.join([s_str[int(i)-1] for i in B_mutations])\n",
    "\n",
    "\n",
    "\n"
   ]
  },
  {
   "cell_type": "code",
   "execution_count": 72,
   "metadata": {},
   "outputs": [
    {
     "name": "stdout",
     "output_type": "stream",
     "text": [
      "(8192,)\n",
      "(256,)\n"
     ]
    },
    {
     "data": {
      "text/plain": [
       "1.0147488936967464"
      ]
     },
     "execution_count": 72,
     "metadata": {},
     "output_type": "execute_result"
    }
   ],
   "source": [
    "# read dataframe\n",
    "df = pd.read_csv(\"20210427_HA_unadj_unfilt_merg.csv\",\n",
    "                     dtype={\"variant\":\"str\"})\n",
    "df = df.rename(columns={\"h1_mean\": \"H1_log10Kd\", \"h3_mean\": \"H3_log10Kd\", \"fluB_mean\": \"FluB_log10Kd\",\n",
    "                        \"h1_sem\": \"H1_stelog10Kd\", \"h3_sem\": \"H3_stelog10Kd\", \"fluB_sem\": \"FluB_stelog10Kd\"})\n",
    "# convert genotypes to integers and sort accordingly    \n",
    "df[\"variant_int\"] = df.variant.apply(lambda x: int(x, 2))\n",
    "df = df.set_index(\"variant_int\").reindex(range(0, 2**L)).reset_index()\n",
    "\n",
    "df['num_muts'] = df.apply(lambda row: nb_mutation(row.variant_int),axis=1)\n",
    "\n",
    "\n",
    "phenos_H1 = df[\"H1_log10Kd\"].values\n",
    "pheno_errs_H1 = df[\"H1_stelog10Kd\"].values\n",
    "orders_H1 = df[\"num_muts\"].values\n",
    "\n",
    "# for H3, filter for the three required mutations and remove them\n",
    "df_H3 = df.dropna(subset=['H3_log10Kd'])\n",
    "for mut in H3_required_mutations:\n",
    "    df_H3 = df_H3.loc[df_H3['pos'+mut] == 1]\n",
    "\n",
    "df_H3['variant_H3'] = df.apply(lambda row: remove_required_muts(row.variant,'H3'),axis=1)\n",
    "df_H3['num_muts'] = df.apply(lambda row: row.num_muts-len(H3_required_mutations),axis=1)\n",
    "phenos_H3 = np.array(df_H3[['H3_log10Kd']].values.flatten(),dtype='float32')\n",
    "pheno_errs_H3 = df_H3[\"H3_stelog10Kd\"].values\n",
    "orders_H3 = df_H3[\"num_muts\"].values\n",
    "print(phenos_H3.shape)\n",
    "\n",
    "coef_names_H3 = np.array([get_coef_name(var,'H3') for var in df_H3['variant_H3'].values])\n",
    "\n",
    "# for B, filter for the eight required mutations and remove them\n",
    "df_B = df.dropna(subset=['FluB_log10Kd'])\n",
    "for mut in B_required_mutations:\n",
    "    df_B = df_B.loc[df_B['pos'+mut] == 1]\n",
    "\n",
    "df_B['variant_B'] = df.apply(lambda row: remove_required_muts(row.variant,'B'),axis=1)\n",
    "df_B['num_muts'] = df.apply(lambda row: row.num_muts-len(B_required_mutations),axis=1)\n",
    "phenos_B = df_B[['FluB_log10Kd']].values.flatten()\n",
    "pheno_errs_B = df_B[\"FluB_stelog10Kd\"].values\n",
    "orders_B = df_B[\"num_muts\"].values\n",
    "print(phenos_B.shape)\n",
    "\n",
    "coef_names_B = np.array([get_coef_name(var,'B') for var in df_B['variant_B'].values])\n",
    "\n",
    "df_B\n",
    "\n",
    "df['H1_stelog10Kd'].max()"
   ]
  },
  {
   "cell_type": "code",
   "execution_count": 62,
   "metadata": {},
   "outputs": [
    {
     "data": {
      "text/plain": [
       "1.1185578706227814"
      ]
     },
     "execution_count": 62,
     "metadata": {},
     "output_type": "execute_result"
    }
   ],
   "source": [
    "df['FluB_stelog10Kd'].max()"
   ]
  },
  {
   "cell_type": "markdown",
   "metadata": {},
   "source": [
    "## H3"
   ]
  },
  {
   "cell_type": "code",
   "execution_count": 81,
   "metadata": {},
   "outputs": [
    {
     "name": "stdout",
     "output_type": "stream",
     "text": [
      "(8192, 8192) (8192, 8192)\n",
      "0.1575181484222412\n",
      "(8192,)\n",
      "1.128598928451538\n",
      "(8192,)\n"
     ]
    }
   ],
   "source": [
    "# do WH transform to get vector of epistatic coefficients\n",
    "\n",
    "# epsilon = VHy\n",
    "V = np.diag([(-1)**(n)/(2**(L_H3-(n))) for n in orders_H3])\n",
    "H = sp.linalg.hadamard(2**L_H3,dtype='float32')\n",
    "print(V.shape,H.shape)\n",
    "ep_coefs_H3 = np.linalg.multi_dot([V,H,phenos_H3])\n",
    "print(ep_coefs_H3.shape)\n",
    "\n",
    "# errors\n",
    "\n",
    "# dy = sqrt(VH2 * dy2)\n",
    "Hsq = np.ones((2**L_H3,2**L_H3),dtype='float')\n",
    "ep_coefs_err_H3 = np.sqrt(np.linalg.multi_dot([(V*V), Hsq,(pheno_errs_H3*pheno_errs_H3)]))\n",
    "\n",
    "print(ep_coefs_err_H3.shape)\n",
    "\n",
    "\n"
   ]
  },
  {
   "cell_type": "code",
   "execution_count": 82,
   "metadata": {},
   "outputs": [
    {
     "name": "stdout",
     "output_type": "stream",
     "text": [
      "[0.0, 0.0, 3.836145091608801e-113, 0.000746132431030897, 0.0, 0.0003252699467728424, 0.04438474876379847, 0.35660182031675614, 2.388194214450972e-69, 5.10155966529813e-07, 0.2330326125244147, 0.01675063583475451, 0.0022224290091015565, 0.02468158090061025, 0.17860998943659795, 0.1325525992462479, 0.0, 3.0895766425052743e-13, 0.1337278032081306, 0.0003588602287221298]\n",
      "154\n",
      "['mean', '16', '15', '14', '13', '12', '11', '8', '7', '6', '5', '3', '2', '1', '13,16', '12,16', '12,14', '11,16', '8,16', '7,16', '7,11', '7,8', '6,16', '6,13', '6,12', '6,8', '6,7', '5,16', '5,11', '5,7', '5,6', '3,16', '3,12', '3,11', '3,7', '3,6', '3,5', '2,16', '2,12', '2,11', '2,7', '2,6', '2,5', '2,3', '1,16', '1,12', '1,11', '1,8', '1,6', '1,5', '1,2', '7,11,16', '5,7,12', '5,7,11', '5,6,16', '5,6,11', '5,6,7', '3,6,16', '3,6,11', '2,7,16', '2,7,12', '2,7,11', '2,6,12', '2,6,11', '2,6,8', '2,6,7', '2,5,16', '2,5,11', '2,3,16', '2,3,12', '2,3,11', '2,3,7', '2,3,6', '2,3,5', '1,7,12', '1,6,16', '1,6,14', '1,6,11', '1,6,7', '1,5,16', '1,5,11', '1,5,7', '1,3,16', '1,3,12', '1,3,6', '1,3,5', '1,2,16', '1,2,11', '1,2,6', '1,2,5', '1,2,3', '5,6,7,11', '3,5,7,14', '2,6,7,12', '2,5,7,16', '2,5,7,14', '2,5,7,12', '2,5,7,11', '2,5,6,12', '2,5,6,7', '2,3,7,11', '2,3,6,16', '2,3,6,12', '2,3,6,7', '2,3,5,16', '2,3,5,7', '2,3,5,6', '1,5,7,12', '1,5,7,11', '1,5,6,7', '1,3,5,12', '1,3,5,6', '1,2,6,14', '1,2,6,12', '1,2,6,7', '1,2,5,16', '1,2,5,7', '1,2,5,6', '1,2,3,16', '1,2,3,12', '1,2,3,11', '1,2,3,7', '1,2,3,6', '1,2,3,5', '2,5,6,7,11', '2,3,6,11,16', '2,3,6,11,12', '2,3,5,11,16', '2,3,5,7,16', '2,3,5,7,11', '2,3,5,6,16', '2,3,5,6,14', '2,3,5,6,7', '1,7,8,11,13', '1,5,6,12,16', '1,5,6,7,16', '1,3,5,7,16', '1,2,5,6,16', '1,2,5,6,7', '1,2,3,11,16', '1,2,3,6,16', '1,2,3,6,12', '1,2,3,6,11', '1,2,3,5,11', '1,2,3,5,7', '1,2,3,5,6', '2,3,5,6,12,16', '1,2,5,6,7,11', '1,2,3,6,7,12', '1,2,3,5,7,16', '1,2,3,5,6,16', '1,2,3,5,6,12', '1,2,3,5,6,7', '1,2,3,5,7,11,16']\n"
     ]
    },
    {
     "data": {
      "image/png": "[encoded data removed]",
      "text/plain": [
       "<Figure size 432x288 with 1 Axes>"
      ]
     },
     "metadata": {
      "needs_background": "light"
     },
     "output_type": "display_data"
    },
    {
     "name": "stderr",
     "output_type": "stream",
     "text": [
      "<ipython-input-82-d560813ba0e4>:21: RuntimeWarning: divide by zero encountered in log10\n",
      "  plt.scatter(x=ep_coefs_H3,y=-1.0*np.log10(ep_coefs_pvals_H3),s=3,alpha=0.3)\n"
     ]
    },
    {
     "data": {
      "image/png": "[encoded data removed]",
      "text/plain": [
       "<Figure size 432x288 with 1 Axes>"
      ]
     },
     "metadata": {
      "needs_background": "light"
     },
     "output_type": "display_data"
    }
   ],
   "source": [
    "# get pval for each coef\n",
    "\n",
    "ep_coefs_pvals_H3 = [st.norm.cdf(0,loc=np.abs(ep_coefs_H3[i]),scale=ep_coefs_err_H3[i]) for i in range(len(ep_coefs_H3))]\n",
    "print(ep_coefs_pvals_H3[:20])\n",
    "sig_H3 = [1 if x < 0.05/(2**L_H3) else 0 for x in ep_coefs_pvals_H3]\n",
    "\n",
    "print(len(np.nonzero(sig_H3)[0]))\n",
    "\n",
    "significant_coef_names_H3 = coef_names_H3[np.nonzero(sig_H3)[0]]\n",
    "\n",
    "sorted_sig_coef_names_H3 = sorted(significant_coef_names_H3, key=lambda x: len(x.split(',')))\n",
    "print(sorted_sig_coef_names_H3)\n"
   ]
  },
  {
   "cell_type": "code",
   "execution_count": 57,
   "metadata": {},
   "outputs": [],
   "source": [
    "# print coefs and pvals, sorted by p-value\n",
    "sorted_indices = sorted(range(len(ep_coefs_pvals_H3)),key = lambda x: ep_coefs_pvals_H3[x])\n",
    "#print(sorted_indices)\n",
    "\n",
    "with open('coefs/9114_H3_fullorder.txt','w') as writefile:\n",
    "    coef_writer = csv.writer(writefile,delimiter='\\t')\n",
    "    coef_writer.writerow(['Term','Coefficient','StdErr','P-value'])\n",
    "    for i in sorted_indices:\n",
    "        coef_writer.writerow([str(coef_names_H3[i]),ep_coefs_H3[i],ep_coefs_err_H3[i],ep_coefs_pvals_H3[i]])\n",
    "    writefile.close()"
   ]
  },
  {
   "cell_type": "markdown",
   "metadata": {},
   "source": [
    "## FluB"
   ]
  },
  {
   "cell_type": "code",
   "execution_count": 54,
   "metadata": {},
   "outputs": [
    {
     "name": "stdout",
     "output_type": "stream",
     "text": [
      "(256, 256) (256, 256)\n",
      "(256,)\n",
      "(256,)\n"
     ]
    }
   ],
   "source": [
    "# do WH transform to get vector of epistatic coefficients\n",
    "\n",
    "# epsilon = VHy\n",
    "V = np.diag([(-1)**(n)/(2**(L_B-(n))) for n in orders_B])\n",
    "H = sp.linalg.hadamard(2**L_B,dtype='float')\n",
    "print(V.shape,H.shape)\n",
    "ep_coefs_B = V @ H @ phenos_B\n",
    "print(ep_coefs_B.shape)\n",
    "#print(ep_coefs)\n",
    "\n",
    "# errors\n",
    "\n",
    "# dy = sqrt(VH2 * dy2)\n",
    "Hsq = np.ones((2**L_B,2**L_B),dtype='float')\n",
    "ep_coefs_err_B = np.sqrt( (V*V) @ Hsq @ (pheno_errs_B*pheno_errs_B))\n",
    "\n",
    "print(ep_coefs_err_B.shape)\n",
    "#print(ep_coefs_err)\n",
    "\n",
    "\n"
   ]
  },
  {
   "cell_type": "code",
   "execution_count": 56,
   "metadata": {},
   "outputs": [
    {
     "name": "stdout",
     "output_type": "stream",
     "text": [
      "[0.0, 0.0, 1.6741765646453515e-22, 0.02759576649776317, 0.040912495779387395, 0.17494440112641724, 0.39548571724770265, 0.030582339422972234, 8.130963150281367e-37, 0.02254950565786141, 0.09598223874421297, 0.037847507183985565, 0.06817944102124744, 0.007638466940021291, 0.0006803053344043532, 0.10863607950578724, 1.0583597186874578e-45, 0.3951068231539356, 0.0058638916010557065, 0.0001666769927592059]\n",
      "28\n",
      "['mean', '16', '15', '13', '11', '8', '7', '2', '8,14', '8,11', '7,16', '7,11', '2,16', '11,15,16', '11,13,16', '7,11,14', '7,11,13', '2,8,15', '2,8,11', '2,7,16', '8,11,14,16', '8,11,13,14', '7,14,15,16', '7,13,15,16', '7,8,11,14', '2,11,14,15', '2,7,13,15', '2,7,8,14']\n"
     ]
    },
    {
     "data": {
      "image/png": "[encoded data removed]",
      "text/plain": [
       "<Figure size 432x288 with 1 Axes>"
      ]
     },
     "metadata": {
      "needs_background": "light"
     },
     "output_type": "display_data"
    },
    {
     "name": "stderr",
     "output_type": "stream",
     "text": [
      "<ipython-input-56-7a72aae3fae5>:21: RuntimeWarning: divide by zero encountered in log10\n",
      "  plt.scatter(x=ep_coefs_B,y=-1.0*np.log10(ep_coefs_pvals_B),s=3,alpha=0.3)\n"
     ]
    },
    {
     "data": {
      "image/png": "[encoded data removed]",
      "text/plain": [
       "<Figure size 432x288 with 1 Axes>"
      ]
     },
     "metadata": {
      "needs_background": "light"
     },
     "output_type": "display_data"
    }
   ],
   "source": [
    "# get pval for each coef\n",
    "\n",
    "ep_coefs_pvals_B = [st.norm.cdf(0,loc=np.abs(ep_coefs_B[i]),scale=ep_coefs_err_B[i]) for i in range(len(ep_coefs_B))]\n",
    "print(ep_coefs_pvals_B[:20])\n",
    "sig_B = [1 if x < 0.05/(2**L_B) else 0 for x in ep_coefs_pvals_B]\n",
    "\n",
    "print(len(np.nonzero(sig_B)[0]))\n",
    "\n",
    "significant_coef_names_B = coef_names_B[np.nonzero(sig_B)[0]]\n",
    "\n",
    "sorted_sig_coef_names_B = sorted(significant_coef_names_B, key=lambda x: len(x.split(',')))\n",
    "print(sorted_sig_coef_names_B)\n"
   ]
  },
  {
   "cell_type": "code",
   "execution_count": 58,
   "metadata": {},
   "outputs": [],
   "source": [
    "# print coefs and pvals, sorted by p-value\n",
    "sorted_indices = sorted(range(len(ep_coefs_pvals_B)),key = lambda x: ep_coefs_pvals_B[x])\n",
    "\n",
    "with open('coefs/9114_FluB_fullorder.txt','w') as writefile:\n",
    "    coef_writer = csv.writer(writefile,delimiter='\\t')\n",
    "    coef_writer.writerow(['Term','Coefficient','StdErr','P-value'])\n",
    "    for i in sorted_indices:\n",
    "        coef_writer.writerow([str(coef_names_B[i]),ep_coefs_B[i],ep_coefs_err_B[i],ep_coefs_pvals_B[i]])\n",
    "    writefile.close()"
   ]
  },
  {
   "cell_type": "code",
   "execution_count": null,
   "metadata": {},
   "outputs": [],
   "source": []
  }
 ],
 "metadata": {
  "kernelspec": {
   "display_name": "Python 3",
   "language": "python",
   "name": "python3"
  },
  "language_info": {
   "codemirror_mode": {
    "name": "ipython",
    "version": 3
   },
   "file_extension": ".py",
   "mimetype": "text/x-python",
   "name": "python",
   "nbconvert_exporter": "python",
   "pygments_lexer": "ipython3",
   "version": "3.8.2"
  }
 },
 "nbformat": 4,
 "nbformat_minor": 4
}
