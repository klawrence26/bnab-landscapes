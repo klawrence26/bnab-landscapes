{
 "cells": [
  {
   "cell_type": "code",
   "execution_count": 1,
   "metadata": {},
   "outputs": [],
   "source": [
    "import string\n",
    "import numpy as np\n",
    "import sys\n",
    "import csv\n",
    "import itertools\n",
    "import seaborn as sns\n",
    "import matplotlib.pyplot as plt\n",
    "import pandas as pd\n",
    "import scipy as sp\n",
    "import scipy.stats as st\n",
    "\n",
    "\n",
    "#### antibody choice ####\n",
    "#antibody = \"9114\"\n",
    "antibody = \"6261\" \n",
    "\n",
    "antigens = [\"H1\", \"H3\", \"FluB\"] if antibody == \"9114\" else [\"H1\", \"H9\"]\n",
    "L = (16 if antibody == \"9114\" else 11)\n",
    "sequences_int = range(2**L)\n",
    "\n",
    "\n",
    "def nb_mutation(s):\n",
    "    \"\"\" Number of mutations in variant s \"\"\"\n",
    "    return bin(s).count(\"1\")\n",
    "\n",
    "def get_coef_name(s_string):\n",
    "    if s_string == '0'*L:\n",
    "        return 'mean'\n",
    "    else:\n",
    "        return ','.join([str(i+1) for i in range(L) if s_string[i] == '1'])\n",
    "\n",
    "\n"
   ]
  },
  {
   "cell_type": "code",
   "execution_count": 183,
   "metadata": {},
   "outputs": [
    {
     "name": "stdout",
     "output_type": "stream",
     "text": [
      "(2048,)\n"
     ]
    },
    {
     "data": {
      "text/html": [
       "<div>\n",
       "<style scoped>\n",
       "    .dataframe tbody tr th:only-of-type {\n",
       "        vertical-align: middle;\n",
       "    }\n",
       "\n",
       "    .dataframe tbody tr th {\n",
       "        vertical-align: top;\n",
       "    }\n",
       "\n",
       "    .dataframe thead th {\n",
       "        text-align: right;\n",
       "    }\n",
       "</style>\n",
       "<table border=\"1\" class=\"dataframe\">\n",
       "  <thead>\n",
       "    <tr style=\"text-align: right;\">\n",
       "      <th></th>\n",
       "      <th>variant_int</th>\n",
       "      <th>variant</th>\n",
       "      <th>repa</th>\n",
       "      <th>repb</th>\n",
       "      <th>repc</th>\n",
       "      <th>H1_log10Kd</th>\n",
       "      <th>H1_stelog10Kd</th>\n",
       "      <th>repx</th>\n",
       "      <th>repy</th>\n",
       "      <th>repz</th>\n",
       "      <th>H9_log10Kd</th>\n",
       "      <th>H9_stelog10Kd</th>\n",
       "      <th>som_mut</th>\n",
       "      <th>variant_str</th>\n",
       "    </tr>\n",
       "  </thead>\n",
       "  <tbody>\n",
       "  </tbody>\n",
       "</table>\n",
       "</div>"
      ],
      "text/plain": [
       "Empty DataFrame\n",
       "Columns: [variant_int, variant, repa, repb, repc, H1_log10Kd, H1_stelog10Kd, repx, repy, repz, H9_log10Kd, H9_stelog10Kd, som_mut, variant_str]\n",
       "Index: []"
      ]
     },
     "execution_count": 183,
     "metadata": {},
     "output_type": "execute_result"
    }
   ],
   "source": [
    "# read dataframe\n",
    "df = pd.read_csv(\"20210521_6261_HA_unadj_unfilt_merg_keepall.csv\",\n",
    "                     dtype={\"variant\":\"str\"})\n",
    "df = df.rename(columns={\"h1_mean\": \"H1_log10Kd\", \"h9_mean\": \"H9_log10Kd\",\n",
    "                        \"h1_sem\": \"H1_stelog10Kd\", \"h9_sem\": \"H9_stelog10Kd\"})\n",
    "# convert genotypes to integers and sort accordingly    \n",
    "df[\"variant_int\"] = df.variant.apply(lambda x: int(x, 2))\n",
    "df = df.set_index(\"variant_int\").reindex(range(0, 2**L)).reset_index()\n",
    "df[\"variant_str\"] = df.variant_int.apply(lambda x: format(x, '011b'))\n",
    "\n",
    "\n",
    "\n",
    "df['H1_log10Kd'] = df['H1_log10Kd'].fillna(7)\n",
    "df['H1_stelog10Kd'] = df['H1_stelog10Kd'].fillna(1)\n",
    "df['H9_log10Kd'] = df['H9_log10Kd'].fillna(7)\n",
    "df['H9_stelog10Kd'] = df['H9_stelog10Kd'].fillna(1)\n",
    "\n",
    "df.loc[df['variant_str'].isna()]\n",
    "\n",
    "\n",
    "phenos_H1 = df[\"H1_log10Kd\"].values\n",
    "pheno_errs_H1 = df[\"H1_stelog10Kd\"].values\n",
    "\n",
    "phenos_H9 = df[['H9_log10Kd']].values.flatten()\n",
    "pheno_errs_H9 = df[\"H9_stelog10Kd\"].values\n",
    "\n",
    "orders = df[\"som_mut\"].values\n",
    "\n",
    "print(phenos_H9.shape)\n",
    "\n",
    "coef_names = np.array([get_coef_name(var) for var in df['variant_str'].values])\n",
    "df.loc[df['variant_str'].isna()]\n",
    "\n"
   ]
  },
  {
   "cell_type": "markdown",
   "metadata": {},
   "source": [
    "## H1"
   ]
  },
  {
   "cell_type": "code",
   "execution_count": 184,
   "metadata": {},
   "outputs": [
    {
     "name": "stdout",
     "output_type": "stream",
     "text": [
      "(2048, 2048) (2048, 2048)\n",
      "(2048,)\n",
      "(2048,)\n"
     ]
    }
   ],
   "source": [
    "# do WH transform to get vector of epistatic coefficients\n",
    "\n",
    "# epsilon = VHy\n",
    "V = np.diag([(-1)**(n)/(2**(L-(n))) for n in orders])\n",
    "H = sp.linalg.hadamard(2**L,dtype='float')\n",
    "print(V.shape,H.shape)\n",
    "ep_coefs_H1 = V @ H @ phenos_H1\n",
    "print(ep_coefs_H1.shape)\n",
    "\n",
    "# errors\n",
    "\n",
    "# dy = sqrt(VH2 * dy2)\n",
    "Hsq = np.ones((2**L,2**L),dtype='float')\n",
    "ep_coefs_err_H1 = np.sqrt( (V*V) @ Hsq @ (pheno_errs_H1*pheno_errs_H1))\n",
    "\n",
    "print(ep_coefs_err_H1.shape)\n"
   ]
  },
  {
   "cell_type": "code",
   "execution_count": 185,
   "metadata": {},
   "outputs": [
    {
     "name": "stdout",
     "output_type": "stream",
     "text": [
      "[0.0, 9.471114931627096e-189, 0.0, 3.941752061179805e-09, 0.0, 2.6013774426648304e-20, 9.252344328943377e-159, 0.0008226009672720927, 3.7298967462696695e-113, 4.72456178281812e-06, 3.9094973109674424e-51, 0.24645605285256095, 1.4726367581530052e-88, 0.39243514262898077, 7.381793411868335e-31, 0.1584322896861004, 0.0, 1.6438534376053558e-18, 0.0, 5.978061660507374e-11]\n",
      "154\n",
      "['mean', '11', '10', '9', '8', '7', '6', '4', '3', '2', '1', '10,11', '9,11', '9,10', '8,11', '8,10', '8,9', '7,11', '7,10', '7,9', '7,8', '6,10', '6,8', '6,7', '5,11', '5,7', '5,6', '4,10', '4,7', '4,6', '3,11', '3,6', '2,11', '2,10', '2,9', '2,8', '2,7', '2,6', '2,4', '2,3', '1,11', '1,10', '1,9', '1,8', '1,7', '1,6', '1,4', '1,2', '8,9,10', '7,10,11', '7,9,10', '7,8,10', '7,8,9', '6,10,11', '6,9,11', '6,9,10', '6,8,10', '6,7,11', '6,7,10', '6,7,9', '6,7,8', '5,7,9', '4,5,11', '2,9,10', '2,8,10', '2,8,9', '2,7,10', '2,7,9', '2,7,8', '2,6,9', '2,6,7', '2,4,9', '2,4,6', '1,9,10', '1,8,11', '1,8,10', '1,8,9', '1,7,10', '1,7,9', '1,7,8', '1,6,10', '1,6,9', '1,6,8', '1,5,9', '1,5,7', '1,4,11', '1,4,6', '1,3,11', '1,3,7', '1,2,11', '1,2,10', '1,2,9', '1,2,8', '1,2,7', '1,2,6', '1,2,4', '7,9,10,11', '7,8,9,10', '6,7,10,11', '6,7,9,10', '6,7,8,9', '2,8,9,10', '2,7,9,10', '2,6,7,10', '2,6,7,9', '2,6,7,8', '1,8,9,10', '1,7,9,10', '1,7,8,10', '1,7,8,9', '1,6,9,10', '1,6,7,10', '1,6,7,9', '1,3,8,10', '1,2,10,11', '1,2,9,11', '1,2,9,10', '1,2,8,11', '1,2,8,10', '1,2,8,9', '1,2,7,11', '1,2,7,10', '1,2,7,9', '1,2,7,8', '1,2,6,11', '1,2,6,10', '1,2,6,8', '1,2,6,7', '1,2,4,9', '1,2,4,7', '1,2,4,6', '1,2,3,7', '2,7,8,9,10', '2,6,7,9,10', '2,6,7,8,10', '2,6,7,8,9', '2,5,7,9,10', '1,7,8,10,11', '1,4,7,9,10', '1,2,8,9,10', '1,2,7,9,11', '1,2,7,9,10', '1,2,6,10,11', '1,2,6,9,10', '1,2,6,7,9', '1,2,6,7,8', '1,2,4,7,10', '1,6,7,8,9,10', '1,2,7,8,9,10', '1,2,6,8,9,10', '1,2,6,7,10,11', '1,2,6,7,8,10', '2,4,6,7,8,9,10', '1,2,4,6,7,8,9,10']\n"
     ]
    },
    {
     "data": {
      "image/png": "[encoded data removed]",
      "text/plain": [
       "<Figure size 432x288 with 1 Axes>"
      ]
     },
     "metadata": {
      "needs_background": "light"
     },
     "output_type": "display_data"
    },
    {
     "name": "stderr",
     "output_type": "stream",
     "text": [
      "<ipython-input-185-e7d1c8860f5a>:21: RuntimeWarning: divide by zero encountered in log10\n",
      "  plt.scatter(x=ep_coefs_H1,y=-1.0*np.log10(ep_coefs_pvals_H1),s=3,alpha=0.3)\n"
     ]
    },
    {
     "data": {
      "image/png": "[encoded data removed]",
      "text/plain": [
       "<Figure size 432x288 with 1 Axes>"
      ]
     },
     "metadata": {
      "needs_background": "light"
     },
     "output_type": "display_data"
    }
   ],
   "source": [
    "# get pval for each coef\n",
    "\n",
    "ep_coefs_pvals_H1 = [st.norm.cdf(0,loc=np.abs(ep_coefs_H1[i]),scale=ep_coefs_err_H1[i]) for i in range(len(ep_coefs_H1))]\n",
    "print(ep_coefs_pvals_H1[:20])\n",
    "sig_H1 = [1 if x < 0.05/(2**L) else 0 for x in ep_coefs_pvals_H1]\n",
    "\n",
    "print(len(np.nonzero(sig_H1)[0]))\n",
    "\n",
    "significant_coef_names_H1 = coef_names[np.nonzero(sig_H1)[0]]\n",
    "\n",
    "sorted_sig_coef_names_H1 = sorted(significant_coef_names_H1, key=lambda x: len(x.split(',')))\n",
    "print(sorted_sig_coef_names_H1)\n",
    "\n",
    "\n"
   ]
  },
  {
   "cell_type": "code",
   "execution_count": 186,
   "metadata": {},
   "outputs": [],
   "source": [
    "# print coefs and pvals, sorted by p-value\n",
    "sorted_indices = sorted(range(len(ep_coefs_pvals_H1)),key = lambda x: ep_coefs_pvals_H1[x])\n",
    "\n",
    "with open('coefs/6261_H1_fullorder.txt','w') as writefile:\n",
    "    coef_writer = csv.writer(writefile,delimiter='\\t')\n",
    "    coef_writer.writerow(['Term','Coefficient','StdErr','P-value'])\n",
    "    for i in sorted_indices:\n",
    "        coef_writer.writerow([str(coef_names[i]),ep_coefs_H1[i],ep_coefs_err_H1[i],ep_coefs_pvals_H1[i]])\n",
    "    writefile.close()"
   ]
  },
  {
   "cell_type": "markdown",
   "metadata": {},
   "source": [
    "## H9"
   ]
  },
  {
   "cell_type": "code",
   "execution_count": 187,
   "metadata": {},
   "outputs": [
    {
     "name": "stdout",
     "output_type": "stream",
     "text": [
      "(2048, 2048) (2048, 2048)\n",
      "(2048,)\n",
      "(2048,)\n"
     ]
    }
   ],
   "source": [
    "# do WH transform to get vector of epistatic coefficients\n",
    "\n",
    "# epsilon = VHy\n",
    "V = np.diag([(-1)**(n)/(2**(L-(n))) for n in orders])\n",
    "H = sp.linalg.hadamard(2**L,dtype='float')\n",
    "print(V.shape,H.shape)\n",
    "ep_coefs_H9 = V @ H @ phenos_H9\n",
    "print(ep_coefs_H9.shape)\n",
    "#print(ep_coefs)\n",
    "\n",
    "# errors\n",
    "\n",
    "# dy = sqrt(VH2 * dy2)\n",
    "ep_coefs_err_H9 = np.sqrt( ((V@H)*(V@H)) @ (pheno_errs_H9*pheno_errs_H9))\n",
    "\n",
    "print(ep_coefs_err_H9.shape)\n"
   ]
  },
  {
   "cell_type": "code",
   "execution_count": 188,
   "metadata": {},
   "outputs": [
    {
     "name": "stdout",
     "output_type": "stream",
     "text": [
      "[0.0, 2.5212182886522937e-282, 0.0, 5.7786198544630365e-43, 0.0, 2.8403283028140806e-33, 2.5980460409143586e-120, 0.07106143501476063, 2.5857632893599368e-114, 0.0005475781491301312, 4.5842632637675427e-97, 0.07681436391123067, 0.004332668583209476, 0.00022011858405740796, 0.45249584271515536, 0.01645695788842209, 0.0, 1.276912612061302e-06, 2.1048518006021778e-98, 0.4653425503758716]\n",
      "199\n",
      "['mean', '11', '10', '9', '8', '7', '6', '5', '4', '3', '2', '1', '10,11', '9,11', '9,10', '8,10', '7,11', '7,10', '7,9', '7,8', '6,11', '6,10', '6,8', '6,7', '5,6', '4,8', '4,6', '3,11', '3,5', '2,11', '2,10', '2,9', '2,8', '2,7', '2,6', '2,3', '1,11', '1,10', '1,9', '1,8', '1,7', '1,6', '1,5', '1,4', '1,3', '1,2', '7,9,10', '6,10,11', '6,9,10', '6,8,10', '6,8,9', '6,7,11', '5,6,7', '4,7,9', '4,6,9', '4,6,8', '4,6,7', '4,5,11', '4,5,10', '3,7,11', '3,6,10', '3,6,7', '3,4,5', '2,9,10', '2,8,11', '2,8,10', '2,8,9', '2,7,11', '2,6,11', '2,6,10', '2,6,9', '2,6,7', '2,4,6', '2,3,6', '1,9,11', '1,9,10', '1,8,11', '1,8,10', '1,7,11', '1,7,10', '1,6,8', '1,6,7', '1,4,6', '1,3,6', '1,3,5', '1,2,11', '1,2,10', '1,2,9', '1,2,8', '1,2,7', '1,2,6', '1,2,5', '7,9,10,11', '7,8,9,10', '6,8,9,10', '6,7,10,11', '6,7,9,11', '6,7,9,10', '6,7,8,10', '5,6,9,11', '4,7,8,10', '4,7,8,9', '4,6,9,10', '4,6,8,9', '4,6,7,8', '4,5,8,10', '4,5,7,10', '3,7,8,11', '3,6,9,11', '3,4,5,9', '3,4,5,6', '2,8,9,10', '2,7,9,10', '2,4,7,10', '2,4,6,7', '1,7,8,10', '1,6,9,10', '1,6,8,10', '1,6,7,11', '1,6,7,9', '1,6,7,8', '1,4,5,9', '1,3,9,10', '1,2,10,11', '1,2,8,10', '1,2,8,9', '1,2,7,10', '1,2,7,8', '1,2,6,11', '1,2,6,10', '1,2,6,9', '1,2,6,8', '1,2,6,7', '1,2,5,6', '1,2,4,9', '6,7,8,9,10', '5,8,9,10,11', '5,7,9,10,11', '4,6,7,9,11', '4,6,7,8,10', '4,5,7,8,11', '4,5,7,8,10', '4,5,6,9,10', '3,5,6,7,9', '3,4,5,7,9', '3,4,5,6,7', '2,6,8,9,10', '2,6,7,8,10', '2,4,7,8,9', '2,4,6,7,11', '2,3,4,9,11', '2,3,4,7,10', '1,6,8,9,10', '1,6,7,9,10', '1,6,7,8,11', '1,6,7,8,9', '1,4,5,7,9', '1,4,5,6,7', '1,3,6,9,10', '1,2,8,9,10', '1,2,7,8,10', '1,2,6,10,11', '1,2,6,9,10', '1,2,6,8,10', '1,2,6,7,10', '1,2,6,7,9', '1,2,6,7,8', '1,2,5,7,10', '1,2,5,6,10', '1,2,4,8,9', '1,2,4,7,11', '1,2,4,6,7', '5,6,7,8,10,11', '4,5,6,7,9,10', '3,4,5,6,7,8', '2,6,7,8,9,11', '2,6,7,8,9,10', '2,5,6,7,9,11', '2,4,5,7,8,11', '2,3,4,7,8,10', '2,3,4,6,8,11', '1,6,8,9,10,11', '1,6,7,8,9,10', '1,2,7,8,9,10', '1,2,6,8,9,10', '1,2,6,7,9,10', '1,2,5,6,8,10', '1,2,5,6,7,10', '1,2,4,7,10,11', '1,2,4,6,9,11', '4,5,6,7,8,9,10', '2,4,5,6,8,9,10', '2,4,5,6,7,9,10', '2,3,4,7,8,9,11', '2,3,4,6,7,9,10', '1,2,6,7,8,9,10', '1,2,4,6,9,10,11', '1,2,4,6,7,8,10,11', '1,2,4,6,7,8,9,10,11']\n"
     ]
    },
    {
     "data": {
      "image/png": "[encoded data removed]",
      "text/plain": [
       "<Figure size 432x288 with 1 Axes>"
      ]
     },
     "metadata": {
      "needs_background": "light"
     },
     "output_type": "display_data"
    }
   ],
   "source": [
    "# get pval for each coef\n",
    "ep_coefs_pvals_H9 = [st.norm.cdf(0,loc=np.abs(ep_coefs_H9[i]),scale=ep_coefs_err_H9[i]) for i in range(len(ep_coefs_H9))]\n",
    "print(ep_coefs_pvals_H9[:20])\n",
    "sig_H9 = [1 if x < 0.05/(2**L) else 0 for x in ep_coefs_pvals_H9]\n",
    "\n",
    "\n",
    "print(len(np.nonzero(sig_H9)[0]))\n",
    "\n",
    "significant_coef_names_H9 = coef_names[np.nonzero(sig_H9)[0]]\n",
    "\n",
    "sorted_sig_coef_names_H9 = sorted(significant_coef_names_H9, key=lambda x: len(x.split(',')))\n",
    "print(sorted_sig_coef_names_H9)\n",
    "\n"
   ]
  },
  {
   "cell_type": "code",
   "execution_count": 189,
   "metadata": {},
   "outputs": [],
   "source": [
    "# print coefs and pvals, sorted by p-value\n",
    "sorted_indices = sorted(range(len(ep_coefs_pvals_H9)),key = lambda x: ep_coefs_pvals_H9[x])\n",
    "\n",
    "with open('coefs/6261_H9_fullorder.txt','w') as writefile:\n",
    "    coef_writer = csv.writer(writefile,delimiter='\\t')\n",
    "    coef_writer.writerow(['Term','Coefficient','StdErr','P-value'])\n",
    "    for i in sorted_indices:\n",
    "        coef_writer.writerow([str(coef_names[i]),ep_coefs_H9[i],ep_coefs_err_H9[i],ep_coefs_pvals_H9[i]])\n",
    "    writefile.close()"
   ]
  },
  {
   "cell_type": "code",
   "execution_count": null,
   "metadata": {},
   "outputs": [],
   "source": []
  }
 ],
 "metadata": {
  "kernelspec": {
   "display_name": "Python 3",
   "language": "python",
   "name": "python3"
  },
  "language_info": {
   "codemirror_mode": {
    "name": "ipython",
    "version": 3
   },
   "file_extension": ".py",
   "mimetype": "text/x-python",
   "name": "python",
   "nbconvert_exporter": "python",
   "pygments_lexer": "ipython3",
   "version": "3.8.2"
  }
 },
 "nbformat": 4,
 "nbformat_minor": 4
}
