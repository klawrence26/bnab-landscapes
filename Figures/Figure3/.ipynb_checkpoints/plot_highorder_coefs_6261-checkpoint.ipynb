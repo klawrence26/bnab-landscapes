{
 "cells": [
  {
   "cell_type": "code",
   "execution_count": 8,
   "metadata": {},
   "outputs": [],
   "source": [
    "import numpy as np\n",
    "import matplotlib.pyplot as plt\n",
    "import csv\n",
    "import sys\n",
    "import seaborn as sns\n",
    "from scipy.special import comb\n",
    "from sklearn.preprocessing import PolynomialFeatures\n",
    "from matplotlib.colors import LogNorm\n",
    "import pandas as pd\n",
    "\n",
    "plt.rcParams.update({'font.size': 7})\n",
    "plt.rcParams['font.sans-serif'] = \"Arial\"\n",
    "plt.rcParams['font.family'] = \"sans-serif\"\n",
    "plt.rcParams['axes.linewidth'] = 0.5\n",
    "plt.rcParams[\"xtick.major.size\"] = 3\n",
    "plt.rcParams[\"ytick.major.size\"] = 3"
   ]
  },
  {
   "cell_type": "code",
   "execution_count": 9,
   "metadata": {},
   "outputs": [
    {
     "name": "stdout",
     "output_type": "stream",
     "text": [
      "[ 11  55 165 330] 561\n",
      "[1, 12, 67, 232, 562]\n",
      "[ 11  55 165 330] 561\n",
      "[1, 12, 67, 232, 562]\n"
     ]
    }
   ],
   "source": [
    "# set some things\n",
    "num_mutations_H1 = 11\n",
    "order_H1 = 4\n",
    "num_term_list_H1 = np.array([int(comb(num_mutations_H1,i)) for i in range(1,order_H1+1)])\n",
    "total_params_H1 = sum(num_term_list_H1)\n",
    "order_start_indices_H1 = list(np.cumsum(num_term_list_H1)+1)\n",
    "order_start_indices_H1.insert(0,1)\n",
    "print(num_term_list_H1,total_params_H1)\n",
    "print(order_start_indices_H1)\n",
    "\n",
    "num_mutations_H9 = 11\n",
    "order_H9 = 4\n",
    "num_term_list_H9 = np.array([int(comb(num_mutations_H9,i)) for i in range(1,order_H9+1)])\n",
    "total_params_H9 = sum(num_term_list_H9)\n",
    "order_start_indices_H9 = list(np.cumsum(num_term_list_H9)+1)\n",
    "order_start_indices_H9.insert(0,1)\n",
    "print(num_term_list_H9,total_params_H9)\n",
    "print(order_start_indices_H9)\n",
    "\n",
    "mut_names = ['29','35','65','66','69','82','83','84','85','87','112.1']\n",
    "\n",
    "ep_type = 'biochem'\n",
    "#ep_type = 'stat'\n",
    "\n"
   ]
  },
  {
   "cell_type": "markdown",
   "metadata": {},
   "source": [
    "# H1"
   ]
  },
  {
   "cell_type": "code",
   "execution_count": 10,
   "metadata": {},
   "outputs": [
    {
     "name": "stdout",
     "output_type": "stream",
     "text": [
      "['Term', 'Coefficient', 'Standard Error', 'p-value', '95% CI lower', '95% CI upper']\n",
      "562\n"
     ]
    }
   ],
   "source": [
    "# read model coefficients\n",
    "\n",
    "\n",
    "coefs_H1 = np.zeros(total_params_H1+1)\n",
    "stderr_H1 = np.zeros(total_params_H1+1)\n",
    "names_H1 = []\n",
    "sig_H1 = np.full((total_params_H1+1),0)\n",
    "cis_H1 = np.zeros((total_params_H1+1,2))\n",
    "\n",
    "with open('../../CR6261/Epistasis_linear_models/model_coefs/H1_'+str(order_H1)+'order_'+ep_type+'.txt','r') as readfile:\n",
    "    coef_reader = csv.reader(readfile,delimiter='\\t')\n",
    "    num_params = int(next(coef_reader)[-1])\n",
    "    r2 = float(next(coef_reader)[-1])\n",
    "    header = next(coef_reader)\n",
    "    print(header)\n",
    "    for i in range(total_params_H1+1):\n",
    "        row = next(coef_reader)\n",
    "        names_H1.append(row[0])\n",
    "        coefs_H1[i] = float(row[1])\n",
    "        if i >= 1:\n",
    "            stderr_H1[i] = float(row[2])\n",
    "            cis_H1[i,0] = float(row[4])\n",
    "            cis_H1[i,1] = float(row[5])\n",
    "            if float(row[4])*float(row[5]) > 0:\n",
    "                sig_H1[i] = 1\n",
    "    readfile.close()\n",
    "            \n",
    "print(len(coefs_H1))  \n"
   ]
  },
  {
   "cell_type": "code",
   "execution_count": 33,
   "metadata": {},
   "outputs": [
    {
     "name": "stdout",
     "output_type": "stream",
     "text": [
      "1.3082646600632244 13.552497058298888\n",
      "1.3082646600632244 13.552497058298888\n",
      "0.960161993326021\n"
     ]
    },
    {
     "data": {
      "image/png": "[encoded data removed]",
      "text/plain": [
       "<Figure size 194.4x129.6 with 3 Axes>"
      ]
     },
     "metadata": {
      "needs_background": "light"
     },
     "output_type": "display_data"
    }
   ],
   "source": [
    "# look at higher-order contributions\n",
    "\n",
    "# initialize matrices to store values\n",
    "total_epistasis = np.zeros((num_mutations_H1,num_mutations_H1),dtype=float)\n",
    "for i in range(num_mutations_H1):  \n",
    "    for j in range(i,num_mutations_H1):\n",
    "        total_epistasis[i,j] = np.nan\n",
    "\n",
    "net_epistasis = np.zeros((num_mutations_H1,num_mutations_H1),dtype=float)\n",
    "for i in range(num_mutations_H1):  \n",
    "    for j in range(0,i+1):\n",
    "        net_epistasis[i,j] = np.nan\n",
    "\n",
    "# total_sum = 0.0\n",
    "# total_sum_signed = 0.0\n",
    "\n",
    "for i in range(1,len(coefs_H1)):\n",
    "\n",
    "    muts_involved = [int(x)-1 for x in names_H1[i].split(',')]\n",
    "    # 3rd order and higher\n",
    "    if len(muts_involved) >= 3:\n",
    "#         total_sum += np.abs(coefs_H1[i])\n",
    "#         total_sum_signed += coefs_H1[i]\n",
    "        for j in range(len(muts_involved)):\n",
    "            for k in range(j+1,len(muts_involved)):\n",
    "                total_epistasis[muts_involved[k],muts_involved[j]] += np.abs(coefs_H1[i])\n",
    "                net_epistasis[muts_involved[j],muts_involved[k]] += coefs_H1[i]\n",
    "\n",
    "\n",
    "print(np.nanmin(total_epistasis),np.nanmax(total_epistasis))\n",
    "\n",
    "#print(total_sum,total_sum_signed)\n",
    "#total_epistasis = total_epistasis/total_sum\n",
    "print(np.nanmin(total_epistasis),np.nanmax(total_epistasis))\n",
    "min_val = np.nanmin(total_epistasis)\n",
    "\n",
    "#net_epistasis = net_epistasis/total_sum\n",
    "max_val_net = max(np.abs(np.nanmin(net_epistasis)),np.abs(np.nanmax(net_epistasis)))\n",
    "print(max_val_net)\n",
    "\n",
    "for i in range(num_mutations_H1):\n",
    "    total_epistasis[i,i] = min_val\n",
    "    \n",
    "       \n",
    "plt.figure(figsize=(2.7,1.8))\n",
    "sns.heatmap(total_epistasis,cmap='inferno',cbar_kws={\"pad\": 0.06}) \n",
    "sns.heatmap(net_epistasis,cmap='bwr',vmin=-1*max_val_net,vmax=max_val_net,cbar_kws={\"pad\": 0.04}) \n",
    "\n",
    "plt.xticks(np.arange(0.5,num_mutations_H1+0.5,1),mut_names,rotation='90')\n",
    "plt.yticks(np.arange(0.5,num_mutations_H1+0.5,1),mut_names,rotation='0')\n",
    "\n",
    "plt.tight_layout()\n",
    "plt.savefig('images/6261_H1_biochem_3andup_netvstotal.pdf')\n",
    "plt.show()\n"
   ]
  },
  {
   "cell_type": "code",
   "execution_count": 12,
   "metadata": {},
   "outputs": [
    {
     "name": "stdout",
     "output_type": "stream",
     "text": [
      "0.0 11.980466447180982\n"
     ]
    },
    {
     "data": {
      "image/png": "[encoded data removed]",
      "text/plain": [
       "<Figure size 165.6x129.6 with 2 Axes>"
      ]
     },
     "metadata": {
      "needs_background": "light"
     },
     "output_type": "display_data"
    }
   ],
   "source": [
    "# initialize matrices to store values\n",
    "\n",
    "# total (lower diagonal)\n",
    "total_epistasis = np.zeros((num_mutations_H1,num_mutations_H1),dtype=float)\n",
    "for i in range(num_mutations_H1):  \n",
    "    total_epistasis[i,i] = np.nan\n",
    "\n",
    "\n",
    "# add up all coefficients\n",
    "for i in range(1,len(coefs_H1)):\n",
    "\n",
    "    muts_involved = [int(x)-1 for x in names_H1[i].split(',')]\n",
    "    \n",
    "    # only consider 3rd order and higher\n",
    "    if len(muts_involved) >= 3:\n",
    "        # only consider significant coefs\n",
    "        if sig_H1[i]:\n",
    "            for j in range(len(muts_involved)):\n",
    "                for k in range(j+1,len(muts_involved)):\n",
    "                    total_epistasis[muts_involved[k],muts_involved[j]] += np.abs(coefs_H1[i])\n",
    "                    total_epistasis[muts_involved[j],muts_involved[k]] += np.abs(coefs_H1[i])\n",
    "\n",
    "\n",
    "print(np.nanmin(total_epistasis),np.nanmax(total_epistasis))\n",
    "\n",
    "# normalize total epistasis\n",
    "#print(total_sum,total_sum_signed)\n",
    "#total_epistasis = total_epistasis/total_sum\n",
    "#print(np.nanmin(total_epistasis),np.nanmax(total_epistasis))\n",
    "min_val = np.nanmin(total_epistasis)\n",
    "\n",
    "\n",
    "#cbar_ticks = [10**i for i in range(int(np.floor(np.log10(np.nanmin(total_epistasis)))), 1+int(np.ceil(np.log10(np.nanmax(total_epistasis)))))]\n",
    "# for i in range(16):\n",
    "#     total_epistasis[i,i] = min_val\n",
    "    \n",
    "sns.set_style({\"axes.facecolor\": \"k\"})       \n",
    "plt.figure(figsize=(2.3,1.8))\n",
    "sns.heatmap(total_epistasis,cmap='inferno',cbar_kws={\"pad\": 0.05}) #,vmin=0.0,vmax=np.nanmax(total_epistasis)) \n",
    "plt.xticks(np.arange(0.5,num_mutations_H1+0.5,1),mut_names,rotation='90')\n",
    "plt.yticks(np.arange(0.5,num_mutations_H1+0.5,1),mut_names,rotation='0')\n",
    "plt.tick_params(length=0,pad=1)\n",
    "#plt.title('H1, 3rd-5th Order Epistasis')\n",
    "\n",
    "plt.tight_layout()\n",
    "plt.savefig('images/6261_H1_biochem_3andup_total.pdf')\n",
    "plt.show()\n"
   ]
  },
  {
   "cell_type": "code",
   "execution_count": null,
   "metadata": {},
   "outputs": [],
   "source": []
  }
 ],
 "metadata": {
  "kernelspec": {
   "display_name": "Python 3",
   "language": "python",
   "name": "python3"
  },
  "language_info": {
   "codemirror_mode": {
    "name": "ipython",
    "version": 3
   },
   "file_extension": ".py",
   "mimetype": "text/x-python",
   "name": "python",
   "nbconvert_exporter": "python",
   "pygments_lexer": "ipython3",
   "version": "3.8.2"
  }
 },
 "nbformat": 4,
 "nbformat_minor": 4
}
