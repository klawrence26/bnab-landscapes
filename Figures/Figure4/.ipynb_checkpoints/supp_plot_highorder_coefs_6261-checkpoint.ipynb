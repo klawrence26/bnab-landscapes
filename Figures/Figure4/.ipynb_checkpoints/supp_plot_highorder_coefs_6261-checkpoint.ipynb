{
 "cells": [
  {
   "cell_type": "code",
   "execution_count": 14,
   "metadata": {},
   "outputs": [],
   "source": [
    "import numpy as np\n",
    "import matplotlib.pyplot as plt\n",
    "import csv\n",
    "import sys\n",
    "import seaborn as sns\n",
    "from scipy.special import comb\n",
    "from sklearn.preprocessing import PolynomialFeatures\n",
    "from matplotlib.colors import LogNorm\n",
    "import pandas as pd\n",
    "import scipy.stats as st\n",
    "import itertools as it\n",
    "\n",
    "def powerset(iterable):\n",
    "    \"powerset([1,2,3]) --> () (1,) (2,) (3,) (1,2) (1,3) (2,3) (1,2,3)\"\n",
    "    s = list(iterable)\n",
    "    return it.chain.from_iterable(it.combinations(s, r) for r in range(len(s)+1))\n",
    "\n",
    "\n",
    "plt.rcParams.update({'font.size': 7})\n",
    "plt.rcParams['font.sans-serif'] = \"Arial\"\n",
    "plt.rcParams['font.family'] = \"sans-serif\"\n",
    "plt.rcParams['axes.linewidth'] = 0.5\n",
    "plt.rcParams[\"xtick.major.size\"] = 2\n",
    "plt.rcParams[\"ytick.major.size\"] = 2\n",
    "plt.rcParams[\"xtick.major.width\"] = 0.5\n",
    "plt.rcParams[\"ytick.major.width\"] = 0.5\n"
   ]
  },
  {
   "cell_type": "code",
   "execution_count": 15,
   "metadata": {},
   "outputs": [
    {
     "name": "stdout",
     "output_type": "stream",
     "text": [
      "[ 11  55 165 330] 561\n",
      "[1, 12, 67, 232, 562]\n",
      "[ 11  55 165 330] 561\n",
      "[1, 12, 67, 232, 562]\n"
     ]
    }
   ],
   "source": [
    "# set some things\n",
    "num_mutations_H1 = 11\n",
    "order_H1 = 4\n",
    "num_term_list_H1 = np.array([int(comb(num_mutations_H1,i)) for i in range(1,order_H1+1)])\n",
    "total_params_H1 = sum(num_term_list_H1)\n",
    "order_start_indices_H1 = list(np.cumsum(num_term_list_H1)+1)\n",
    "order_start_indices_H1.insert(0,1)\n",
    "print(num_term_list_H1,total_params_H1)\n",
    "print(order_start_indices_H1)\n",
    "\n",
    "num_mutations_H9 = 11\n",
    "order_H9 = 4\n",
    "num_term_list_H9 = np.array([int(comb(num_mutations_H9,i)) for i in range(1,order_H9+1)])\n",
    "total_params_H9 = sum(num_term_list_H9)\n",
    "order_start_indices_H9 = list(np.cumsum(num_term_list_H9)+1)\n",
    "order_start_indices_H9.insert(0,1)\n",
    "print(num_term_list_H9,total_params_H9)\n",
    "print(order_start_indices_H9)\n",
    "\n",
    "mut_names = ['29','35','65','66','69','82','83','84','85','87','112.1']\n",
    "\n",
    "ep_type = 'biochem'\n",
    "#ep_type = 'stat'\n",
    "\n"
   ]
  },
  {
   "cell_type": "markdown",
   "metadata": {},
   "source": [
    "## H1"
   ]
  },
  {
   "cell_type": "code",
   "execution_count": 19,
   "metadata": {},
   "outputs": [
    {
     "name": "stdout",
     "output_type": "stream",
     "text": [
      "['Term', 'Coefficient', 'Standard Error', 'p-value', '95% CI lower', '95% CI upper']\n",
      "562\n",
      "[ 0.99867259  0.72234046  0.46761364  0.42839564 -0.42825406  0.39352965\n",
      " -0.37409551  0.37004374 -0.33480876 -0.31256039 -0.30573012  0.29335044\n",
      "  0.27684927  0.27482484  0.27459875 -0.26886928]\n",
      "['1,2,7,9' '1,2,6,7' '1,2,9,10' '1,2,4,7' '1,2,8,9' '1,2,7,11' '1,7,8,10'\n",
      " '2,8,9,10' '1,2,6,8' '2,6,7,10' '1,2,8,10' '1,2,6,10' '2,7,9,10'\n",
      " '1,2,7,10' '1,7,9,10' '1,6,7,9']\n",
      "[[ 0.80706063  1.19028454]\n",
      " [ 0.53076255  0.91391837]\n",
      " [ 0.28285535  0.65237193]\n",
      " [ 0.24312973  0.61366154]\n",
      " [-0.620264   -0.23624413]\n",
      " [ 0.20841914  0.57864017]\n",
      " [-0.56385919 -0.18433182]\n",
      " [ 0.17607977  0.56400772]\n",
      " [-0.52685091 -0.14276661]\n",
      " [-0.5058406  -0.11928018]\n",
      " [-0.49145234 -0.1200079 ]\n",
      " [ 0.10860905  0.47809183]\n",
      " [ 0.08357867  0.47011987]\n",
      " [ 0.08922043  0.46042925]\n",
      " [ 0.08146483  0.46773268]\n",
      " [-0.46633726 -0.07140129]]\n"
     ]
    }
   ],
   "source": [
    "# read model coefficients\n",
    "\n",
    "\n",
    "coefs_H1 = np.zeros(total_params_H1+1)\n",
    "stderr_H1 = np.zeros(total_params_H1+1)\n",
    "names_H1 = []\n",
    "sig_H1 = np.full((total_params_H1+1),0)\n",
    "cis_H1 = np.zeros((total_params_H1+1,2))\n",
    "\n",
    "with open('../../../CR6261/Epistasis_linear_models/model_coefs/H1_'+str(order_H1)+'order_'+ep_type+'.txt','r') as readfile:\n",
    "    coef_reader = csv.reader(readfile,delimiter='\\t')\n",
    "    num_params = int(next(coef_reader)[-1])\n",
    "    r2 = float(next(coef_reader)[-1])\n",
    "    header = next(coef_reader)\n",
    "    print(header)\n",
    "    for i in range(total_params_H1+1):\n",
    "        row = next(coef_reader)\n",
    "        names_H1.append(row[0])\n",
    "        coefs_H1[i] = float(row[1])\n",
    "        if i >= 1:\n",
    "            stderr_H1[i] = float(row[2])\n",
    "            cis_H1[i,0] = float(row[4])\n",
    "            cis_H1[i,1] = float(row[5])\n",
    "            if float(row[4])*float(row[5]) > 0:\n",
    "                sig_H1[i] = 1\n",
    "    readfile.close()\n",
    "            \n",
    "print(len(coefs_H1))  \n",
    "\n",
    "fourthorder_names = np.array(names_H1[order_start_indices_H1[3]:])\n",
    "fourthorder_coefs = coefs_H1[order_start_indices_H1[3]:]\n",
    "fourthorder_cis = cis_H1[order_start_indices_H1[3]:,:]\n",
    "fourthorder_stderrs = stderr_H1[order_start_indices_H1[3]:]\n",
    "\n",
    "sorted_indices = sorted(range(len(fourthorder_coefs)),key=lambda x:abs(fourthorder_coefs[x]),reverse=True)\n",
    "fourthorder_coefs_sorted = fourthorder_coefs[sorted_indices]\n",
    "fourthorder_names_sorted = fourthorder_names[sorted_indices]\n",
    "fourthorder_stderrs_sorted = fourthorder_stderrs[sorted_indices]\n",
    "fourthorder_cis_sorted = fourthorder_cis[sorted_indices,:]\n"
   ]
  },
  {
   "cell_type": "markdown",
   "metadata": {},
   "source": [
    "## Figure 4 -- Figure Supplement 1B"
   ]
  },
  {
   "cell_type": "code",
   "execution_count": 22,
   "metadata": {},
   "outputs": [
    {
     "data": {
      "image/png": "[encoded data removed]",
      "text/plain": [
       "<Figure size 237.6x180 with 2 Axes>"
      ]
     },
     "metadata": {
      "needs_background": "light"
     },
     "output_type": "display_data"
    }
   ],
   "source": [
    "\n",
    "muts_to_consider = [1,2,6,7]\n",
    "\n",
    "coefs = {}\n",
    "\n",
    "for s in powerset(muts_to_consider):\n",
    "    if len(s) >= 1: \n",
    "        name = ','.join([str(x) for x in s])\n",
    "        coefs[name] = [coefs_H1[names_H1.index(name)],stderr_H1[names_H1.index(name)]]\n",
    "namedict = {'-':'germline','1':'29','2':'35','6':'82','7':'83'}\n",
    "\n",
    "\n",
    "order_1 = ['6','7','6,7','2','2,6','2,7','2,6,7',\n",
    "         '1','1,6','1,7','1,6,7','1,2','1,2,6','1,2,7','1,2,6,7']\n",
    "\n",
    "order_2 = fourthorder_names_sorted[:18]\n",
    "order_2_vals = fourthorder_coefs_sorted[:18]\n",
    "order_2_stderrs = fourthorder_stderrs_sorted[:18]\n",
    "order_2_cis = fourthorder_cis_sorted[:18,:]\n",
    "\n",
    "name_order_2 = []\n",
    "for i in range(len(order_2)):\n",
    "    muts = order_2[i].split(',')\n",
    "    names = [mut_names[int(x)-1] for x in muts]\n",
    "    #print(muts,names)\n",
    "    name_string = ','.join(names)\n",
    "    name_order_2.append(name_string)\n",
    "\n",
    "\n",
    "colordict = {'gray':'#808080','darkolivegreen':'#556b2f','maroon2':'#7f0000','darkslateblue':'#483d8b',\n",
    "            'green':'#008000','mediumseagreen':'#3cb371','darkkhaki':'#bdb76b','peru':'#cd853f',\n",
    "             'lightseagreen':'#20b2aa','darkblue':'#00008b','limegreen':'#32cd32','darkmagenta':'#8b008b',\n",
    "             'maroon3':'#b03060','orangered':'#ff4500','darkorange':'#ff8c00','lime':'#00ff00',\n",
    "             \n",
    "             'mediumspringgreen':'#00fa9a','blueviolet':'#8a2be2','crimson':'#dc143c','blue':'#0000ff',\n",
    "             'greenyellow':'#adff2f','thistle':'#d8bfd8','fuchsia':'#ff00ff','salmon':'#fa8072',\n",
    "             'laserlemon':'#ffff54','cornflower':'#6495ed','deeppink':'#ff1493','mediumslateblue':'#7b68ee',\n",
    "             'violet':'#ee82ee','lightskyblue':'#87cefa','aquamarine':'#7fffd4','bisque':'#ffe4c4',\n",
    "            \n",
    "            'gold':'gold','mediumorchid':'mediumorchid','black':'black','mediumvioletred':'mediumvioletred',\n",
    "            'cyan':'cyan','darkcyan':'darkcyan'}\n",
    "\n",
    "palette = ['crimson','orangered',\n",
    "           'darkorange','gold','greenyellow','limegreen','green',\n",
    "            'cyan','cornflower','blue','darkblue',\n",
    "           'violet','mediumorchid','mediumvioletred','black']\n",
    "\n",
    "\n",
    "palette_dict = dict(zip(order_1, palette))\n",
    "\n",
    "new_order_1 = ['1','2','6','7',\n",
    "             '1,2','1,6','1,7','2,6','2,7','6,7',\n",
    "            '1,2,6','1,2,7','1,6,7','2,6,7',\n",
    "            '1,2,6,7']\n",
    "\n",
    "new_palette_1 = [colordict[palette_dict[x]] for x in new_order_1]\n",
    "name_order_1 = [','.join([namedict[i] for i in x.split(',')]) for x in new_order_1]\n",
    "\n",
    "\n",
    "xvals = list(range(18))\n",
    "for i in [16,11,4]:\n",
    "    xvals.pop(i)\n",
    "width = 0.25\n",
    "\n",
    "plt.rcParams.update({'font.size': 7})    \n",
    "\n",
    "plt.figure(figsize=(3.3,2.5))\n",
    "ax = plt.subplot(211)\n",
    "ax.tick_params(pad=1)\n",
    "\n",
    "for i in range(len(new_order_1)):\n",
    "    plt.bar(xvals[i],coefs[new_order_1[i]][0],zorder=1,color=new_palette_1[i])\n",
    "    plt.plot([xvals[i],xvals[i]],\n",
    "             [coefs[new_order_1[i]][0]-coefs[new_order_1[i]][1],coefs[new_order_1[i]][0]+coefs[new_order_1[i]][1]],'k-',zorder=10,linewidth=0.5)\n",
    "\n",
    "plt.plot([-1,19],[0,0],'k-',linewidth=0.5)\n",
    "for i in [4,11,16]:\n",
    "    plt.plot([i,i],[-2.5,2.5],linestyle='--',color='grey',linewidth=0.5)\n",
    "\n",
    "ax.xaxis.tick_top()\n",
    "plt.xticks(xvals,name_order_1,rotation=45,ha='left')\n",
    "plt.ylim([-2.05,2.05])\n",
    "plt.xlim([-1,18])\n",
    "plt.ylabel('Coefficient',labelpad=-2)\n",
    "\n",
    "\n",
    "xvals2 = list(range(18))\n",
    "ax2 = plt.subplot(212)\n",
    "ax2.tick_params(pad=1)\n",
    "\n",
    "for i in range(len(order_2)):\n",
    "    if i == 1:\n",
    "        plt.bar(xvals2[i],order_2_vals[i],zorder=1,color='black')\n",
    "    else:    \n",
    "        plt.bar(xvals2[i],order_2_vals[i],zorder=1,color='grey')\n",
    "    plt.plot([xvals2[i],xvals2[i]],[order_2_vals[i]-order_2_stderrs[i],order_2_vals[i]+order_2_stderrs[i]],'k-',zorder=10,linewidth=0.5)\n",
    "\n",
    "plt.plot([-1,19],[0,0],'k-',linewidth=0.5)\n",
    "\n",
    "plt.xticks(np.arange(len(order_2)),name_order_2,rotation=-45,ha='left')\n",
    "plt.ylim([-1.1,1.1])\n",
    "plt.xlim([-1,18])\n",
    "\n",
    "plt.ylabel('Coefficient',labelpad=-2)\n",
    "\n",
    "\n",
    "\n",
    "plt.subplots_adjust(hspace=0.1)\n",
    "\n",
    "\n",
    "plt.tight_layout()\n",
    "plt.savefig('images_supp/H1_coefs_colored.pdf')\n",
    "plt.show()\n"
   ]
  },
  {
   "cell_type": "markdown",
   "metadata": {},
   "source": [
    "## H9"
   ]
  },
  {
   "cell_type": "code",
   "execution_count": 23,
   "metadata": {},
   "outputs": [
    {
     "name": "stdout",
     "output_type": "stream",
     "text": [
      "['Term', 'Coefficient', 'Standard Error', 'p-value', '95% CI lower', '95% CI upper']\n",
      "562\n"
     ]
    }
   ],
   "source": [
    "# read model coefficients\n",
    "\n",
    "\n",
    "coefs_H9 = np.zeros(total_params_H9+1)\n",
    "stderr_H9 = np.zeros(total_params_H9+1)\n",
    "names_H9 = []\n",
    "sig_H9 = np.full((total_params_H9+1),0)\n",
    "cis_H9 = np.zeros((total_params_H9+1,2))\n",
    "\n",
    "with open('../../../CR6261/Epistasis_linear_models/model_coefs/H9_'+str(order_H9)+'order_'+ep_type+'.txt','r') as readfile:\n",
    "    coef_reader = csv.reader(readfile,delimiter='\\t')\n",
    "    num_params = int(next(coef_reader)[-1])\n",
    "    r2 = float(next(coef_reader)[-1])\n",
    "    header = next(coef_reader)\n",
    "    print(header)\n",
    "    for i in range(total_params_H9+1):\n",
    "        row = next(coef_reader)\n",
    "        names_H9.append(row[0])\n",
    "        coefs_H9[i] = float(row[1])\n",
    "        if i >= 1:\n",
    "            stderr_H9[i] = float(row[2])\n",
    "            cis_H9[i,0] = float(row[4])\n",
    "            cis_H9[i,1] = float(row[5])\n",
    "            if float(row[4])*float(row[5]) > 0:\n",
    "                sig_H9[i] = 1\n",
    "    readfile.close()\n",
    "            \n",
    "print(len(coefs_H9))  \n",
    "\n"
   ]
  },
  {
   "cell_type": "markdown",
   "metadata": {},
   "source": [
    "## Figure 4 -- Figure Supplement 2"
   ]
  },
  {
   "cell_type": "code",
   "execution_count": 26,
   "metadata": {},
   "outputs": [
    {
     "name": "stdout",
     "output_type": "stream",
     "text": [
      "0.0 12.741710711444757\n",
      "0.0 12.741710711444757\n"
     ]
    },
    {
     "data": {
      "image/png": "[encoded data removed]",
      "text/plain": [
       "<Figure size 151.2x129.6 with 2 Axes>"
      ]
     },
     "metadata": {
      "needs_background": "light"
     },
     "output_type": "display_data"
    }
   ],
   "source": [
    "# look at higher-order contributions\n",
    "\n",
    "# initialize matrices to store values\n",
    "total_epistasis = np.zeros((num_mutations_H9,num_mutations_H9),dtype=float)\n",
    "for i in range(num_mutations_H9):  \n",
    "    total_epistasis[i,i] = np.nan\n",
    "\n",
    "\n",
    "for i in range(1,len(coefs_H9)):\n",
    "\n",
    "    muts_involved = [int(x)-1 for x in names_H9[i].split(',')]\n",
    "    # 3rd order and higher\n",
    "    if len(muts_involved) >= 3:\n",
    "        if sig_H9[i]:\n",
    "            for j in range(len(muts_involved)):\n",
    "                for k in range(j+1,len(muts_involved)):\n",
    "                    total_epistasis[muts_involved[k],muts_involved[j]] += np.abs(coefs_H9[i])\n",
    "                    total_epistasis[muts_involved[j],muts_involved[k]] += np.abs(coefs_H9[i])\n",
    "\n",
    "\n",
    "print(np.nanmin(total_epistasis),np.nanmax(total_epistasis))\n",
    "\n",
    "print(np.nanmin(total_epistasis),np.nanmax(total_epistasis))\n",
    "min_val = np.nanmin(total_epistasis)\n",
    "\n",
    "    \n",
    "plt.rcParams.update({\"axes.facecolor\": \"k\"})\n",
    "       \n",
    "plt.figure(figsize=(2.1,1.8))\n",
    "sns.heatmap(total_epistasis,cmap='inferno',cbar_kws={\"pad\": 0.04}) \n",
    "\n",
    "plt.xticks(np.arange(0.5,num_mutations_H9+0.5,1),mut_names,rotation='90')\n",
    "plt.yticks(np.arange(0.5,num_mutations_H9+0.5,1),mut_names,rotation='0')\n",
    "plt.tick_params(length=0,pad=1)\n",
    "\n",
    "plt.tight_layout()\n",
    "plt.savefig('images_supp/6261_H9_biochem_3andup_total.pdf')\n",
    "plt.show()\n",
    "\n"
   ]
  },
  {
   "cell_type": "code",
   "execution_count": 186,
   "metadata": {},
   "outputs": [
    {
     "name": "stdout",
     "output_type": "stream",
     "text": [
      "0.6018724769727344 0.009169772667269696\n",
      "0.39617168480159815\n"
     ]
    },
    {
     "data": {
      "image/png": "[encoded data removed]",
      "text/plain": [
       "<Figure size 180x180 with 1 Axes>"
      ]
     },
     "metadata": {
      "needs_background": "light"
     },
     "output_type": "display_data"
    }
   ],
   "source": [
    "# compare H1 and H9 coefficients\n",
    "\n",
    "coefs_df = pd.DataFrame({'name':names_H1,'order':[str(len(x.split(','))) if x!='Intercept' else '0' for x in names_H1],\n",
    "                         'coefs_H1':coefs_H1,'sig_H1':sig_H1,'coefs_H9':coefs_H9,'sig_H9':sig_H9})\n",
    "coefs_no_int = coefs_df.loc[coefs_df['order'] != '0']\n",
    "\n",
    "coefs_df_sig = coefs_df.loc[(coefs_df['sig_H1'] == 1) | (coefs_df['sig_H9'] == 1)]\n",
    "\n",
    "regress = st.linregress(coefs_df_sig['coefs_H1'],coefs_df_sig['coefs_H9'])\n",
    "print(regress.slope,regress.intercept)\n",
    "print(regress.rvalue)\n",
    "\n",
    "\n",
    "plt.figure(figsize=(2.5,2.5))\n",
    "plt.plot([-3,3],[0,0],color='grey',linewidth=0.5,zorder=1)\n",
    "plt.plot([0,0],[-3,3],color='grey',linewidth=0.5,zorder=1)\n",
    "plt.plot([-3,3],[-3,3],color='grey',linewidth=0.5,zorder=1)\n",
    "\n",
    "sns.scatterplot(data=coefs_df_sig,x='coefs_H1',y='coefs_H9',hue='order',hue_order=['1','2','3','4'],palette='Reds_r',\n",
    "                size='order',sizes=[16,12,8,4],size_order=['1','2','3','4'],zorder=10)\n",
    "\n",
    "xvals = np.arange(-3,3,0.01)\n",
    "plt.plot(xvals,regress.slope*xvals+regress.intercept,'k-',linewidth=1,label=f'r = {(regress.rvalue):.2f}',zorder=20)\n",
    "plt.annotate('29',xy=(0.81+0.05,-0.23-0.2))\n",
    "plt.annotate('83',xy=(1.34+0.05,-0.29-0.2))\n",
    "plt.annotate('82,83',xy=(-0.23-0.3,2.3-0.3))\n",
    "\n",
    "\n",
    "plt.xlabel('H1 Binding Coefficients')\n",
    "plt.ylabel('H9 Binding Coefficients')\n",
    "handles, labels = plt.gca().get_legend_handles_labels()\n",
    "order = [1,2,3,4,0]\n",
    "plt.legend([handles[idx] for idx in order],['1st order','2nd order','3rd order','4th order',f'r = {(regress.rvalue):.2f}'],\n",
    "          frameon=False,loc='upper left',handlelength=1)\n",
    "plt.xlim([-2.5,2.5])\n",
    "plt.ylim([-2.5,2.5])\n",
    "plt.tight_layout()\n",
    "plt.savefig('images_supp/H1_H9_coefs_scatter.pdf')\n",
    "plt.show()\n"
   ]
  },
  {
   "cell_type": "code",
   "execution_count": null,
   "metadata": {},
   "outputs": [],
   "source": []
  }
 ],
 "metadata": {
  "kernelspec": {
   "display_name": "Python 3",
   "language": "python",
   "name": "python3"
  },
  "language_info": {
   "codemirror_mode": {
    "name": "ipython",
    "version": 3
   },
   "file_extension": ".py",
   "mimetype": "text/x-python",
   "name": "python",
   "nbconvert_exporter": "python",
   "pygments_lexer": "ipython3",
   "version": "3.8.2"
  }
 },
 "nbformat": 4,
 "nbformat_minor": 4
}
