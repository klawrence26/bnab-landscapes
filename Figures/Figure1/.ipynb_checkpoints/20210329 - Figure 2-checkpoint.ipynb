{
 "cells": [
  {
   "cell_type": "markdown",
   "metadata": {},
   "source": [
    "## import stuff"
   ]
  },
  {
   "cell_type": "code",
   "execution_count": 1,
   "metadata": {},
   "outputs": [],
   "source": [
    "#importing things\n",
    "import pandas as pd\n",
    "import numpy as np\n",
    "import csv\n",
    "import pylab as pl\n",
    "import matplotlib.pyplot as plt\n",
    "import copy\n",
    "import scipy\n",
    "from scipy.stats import linregress\n",
    "from scipy.stats import t\n",
    "from scipy.stats import chi2\n",
    "from scipy.stats import sem\n",
    "from scipy.linalg import hadamard\n",
    "from scipy.stats import ttest_ind_from_stats\n",
    "from mpl_toolkits.mplot3d import Axes3D\n",
    "from scipy.stats import ttest_ind_from_stats\n",
    "from collections import OrderedDict\n",
    "import seaborn as sns\n",
    "from matplotlib.ticker import FixedLocator, FixedFormatter"
   ]
  },
  {
   "cell_type": "markdown",
   "metadata": {},
   "source": [
    "## fetch the data"
   ]
  },
  {
   "cell_type": "code",
   "execution_count": 2,
   "metadata": {},
   "outputs": [],
   "source": [
    "HA_all = pd.DataFrame(pd.read_csv('../../CR9114/Kd_meanbin/kd_processed/20210427_HA_unadj_fil_merg.csv',delimiter=',',dtype={'variant': str}))\n"
   ]
  },
  {
   "cell_type": "code",
   "execution_count": 3,
   "metadata": {},
   "outputs": [
    {
     "name": "stdout",
     "output_type": "stream",
     "text": [
      "[8.424622015254007, 6.0, 6.0]\n",
      "[9.592294332007963, 8.50240109711821, 7.171486631538251]\n"
     ]
    }
   ],
   "source": [
    "germ_h1 = float(HA_all['h1_mean'].values[HA_all['variant']=='0000000000000000'])\n",
    "germ_h3 = float(HA_all['h3_mean'].values[HA_all['variant']=='0000000000000000'])\n",
    "germ_fluB = float(HA_all['fluB_mean'].values[HA_all['variant']=='0000000000000000'])\n",
    "som_h1 = float(HA_all['h1_mean'].values[HA_all['variant']=='1111111111111111'])\n",
    "som_h3 = float(HA_all['h3_mean'].values[HA_all['variant']=='1111111111111111'])\n",
    "som_fluB = float(HA_all['fluB_mean'].values[HA_all['variant']=='1111111111111111'])\n",
    "germline = ([germ_h1,germ_h3,germ_fluB])\n",
    "somatic = ([som_h1,som_h3,som_fluB])\n",
    "print(germline)\n",
    "print(somatic)"
   ]
  },
  {
   "cell_type": "code",
   "execution_count": 4,
   "metadata": {},
   "outputs": [
    {
     "data": {
      "text/html": [
       "<div>\n",
       "<style scoped>\n",
       "    .dataframe tbody tr th:only-of-type {\n",
       "        vertical-align: middle;\n",
       "    }\n",
       "\n",
       "    .dataframe tbody tr th {\n",
       "        vertical-align: top;\n",
       "    }\n",
       "\n",
       "    .dataframe thead th {\n",
       "        text-align: right;\n",
       "    }\n",
       "</style>\n",
       "<table border=\"1\" class=\"dataframe\">\n",
       "  <thead>\n",
       "    <tr style=\"text-align: right;\">\n",
       "      <th></th>\n",
       "      <th>variant</th>\n",
       "      <th>repa_x</th>\n",
       "      <th>repb_x</th>\n",
       "      <th>repc_x</th>\n",
       "      <th>h1_mean</th>\n",
       "      <th>h1_sem</th>\n",
       "      <th>repa_y</th>\n",
       "      <th>repb_y</th>\n",
       "      <th>repc_y</th>\n",
       "      <th>h3_mean</th>\n",
       "      <th>...</th>\n",
       "      <th>pos8</th>\n",
       "      <th>pos9</th>\n",
       "      <th>pos10</th>\n",
       "      <th>pos11</th>\n",
       "      <th>pos12</th>\n",
       "      <th>pos13</th>\n",
       "      <th>pos14</th>\n",
       "      <th>pos15</th>\n",
       "      <th>pos16</th>\n",
       "      <th>som_mut</th>\n",
       "    </tr>\n",
       "  </thead>\n",
       "  <tbody>\n",
       "    <tr>\n",
       "      <td>0</td>\n",
       "      <td>1001110010000101</td>\n",
       "      <td>9.502127</td>\n",
       "      <td>9.499467</td>\n",
       "      <td>9.452164</td>\n",
       "      <td>9.484586</td>\n",
       "      <td>0.011476</td>\n",
       "      <td>6.000000</td>\n",
       "      <td>6.000000</td>\n",
       "      <td>6.000000</td>\n",
       "      <td>6.000000</td>\n",
       "      <td>...</td>\n",
       "      <td>0</td>\n",
       "      <td>1</td>\n",
       "      <td>0</td>\n",
       "      <td>0</td>\n",
       "      <td>0</td>\n",
       "      <td>0</td>\n",
       "      <td>1</td>\n",
       "      <td>0</td>\n",
       "      <td>1</td>\n",
       "      <td>7</td>\n",
       "    </tr>\n",
       "    <tr>\n",
       "      <td>1</td>\n",
       "      <td>0001111110011011</td>\n",
       "      <td>9.526711</td>\n",
       "      <td>9.446817</td>\n",
       "      <td>9.319445</td>\n",
       "      <td>9.430991</td>\n",
       "      <td>0.042677</td>\n",
       "      <td>6.000000</td>\n",
       "      <td>6.000000</td>\n",
       "      <td>6.000000</td>\n",
       "      <td>6.000000</td>\n",
       "      <td>...</td>\n",
       "      <td>1</td>\n",
       "      <td>1</td>\n",
       "      <td>0</td>\n",
       "      <td>0</td>\n",
       "      <td>1</td>\n",
       "      <td>1</td>\n",
       "      <td>0</td>\n",
       "      <td>1</td>\n",
       "      <td>1</td>\n",
       "      <td>10</td>\n",
       "    </tr>\n",
       "    <tr>\n",
       "      <td>2</td>\n",
       "      <td>1111110010011111</td>\n",
       "      <td>9.522475</td>\n",
       "      <td>9.556415</td>\n",
       "      <td>9.412129</td>\n",
       "      <td>9.497006</td>\n",
       "      <td>0.030798</td>\n",
       "      <td>6.719267</td>\n",
       "      <td>6.789486</td>\n",
       "      <td>6.699885</td>\n",
       "      <td>6.736213</td>\n",
       "      <td>...</td>\n",
       "      <td>0</td>\n",
       "      <td>1</td>\n",
       "      <td>0</td>\n",
       "      <td>0</td>\n",
       "      <td>1</td>\n",
       "      <td>1</td>\n",
       "      <td>1</td>\n",
       "      <td>1</td>\n",
       "      <td>1</td>\n",
       "      <td>12</td>\n",
       "    </tr>\n",
       "    <tr>\n",
       "      <td>3</td>\n",
       "      <td>1011111110101110</td>\n",
       "      <td>9.520731</td>\n",
       "      <td>9.557455</td>\n",
       "      <td>9.420888</td>\n",
       "      <td>9.499691</td>\n",
       "      <td>0.028852</td>\n",
       "      <td>6.000000</td>\n",
       "      <td>6.000000</td>\n",
       "      <td>6.000000</td>\n",
       "      <td>6.000000</td>\n",
       "      <td>...</td>\n",
       "      <td>1</td>\n",
       "      <td>1</td>\n",
       "      <td>0</td>\n",
       "      <td>1</td>\n",
       "      <td>0</td>\n",
       "      <td>1</td>\n",
       "      <td>1</td>\n",
       "      <td>1</td>\n",
       "      <td>0</td>\n",
       "      <td>12</td>\n",
       "    </tr>\n",
       "    <tr>\n",
       "      <td>4</td>\n",
       "      <td>1111101010000111</td>\n",
       "      <td>9.346955</td>\n",
       "      <td>9.398311</td>\n",
       "      <td>9.396946</td>\n",
       "      <td>9.380737</td>\n",
       "      <td>0.011947</td>\n",
       "      <td>6.000000</td>\n",
       "      <td>6.000000</td>\n",
       "      <td>6.000000</td>\n",
       "      <td>6.000000</td>\n",
       "      <td>...</td>\n",
       "      <td>0</td>\n",
       "      <td>1</td>\n",
       "      <td>0</td>\n",
       "      <td>0</td>\n",
       "      <td>0</td>\n",
       "      <td>0</td>\n",
       "      <td>1</td>\n",
       "      <td>1</td>\n",
       "      <td>1</td>\n",
       "      <td>10</td>\n",
       "    </tr>\n",
       "    <tr>\n",
       "      <td>...</td>\n",
       "      <td>...</td>\n",
       "      <td>...</td>\n",
       "      <td>...</td>\n",
       "      <td>...</td>\n",
       "      <td>...</td>\n",
       "      <td>...</td>\n",
       "      <td>...</td>\n",
       "      <td>...</td>\n",
       "      <td>...</td>\n",
       "      <td>...</td>\n",
       "      <td>...</td>\n",
       "      <td>...</td>\n",
       "      <td>...</td>\n",
       "      <td>...</td>\n",
       "      <td>...</td>\n",
       "      <td>...</td>\n",
       "      <td>...</td>\n",
       "      <td>...</td>\n",
       "      <td>...</td>\n",
       "      <td>...</td>\n",
       "      <td>...</td>\n",
       "    </tr>\n",
       "    <tr>\n",
       "      <td>65531</td>\n",
       "      <td>0000100010110100</td>\n",
       "      <td>NaN</td>\n",
       "      <td>NaN</td>\n",
       "      <td>NaN</td>\n",
       "      <td>NaN</td>\n",
       "      <td>NaN</td>\n",
       "      <td>6.000000</td>\n",
       "      <td>6.000000</td>\n",
       "      <td>NaN</td>\n",
       "      <td>6.000000</td>\n",
       "      <td>...</td>\n",
       "      <td>0</td>\n",
       "      <td>1</td>\n",
       "      <td>0</td>\n",
       "      <td>1</td>\n",
       "      <td>1</td>\n",
       "      <td>0</td>\n",
       "      <td>1</td>\n",
       "      <td>0</td>\n",
       "      <td>0</td>\n",
       "      <td>5</td>\n",
       "    </tr>\n",
       "    <tr>\n",
       "      <td>65532</td>\n",
       "      <td>0010100000110110</td>\n",
       "      <td>NaN</td>\n",
       "      <td>NaN</td>\n",
       "      <td>NaN</td>\n",
       "      <td>NaN</td>\n",
       "      <td>NaN</td>\n",
       "      <td>6.000000</td>\n",
       "      <td>6.000000</td>\n",
       "      <td>NaN</td>\n",
       "      <td>6.000000</td>\n",
       "      <td>...</td>\n",
       "      <td>0</td>\n",
       "      <td>0</td>\n",
       "      <td>0</td>\n",
       "      <td>1</td>\n",
       "      <td>1</td>\n",
       "      <td>0</td>\n",
       "      <td>1</td>\n",
       "      <td>1</td>\n",
       "      <td>0</td>\n",
       "      <td>6</td>\n",
       "    </tr>\n",
       "    <tr>\n",
       "      <td>65533</td>\n",
       "      <td>0010100010111000</td>\n",
       "      <td>NaN</td>\n",
       "      <td>NaN</td>\n",
       "      <td>NaN</td>\n",
       "      <td>NaN</td>\n",
       "      <td>NaN</td>\n",
       "      <td>6.000000</td>\n",
       "      <td>6.000000</td>\n",
       "      <td>6.000000</td>\n",
       "      <td>6.000000</td>\n",
       "      <td>...</td>\n",
       "      <td>0</td>\n",
       "      <td>1</td>\n",
       "      <td>0</td>\n",
       "      <td>1</td>\n",
       "      <td>1</td>\n",
       "      <td>1</td>\n",
       "      <td>0</td>\n",
       "      <td>0</td>\n",
       "      <td>0</td>\n",
       "      <td>6</td>\n",
       "    </tr>\n",
       "    <tr>\n",
       "      <td>65534</td>\n",
       "      <td>0010100110001000</td>\n",
       "      <td>NaN</td>\n",
       "      <td>NaN</td>\n",
       "      <td>NaN</td>\n",
       "      <td>NaN</td>\n",
       "      <td>NaN</td>\n",
       "      <td>6.000000</td>\n",
       "      <td>6.000000</td>\n",
       "      <td>6.000000</td>\n",
       "      <td>6.000000</td>\n",
       "      <td>...</td>\n",
       "      <td>1</td>\n",
       "      <td>1</td>\n",
       "      <td>0</td>\n",
       "      <td>0</td>\n",
       "      <td>0</td>\n",
       "      <td>1</td>\n",
       "      <td>0</td>\n",
       "      <td>0</td>\n",
       "      <td>0</td>\n",
       "      <td>5</td>\n",
       "    </tr>\n",
       "    <tr>\n",
       "      <td>65535</td>\n",
       "      <td>0010100111000110</td>\n",
       "      <td>NaN</td>\n",
       "      <td>NaN</td>\n",
       "      <td>NaN</td>\n",
       "      <td>NaN</td>\n",
       "      <td>NaN</td>\n",
       "      <td>NaN</td>\n",
       "      <td>6.000000</td>\n",
       "      <td>6.000000</td>\n",
       "      <td>6.000000</td>\n",
       "      <td>...</td>\n",
       "      <td>1</td>\n",
       "      <td>1</td>\n",
       "      <td>1</td>\n",
       "      <td>0</td>\n",
       "      <td>0</td>\n",
       "      <td>0</td>\n",
       "      <td>1</td>\n",
       "      <td>1</td>\n",
       "      <td>0</td>\n",
       "      <td>7</td>\n",
       "    </tr>\n",
       "  </tbody>\n",
       "</table>\n",
       "<p>65536 rows × 33 columns</p>\n",
       "</div>"
      ],
      "text/plain": [
       "                variant    repa_x    repb_x    repc_x   h1_mean    h1_sem  \\\n",
       "0      1001110010000101  9.502127  9.499467  9.452164  9.484586  0.011476   \n",
       "1      0001111110011011  9.526711  9.446817  9.319445  9.430991  0.042677   \n",
       "2      1111110010011111  9.522475  9.556415  9.412129  9.497006  0.030798   \n",
       "3      1011111110101110  9.520731  9.557455  9.420888  9.499691  0.028852   \n",
       "4      1111101010000111  9.346955  9.398311  9.396946  9.380737  0.011947   \n",
       "...                 ...       ...       ...       ...       ...       ...   \n",
       "65531  0000100010110100       NaN       NaN       NaN       NaN       NaN   \n",
       "65532  0010100000110110       NaN       NaN       NaN       NaN       NaN   \n",
       "65533  0010100010111000       NaN       NaN       NaN       NaN       NaN   \n",
       "65534  0010100110001000       NaN       NaN       NaN       NaN       NaN   \n",
       "65535  0010100111000110       NaN       NaN       NaN       NaN       NaN   \n",
       "\n",
       "         repa_y    repb_y    repc_y   h3_mean  ...  pos8  pos9  pos10  pos11  \\\n",
       "0      6.000000  6.000000  6.000000  6.000000  ...     0     1      0      0   \n",
       "1      6.000000  6.000000  6.000000  6.000000  ...     1     1      0      0   \n",
       "2      6.719267  6.789486  6.699885  6.736213  ...     0     1      0      0   \n",
       "3      6.000000  6.000000  6.000000  6.000000  ...     1     1      0      1   \n",
       "4      6.000000  6.000000  6.000000  6.000000  ...     0     1      0      0   \n",
       "...         ...       ...       ...       ...  ...   ...   ...    ...    ...   \n",
       "65531  6.000000  6.000000       NaN  6.000000  ...     0     1      0      1   \n",
       "65532  6.000000  6.000000       NaN  6.000000  ...     0     0      0      1   \n",
       "65533  6.000000  6.000000  6.000000  6.000000  ...     0     1      0      1   \n",
       "65534  6.000000  6.000000  6.000000  6.000000  ...     1     1      0      0   \n",
       "65535       NaN  6.000000  6.000000  6.000000  ...     1     1      1      0   \n",
       "\n",
       "       pos12  pos13  pos14  pos15  pos16  som_mut  \n",
       "0          0      0      1      0      1        7  \n",
       "1          1      1      0      1      1       10  \n",
       "2          1      1      1      1      1       12  \n",
       "3          0      1      1      1      0       12  \n",
       "4          0      0      1      1      1       10  \n",
       "...      ...    ...    ...    ...    ...      ...  \n",
       "65531      1      0      1      0      0        5  \n",
       "65532      1      0      1      1      0        6  \n",
       "65533      1      1      0      0      0        6  \n",
       "65534      0      1      0      0      0        5  \n",
       "65535      0      0      1      1      0        7  \n",
       "\n",
       "[65536 rows x 33 columns]"
      ]
     },
     "execution_count": 4,
     "metadata": {},
     "output_type": "execute_result"
    }
   ],
   "source": [
    "HA_all"
   ]
  },
  {
   "cell_type": "code",
   "execution_count": 5,
   "metadata": {},
   "outputs": [],
   "source": [
    "import matplotlib.pyplot as plt\n",
    "import matplotlib.colors as mc\n",
    "import colorsys\n",
    "import seaborn as sns\n",
    "\n",
    "def lighten_color(color, amount=0.5):  \n",
    "    # --------------------- SOURCE: @IanHincks ---------------------\n",
    "    try:\n",
    "        c = mc.cnames[color]\n",
    "    except:\n",
    "        c = color\n",
    "    c = colorsys.rgb_to_hls(*mc.to_rgb(c))\n",
    "    return colorsys.hls_to_rgb(c[0], 1 - amount * (1 - c[1]), c[2])"
   ]
  },
  {
   "cell_type": "code",
   "execution_count": 6,
   "metadata": {},
   "outputs": [
    {
     "data": {
      "image/png": "[encoded data removed]",
      "text/plain": [
       "<Figure size 108x72 with 1 Axes>"
      ]
     },
     "metadata": {
      "needs_background": "light"
     },
     "output_type": "display_data"
    }
   ],
   "source": [
    "plt.rcParams['font.sans-serif'] = \"Arial\"\n",
    "# Then, \"ALWAYS use sans-serif fonts\"\n",
    "plt.rcParams['font.family'] = \"sans-serif\"\n",
    "plt.rcParams['axes.linewidth'] = 0.5\n",
    "flierprops = dict(marker='o', markersize=2)\n",
    "fig, ax = plt.subplots(figsize=(1.5,1))\n",
    "sns.boxplot(x=\"som_mut\", y=\"h1_mean\", data=HA_all,palette='plasma', saturation=1,\n",
    "            flierprops=flierprops, ax=ax, width=0.7)\n",
    "\n",
    "#plt.title(\"H1\",fontsize=8,weight='bold')\n",
    "plt.xlabel(\" \",fontsize=8)\n",
    "plt.ylabel(\"\",fontsize=8,labelpad=0)\n",
    "plt.tick_params(\n",
    "    axis='x',          # changes apply to the x-axis\n",
    "    which='both',      # both major and minor ticks are affected\n",
    "    bottom=False,      # ticks along the bottom edge are off\n",
    "    top=False,         # ticks along the top edge are off\n",
    "    labelbottom=False,\n",
    "    labelsize=6)\n",
    "plt.tick_params(\n",
    "    axis='y',          # changes apply to the x-axis\n",
    "    labelsize=6,\n",
    "    pad=0.5)\n",
    "#x_locator = FixedLocator([0,2,4,6,8,10,12,14,16])\n",
    "#ax.xaxis.set_major_locator(x_locator)\n",
    "#ax.set_xticklabels(['0','2','4','6','8','10','12','14','16'])\n",
    "y_locator = FixedLocator([7,8,9,10])\n",
    "ax.yaxis.set_major_locator(y_locator)\n",
    "ax.set_yticklabels(['≤ 7','8','9','10'])\n",
    "plt.ylim(6,10)\n",
    "plt.axhline(y=7,linestyle='dashed',linewidth=0.5,color='black')\n",
    "\n",
    "for i,artist in enumerate(ax.artists):\n",
    "    # Set the linecolor on the artist to the facecolor, and set the facecolor to None\n",
    "    col = lighten_color(artist.get_facecolor(), 1.2)\n",
    "    artist.set_edgecolor(col) \n",
    "    #artist.set_facecolor('white')\n",
    "    artist.set_edgecolor('black') \n",
    "    artist.set_linewidth(0.5)\n",
    "\n",
    "    # Each box has 6 associated Line2D objects (to make the whiskers, fliers, etc.)\n",
    "    # Loop over them here, and use the same colour as above\n",
    "    for j in range(i*6,i*6+6):\n",
    "        line = ax.lines[j]\n",
    "        #line.set_color(col)\n",
    "        line.set_mfc(col)\n",
    "        line.set_mec(col)\n",
    "        line.set_linewidth(1)\n",
    "plt.savefig('20210104_H1_box_bymut.png', transparent=True, dpi=600,bbox_inches='tight')"
   ]
  },
  {
   "cell_type": "code",
   "execution_count": 6,
   "metadata": {},
   "outputs": [
    {
     "data": {
      "text/plain": [
       "16"
      ]
     },
     "execution_count": 6,
     "metadata": {},
     "output_type": "execute_result"
    }
   ],
   "source": [
    "binders2 = HA_all[HA_all['h3_mean']>6].copy()\n",
    "binders2['som_mut'].max()"
   ]
  },
  {
   "cell_type": "code",
   "execution_count": 8,
   "metadata": {},
   "outputs": [
    {
     "data": {
      "image/png": "[encoded data removed]",
      "text/plain": [
       "<Figure size 108x72 with 1 Axes>"
      ]
     },
     "metadata": {
      "needs_background": "light"
     },
     "output_type": "display_data"
    }
   ],
   "source": [
    "plt.rcParams['font.sans-serif'] = \"Arial\"\n",
    "# Then, \"ALWAYS use sans-serif fonts\"\n",
    "plt.rcParams['font.family'] = \"sans-serif\"\n",
    "plt.rcParams['axes.linewidth'] = 0.5\n",
    "flierprops = dict(marker='o', markersize=2)\n",
    "fig, ax = plt.subplots(figsize=(1.5,1))    \n",
    "sns.boxplot(x=\"som_mut\", y=\"h3_mean\", data=HA_all,palette='plasma', saturation=1,\n",
    "            flierprops=flierprops, ax=ax)\n",
    "\n",
    "plt.xlabel(\" \",fontsize=8)\n",
    "plt.ylabel(\"\",fontsize=8,labelpad=0)\n",
    "plt.tick_params(\n",
    "    axis='x',          # changes apply to the x-axis\n",
    "    which='both',      # both major and minor ticks are affected\n",
    "    bottom=False,      # ticks along the bottom edge are off\n",
    "    top=False,         # ticks along the top edge are off\n",
    "    labelbottom=False,\n",
    "    labelsize=6)\n",
    "plt.tick_params(\n",
    "    axis='y',          # changes apply to the x-axis\n",
    "    labelsize=6,\n",
    "    pad=0.5)\n",
    "#x_locator = FixedLocator([0,2,4,6,8,10,12,14,16])\n",
    "#ax.xaxis.set_major_locator(x_locator)\n",
    "#ax.set_xticklabels(['0','2','4','6','8','10','12','14','16'])\n",
    "y_locator = FixedLocator([6,7,8,9,10])\n",
    "ax.yaxis.set_major_locator(y_locator)\n",
    "ax.set_yticklabels(['≤ 6','7','8','9','10'])\n",
    "plt.ylim(6,10)\n",
    "\n",
    "for i,artist in enumerate(ax.artists):\n",
    "    # Set the linecolor on the artist to the facecolor, and set the facecolor to None\n",
    "    col = lighten_color(artist.get_facecolor(), 1.2)\n",
    "    artist.set_edgecolor(col) \n",
    "    #artist.set_facecolor('white')\n",
    "    artist.set_edgecolor('black') \n",
    "    artist.set_linewidth(0.5)\n",
    "\n",
    "    # Each box has 6 associated Line2D objects (to make the whiskers, fliers, etc.)\n",
    "    # Loop over them here, and use the same colour as above\n",
    "    for j in range(i*6,i*6+6):\n",
    "        line = ax.lines[j]\n",
    "        #line.set_color(col)\n",
    "        line.set_mfc(col)\n",
    "        line.set_mec(col)\n",
    "        line.set_linewidth(1)\n",
    "plt.savefig('20210104_H3_box_bymut.png', transparent=True, dpi=600,bbox_inches='tight')"
   ]
  },
  {
   "cell_type": "code",
   "execution_count": 9,
   "metadata": {},
   "outputs": [
    {
     "data": {
      "image/png": "[encoded data removed]",
      "text/plain": [
       "<Figure size 108x72 with 1 Axes>"
      ]
     },
     "metadata": {
      "needs_background": "light"
     },
     "output_type": "display_data"
    }
   ],
   "source": [
    "plt.rcParams['font.sans-serif'] = \"Arial\"\n",
    "# Then, \"ALWAYS use sans-serif fonts\"\n",
    "plt.rcParams['font.family'] = \"sans-serif\"\n",
    "plt.rcParams['axes.linewidth'] = 0.5\n",
    "flierprops = dict(marker='o', markersize=2)\n",
    "fig, ax = plt.subplots(figsize=(1.5,1))      \n",
    "sns.boxplot(x=\"som_mut\", y=\"fluB_mean\", data=HA_all,palette='plasma', saturation=1,\n",
    "            flierprops=flierprops, ax=ax)\n",
    "\n",
    "plt.xlabel(\" \",fontsize=8)\n",
    "plt.ylabel(\"\",fontsize=8,labelpad=0)\n",
    "plt.tick_params(\n",
    "    axis='x',          # changes apply to the x-axis\n",
    "    which='both',      # both major and minor ticks are affected\n",
    "    bottom=True,      # ticks along the bottom edge are off\n",
    "    top=False,         # ticks along the top edge are off\n",
    "    labelbottom=True,\n",
    "    labelsize=6,\n",
    "    pad=0.5)\n",
    "plt.tick_params(\n",
    "    axis='y',          # changes apply to the x-axis\n",
    "    labelsize=6,\n",
    "    pad=0.5)\n",
    "x_locator = FixedLocator([0,2,4,6,8,10,12,14,16])\n",
    "ax.xaxis.set_major_locator(x_locator)\n",
    "ax.set_xticklabels(['0','2','4','6','8','10','12','14','16'])\n",
    "y_locator = FixedLocator([6,7,8,9,10])\n",
    "ax.yaxis.set_major_locator(y_locator)\n",
    "ax.set_yticklabels(['≤ 6','7','8','9','10'])\n",
    "plt.ylim(6,10)\n",
    "\n",
    "for i,artist in enumerate(ax.artists):\n",
    "    # Set the linecolor on the artist to the facecolor, and set the facecolor to None\n",
    "    col = lighten_color(artist.get_facecolor(), 1.2)\n",
    "    artist.set_edgecolor(col) \n",
    "    #artist.set_facecolor('white')\n",
    "    artist.set_edgecolor('black') \n",
    "    artist.set_linewidth(0.5)\n",
    "\n",
    "    # Each box has 6 associated Line2D objects (to make the whiskers, fliers, etc.)\n",
    "    # Loop over them here, and use the same colour as above\n",
    "    for j in range(i*6,i*6+6):\n",
    "        line = ax.lines[j]\n",
    "        #line.set_color(col)\n",
    "        line.set_mfc(col)\n",
    "        line.set_mec(col)\n",
    "        line.set_linewidth(1)\n",
    "plt.savefig('20210104_fluB_box_bymut.png', transparent=True, dpi=600,bbox_inches='tight')"
   ]
  },
  {
   "cell_type": "code",
   "execution_count": 18,
   "metadata": {},
   "outputs": [
    {
     "data": {
      "text/plain": [
       "<Figure size 432x288 with 0 Axes>"
      ]
     },
     "metadata": {},
     "output_type": "display_data"
    },
    {
     "data": {
      "image/png": "[encoded data removed]",
      "text/plain": [
       "<Figure size 234x288 with 2 Axes>"
      ]
     },
     "metadata": {
      "needs_background": "light"
     },
     "output_type": "display_data"
    }
   ],
   "source": [
    "#coloring by pos1\n",
    "# libraries\n",
    "from mpl_toolkits.mplot3d import Axes3D\n",
    "import matplotlib.pyplot as plt\n",
    "plt.rcParams[\"axes.grid\"] = False\n",
    "plt.rcParams['font.sans-serif'] = \"Arial\"\n",
    "# Then, \"ALWAYS use sans-serif fonts\"\n",
    "plt.rcParams['font.family'] = \"sans-serif\"\n",
    "plt.rcParams['axes.linewidth'] = 0.5\n",
    "#plt.subplots_adjust(wspace=0.8,hspace=0.1)\n",
    "#plt.axis('tight')\n",
    "import numpy as np\n",
    "import pandas as pd\n",
    "cmap=plt.cm.plasma\n",
    "plt.clf()\n",
    "# plot\n",
    "x = HA_all['h1_mean']\n",
    "y = HA_all['h3_mean']\n",
    "z = HA_all['fluB_mean']\n",
    "plt.rcParams['grid.color'] = \"white\"\n",
    "fig = plt.figure(figsize=(3.25,4))\n",
    "ax = fig.add_subplot(111, projection='3d')\n",
    "x_locator = FixedLocator([7,8,9,10])\n",
    "ax.set_xticklabels(['≤ 7','8','9','10'])\n",
    "y_locator = FixedLocator([6,7,8,9])\n",
    "ax.set_yticklabels(['≤ 6','7','8','9'])\n",
    "z_locator = FixedLocator([6,7,8])\n",
    "ax.set_zticklabels(['≤ 6','7','8'])\n",
    "ax.xaxis.set_major_locator(x_locator)\n",
    "ax.yaxis.set_major_locator(y_locator)\n",
    "ax.zaxis.set_major_locator(z_locator)\n",
    "ax.w_xaxis.set_pane_color((1.0, 1.0, 1.0, 1.0))\n",
    "ax.w_yaxis.set_pane_color((1.0, 1.0, 1.0, 1.0))\n",
    "ax.w_zaxis.set_pane_color((1.0, 1.0, 1.0, 1.0))\n",
    "ax.scatter(x,y,z, c=HA_all['som_mut'], cmap=cmap, s=5, alpha = 1, zorder=-10000)\n",
    "#ax.view_init(30, 170)\n",
    "ax.view_init(30, 210)\n",
    "ax.zaxis.set_tick_params(labelsize=7,pad=-3,length=2.5)\n",
    "ax.yaxis.set_tick_params(labelsize=7,pad=-3,length=2.5)\n",
    "ax.xaxis.set_tick_params(labelsize=7,pad=-3,length=2.5)\n",
    "# ax.plot(x, z, 'r+', zdir='y', zs=9.5, c='darkgray', marker='o',alpha=0.1,zorder=-5)\n",
    "# ax.plot(y, z, 'g+', zdir='x', zs=10.5, c='darkgray',marker='o',alpha=0.1,zorder=-5)\n",
    "# ax.plot(x, y, 'k+', zdir='z', zs=8.5, c='darkgray',marker='o',alpha=0.1,zorder=-5)\n",
    "ax.set_xlim([7, 10.5])\n",
    "ax.set_ylim([6, 9.5])\n",
    "ax.set_zlim([6, 8.5])\n",
    "\n",
    "plt.xlabel('H1 -logKd',fontsize=8,labelpad=-8)\n",
    "plt.ylabel('H3 -logKd',fontsize=8,labelpad=-8)\n",
    "ax.set_zlabel('FluB -logKd',fontsize=8,labelpad=-8,rotation=180)\n",
    "sm = plt.cm.ScalarMappable(cmap=plt.cm.plasma, norm=plt.Normalize(vmin = 0, vmax=16))\n",
    "sm._A = []\n",
    "cbar = plt.colorbar(sm,fraction=0.025, pad=-0.07,orientation='vertical',aspect=20,ticks=[0,4,8,12,16])\n",
    "cbar.set_label(label='# somatic mutations',size=8)\n",
    "cbar.ax.tick_params(labelsize=7)\n",
    "#plt.style.use('seaborn-white')\n",
    "plt.savefig(\"20210104_pleiotropyscatter.png\", transparent=True, dpi=600,bbox_inches='tight')"
   ]
  },
  {
   "cell_type": "code",
   "execution_count": 63,
   "metadata": {},
   "outputs": [
    {
     "data": {
      "text/plain": [
       "<Figure size 432x288 with 0 Axes>"
      ]
     },
     "metadata": {},
     "output_type": "display_data"
    },
    {
     "data": {
      "image/png": "[encoded data removed]",
      "text/plain": [
       "<Figure size 54x54 with 1 Axes>"
      ]
     },
     "metadata": {
      "needs_background": "light"
     },
     "output_type": "display_data"
    }
   ],
   "source": [
    "# libraries\n",
    "from mpl_toolkits.mplot3d import Axes3D\n",
    "import matplotlib.pyplot as plt\n",
    "plt.rcParams[\"axes.grid\"] = False\n",
    "plt.rcParams['font.sans-serif'] = \"Arial\"\n",
    "# Then, \"ALWAYS use sans-serif fonts\"\n",
    "plt.rcParams['font.family'] = \"sans-serif\"\n",
    "plt.rcParams['axes.linewidth'] = 0.5\n",
    "cmap=plt.cm.plasma\n",
    "plt.clf()\n",
    "# plot\n",
    "x = HA_all['h3_mean']\n",
    "y = HA_all['fluB_mean']\n",
    "plt.rcParams['grid.color'] = \"white\"\n",
    "fig = plt.figure(figsize=(0.75,0.75))\n",
    "ax = fig.add_subplot()\n",
    "x_locator = FixedLocator([6,7,8,9])\n",
    "y_locator = FixedLocator([6,7,8,9])\n",
    "ax.xaxis.set_major_locator(x_locator)\n",
    "ax.set_xticklabels(['≤ 6','7','8','9'])\n",
    "ax.set_yticklabels(['≤ 6','7','8','9'])\n",
    "plt.axvline(x=6,linestyle='dashed',linewidth=0.5,color='black')\n",
    "plt.axhline(y=6,linestyle='dashed',linewidth=0.5,color='black')\n",
    "ax.yaxis.set_major_locator(y_locator)\n",
    "# ax.xaxis.set_pane_color((1.0, 1.0, 1.0, 1.0))\n",
    "# ax.yaxis.set_pane_color((1.0, 1.0, 1.0, 1.0))\n",
    "hb=ax.hexbin(x,y,cmap='Greys',bins='log',gridsize=10,linewidths=0.2)\n",
    "germ=ax.scatter(germ_h3,germ_fluB, s=20,c='mediumblue', marker='*',edgecolor='white',linewidths=0.5,alpha=1,zorder=99999999)\n",
    "som=ax.scatter(som_h3,som_fluB,s=20,c='yellow', marker='*',edgecolor='black',linewidths=0.5,alpha=1,zorder=999999)\n",
    "# ax.scatter(x,y, c=HA_all['som_mut'], cmap=cmap, s=10, alpha = 1, zorder=-10000)\n",
    "# germ=ax.scatter(germ_h3,germ_fluB, s=30,c='mediumblue', marker='*',edgecolor='black',linewidths=0.5,alpha=1,zorder=99999999)\n",
    "# som=ax.scatter(som_h3,som_fluB,s=30,c='yellow', marker='*',edgecolor='black',linewidths=0.5,alpha=1,zorder=999999)\n",
    "ax.yaxis.set_tick_params(labelsize=7,pad=1,length=2.5)\n",
    "ax.xaxis.set_tick_params(labelsize=7,pad=1,length=2.5)\n",
    "ax.set_xlim([5.5, 9.5])\n",
    "ax.set_ylim([5.5, 8.5])\n",
    "plt.xlabel('H3 -logKd',fontsize=8,labelpad=2)\n",
    "plt.ylabel('FluB -logKd',fontsize=8,labelpad=0)\n",
    "sm = plt.cm.ScalarMappable(cmap=plt.cm.plasma, norm=plt.Normalize(vmin = 0, vmax=16))\n",
    "sm._A = []\n",
    "#cbar = plt.colorbar(sm,fraction=0.025, pad=0.10,orientation='horizontal',aspect=20,ticks=[0,4,8,12,16])\n",
    "#cbar.set_label(label='# somatic mutations',size=8)\n",
    "#cbar.ax.tick_params(labelsize=7)\n",
    "plt.savefig(\"20210118_pleiotropyscatter_H3_fluB.png\", transparent=True, dpi=600,bbox_inches='tight')"
   ]
  },
  {
   "cell_type": "code",
   "execution_count": 54,
   "metadata": {},
   "outputs": [
    {
     "data": {
      "text/plain": [
       "<Figure size 432x288 with 0 Axes>"
      ]
     },
     "metadata": {},
     "output_type": "display_data"
    },
    {
     "data": {
      "image/png": "[encoded data removed]",
      "text/plain": [
       "<Figure size 54x54 with 1 Axes>"
      ]
     },
     "metadata": {
      "needs_background": "light"
     },
     "output_type": "display_data"
    }
   ],
   "source": [
    "# libraries\n",
    "from mpl_toolkits.mplot3d import Axes3D\n",
    "import matplotlib.pyplot as plt\n",
    "plt.rcParams[\"axes.grid\"] = False\n",
    "plt.rcParams['font.sans-serif'] = \"Arial\"\n",
    "# Then, \"ALWAYS use sans-serif fonts\"\n",
    "plt.rcParams['font.family'] = \"sans-serif\"\n",
    "plt.rcParams['axes.linewidth'] = 0.5\n",
    "cmap=plt.cm.plasma\n",
    "plt.clf()\n",
    "# plot\n",
    "x = HA_all['h1_mean']\n",
    "y = HA_all['fluB_mean']\n",
    "plt.rcParams['grid.color'] = \"white\"\n",
    "fig = plt.figure(figsize=(0.75,0.75))\n",
    "ax = fig.add_subplot()\n",
    "x_locator = FixedLocator([7,8,9,10])\n",
    "y_locator = FixedLocator([6,7,8,9])\n",
    "ax.xaxis.set_major_locator(x_locator)\n",
    "ax.yaxis.set_major_locator(y_locator)\n",
    "ax.set_xticklabels(['≤ 7','8','9','10'])\n",
    "ax.set_yticklabels(['≤ 6','7','8','9'])\n",
    "plt.axvline(x=7,linestyle='dashed',linewidth=0.5,color='black')\n",
    "plt.axhline(y=6,linestyle='dashed',linewidth=0.5,color='black')\n",
    "# ax.xaxis.set_pane_color((1.0, 1.0, 1.0, 1.0))\n",
    "# ax.yaxis.set_pane_color((1.0, 1.0, 1.0, 1.0))\n",
    "#ax.scatter(x,y, c='k', s=5, alpha = 0.01, zorder=-10000)\n",
    "hb=ax.hexbin(x,y,cmap='Greys',bins='log',gridsize=10,linewidths=0.2)\n",
    "germ=ax.scatter(germ_h1,germ_fluB, s=20,c='mediumblue', marker='*',edgecolor='white',linewidths=0.5,alpha=1,zorder=99999999)\n",
    "som=ax.scatter(som_h1,som_fluB,s=20,c='yellow', marker='*',edgecolor='black',linewidths=0.5,alpha=1,zorder=999999)\n",
    "ax.yaxis.set_tick_params(labelsize=7,pad=1,length=2.5)\n",
    "ax.xaxis.set_tick_params(labelsize=7,pad=1,length=2.5)\n",
    "ax.set_xlim([6.5, 10])\n",
    "ax.set_ylim([5.5, 8.5])\n",
    "# cb = fig.colorbar(hb, ax=ax,ticks=[1,10,100,1000,10000],orientation='vertical',pad=0.05)\n",
    "# #cb.set_label('log10(N)',size=6,labelpad=1)\n",
    "# cb.ax.tick_params(labelsize=7,pad=1,size=1)\n",
    "plt.xlabel('H1 -logKd',fontsize=8,labelpad=2)\n",
    "plt.ylabel('FluB -logKd',fontsize=8,labelpad=0)\n",
    "sm = plt.cm.ScalarMappable(cmap=plt.cm.plasma, norm=plt.Normalize(vmin = 0, vmax=16))\n",
    "sm._A = []\n",
    "#cbar = plt.colorbar(sm,fraction=0.025, pad=0.10,orientation='horizontal',aspect=20,ticks=[0,4,8,12,16])\n",
    "#cbar.set_label(label='# somatic mutations',size=8)\n",
    "#cbar.ax.tick_params(labelsize=7)\n",
    "plt.savefig(\"20210118_pleiotropyscatter_H1_fluB.png\", transparent=True, dpi=600,bbox_inches='tight')"
   ]
  },
  {
   "cell_type": "code",
   "execution_count": 55,
   "metadata": {},
   "outputs": [
    {
     "data": {
      "text/plain": [
       "<Figure size 432x288 with 0 Axes>"
      ]
     },
     "metadata": {},
     "output_type": "display_data"
    },
    {
     "data": {
      "image/png": "[encoded data removed]",
      "text/plain": [
       "<Figure size 54x54 with 1 Axes>"
      ]
     },
     "metadata": {
      "needs_background": "light"
     },
     "output_type": "display_data"
    }
   ],
   "source": [
    "# libraries\n",
    "from mpl_toolkits.mplot3d import Axes3D\n",
    "import matplotlib.pyplot as plt\n",
    "plt.rcParams[\"axes.grid\"] = False\n",
    "plt.rcParams['font.sans-serif'] = \"Arial\"\n",
    "# Then, \"ALWAYS use sans-serif fonts\"\n",
    "plt.rcParams['font.family'] = \"sans-serif\"\n",
    "plt.rcParams['axes.linewidth'] = 0.5\n",
    "cmap=plt.cm.plasma\n",
    "plt.clf()\n",
    "# plot\n",
    "x = HA_all['h1_mean']\n",
    "y = HA_all['h3_mean']\n",
    "plt.rcParams['grid.color'] = \"white\"\n",
    "fig = plt.figure(figsize=(0.75,0.75))\n",
    "ax = fig.add_subplot()\n",
    "x_locator = FixedLocator([7,8,9,10])\n",
    "y_locator = FixedLocator([6,7,8,9])\n",
    "ax.xaxis.set_major_locator(x_locator)\n",
    "ax.yaxis.set_major_locator(y_locator)\n",
    "ax.set_xticklabels(['≤ 7','8','9','10'])\n",
    "ax.set_yticklabels(['≤ 6','7','8','9'])\n",
    "plt.axvline(x=7,linestyle='dashed',linewidth=0.5,color='black')\n",
    "plt.axhline(y=6,linestyle='dashed',linewidth=0.5,color='black')\n",
    "# ax.xaxis.set_pane_color((1.0, 1.0, 1.0, 1.0))\n",
    "# ax.yaxis.set_pane_color((1.0, 1.0, 1.0, 1.0))\n",
    "hb=ax.hexbin(x,y,cmap='Greys',bins='log',gridsize=10,linewidths=0.2)\n",
    "germ=ax.scatter(germ_h1,germ_h3, s=20,c='mediumblue', marker='*',edgecolor='white',linewidths=0.5,alpha=1,zorder=99999999)\n",
    "som=ax.scatter(som_h1,som_h3,s=20,c='yellow', marker='*',edgecolor='black',linewidths=0.5,alpha=1,zorder=999999)\n",
    "# ax.scatter(x,y, c=HA_all['som_mut'], cmap=cmap, s=10, alpha = 1, zorder=-10000)\n",
    "# germ=ax.scatter(germ_h1,germ_h3, s=30,c='mediumblue', marker='*',edgecolor='black',linewidths=0.5,alpha=1,zorder=99999999)\n",
    "# som=ax.scatter(som_h1,som_h3,s=30,c='yellow', marker='*',edgecolor='black',linewidths=0.5,alpha=1,zorder=999999)\n",
    "ax.yaxis.set_tick_params(labelsize=7,pad=1,length=2.5)\n",
    "ax.xaxis.set_tick_params(labelsize=7,pad=1,length=2.5)\n",
    "ax.set_xlim([6.5, 10])\n",
    "ax.set_ylim([5.5, 9.5])\n",
    "\n",
    "plt.xlabel('H1 -logKd',fontsize=8,labelpad=2)\n",
    "plt.ylabel('H3 -logKd',fontsize=8,labelpad=1)\n",
    "sm = plt.cm.ScalarMappable(cmap=plt.cm.plasma, norm=plt.Normalize(vmin = 0, vmax=16))\n",
    "sm._A = []\n",
    "plt.savefig(\"20210118_pleiotropyscatter_H1_H3.png\", transparent=True, dpi=600,bbox_inches='tight')"
   ]
  },
  {
   "cell_type": "markdown",
   "metadata": {},
   "source": [
    "### histograms for binders"
   ]
  },
  {
   "cell_type": "code",
   "execution_count": 14,
   "metadata": {},
   "outputs": [
    {
     "data": {
      "text/plain": [
       "<Figure size 432x288 with 0 Axes>"
      ]
     },
     "metadata": {},
     "output_type": "display_data"
    },
    {
     "data": {
      "image/png": "[encoded data removed]",
      "text/plain": [
       "<Figure size 69.84x72 with 1 Axes>"
      ]
     },
     "metadata": {
      "needs_background": "light"
     },
     "output_type": "display_data"
    }
   ],
   "source": [
    "h1_bind = HA_all[HA_all['h1_mean']>7].copy()\n",
    "h1_bind_plot = h1_bind[['variant','repa_x','repb_x','repc_x']].copy()\n",
    "h1_bind_plot['mean'] = h1_bind_plot.mean(axis=1)\n",
    "plt.clf()\n",
    "plt.rcParams['font.sans-serif'] = \"Arial\"\n",
    "x_locator = FixedLocator([-6,-8,-10])\n",
    "plt.rcParams['axes.linewidth'] = 0.5\n",
    "from matplotlib import ticker\n",
    "formatter = ticker.ScalarFormatter(useMathText=True)\n",
    "formatter.set_scientific(True) \n",
    "# Then, \"ALWAYS use sans-serif fonts\"\n",
    "plt.rcParams['font.family'] = \"sans-serif\"\n",
    "x = h1_bind_plot['mean']\n",
    "fig = plt.figure(figsize=(0.97,1))\n",
    "ax = fig.add_subplot()\n",
    "ax.hist(-x,bins=50,color='dimgray')\n",
    "ax.yaxis.set_tick_params(labelsize=7,pad=1,length=2.5,width=0)\n",
    "ax.xaxis.set_tick_params(labelsize=7,pad=1,length=2.5,width=0)\n",
    "ax.xaxis.set_ticklabels([])\n",
    "ax.yaxis.set_ticklabels([])\n",
    "ax.xaxis.set_major_locator(x_locator)\n",
    "#ax.yaxis.set_major_formatter(formatter)\n",
    "ax.set_xlim([-6, -10])\n",
    "plt.xlabel('  ',fontsize=8,labelpad=1)\n",
    "plt.ylabel(' ',fontsize=8,labelpad=1)\n",
    "#plt.ticklabel_format(style='sci', axis='y', scilimits=(0,0),useMathText=True)\n",
    "ax.yaxis.get_offset_text().set_fontsize(7)\n",
    "#plt.title('H1',fontsize=8)\n",
    "plt.savefig(\"20210118_h1_bind.png\", transparent=True, dpi=600,bbox_inches='tight')"
   ]
  },
  {
   "cell_type": "code",
   "execution_count": 15,
   "metadata": {},
   "outputs": [
    {
     "data": {
      "text/plain": [
       "<Figure size 432x288 with 0 Axes>"
      ]
     },
     "metadata": {},
     "output_type": "display_data"
    },
    {
     "data": {
      "image/png": "[encoded data removed]",
      "text/plain": [
       "<Figure size 69.84x72 with 1 Axes>"
      ]
     },
     "metadata": {
      "needs_background": "light"
     },
     "output_type": "display_data"
    }
   ],
   "source": [
    "h3_bind = HA_all[HA_all['h3_mean']>6].copy()\n",
    "h3_bind_plot = h3_bind[['variant','repa_y','repb_y','repc_y']].copy()\n",
    "h3_bind_plot['mean'] = h3_bind_plot.mean(axis=1)\n",
    "plt.clf()\n",
    "plt.rcParams['font.sans-serif'] = \"Arial\"\n",
    "x_locator = FixedLocator([-6,-8,-10])\n",
    "plt.rcParams['axes.linewidth'] = 0.5\n",
    "from matplotlib import ticker\n",
    "formatter = ticker.ScalarFormatter(useMathText=True)\n",
    "formatter.set_scientific(True) \n",
    "# Then, \"ALWAYS use sans-serif fonts\"\n",
    "plt.rcParams['font.family'] = \"sans-serif\"\n",
    "x = h3_bind_plot['mean']\n",
    "fig = plt.figure(figsize=(0.97,1))\n",
    "ax = fig.add_subplot()\n",
    "ax.hist(-x,bins=50,color='dimgray')\n",
    "ax.yaxis.set_tick_params(labelsize=7,pad=1,length=2.5,width=0)\n",
    "ax.xaxis.set_tick_params(labelsize=7,pad=1,length=2.5,width=0)\n",
    "ax.xaxis.set_ticklabels([])\n",
    "ax.yaxis.set_ticklabels([])\n",
    "ax.xaxis.set_major_locator(x_locator)\n",
    "#ax.yaxis.set_major_formatter(formatter)\n",
    "ax.set_xlim([-6, -10])\n",
    "plt.xlabel('  ',fontsize=8,labelpad=1)\n",
    "plt.ylabel(' ',fontsize=8,labelpad=1)\n",
    "#plt.ticklabel_format(style='sci', axis='y', scilimits=(0,0),useMathText=True)\n",
    "ax.yaxis.get_offset_text().set_fontsize(7)\n",
    "#plt.title('H1',fontsize=8)\n",
    "plt.savefig(\"20210118_h3_binders.png\", transparent=True, dpi=600,bbox_inches='tight')"
   ]
  },
  {
   "cell_type": "code",
   "execution_count": 16,
   "metadata": {},
   "outputs": [
    {
     "data": {
      "text/plain": [
       "<Figure size 432x288 with 0 Axes>"
      ]
     },
     "metadata": {},
     "output_type": "display_data"
    },
    {
     "data": {
      "image/png": "[encoded data removed]",
      "text/plain": [
       "<Figure size 69.84x72 with 1 Axes>"
      ]
     },
     "metadata": {
      "needs_background": "light"
     },
     "output_type": "display_data"
    }
   ],
   "source": [
    "fluB_bind = HA_all[HA_all['fluB_mean']>6].copy()\n",
    "fluB_bind_plot = fluB_bind[['variant','repa','repb','repc']].copy()\n",
    "fluB_bind_plot['mean'] = fluB_bind_plot.mean(axis=1)\n",
    "plt.clf()\n",
    "plt.rcParams['font.sans-serif'] = \"Arial\"\n",
    "x_locator = FixedLocator([-6,-8,-10])\n",
    "plt.rcParams['axes.linewidth'] = 0.5\n",
    "from matplotlib import ticker\n",
    "formatter = ticker.ScalarFormatter(useMathText=True)\n",
    "formatter.set_scientific(True) \n",
    "# Then, \"ALWAYS use sans-serif fonts\"\n",
    "plt.rcParams['font.family'] = \"sans-serif\"\n",
    "x = fluB_bind_plot['mean']\n",
    "fig = plt.figure(figsize=(0.97,1))\n",
    "ax = fig.add_subplot()\n",
    "ax.hist(-x,bins=25,color='dimgray')\n",
    "ax.yaxis.set_tick_params(labelsize=7,pad=1,length=2.5,width=0)\n",
    "ax.xaxis.set_tick_params(labelsize=7,pad=1,length=2.5,width=0)\n",
    "ax.xaxis.set_ticklabels([])\n",
    "ax.yaxis.set_ticklabels([])\n",
    "ax.xaxis.set_major_locator(x_locator)\n",
    "#ax.yaxis.set_major_formatter(formatter)\n",
    "ax.set_xlim([-6, -10])\n",
    "plt.xlabel('  ',fontsize=8,labelpad=1)\n",
    "plt.ylabel(' ',fontsize=8,labelpad=1)\n",
    "#plt.ticklabel_format(style='sci', axis='y', scilimits=(0,0),useMathText=True)\n",
    "ax.yaxis.get_offset_text().set_fontsize(7)\n",
    "plt.savefig(\"20210118_fluB_binders.png\", transparent=True, dpi=600,bbox_inches='tight')"
   ]
  },
  {
   "cell_type": "code",
   "execution_count": 20,
   "metadata": {},
   "outputs": [
    {
     "name": "stdout",
     "output_type": "stream",
     "text": [
      "63419 7174 198\n"
     ]
    }
   ],
   "source": [
    "print(h1_bind_plot.shape[0],h3_bind_plot.shape[0],fluB_bind_plot.shape[0])"
   ]
  },
  {
   "cell_type": "code",
   "execution_count": null,
   "metadata": {},
   "outputs": [],
   "source": []
  }
 ],
 "metadata": {
  "kernelspec": {
   "display_name": "Python 3",
   "language": "python",
   "name": "python3"
  },
  "language_info": {
   "codemirror_mode": {
    "name": "ipython",
    "version": 3
   },
   "file_extension": ".py",
   "mimetype": "text/x-python",
   "name": "python",
   "nbconvert_exporter": "python",
   "pygments_lexer": "ipython3",
   "version": "3.7.4"
  }
 },
 "nbformat": 4,
 "nbformat_minor": 2
}
