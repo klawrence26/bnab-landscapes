{
 "cells": [
  {
   "cell_type": "code",
   "execution_count": 1,
   "metadata": {},
   "outputs": [],
   "source": [
    "import numpy as np\n",
    "import pandas as pd\n",
    "import matplotlib.pyplot as plt\n",
    "import matplotlib as mpl\n",
    "import seaborn as sns\n",
    "\n",
    "plt.rcParams.update({'font.size': 7,'axes.linewidth':0.5,\n",
    "                     'xtick.major.size':2,'xtick.major.width':0.5,\n",
    "                    'ytick.major.size':2,'ytick.major.width':0.5})\n",
    "plt.rcParams.update({'mathtext.default':  'regular' })\n"
   ]
  },
  {
   "cell_type": "markdown",
   "metadata": {},
   "source": [
    "## Figure 5 -- Figure Supplement 1A"
   ]
  },
  {
   "cell_type": "code",
   "execution_count": 2,
   "metadata": {},
   "outputs": [],
   "source": [
    "def pfix(delta,N,alpha):\n",
    "\n",
    "    return (1-np.exp(-1*alpha*delta))/(1-np.exp(-1*N*alpha*delta))\n",
    "\n",
    "def pfix_binary(delta):\n",
    "    return np.heaviside(delta,0)"
   ]
  },
  {
   "cell_type": "code",
   "execution_count": 31,
   "metadata": {},
   "outputs": [
    {
     "data": {
      "image/png": "[encoded data removed]",
      "text/plain": [
       "<Figure size 180x180 with 1 Axes>"
      ]
     },
     "metadata": {
      "needs_background": "light"
     },
     "output_type": "display_data"
    }
   ],
   "source": [
    "import matplotlib\n",
    "\n",
    "cmap = matplotlib.cm.get_cmap('Greens')\n",
    "\n",
    "xvals = np.arange(-0.5,2,0.03)\n",
    "\n",
    "plt.figure(figsize=(2.5,2.5))\n",
    "plt.plot(xvals,pfix_binary(xvals),label=r'strong ($N\\rightarrow\\infty,\\gamma\\rightarrow\\infty$)',color=cmap(0.9))\n",
    "plt.plot(xvals,pfix(xvals,1000,1),label=r'moderate ($N=1000,\\gamma=1$)',color=cmap(0.6))\n",
    "plt.plot(xvals,pfix(xvals,20,0.5),label=r'weak ($N=20,\\gamma=0.5$)',color=cmap(0.3))\n",
    "plt.legend(bbox_to_anchor=(0.5, 1.01), loc='lower center')\n",
    "plt.ylabel(r'$p_{step}$')\n",
    "plt.xlabel(r'$\\Delta(-\\logK_D)$')\n",
    "plt.ylim([-0.05,1.05])\n",
    "plt.tight_layout()\n",
    "plt.savefig('images_supp/pfix.pdf')\n",
    "plt.show()"
   ]
  },
  {
   "cell_type": "code",
   "execution_count": null,
   "metadata": {},
   "outputs": [],
   "source": []
  }
 ],
 "metadata": {
  "kernelspec": {
   "display_name": "Python 3",
   "language": "python",
   "name": "python3"
  },
  "language_info": {
   "codemirror_mode": {
    "name": "ipython",
    "version": 3
   },
   "file_extension": ".py",
   "mimetype": "text/x-python",
   "name": "python",
   "nbconvert_exporter": "python",
   "pygments_lexer": "ipython3",
   "version": "3.8.2"
  }
 },
 "nbformat": 4,
 "nbformat_minor": 4
}
