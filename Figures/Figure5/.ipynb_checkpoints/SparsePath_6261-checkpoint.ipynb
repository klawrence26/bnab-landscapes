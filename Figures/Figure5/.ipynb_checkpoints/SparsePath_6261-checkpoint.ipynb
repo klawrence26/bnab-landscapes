{
 "cells": [
  {
   "cell_type": "code",
   "execution_count": 137,
   "metadata": {},
   "outputs": [
    {
     "name": "stdout",
     "output_type": "stream",
     "text": [
      "1917\n",
      "131\n",
      "2048\n"
     ]
    }
   ],
   "source": [
    "import numpy as np\n",
    "import pandas as pd\n",
    "import matplotlib.pyplot as plt\n",
    "import matplotlib as mpl\n",
    "import seaborn as sns\n",
    "from collections import defaultdict\n",
    "from tqdm.notebook import tqdm\n",
    "from operator import itemgetter\n",
    "from itertools import product\n",
    "mpl.rcParams['figure.dpi'] = 300\n",
    "\n",
    "#### antibody choice ####\n",
    "#antibody = \"9114\"\n",
    "antibody = \"6261\" \n",
    "\n",
    "antigens = [\"H1\", \"H3\", \"FluB\"] if antibody == \"9114\" else [\"h1\", \"h9\"]\n",
    "L = (16 if antibody == \"9114\" else 11)\n",
    "df = pd.read_csv(\"../../CR6261/Kd_meanbin/kd_processed/20210323_6261_HA_unadj_fil_merg.csv\",usecols={'variant','h1_mean','h9_mean'}, dtype={\"variant\":\"str\"})\n",
    "\n",
    "#df.replace(np.nan, 6.0)\n",
    "#df.fillna(value={'h1_mean': 7.0, 'h3_mean': 6.0, 'fluB_mean': 6.0})\n",
    "\n",
    "# put sequences in integer format and create dict to map between the two\n",
    "df[\"variant_int\"] = df.variant.apply(lambda x: int(x, 2))\n",
    "sequences_int = df.variant_int.values\n",
    "sequences = df.variant.values\n",
    "seq_to_int = dict(zip(sequences, sequences_int))\n",
    "int_to_seq = dict(zip(sequences_int, sequences))\n",
    "print(len(df))\n",
    "\n",
    "# check for missing sequences\n",
    "full_lib = [''.join(p) for p in product('10', repeat=L)]\n",
    "missing_vars = []\n",
    "for var in full_lib:\n",
    "    if int(var,2) not in int_to_seq.keys():\n",
    "        missing_vars.append(var)\n",
    "    \n",
    "print(len(missing_vars))\n",
    "df_missing = pd.DataFrame([[str(var),np.nan,np.nan,int(var,2)] for var in missing_vars], columns=['variant','h1_mean','h9_mean','variant_int'])\n",
    "df_new = df.append(df_missing, ignore_index=True)\n",
    "        \n",
    "print(len(df_new))\n",
    "df = df_new\n",
    "#df.loc[df[\"h1_mean\"].isna(), \"h1_mean\"] = 6.0\n",
    "#df.loc[df[\"h9_mean\"].isna(), \"h9_mean\"] = 6.0\n",
    "\n",
    "#df.loc[df['variant']=='10000000000', \"h1_mean\"] = 7.0\n",
    "\n",
    "#df.loc[df['variant']=='10000000000']\n",
    "\n",
    "# for var in full_lib:\n",
    "#     if str(var) not in list(df['variant']):\n",
    "#         print(var)\n",
    "#         #df.loc[len(df.index)] = [str(var),6.0,6.0,6.0]  \n",
    "#         #df.append([str(var),7.0,7.0], ignore_index=True)\n",
    "#         #df.append(pd.DataFrame([[str(var),7.0,7.0]], columns=['Variant','h1_mean','h9_mean']), ignore_index=True)\n",
    "#df.to_csv(\"the_integers_9114.csv\",index=False)\n",
    "\n",
    "        \n"
   ]
  },
  {
   "cell_type": "code",
   "execution_count": 42,
   "metadata": {},
   "outputs": [],
   "source": [
    "def nb_mutation(s):\n",
    "    \"\"\" Number of mutations in variant s \"\"\"\n",
    "    return bin(s).count(\"1\")\n"
   ]
  },
  {
   "cell_type": "code",
   "execution_count": 72,
   "metadata": {},
   "outputs": [
    {
     "name": "stdout",
     "output_type": "stream",
     "text": [
      "(2048,)\n"
     ]
    }
   ],
   "source": [
    "from scipy.sparse import dok_matrix, csr_matrix\n",
    "from sklearn.preprocessing import normalize\n",
    "import networkx as nx\n",
    "import itertools\n",
    "\n",
    "## load natanael weights\n",
    "#df_spisak = pd.read_csv(f\"neutral_mutabilities_{antibody}_spisak.csv\", dtype={'To':'str', 'From':'str'})\n",
    "#dct_mut = df_spisak.set_index([\"From\", \"To\"]).probability.to_dict()\n",
    "# create a sparse matrix for the neutral mutations\n",
    "#mut_neutral = dok_matrix((2**L, 2**L), dtype=np.float64)\n",
    "#for s1, s2 in dct_mut:\n",
    "#    mut_neutral[seq_to_int[s1], seq_to_int[s2]] = dct_mut[s1, s2]\n",
    "#mut_neutral.tocsr()\n",
    "#mut_neutral = normalize(mut_neutral, norm='l1', axis=1)\n",
    "\n",
    "def mutation(s, ii, L):\n",
    "    \"\"\" Return the sequence (in int format) with base s,\n",
    "        with a somatic mutation at pos ii \"\"\"\n",
    "    return s | 2**(L-1-ii)\n",
    "\n",
    "def nb_mutation(s):\n",
    "    \"\"\" Number of mutations in variant s \"\"\"\n",
    "    return bin(s).count(\"1\")\n",
    "\n",
    "N = 5\n",
    "ag = \"h1\"\n",
    "if ag == \"\":\n",
    "    fitnesses_H1 = np.zeros((len(df)))\n",
    "else:\n",
    "    fitnesses_H1 = df.sort_values(by=[\"variant_int\"])[f\"{ag}_mean\"].values\n",
    "ag = \"h9\"\n",
    "if ag == \"\":\n",
    "    fitnesses_H9 = np.zeros((len(df)))\n",
    "else:\n",
    "    fitnesses_H9 = df.sort_values(by=[\"variant_int\"])[f\"{ag}_mean\"].values\n",
    "    \n",
    "    \n",
    "\n",
    "\n",
    "fitnesses_H1\n",
    "print(fitnesses_H1.shape)"
   ]
  },
  {
   "cell_type": "code",
   "execution_count": 47,
   "metadata": {},
   "outputs": [
    {
     "data": {
      "text/plain": [
       "array([7.        , 7.        , 7.        , ..., 9.50169083, 9.46350042,\n",
       "       9.50665428])"
      ]
     },
     "execution_count": 47,
     "metadata": {},
     "output_type": "execute_result"
    }
   ],
   "source": [
    "#define all the possible functions\n",
    "def model1_H1(ss,tt,N):\n",
    "    \"\"\" N ~ effective pop size\"\"\"\n",
    "    if np.isnan(fitnesses_H1[tt]) or np.isnan(fitnesses_H1[ss]):\n",
    "        return(0.0)\n",
    "    else:\n",
    "        delta = fitnesses_H1[tt] - fitnesses_H1[ss]\n",
    "        if delta == 0.0:\n",
    "            return 1.0/N\n",
    "        else:\n",
    "            return ((1 - np.exp(-delta))/(1 - np.exp(-N*delta))) \n",
    "\n",
    "def model1_H9(ss,tt,N):\n",
    "    \"\"\" N ~ effective pop size\"\"\"\n",
    "    if np.isnan(fitnesses_H9[tt]) or np.isnan(fitnesses_H9[ss]):\n",
    "        return(0.0)\n",
    "    else:\n",
    "        delta = fitnesses_H9[tt] - fitnesses_H9[ss]\n",
    "        if delta == 0.0:\n",
    "            return 1.0/N\n",
    "        else:\n",
    "            return ((1 - np.exp(-delta))/(1 - np.exp(-N*delta))) \n",
    "\n",
    "def model1_average(ss,tt,N):\n",
    "    \"\"\" N ~ effective pop size\"\"\"  \n",
    "    if np.isnan(fitnesses_H1[tt]) and np.isnan(fitnesses_H9[tt]):\n",
    "        return(0.0)\n",
    "    elif np.isnan(fitnesses_H1[ss]) and np.isnan(fitnesses_H9[ss]):\n",
    "        return(0.0)\n",
    "    else:\n",
    "        delta = (np.nanmean([fitnesses_H1[tt],fitnesses_H9[tt]])\n",
    "             - np.nanmean([fitnesses_H1[ss],fitnesses_H9[ss]]))\n",
    "        if delta == 0.0:\n",
    "            return 1.0/N\n",
    "        else:\n",
    "            return ((1 - np.exp(-delta))/(1 - np.exp(-N*delta))) \n",
    "\n",
    "fitnesses_H1\n",
    "fitnesses_H1"
   ]
  },
  {
   "cell_type": "code",
   "execution_count": 5,
   "metadata": {},
   "outputs": [],
   "source": [
    "#define all the possible functions\n",
    "def model2_H1(ss,tt):\n",
    "    \"\"\" Model 2 where we penalize not so harshly\"\"\"\n",
    "    if fitnesses_H1[tt] <= 7.0:\n",
    "        return(1.0)\n",
    "    else:\n",
    "        delta = fitnesses_H1[tt] - fitnesses_H1[ss]\n",
    "        if(delta <= -0.1):\n",
    "            return(1.0)\n",
    "        elif(delta <= 0.1):\n",
    "            return(1.0)\n",
    "        else:\n",
    "        ### formula transition probability ###\n",
    "        #return(mut_neutral[s, t] if delta <= 0. else \n",
    "            return(N*np.nan_to_num((1 - np.exp(-delta))/(1 - np.exp(-N*delta))))#*mut_neutral[s, t])\n",
    "\n",
    "def model2_H9(ss,tt):\n",
    "    \"\"\" Model 2 where we penalize not so harshly\"\"\"\n",
    "    if fitnesses_H9[tt] == 6.0:\n",
    "        return(1.0)\n",
    "    else:\n",
    "        delta = fitnesses_H9[tt] - fitnesses_H9[ss]\n",
    "        ### formula transition probability ###\n",
    "        #return(mut_neutral[s, t] if delta <= 0. else \n",
    "        if(delta <= -0.1):\n",
    "            return(1.0)\n",
    "        elif(delta <= 0.1):\n",
    "            return(1.0)\n",
    "        else:\n",
    "        ### formula transition probability ###\n",
    "        #return(mut_neutral[s, t] if delta <= 0. else \n",
    "            return(N*np.nan_to_num((1 - np.exp(-delta))/(1 - np.exp(-N*delta))))#*mut_neutral[s, t])\n",
    "        \n"
   ]
  },
  {
   "cell_type": "code",
   "execution_count": 6,
   "metadata": {},
   "outputs": [],
   "source": [
    "#define all the possible functions\n",
    "def model3_H1(ss,tt):\n",
    "    \"\"\" Model 2 where we penalize not so harshly\"\"\"\n",
    "    if fitnesses_H1[tt] <= 7.0:\n",
    "        return(0.1)\n",
    "    else:\n",
    "        delta = fitnesses_H1[tt] - fitnesses_H1[ss]\n",
    "        if(delta <= -0.1):\n",
    "            return(0.1)\n",
    "        elif(delta <= 0.1):\n",
    "            return(1.0)\n",
    "        else:\n",
    "        ### formula transition probability ###\n",
    "        #return(mut_neutral[s, t] if delta <= 0. else \n",
    "            return(N*np.nan_to_num((1 - np.exp(-delta))/(1 - np.exp(-N*delta))))#*mut_neutral[s, t])\n",
    "\n",
    "def model3_H9(ss,tt):\n",
    "    \"\"\" Model 2 where we penalize not so harshly\"\"\"\n",
    "    if fitnesses_H9[tt] == 6.0:\n",
    "        return(0.1)\n",
    "    else:\n",
    "        delta = fitnesses_H9[tt] - fitnesses_H9[ss]\n",
    "        ### formula transition probability ###\n",
    "        #return(mut_neutral[s, t] if delta <= 0. else \n",
    "        if(delta <= -0.1):\n",
    "            return(0.1)\n",
    "        elif(delta <= 0.1):\n",
    "            return(1.0)\n",
    "        else:\n",
    "        ### formula transition probability ###\n",
    "        #return(mut_neutral[s, t] if delta <= 0. else \n",
    "            return(N*np.nan_to_num((1 - np.exp(-delta))/(1 - np.exp(-N*delta))))#*mut_neutral[s, t])\n",
    "        \n"
   ]
  },
  {
   "cell_type": "code",
   "execution_count": 7,
   "metadata": {},
   "outputs": [],
   "source": [
    "#define all the possible functions\n",
    "def model4_H1(ss,tt):\n",
    "    \"\"\" Model 2 where we penalize not so harshly\"\"\"\n",
    "    if fitnesses_H1[tt] <= 7.0:\n",
    "        return(0.1)\n",
    "    else:\n",
    "        delta = (fitnesses_H1[tt] - fitnesses_H1[ss])/(fitnesses_H1[tt]-7.0)\n",
    "        if(delta <= -0.1):\n",
    "            return(0.1)\n",
    "        elif(delta <= 0.1):\n",
    "            return(1.0)\n",
    "        else:\n",
    "        ### formula transition probability ###\n",
    "        #return(mut_neutral[s, t] if delta <= 0. else \n",
    "            return(N*np.nan_to_num((1 - np.exp(-delta))/(1 - np.exp(-N*delta))))#*mut_neutral[s, t])\n",
    "\n",
    "def model4_H9(ss,tt):\n",
    "    \"\"\" Model 2 where we penalize not so harshly\"\"\"\n",
    "    if fitnesses_H9[tt] == 6.0:\n",
    "        return(0.1)\n",
    "    else:\n",
    "        delta = (fitnesses_H9[tt] - fitnesses_H9[ss])/(fitnesses_H9[tt]-6.0)\n",
    "        ### formula transition probability ###\n",
    "        #return(mut_neutral[s, t] if delta <= 0. else \n",
    "        if(delta <= -0.1):\n",
    "            return(0.1)\n",
    "        elif(delta <= 0.1):\n",
    "            return(1.0)\n",
    "        else:\n",
    "        ### formula transition probability ###\n",
    "        #return(mut_neutral[s, t] if delta <= 0. else \n",
    "            return(N*np.nan_to_num((1 - np.exp(-delta))/(1 - np.exp(-N*delta))))#*mut_neutral[s, t])\n",
    "        \n"
   ]
  },
  {
   "cell_type": "code",
   "execution_count": 31,
   "metadata": {},
   "outputs": [
    {
     "data": {
      "text/plain": [
       "array([7.        , 7.        , 7.        , ..., 9.50169083, 9.46350042,\n",
       "       9.50665428])"
      ]
     },
     "execution_count": 31,
     "metadata": {},
     "output_type": "execute_result"
    }
   ],
   "source": [
    "#define all the possible functions\n",
    "def model1sswm_H1(ss,tt):\n",
    "    \"\"\" Model 1 where we penalize very heavily\"\"\"\n",
    "    if nb_mutation(ss) == 0 and nb_mutation(tt) == 1:\n",
    "        delta = fitnesses_H1[tt] - fitnesses_H1[ss]\n",
    "        if delta <= 0.0:\n",
    "            return(0.1)\n",
    "        else:    \n",
    "            return(1- np.exp(-delta))#*mut_neutral[s, t])\n",
    "    else:       \n",
    "        if fitnesses_H1[tt] <= 7.0:\n",
    "            return(0.0)\n",
    "        else:\n",
    "            delta = fitnesses_H1[tt] - fitnesses_H1[ss]\n",
    "            if(delta <= -0.1):\n",
    "                return(0.0)\n",
    "            elif(delta <= 0):\n",
    "                return(0.0)\n",
    "            else:\n",
    "            ### formula transition probability ###\n",
    "            #return(mut_neutral[s, t] if delta <= 0. else \n",
    "                return(1- np.exp(-delta))#*mut_neutral[s, t])\n",
    "\n",
    "def model1sswm_H9(ss,tt):\n",
    "    \"\"\" Model 1 where we penalize very heavily\"\"\"\n",
    "    if nb_mutation(ss) == 0 and nb_mutation(tt) == 1:\n",
    "        delta = fitnesses_H9[tt] - fitnesses_H9[ss]\n",
    "        if delta <= 0.0:\n",
    "            return(0.1)\n",
    "        else:    \n",
    "            return(1- np.exp(-delta))#*mut_neutral[s, t])\n",
    "    else:       \n",
    "        if fitnesses_H9[tt] <= 7.0:\n",
    "            return(0.0)\n",
    "        else:\n",
    "            delta = fitnesses_H9[tt] - fitnesses_H9[ss]\n",
    "            if(delta <= -0.1):\n",
    "                return(0.0)\n",
    "            elif(delta <= 0):\n",
    "                return(0.0)\n",
    "            else:\n",
    "            ### formula transition probability ###\n",
    "            #return(mut_neutral[s, t] if delta <= 0. else \n",
    "                return(1- np.exp(-delta))#*mut_neutral[s, t])\n",
    "\n",
    "def model1sswm_average(ss,tt):\n",
    "    \"\"\" Model 1 where we penalize very heavily\"\"\"\n",
    "    if nb_mutation(ss) == 0 and nb_mutation(tt) == 1:\n",
    "        delta = (np.mean([fitnesses_H1[tt],fitnesses_H9[tt]])\n",
    "             - np.mean([fitnesses_H1[ss],fitnesses_H9[ss]]))\n",
    "        if delta <= 0.0:\n",
    "            return(0.1)\n",
    "        else:    \n",
    "            return(1- np.exp(-delta))#*mut_neutral[s, t])\n",
    "    else:       \n",
    "        if fitnesses_H1[tt] <= 7.0:\n",
    "            return(0.0)\n",
    "        else:\n",
    "            delta = (np.mean([fitnesses_H1[tt],fitnesses_H9[tt]])\n",
    "                 - np.mean([fitnesses_H1[ss],fitnesses_H9[ss]]))\n",
    "            if(delta <= -0.1):\n",
    "                return(0.0)\n",
    "            elif(delta <= 0):\n",
    "                return(0.0)\n",
    "            else:\n",
    "            ### formula transition probability ###\n",
    "            #return(mut_neutral[s, t] if delta <= 0. else \n",
    "                return(1- np.exp(-delta))#*mut_neutral[s, t])\n",
    "\n",
    "\n",
    "fitnesses_H1\n",
    "fitnesses_H1"
   ]
  },
  {
   "cell_type": "code",
   "execution_count": 82,
   "metadata": {},
   "outputs": [],
   "source": [
    "def get_delta_H1(ss,tt):\n",
    "    if np.isnan(fitnesses_H1[tt]) or np.isnan(fitnesses_H1[ss]):\n",
    "        return(0.0)\n",
    "    else:\n",
    "        delta = fitnesses_H1[tt] - fitnesses_H1[ss]\n",
    "        return delta\n",
    "\n",
    "def get_delta_H9(ss,tt):\n",
    "    if np.isnan(fitnesses_H9[tt]) or np.isnan(fitnesses_H9[ss]):\n",
    "        return(0.0)\n",
    "    else:\n",
    "        delta = fitnesses_H9[tt] - fitnesses_H9[ss]\n",
    "        return delta\n"
   ]
  },
  {
   "cell_type": "code",
   "execution_count": 84,
   "metadata": {},
   "outputs": [
    {
     "name": "stderr",
     "output_type": "stream",
     "text": [
      "<ipython-input-47-9d48ce6f0e29>:11: RuntimeWarning: overflow encountered in exp\n",
      "  return ((1 - np.exp(-delta))/(1 - np.exp(-N*delta)))\n",
      "<ipython-input-47-9d48ce6f0e29>:36: RuntimeWarning: overflow encountered in exp\n",
      "  return ((1 - np.exp(-delta))/(1 - np.exp(-N*delta)))\n",
      "<ipython-input-47-9d48ce6f0e29>:22: RuntimeWarning: overflow encountered in exp\n",
      "  return ((1 - np.exp(-delta))/(1 - np.exp(-N*delta)))\n"
     ]
    },
    {
     "name": "stdout",
     "output_type": "stream",
     "text": [
      "done\n"
     ]
    }
   ],
   "source": [
    "# Create a sparse matrix that will contain the transitions probabilities (unormalised)\n",
    "pmut_H1 = dok_matrix((2**L, 2**L), dtype=np.float64)\n",
    "pmut_H9 = dok_matrix((2**L, 2**L), dtype=np.float64)\n",
    "pmut_avg = dok_matrix((2**L, 2**L), dtype=np.float64)\n",
    "\n",
    "deltas_H1 = dok_matrix((2**L, 2**L), dtype=np.float64)\n",
    "deltas_H9 = dok_matrix((2**L, 2**L), dtype=np.float64)\n",
    "#deltas_avg = dok_matrix((2**L, 2**L), dtype=np.float64)\n",
    "\n",
    "N = 1000.0\n",
    "\n",
    "for s in sequences_int:\n",
    "    tot = 0\n",
    "    for mut in range(L):\n",
    "        t = mutation(s, mut,L)\n",
    "        #pmut_H1[s,t] = model1_H1(s,t)\n",
    "        #pmut_H9[s,t] = model1_H9(s,t)\n",
    "        if t > s:\n",
    "            pmut_H1[s,t] = model1_H1(s,t,N)\n",
    "            pmut_H9[s,t] = model1_H9(s,t,N)\n",
    "            pmut_avg[s,t] = model1_average(s,t,N)\n",
    "            \n",
    "            deltas_H1[s,t] = get_delta_H1(s,t)\n",
    "            deltas_H9[s,t] = get_delta_H9(s,t)\n",
    "#            deltas_avg[s,t] = model1_average(s,t,N)\n",
    "            \n",
    "#             pmut_H1[s,t] = model1sswm_H1(s,t)\n",
    "#             pmut_H9[s,t] = model1sswm_H9(s,t)\n",
    "#             pmut_avg[s,t] = model1sswm_average(s,t)\n",
    "\n",
    "        #if t > s:\n",
    "        #    if fitnesses[t] == -6:\n",
    "        #        pmut[s, t] = 1e-20\n",
    "        #    delta = fitnesses[t] - fitnesses[s]\n",
    "        #    ### formula transition probability ###\n",
    "        #    pmut[s, t] = (mut_neutral[s, t] if delta <= 0. else \n",
    "        #                      N*np.nan_to_num((1 - np.exp(-delta))/(1 - np.exp(-N*delta)))*mut_neutral[s, t]\n",
    "        #                      )\n",
    "            \n",
    "### change format for something that can deal with multiplications\n",
    "pmut_H1.tocsr()\n",
    "pmut_H9.tocsr()\n",
    "pmut_avg.tocsr()\n",
    "### normalize the sparse matrix\n",
    "#pmut_H1_normed = normalize(pmut_H1, norm='l1', axis=1)\n",
    "#pmut_H9_normed = normalize(pmut_H9, norm='l1', axis=1)\n",
    "print('done')"
   ]
  },
  {
   "cell_type": "code",
   "execution_count": 74,
   "metadata": {
    "scrolled": true,
    "tags": [
     "initialize-matrix"
    ]
   },
   "outputs": [
    {
     "data": {
      "application/vnd.jupyter.widget-view+json": {
       "model_id": "98544c5515e2420f86a10ab007733792",
       "version_major": 2,
       "version_minor": 0
      },
      "text/plain": [
       "HBox(children=(FloatProgress(value=0.0, max=11.0), HTML(value='')))"
      ]
     },
     "metadata": {},
     "output_type": "display_data"
    },
    {
     "name": "stdout",
     "output_type": "stream",
     "text": [
      "\n"
     ]
    }
   ],
   "source": [
    "## compute the transition probability matrix to every power\n",
    "A = pmut_H1\n",
    "B = pmut_H9\n",
    "C = pmut_avg\n",
    "Apower = {}\n",
    "Bpower = {} \n",
    "Cpower = {}\n",
    "for n in tqdm(range(L)):\n",
    "    Apower[n] = A**n\n",
    "    Bpower[n] = B**n\n",
    "    Cpower[n] = C**n\n"
   ]
  },
  {
   "cell_type": "code",
   "execution_count": 86,
   "metadata": {
    "tags": [
     "initialize-matrix"
    ]
   },
   "outputs": [
    {
     "data": {
      "application/vnd.jupyter.widget-view+json": {
       "model_id": "ae9c9261763c474785bc9b7c347b9526",
       "version_major": 2,
       "version_minor": 0
      },
      "text/plain": [
       "HBox(children=(FloatProgress(value=0.0, max=11.0), HTML(value='')))"
      ]
     },
     "metadata": {},
     "output_type": "display_data"
    },
    {
     "name": "stdout",
     "output_type": "stream",
     "text": [
      "\n"
     ]
    }
   ],
   "source": [
    "## compute the matrix that force the mutation to be mut\n",
    "force_mut_H1 = {}\n",
    "force_mut_H9 = {}\n",
    "force_mut_avg = {}\n",
    "\n",
    "#force_mut_deltas_H1 = {}\n",
    "#force_mut_deltas_H9 = {}\n",
    "for mut in tqdm(range(L)):\n",
    "    force_mut_H1[mut] = dok_matrix((2**L, 2**L), dtype=np.float64)\n",
    "    force_mut_H9[mut] = dok_matrix((2**L, 2**L), dtype=np.float64)\n",
    "    force_mut_avg[mut] = dok_matrix((2**L, 2**L), dtype=np.float64)\n",
    "    \n",
    "    #force_mut_deltas_H1[mut] = dok_matrix((2**L, 2**L), dtype=np.float64)\n",
    "    #force_mut_deltas_H9[mut] = dok_matrix((2**L, 2**L), dtype=np.float64)\n",
    "\n",
    "    for s in sequences_int:\n",
    "        t = mutation(s, mut,L)\n",
    "        force_mut_H1[mut][s, t] = A[s, t]\n",
    "        force_mut_H9[mut][s, t] = B[s, t]\n",
    "        force_mut_avg[mut][s, t] = C[s, t]\n",
    "        \n",
    "        #force_mut_deltas_H1[mut] = deltas_H1[s,t]\n",
    "        #force_mut_deltas_H9[mut] = deltas_H9[s,t]\n"
   ]
  },
  {
   "cell_type": "code",
   "execution_count": 76,
   "metadata": {
    "tags": [
     "H1"
    ]
   },
   "outputs": [],
   "source": [
    "proba_H1alone = np.zeros((L, L))\n",
    "norm = defaultdict(int)\n",
    "for mut in range(L):\n",
    "    for t in range(1, L+1):\n",
    "        proba_H1alone[mut, t-1] = (Apower[t-1] @ force_mut_H1[mut] @ Apower[L - t])[0, 2**L - 1]\n",
    "#proba"
   ]
  },
  {
   "cell_type": "code",
   "execution_count": 94,
   "metadata": {},
   "outputs": [
    {
     "name": "stdout",
     "output_type": "stream",
     "text": [
      "()\n",
      "()\n",
      "()\n",
      "()\n",
      "()\n",
      "()\n",
      "()\n",
      "()\n",
      "()\n",
      "()\n",
      "()\n",
      "[0. 0. 0. 0. 0. 0. 0. 0. 0. 0. 0.]\n"
     ]
    }
   ],
   "source": [
    "expected_deltaH1_H1alone = np.zeros(L)\n",
    "#norm = defaultdict(int)\n",
    "for t in range(1, L+1):\n",
    "    result = (Apower[t-1] @ (A*deltas_H1) @ Apower[L - t])[0, 2**L - 1]\n",
    "    print(result.shape)\n",
    "    #expected_deltaH1_H1alone[t-1] = \n",
    "\n",
    "print(expected_deltaH1_H1alone)"
   ]
  },
  {
   "cell_type": "code",
   "execution_count": 77,
   "metadata": {
    "tags": [
     "H9"
    ]
   },
   "outputs": [],
   "source": [
    "proba_H9alone = np.zeros((L, L))\n",
    "norm = defaultdict(int)\n",
    "for mut in range(L):\n",
    "    for t in range(1, L+1):\n",
    "        proba_H9alone[mut, t-1] = (Bpower[t-1] @ force_mut_H9[mut] @ Bpower[L - t])[0, 2**L - 1]"
   ]
  },
  {
   "cell_type": "code",
   "execution_count": 78,
   "metadata": {},
   "outputs": [],
   "source": [
    "proba_mixed = np.zeros((L, L))\n",
    "norm = defaultdict(int)\n",
    "for mut in range(L):\n",
    "    for t in range(1, L+1):\n",
    "        proba_mixed[mut, t-1] = (Cpower[t-1] @ force_mut_avg[mut] @ Cpower[L - t])[0, 2**L - 1]"
   ]
  },
  {
   "cell_type": "code",
   "execution_count": null,
   "metadata": {},
   "outputs": [],
   "source": [
    "delta_expected_mixed = np.zeros((L, L))\n",
    "norm = defaultdict(int)\n",
    "for mut in range(L):\n",
    "    for t in range(1, L+1):\n",
    "        delta_expected_mixed[mut, t-1] = (Cpower[t-1] @ force_mut_avg[mut] @ Cpower[L - t])[0, 2**L - 1]"
   ]
  },
  {
   "cell_type": "code",
   "execution_count": 43,
   "metadata": {
    "tags": [
     "everything"
    ]
   },
   "outputs": [
    {
     "data": {
      "application/vnd.jupyter.widget-view+json": {
       "model_id": "c36bca30db3047ab9cde7cb7210d4289",
       "version_major": 2,
       "version_minor": 0
      },
      "text/plain": [
       "HBox(children=(FloatProgress(value=0.0, max=16.0), HTML(value='')))"
      ]
     },
     "metadata": {},
     "output_type": "display_data"
    },
    {
     "name": "stdout",
     "output_type": "stream",
     "text": [
      "\n"
     ]
    }
   ],
   "source": [
    "# # proba[mut, t] probability to get mutation mut at time t\n",
    "# proba = np.zeros((L, L))\n",
    "# norm = defaultdict(int)\n",
    "# #switch at s-1 (for example for switch 6, say 5)\n",
    "# switch1 = 5\n",
    "# switch2 = 13\n",
    "# for mut in tqdm(range(L)):\n",
    "#     for t in range(1, L+1):\n",
    "#     #for t in range(1,L):\n",
    "#         if t <= switch2:\n",
    "#             if t <= switch1:\n",
    "#             #proba[mut, t-1] = (Apower[t-1] @ force_mut_H1[mut] @ Apower[switch-t] @ Bpower[L - switch-1])[0, 2**L - 2]\n",
    "#                 proba[mut, t-1] = (Apower[t-1] @ force_mut_H1[mut] @ Apower[switch1-t] @ Bpower[switch2 - switch1] @ Cpower[L-switch2])[0, 2**L - 1]\n",
    "#             else:\n",
    "#                 proba[mut, t-1] = (Apower[switch1] @ Bpower[t - switch1 - 1] @ force_mut_H3[mut] @ Bpower[switch2 - t]@ Cpower[L-switch2])[0, 2**L - 1]\n",
    "#         else:\n",
    "#             #proba[mut, t-1] = (Apower[switch] @ Bpower[t-switch-1] @ force_mut_H3[mut]  @ Bpower[L - t-1])[0, 2**L - 2]\n",
    "#             proba[mut, t-1] = (Apower[switch1] @ Bpower[switch2-switch1] @ Cpower[t - switch2 - 1] @ force_mut_B[mut]  @ Cpower[L - t])[0, 2**L - 1]"
   ]
  },
  {
   "cell_type": "code",
   "execution_count": 81,
   "metadata": {
    "tags": [
     "save-file"
    ]
   },
   "outputs": [],
   "source": [
    "proba_df = pd.DataFrame(proba_H9alone,columns=\n",
    "                        [\"Order 1\",\"Order 2\",\"Order 3\",\"Order 4\",\"Order 5\",\"Order 6\",\n",
    "                         \"Order 7\",\"Order 8\",\"Order 9\",\"Order 10\",\"Order 11\"])\n",
    "proba_df['Mutation'] = [\"Mut 1\",\"Mut 2\",\"Mut 3\",\"Mut 4\",\"Mut 5\",\"Mut 6\",\n",
    "                       \"Mut 7\",\"Mut 8\",\"Mut 9\",\"Mut 10\",\"Mut 11\"] \n",
    "proba_df.to_csv(\"data/6261_probability_N\"+str(int(N))+\"_H9alone_H1singlepinned.csv\",index=False)\n"
   ]
  },
  {
   "cell_type": "code",
   "execution_count": 4,
   "metadata": {},
   "outputs": [],
   "source": [
    "# \"jump probability\" function\n",
    "def proba_markov(Δ):\n",
    "    N = 5\n",
    "    if Δ == 0:\n",
    "        return 1\n",
    "    else:\n",
    "        return N*(1 - np.exp(-Δ))/(1 - np.exp(-N*Δ))\n",
    "def reachable(s, L):\n",
    "    return [(s | 2**ii) for ii in range(L) if (s | 2**ii) > s]\n",
    "probabilities = {(s, t): model1_H1(s,t) for s in sequences_int for t in reachable(s, L)}\n",
    "# (re) create the graph with networkx (as a directed graph)\n",
    "G = nx.DiGraph()\n",
    "G.add_nodes_from(sequences_int)\n",
    "G.add_weighted_edges_from([(s, t,  ## source, target\n",
    "                            -np.log(1e-100 + probabilities[s, t])  # weight\n",
    "                           ) \n",
    "                  for s in sequences_int\n",
    "                  for t in reachable(s, L)])\n",
    "# compute the \"shortest\" path, so the one for which ∑ -log(p) is smallest => max likelihood\n",
    "best_path = nx.dijkstra_path(G, 0, 2**L-1)"
   ]
  },
  {
   "cell_type": "code",
   "execution_count": 5,
   "metadata": {},
   "outputs": [
    {
     "data": {
      "text/plain": [
       "[0,\n",
       " 64,\n",
       " 2112,\n",
       " 2116,\n",
       " 18500,\n",
       " 18628,\n",
       " 18630,\n",
       " 18631,\n",
       " 19655,\n",
       " 19671,\n",
       " 27863,\n",
       " 60631,\n",
       " 60663,\n",
       " 60919,\n",
       " 60927,\n",
       " 61439,\n",
       " 65535]"
      ]
     },
     "execution_count": 5,
     "metadata": {},
     "output_type": "execute_result"
    }
   ],
   "source": [
    "best_path"
   ]
  },
  {
   "cell_type": "code",
   "execution_count": 144,
   "metadata": {},
   "outputs": [
    {
     "name": "stderr",
     "output_type": "stream",
     "text": [
      "<ipython-input-47-9d48ce6f0e29>:11: RuntimeWarning: overflow encountered in exp\n",
      "  return ((1 - np.exp(-delta))/(1 - np.exp(-N*delta)))\n"
     ]
    },
    {
     "data": {
      "text/html": [
       "<div>\n",
       "<style scoped>\n",
       "    .dataframe tbody tr th:only-of-type {\n",
       "        vertical-align: middle;\n",
       "    }\n",
       "\n",
       "    .dataframe tbody tr th {\n",
       "        vertical-align: top;\n",
       "    }\n",
       "\n",
       "    .dataframe thead th {\n",
       "        text-align: right;\n",
       "    }\n",
       "</style>\n",
       "<table border=\"1\" class=\"dataframe\">\n",
       "  <thead>\n",
       "    <tr style=\"text-align: right;\">\n",
       "      <th></th>\n",
       "      <th>geno1</th>\n",
       "      <th>geno2</th>\n",
       "      <th>nb_somatic</th>\n",
       "      <th>change_kd</th>\n",
       "      <th>probability</th>\n",
       "    </tr>\n",
       "  </thead>\n",
       "  <tbody>\n",
       "    <tr>\n",
       "      <th>0</th>\n",
       "      <td>01010100111</td>\n",
       "      <td>01010101111</td>\n",
       "      <td>7</td>\n",
       "      <td>0.0</td>\n",
       "      <td>4.317137e-67</td>\n",
       "    </tr>\n",
       "    <tr>\n",
       "      <th>1</th>\n",
       "      <td>01010100111</td>\n",
       "      <td>01010110111</td>\n",
       "      <td>7</td>\n",
       "      <td>NaN</td>\n",
       "      <td>0.000000e+00</td>\n",
       "    </tr>\n",
       "    <tr>\n",
       "      <th>2</th>\n",
       "      <td>01010100111</td>\n",
       "      <td>01011100111</td>\n",
       "      <td>7</td>\n",
       "      <td>0.0</td>\n",
       "      <td>6.489378e-08</td>\n",
       "    </tr>\n",
       "    <tr>\n",
       "      <th>3</th>\n",
       "      <td>01010100111</td>\n",
       "      <td>01110100111</td>\n",
       "      <td>7</td>\n",
       "      <td>0.0</td>\n",
       "      <td>1.428472e-17</td>\n",
       "    </tr>\n",
       "    <tr>\n",
       "      <th>4</th>\n",
       "      <td>01010100111</td>\n",
       "      <td>11010100111</td>\n",
       "      <td>7</td>\n",
       "      <td>0.0</td>\n",
       "      <td>1.750344e-02</td>\n",
       "    </tr>\n",
       "    <tr>\n",
       "      <th>...</th>\n",
       "      <td>...</td>\n",
       "      <td>...</td>\n",
       "      <td>...</td>\n",
       "      <td>...</td>\n",
       "      <td>...</td>\n",
       "    </tr>\n",
       "    <tr>\n",
       "      <th>10602</th>\n",
       "      <td>10001010001</td>\n",
       "      <td>10001011001</td>\n",
       "      <td>5</td>\n",
       "      <td>0.0</td>\n",
       "      <td>0.000000e+00</td>\n",
       "    </tr>\n",
       "    <tr>\n",
       "      <th>10603</th>\n",
       "      <td>10001010001</td>\n",
       "      <td>10001110001</td>\n",
       "      <td>5</td>\n",
       "      <td>0.0</td>\n",
       "      <td>0.000000e+00</td>\n",
       "    </tr>\n",
       "    <tr>\n",
       "      <th>10604</th>\n",
       "      <td>10001010001</td>\n",
       "      <td>10011010001</td>\n",
       "      <td>5</td>\n",
       "      <td>0.0</td>\n",
       "      <td>0.000000e+00</td>\n",
       "    </tr>\n",
       "    <tr>\n",
       "      <th>10605</th>\n",
       "      <td>10001010001</td>\n",
       "      <td>10101010001</td>\n",
       "      <td>5</td>\n",
       "      <td>NaN</td>\n",
       "      <td>0.000000e+00</td>\n",
       "    </tr>\n",
       "    <tr>\n",
       "      <th>10606</th>\n",
       "      <td>10001010001</td>\n",
       "      <td>11001010001</td>\n",
       "      <td>5</td>\n",
       "      <td>NaN</td>\n",
       "      <td>0.000000e+00</td>\n",
       "    </tr>\n",
       "  </tbody>\n",
       "</table>\n",
       "<p>10607 rows × 5 columns</p>\n",
       "</div>"
      ],
      "text/plain": [
       "             geno1        geno2  nb_somatic  change_kd   probability\n",
       "0      01010100111  01010101111           7        0.0  4.317137e-67\n",
       "1      01010100111  01010110111           7        NaN  0.000000e+00\n",
       "2      01010100111  01011100111           7        0.0  6.489378e-08\n",
       "3      01010100111  01110100111           7        0.0  1.428472e-17\n",
       "4      01010100111  11010100111           7        0.0  1.750344e-02\n",
       "...            ...          ...         ...        ...           ...\n",
       "10602  10001010001  10001011001           5        0.0  0.000000e+00\n",
       "10603  10001010001  10001110001           5        0.0  0.000000e+00\n",
       "10604  10001010001  10011010001           5        0.0  0.000000e+00\n",
       "10605  10001010001  10101010001           5        NaN  0.000000e+00\n",
       "10606  10001010001  11001010001           5        NaN  0.000000e+00\n",
       "\n",
       "[10607 rows x 5 columns]"
      ]
     },
     "execution_count": 144,
     "metadata": {},
     "output_type": "execute_result"
    }
   ],
   "source": [
    "#sequences_int = list(range(2**L)) #L = 11 for 6261, 16 for 9114\n",
    "#df = pd.read_csv(\"20210318_6261_filtered_ordered.csv\",usecols={'Variant','h1_mean','h9_mean','variant_int'}, dtype={\"Variant\":\"str\"})\n",
    "#df['mix_mean'] = (df['h1_mean']+df['h9_mean'])/2\n",
    "# return list of all variant reachable from s\n",
    "#df = pd.read_csv(\"20210318_9114_filtered_ordered.csv\",usecols={'variant','h1_mean','h3_mean',\"fluB_mean\",'variant_int'}, dtype={\"Variant\":\"str\"})\n",
    "#L=16\n",
    "\n",
    "#print(df)\n",
    "\n",
    "def reachable(s, L):\n",
    "    return [(s | 2**ii) for ii in range(L) if (s | 2**ii) > s]\n",
    "\n",
    "\n",
    "# df.set_index('variant_int')\n",
    "# df\n",
    "\n",
    "#print(reachable(0,L))\n",
    "\n",
    "# print(sequences_int[0])\n",
    "\n",
    "#print([df.loc[df['variant_int']==s,'variant'].values[0] for s in [0] for t in reachable(s, L)])\n",
    "#print([df.loc[df['variant_int']==t,'variant'].values[0] for s in [0] for t in reachable(s, L)])\n",
    "\n",
    "dfedges = pd.DataFrame()\n",
    "dfedges[\"geno1\"] = [df.loc[df['variant_int']==s,'variant'].values[0] for s in sequences_int for t in reachable(s, L)]\n",
    "dfedges[\"geno2\"] = [df.loc[df['variant_int']==t,'variant'].values[0] for s in sequences_int for t in reachable(s, L)]\n",
    "dfedges[\"nb_somatic\"] = [nb_mutation(t) for s in sequences_int for t in reachable(s, L)]\n",
    "dfedges[\"change_kd\"] = [df.loc[df['variant_int']==t,'h1_mean'].values[0] - df.loc[df['variant_int']==t,'h1_mean'].values[0] for s in sequences_int for t in reachable(s, L)]\n",
    "dfedges[\"probability\"] = [model1_H1(s,t,N) for s in sequences_int for t in reachable(s, L)]\n",
    "\n",
    "dfedges\n"
   ]
  },
  {
   "cell_type": "code",
   "execution_count": 141,
   "metadata": {},
   "outputs": [],
   "source": [
    "dfedges = dfedges.assign(normalized=dfedges.probability.div(dfedges.groupby('nb_somatic').probability.transform('sum')))\n",
    "dfedges[\"change_kd_weighted\"] = dfedges[\"normalized\"] * dfedges[\"change_kd\"]\n",
    "dfedges_weightedavg=dfedges.groupby([\"nb_somatic\"])[[\"change_kd_weighted\"]].sum()\n",
    "dfedges_weightedavg.to_csv('20210318_9114_fluB_mean_expected_Kd.csv')\n",
    "dfedges_things=dfedges.groupby([\"nb_somatic\"])[[\"change_kd_weighted\"]].describe()\n",
    "dfedges_things.to_csv('20210318_9114_fluB_mean_expected_Kd_statistics.csv')\n",
    "#sum(dfedges_weightedavg[\"change_kd_weighted\"])\n",
    "#[df.loc[t].mix_mean - df.loc[s].mix_mean for s in sequences_int for t in reachable(s, L)]\n",
    "#dfedges.to_csv('20210318_6261_Mix_Kd_changes.csv')\n",
    "#dfedges.to_csv('20210318_9114_FluB_Kd_changes.csv')"
   ]
  },
  {
   "cell_type": "code",
   "execution_count": 142,
   "metadata": {},
   "outputs": [
    {
     "name": "stderr",
     "output_type": "stream",
     "text": [
      "<ipython-input-47-9d48ce6f0e29>:11: RuntimeWarning: overflow encountered in exp\n",
      "  return ((1 - np.exp(-delta))/(1 - np.exp(-N*delta)))\n"
     ]
    }
   ],
   "source": [
    "#dfedges[\"change_kd\"] = [df.loc[t].h1_mean - df.loc[s].h1_mean for s in sequences_int for t in reachable(s, L)]\n",
    "#dfedges[\"probability\"] = [model1_H1(s,t,N) for s in sequences_int for t in reachable(s, L)]\n",
    "\n",
    "dfedges = dfedges.assign(normalized=dfedges.probability.div(dfedges.groupby('nb_somatic').probability.transform('sum')))\n",
    "dfedges[\"change_kd_weighted\"] = dfedges[\"normalized\"] * dfedges[\"change_kd\"]\n",
    "dfedges_weightedavg=dfedges.groupby([\"nb_somatic\"])[[\"change_kd_weighted\"]].sum()\n",
    "dfedges_weightedavg\n",
    "#dfedges_weightedavg.to_csv('20210318_9114_H1_mean_expected_Kd.csv')\n",
    "dfedges_things=dfedges.groupby([\"nb_somatic\"])[[\"change_kd_weighted\"]].describe()\n",
    "#dfedges_things.to_csv('20210318_9114_H1_mean_expected_Kd_statistics.csv')"
   ]
  },
  {
   "cell_type": "code",
   "execution_count": 143,
   "metadata": {},
   "outputs": [
    {
     "data": {
      "text/html": [
       "<div>\n",
       "<style scoped>\n",
       "    .dataframe tbody tr th:only-of-type {\n",
       "        vertical-align: middle;\n",
       "    }\n",
       "\n",
       "    .dataframe tbody tr th {\n",
       "        vertical-align: top;\n",
       "    }\n",
       "\n",
       "    .dataframe thead th {\n",
       "        text-align: right;\n",
       "    }\n",
       "</style>\n",
       "<table border=\"1\" class=\"dataframe\">\n",
       "  <thead>\n",
       "    <tr style=\"text-align: right;\">\n",
       "      <th></th>\n",
       "      <th>change_kd_weighted</th>\n",
       "    </tr>\n",
       "    <tr>\n",
       "      <th>nb_somatic</th>\n",
       "      <th></th>\n",
       "    </tr>\n",
       "  </thead>\n",
       "  <tbody>\n",
       "    <tr>\n",
       "      <th>1</th>\n",
       "      <td>-0.390769</td>\n",
       "    </tr>\n",
       "    <tr>\n",
       "      <th>2</th>\n",
       "      <td>-0.581886</td>\n",
       "    </tr>\n",
       "    <tr>\n",
       "      <th>3</th>\n",
       "      <td>0.110747</td>\n",
       "    </tr>\n",
       "    <tr>\n",
       "      <th>4</th>\n",
       "      <td>0.105650</td>\n",
       "    </tr>\n",
       "    <tr>\n",
       "      <th>5</th>\n",
       "      <td>-0.006614</td>\n",
       "    </tr>\n",
       "    <tr>\n",
       "      <th>6</th>\n",
       "      <td>0.081811</td>\n",
       "    </tr>\n",
       "    <tr>\n",
       "      <th>7</th>\n",
       "      <td>-0.085766</td>\n",
       "    </tr>\n",
       "    <tr>\n",
       "      <th>8</th>\n",
       "      <td>-0.019954</td>\n",
       "    </tr>\n",
       "    <tr>\n",
       "      <th>9</th>\n",
       "      <td>-0.184662</td>\n",
       "    </tr>\n",
       "    <tr>\n",
       "      <th>10</th>\n",
       "      <td>0.253681</td>\n",
       "    </tr>\n",
       "    <tr>\n",
       "      <th>11</th>\n",
       "      <td>0.000000</td>\n",
       "    </tr>\n",
       "  </tbody>\n",
       "</table>\n",
       "</div>"
      ],
      "text/plain": [
       "            change_kd_weighted\n",
       "nb_somatic                    \n",
       "1                    -0.390769\n",
       "2                    -0.581886\n",
       "3                     0.110747\n",
       "4                     0.105650\n",
       "5                    -0.006614\n",
       "6                     0.081811\n",
       "7                    -0.085766\n",
       "8                    -0.019954\n",
       "9                    -0.184662\n",
       "10                    0.253681\n",
       "11                    0.000000"
      ]
     },
     "execution_count": 143,
     "metadata": {},
     "output_type": "execute_result"
    }
   ],
   "source": [
    "dfedges_weightedavg"
   ]
  },
  {
   "cell_type": "code",
   "execution_count": 25,
   "metadata": {},
   "outputs": [],
   "source": [
    "dfedges[\"change_kd\"] = [df.loc[t].h3_mean - df.loc[s].h3_mean for s in sequences_int for t in reachable(s, L)]\n",
    "dfedges[\"probability\"] = [model1_H3(s,t) for s in sequences_int for t in reachable(s, L)]\n",
    "\n",
    "dfedges = dfedges.assign(normalized=dfedges.probability.div(dfedges.groupby('nb_somatic').probability.transform('sum')))\n",
    "dfedges[\"change_kd_weighted\"] = dfedges[\"normalized\"] * dfedges[\"change_kd\"]\n",
    "dfedges_weightedavg=dfedges.groupby([\"nb_somatic\"])[[\"change_kd_weighted\"]].sum()\n",
    "dfedges_weightedavg.to_csv('20210318_9114_H3_mean_expected_Kd.csv')\n",
    "dfedges_things=dfedges.groupby([\"nb_somatic\"])[[\"change_kd_weighted\"]].describe()\n",
    "dfedges_things.to_csv('20210318_9114_H3_mean_expected_Kd_statistics.csv')"
   ]
  },
  {
   "cell_type": "code",
   "execution_count": null,
   "metadata": {},
   "outputs": [],
   "source": []
  },
  {
   "cell_type": "code",
   "execution_count": null,
   "metadata": {},
   "outputs": [],
   "source": []
  }
 ],
 "metadata": {
  "celltoolbar": "Tags",
  "kernelspec": {
   "display_name": "Python 3",
   "language": "python",
   "name": "python3"
  },
  "language_info": {
   "codemirror_mode": {
    "name": "ipython",
    "version": 3
   },
   "file_extension": ".py",
   "mimetype": "text/x-python",
   "name": "python",
   "nbconvert_exporter": "python",
   "pygments_lexer": "ipython3",
   "version": "3.8.2"
  }
 },
 "nbformat": 4,
 "nbformat_minor": 2
}
