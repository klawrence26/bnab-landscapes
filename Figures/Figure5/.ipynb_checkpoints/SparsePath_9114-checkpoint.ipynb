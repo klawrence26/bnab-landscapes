{
 "cells": [
  {
   "cell_type": "code",
   "execution_count": 44,
   "metadata": {},
   "outputs": [
    {
     "name": "stdout",
     "output_type": "stream",
     "text": [
      "65534\n",
      "65536\n"
     ]
    },
    {
     "data": {
      "text/html": [
       "<div>\n",
       "<style scoped>\n",
       "    .dataframe tbody tr th:only-of-type {\n",
       "        vertical-align: middle;\n",
       "    }\n",
       "\n",
       "    .dataframe tbody tr th {\n",
       "        vertical-align: top;\n",
       "    }\n",
       "\n",
       "    .dataframe thead th {\n",
       "        text-align: right;\n",
       "    }\n",
       "</style>\n",
       "<table border=\"1\" class=\"dataframe\">\n",
       "  <thead>\n",
       "    <tr style=\"text-align: right;\">\n",
       "      <th></th>\n",
       "      <th>variant</th>\n",
       "      <th>h1_mean</th>\n",
       "      <th>h3_mean</th>\n",
       "      <th>fluB_mean</th>\n",
       "      <th>variant_int</th>\n",
       "    </tr>\n",
       "  </thead>\n",
       "  <tbody>\n",
       "    <tr>\n",
       "      <th>0</th>\n",
       "      <td>1001110010000101</td>\n",
       "      <td>9.484586</td>\n",
       "      <td>6.000000</td>\n",
       "      <td>6.0</td>\n",
       "      <td>40069</td>\n",
       "    </tr>\n",
       "    <tr>\n",
       "      <th>1</th>\n",
       "      <td>0001111110011011</td>\n",
       "      <td>9.430991</td>\n",
       "      <td>6.000000</td>\n",
       "      <td>6.0</td>\n",
       "      <td>8091</td>\n",
       "    </tr>\n",
       "    <tr>\n",
       "      <th>2</th>\n",
       "      <td>1111110010011111</td>\n",
       "      <td>9.497006</td>\n",
       "      <td>6.736213</td>\n",
       "      <td>6.0</td>\n",
       "      <td>64671</td>\n",
       "    </tr>\n",
       "    <tr>\n",
       "      <th>3</th>\n",
       "      <td>1011111110101110</td>\n",
       "      <td>9.499691</td>\n",
       "      <td>6.000000</td>\n",
       "      <td>6.0</td>\n",
       "      <td>49070</td>\n",
       "    </tr>\n",
       "    <tr>\n",
       "      <th>4</th>\n",
       "      <td>1111101010000111</td>\n",
       "      <td>9.380737</td>\n",
       "      <td>6.000000</td>\n",
       "      <td>6.0</td>\n",
       "      <td>64135</td>\n",
       "    </tr>\n",
       "    <tr>\n",
       "      <th>...</th>\n",
       "      <td>...</td>\n",
       "      <td>...</td>\n",
       "      <td>...</td>\n",
       "      <td>...</td>\n",
       "      <td>...</td>\n",
       "    </tr>\n",
       "    <tr>\n",
       "      <th>65531</th>\n",
       "      <td>0010100010111000</td>\n",
       "      <td>NaN</td>\n",
       "      <td>6.000000</td>\n",
       "      <td>6.0</td>\n",
       "      <td>10424</td>\n",
       "    </tr>\n",
       "    <tr>\n",
       "      <th>65532</th>\n",
       "      <td>0010100110001000</td>\n",
       "      <td>NaN</td>\n",
       "      <td>6.000000</td>\n",
       "      <td>6.0</td>\n",
       "      <td>10632</td>\n",
       "    </tr>\n",
       "    <tr>\n",
       "      <th>65533</th>\n",
       "      <td>0010100111000110</td>\n",
       "      <td>NaN</td>\n",
       "      <td>6.000000</td>\n",
       "      <td>6.0</td>\n",
       "      <td>10694</td>\n",
       "    </tr>\n",
       "    <tr>\n",
       "      <th>65534</th>\n",
       "      <td>1011111111110001</td>\n",
       "      <td>NaN</td>\n",
       "      <td>NaN</td>\n",
       "      <td>NaN</td>\n",
       "      <td>49137</td>\n",
       "    </tr>\n",
       "    <tr>\n",
       "      <th>65535</th>\n",
       "      <td>1011111111010100</td>\n",
       "      <td>NaN</td>\n",
       "      <td>NaN</td>\n",
       "      <td>NaN</td>\n",
       "      <td>49108</td>\n",
       "    </tr>\n",
       "  </tbody>\n",
       "</table>\n",
       "<p>65536 rows × 5 columns</p>\n",
       "</div>"
      ],
      "text/plain": [
       "                variant   h1_mean   h3_mean  fluB_mean  variant_int\n",
       "0      1001110010000101  9.484586  6.000000        6.0        40069\n",
       "1      0001111110011011  9.430991  6.000000        6.0         8091\n",
       "2      1111110010011111  9.497006  6.736213        6.0        64671\n",
       "3      1011111110101110  9.499691  6.000000        6.0        49070\n",
       "4      1111101010000111  9.380737  6.000000        6.0        64135\n",
       "...                 ...       ...       ...        ...          ...\n",
       "65531  0010100010111000       NaN  6.000000        6.0        10424\n",
       "65532  0010100110001000       NaN  6.000000        6.0        10632\n",
       "65533  0010100111000110       NaN  6.000000        6.0        10694\n",
       "65534  1011111111110001       NaN       NaN        NaN        49137\n",
       "65535  1011111111010100       NaN       NaN        NaN        49108\n",
       "\n",
       "[65536 rows x 5 columns]"
      ]
     },
     "execution_count": 44,
     "metadata": {},
     "output_type": "execute_result"
    }
   ],
   "source": [
    "import numpy as np\n",
    "import pandas as pd\n",
    "import matplotlib.pyplot as plt\n",
    "import matplotlib as mpl\n",
    "import seaborn as sns\n",
    "from collections import defaultdict\n",
    "from tqdm.notebook import tqdm\n",
    "from operator import itemgetter\n",
    "from itertools import product\n",
    "mpl.rcParams['figure.dpi'] = 300\n",
    "\n",
    "#### antibody choice ####\n",
    "antibody = \"9114\"\n",
    "#antibody = \"6261\" \n",
    "\n",
    "antigens = [\"H1\", \"H3\", \"FluB\"] if antibody == \"9114\" else [\"h1\", \"h9\"]\n",
    "L = (16 if antibody == \"9114\" else 11)\n",
    "df = pd.read_csv(\"../../CR9114/Kd_meanbin/kd_processed/20210323_HA_unadj_fil_merg.csv\",usecols={'variant','h1_mean','h3_mean',\"fluB_mean\"}, dtype={\"variant\":\"str\"})\n",
    "#df.replace(np.nan, 6.0)\n",
    "\n",
    "# put sequences in integer format and create dict to map between the two\n",
    "df[\"variant_int\"] = df.variant.apply(lambda x: int(x, 2))\n",
    "sequences_int = df.variant_int.values\n",
    "sequences = df.variant.values\n",
    "seq_to_int = dict(zip(sequences, sequences_int))\n",
    "int_to_seq = dict(zip(sequences_int, sequences))\n",
    "print(len(df))\n",
    "\n",
    "# check for missing sequences\n",
    "full_lib = [''.join(p) for p in product('10', repeat=L)]\n",
    "missing_vars = []\n",
    "for var in full_lib:\n",
    "    if int(var,2) not in int_to_seq.keys():\n",
    "        missing_vars.append(var)\n",
    "        \n",
    "df_missing = pd.DataFrame([[str(var),np.nan,np.nan,np.nan,int(var,2)] for var in missing_vars], columns=['variant','h1_mean','h3_mean','fluB_mean','variant_int'])\n",
    "df_new = df.append(df_missing, ignore_index=True)\n",
    "        \n",
    "print(len(df_new))\n",
    "df = df_new\n",
    "# df.loc[df[\"h1_mean\"].isna(), \"h1_mean\"] = 7.0\n",
    "# df.loc[df[\"h3_mean\"].isna(), \"h3_mean\"] = 6.0\n",
    "# df.loc[df[\"fluB_mean\"].isna(), \"fluB_mean\"] = 6.0\n",
    "\n",
    "df\n",
    "\n",
    "# for var in full_lib:\n",
    "#     if str(var) not in list(df['variant']):\n",
    "#         print(var)\n",
    "#         #df.loc[len(df.index)] = [str(var),6.0,6.0,6.0]  \n",
    "#         #df.append([str(var),7.0,7.0], ignore_index=True)\n",
    "#         #df.append(pd.DataFrame([[str(var),7.0,7.0]], columns=['Variant','h1_mean','h9_mean']), ignore_index=True)\n",
    "#df.to_csv(\"the_integers_9114.csv\",index=False)\n",
    "\n",
    "        \n"
   ]
  },
  {
   "cell_type": "code",
   "execution_count": 3,
   "metadata": {},
   "outputs": [
    {
     "ename": "NameError",
     "evalue": "name 'df' is not defined",
     "output_type": "error",
     "traceback": [
      "\u001b[0;31m---------------------------------------------------------------------------\u001b[0m",
      "\u001b[0;31mNameError\u001b[0m                                 Traceback (most recent call last)",
      "\u001b[0;32m<ipython-input-3-c6235f51efb1>\u001b[0m in \u001b[0;36m<module>\u001b[0;34m\u001b[0m\n\u001b[1;32m     28\u001b[0m     \u001b[0mfitnesses_H1\u001b[0m \u001b[0;34m=\u001b[0m \u001b[0mnp\u001b[0m\u001b[0;34m.\u001b[0m\u001b[0mzeros\u001b[0m\u001b[0;34m(\u001b[0m\u001b[0;34m(\u001b[0m\u001b[0mlen\u001b[0m\u001b[0;34m(\u001b[0m\u001b[0mdf\u001b[0m\u001b[0;34m)\u001b[0m\u001b[0;34m)\u001b[0m\u001b[0;34m)\u001b[0m\u001b[0;34m\u001b[0m\u001b[0;34m\u001b[0m\u001b[0m\n\u001b[1;32m     29\u001b[0m \u001b[0;32melse\u001b[0m\u001b[0;34m:\u001b[0m\u001b[0;34m\u001b[0m\u001b[0;34m\u001b[0m\u001b[0m\n\u001b[0;32m---> 30\u001b[0;31m     \u001b[0mfitnesses_H1\u001b[0m \u001b[0;34m=\u001b[0m \u001b[0mdf\u001b[0m\u001b[0;34m.\u001b[0m\u001b[0msort_values\u001b[0m\u001b[0;34m(\u001b[0m\u001b[0mby\u001b[0m\u001b[0;34m=\u001b[0m\u001b[0;34m[\u001b[0m\u001b[0;34m\"variant_int\"\u001b[0m\u001b[0;34m]\u001b[0m\u001b[0;34m)\u001b[0m\u001b[0;34m[\u001b[0m\u001b[0;34mf\"{ag}_mean\"\u001b[0m\u001b[0;34m]\u001b[0m\u001b[0;34m.\u001b[0m\u001b[0mvalues\u001b[0m\u001b[0;34m\u001b[0m\u001b[0;34m\u001b[0m\u001b[0m\n\u001b[0m\u001b[1;32m     31\u001b[0m \u001b[0mag\u001b[0m \u001b[0;34m=\u001b[0m \u001b[0;34m\"h3\"\u001b[0m\u001b[0;34m\u001b[0m\u001b[0;34m\u001b[0m\u001b[0m\n\u001b[1;32m     32\u001b[0m \u001b[0;32mif\u001b[0m \u001b[0mag\u001b[0m \u001b[0;34m==\u001b[0m \u001b[0;34m\"\"\u001b[0m\u001b[0;34m:\u001b[0m\u001b[0;34m\u001b[0m\u001b[0;34m\u001b[0m\u001b[0m\n",
      "\u001b[0;31mNameError\u001b[0m: name 'df' is not defined"
     ]
    }
   ],
   "source": [
    "from scipy.sparse import dok_matrix, csr_matrix\n",
    "from sklearn.preprocessing import normalize\n",
    "import networkx as nx\n",
    "import itertools\n",
    "\n",
    "## load natanael weights\n",
    "#df_spisak = pd.read_csv(f\"neutral_mutabilities_{antibody}_spisak.csv\", dtype={'To':'str', 'From':'str'})\n",
    "#dct_mut = df_spisak.set_index([\"From\", \"To\"]).probability.to_dict()\n",
    "# create a sparse matrix for the neutral mutations\n",
    "#mut_neutral = dok_matrix((2**L, 2**L), dtype=np.float64)\n",
    "#for s1, s2 in dct_mut:\n",
    "#    mut_neutral[seq_to_int[s1], seq_to_int[s2]] = dct_mut[s1, s2]\n",
    "#mut_neutral.tocsr()\n",
    "#mut_neutral = normalize(mut_neutral, norm='l1', axis=1)\n",
    "\n",
    "def mutation(s, ii, L):\n",
    "    \"\"\" Return the sequence (in int format) with base s,\n",
    "        with a somatic mutation at pos ii \"\"\"\n",
    "    return s | 2**(L-1-ii)\n",
    "\n",
    "def nb_mutation(s):\n",
    "    \"\"\" Number of mutations in variant s \"\"\"\n",
    "    return bin(s).count(\"1\")\n",
    "\n",
    "N = 5\n",
    "ag = \"h1\"\n",
    "if ag == \"\":\n",
    "    fitnesses_H1 = np.zeros((len(df)))\n",
    "else:\n",
    "    fitnesses_H1 = df.sort_values(by=[\"variant_int\"])[f\"{ag}_mean\"].values\n",
    "ag = \"h3\"\n",
    "if ag == \"\":\n",
    "    fitnesses_H3 = np.zeros((len(df)))\n",
    "else:\n",
    "    fitnesses_H3 = df.sort_values(by=[\"variant_int\"])[f\"{ag}_mean\"].values\n",
    "    \n",
    "ag = \"fluB\"\n",
    "if ag == \"\":\n",
    "    fitnesses_B = np.zeros((len(df)))\n",
    "else:\n",
    "    fitnesses_B = df.sort_values(by=[\"variant_int\"])[f\"{ag}_mean\"].values\n",
    "    \n",
    "\n",
    "\n",
    "fitnesses_H1\n",
    "print(fitnesses_H1.shape)"
   ]
  },
  {
   "cell_type": "code",
   "execution_count": 4,
   "metadata": {},
   "outputs": [
    {
     "data": {
      "text/plain": [
       "16384"
      ]
     },
     "execution_count": 4,
     "metadata": {},
     "output_type": "execute_result"
    }
   ],
   "source": [
    "mutation(0,1,16)"
   ]
  },
  {
   "cell_type": "code",
   "execution_count": 40,
   "metadata": {},
   "outputs": [
    {
     "data": {
      "text/plain": [
       "array([8.42462202, 8.48384846, 8.59718691, ..., 9.57116132, 9.54283553,\n",
       "       9.59229433])"
      ]
     },
     "execution_count": 40,
     "metadata": {},
     "output_type": "execute_result"
    }
   ],
   "source": [
    "#define some selection functions\n",
    "def model1_H1(ss,tt,N):\n",
    "    \"\"\" N ~ effective pop size\"\"\"\n",
    "    if np.isnan(fitnesses_H1[tt]) or np.isnan(fitnesses_H1[ss]):\n",
    "        return(0.0)\n",
    "    else:\n",
    "        delta = fitnesses_H1[tt] - fitnesses_H1[ss]\n",
    "        if delta == 0.0:\n",
    "            return 1.0/N\n",
    "        else:\n",
    "            return ((1 - np.exp(-delta))/(1 - np.exp(-N*delta))) \n",
    "\n",
    "def model1_H3(ss,tt,N):\n",
    "    \"\"\" N ~ effective pop size\"\"\"\n",
    "    if np.isnan(fitnesses_H3[tt]) or np.isnan(fitnesses_H3[ss]):\n",
    "        return(0.0)\n",
    "    else:\n",
    "        delta = fitnesses_H3[tt] - fitnesses_H3[ss]\n",
    "        if delta == 0.0:\n",
    "            return 1.0/N\n",
    "        else:\n",
    "            return ((1 - np.exp(-delta))/(1 - np.exp(-N*delta))) \n",
    "        \n",
    "def model1_B(ss,tt,N):\n",
    "    \"\"\" N ~ effective pop size\"\"\"\n",
    "    if np.isnan(fitnesses_B[tt]) or np.isnan(fitnesses_B[ss]):\n",
    "        return(0.0)\n",
    "    else:\n",
    "        delta = fitnesses_B[tt] - fitnesses_B[ss]\n",
    "        if delta == 0.0:\n",
    "            return 1.0/N\n",
    "        else:\n",
    "            return ((1 - np.exp(-delta))/(1 - np.exp(-N*delta))) \n",
    "\n",
    "def model1_average(ss,tt,N):\n",
    "    \"\"\" N ~ effective pop size\"\"\"  \n",
    "    if np.isnan(fitnesses_H1[tt]) and np.isnan(fitnesses_H3[tt]) and np.isnan(fitnesses_B[tt]):\n",
    "        return(0.0)\n",
    "    elif np.isnan(fitnesses_H1[ss]) and np.isnan(fitnesses_H3[ss]) and np.isnan(fitnesses_B[ss]):\n",
    "        return(0.0)\n",
    "    else:\n",
    "        delta = (np.nanmean([fitnesses_H1[tt],fitnesses_H3[tt],fitnesses_B[tt]])\n",
    "             - np.nanmean([fitnesses_H1[ss],fitnesses_H3[ss],fitnesses_B[ss]]))\n",
    "        if delta == 0.0:\n",
    "            return 1.0/N\n",
    "        else:\n",
    "            return ((1 - np.exp(-delta))/(1 - np.exp(-N*delta))) \n",
    "    \n",
    "\n",
    "fitnesses_H1\n"
   ]
  },
  {
   "cell_type": "code",
   "execution_count": 5,
   "metadata": {},
   "outputs": [],
   "source": [
    "#define all the possible functions\n",
    "def model2_H1(ss,tt):\n",
    "    \"\"\" Model 2 where we penalize not so harshly\"\"\"\n",
    "    if fitnesses_H1[tt] <= 7.0:\n",
    "        return(1.0)\n",
    "    else:\n",
    "        delta = fitnesses_H1[tt] - fitnesses_H1[ss]\n",
    "        if(delta <= -0.1):\n",
    "            return(1.0)\n",
    "        elif(delta <= 0.1):\n",
    "            return(1.0)\n",
    "        else:\n",
    "        ### formula transition probability ###\n",
    "        #return(mut_neutral[s, t] if delta <= 0. else \n",
    "            return(N*np.nan_to_num((1 - np.exp(-delta))/(1 - np.exp(-N*delta))))#*mut_neutral[s, t])\n",
    "\n",
    "def model2_H3(ss,tt):\n",
    "    \"\"\" Model 2 where we penalize not so harshly\"\"\"\n",
    "    if fitnesses_H3[tt] == 6.0:\n",
    "        return(1.0)\n",
    "    else:\n",
    "        delta = fitnesses_H3[tt] - fitnesses_H3[ss]\n",
    "        ### formula transition probability ###\n",
    "        #return(mut_neutral[s, t] if delta <= 0. else \n",
    "        if(delta <= -0.1):\n",
    "            return(1.0)\n",
    "        elif(delta <= 0.1):\n",
    "            return(1.0)\n",
    "        else:\n",
    "        ### formula transition probability ###\n",
    "        #return(mut_neutral[s, t] if delta <= 0. else \n",
    "            return(N*np.nan_to_num((1 - np.exp(-delta))/(1 - np.exp(-N*delta))))#*mut_neutral[s, t])\n",
    "        \n",
    "def model2_B(ss,tt):\n",
    "    \"\"\" Model 2 where we penalize not so harshly\"\"\"\n",
    "    if fitnesses_B[tt] == 6.0:\n",
    "        return(1.0)\n",
    "    else:\n",
    "        delta = fitnesses_B[tt] - fitnesses_B[ss]\n",
    "        ### formula transition probability ###\n",
    "        #return(mut_neutral[s, t] if delta <= 0. else \n",
    "        if(delta <= -0.1):\n",
    "            return(1.0)\n",
    "        elif(delta <= 0.1):\n",
    "            return(1.0)\n",
    "        else:\n",
    "        ### formula transition probability ###\n",
    "        #return(mut_neutral[s, t] if delta <= 0. else \n",
    "            return(N*np.nan_to_num((1 - np.exp(-delta))/(1 - np.exp(-N*delta))))#*mut_neutral[s, t])"
   ]
  },
  {
   "cell_type": "code",
   "execution_count": 6,
   "metadata": {},
   "outputs": [],
   "source": [
    "#define all the possible functions\n",
    "def model3_H1(ss,tt):\n",
    "    \"\"\" Model 2 where we penalize not so harshly\"\"\"\n",
    "    if fitnesses_H1[tt] <= 7.0:\n",
    "        return(0.1)\n",
    "    else:\n",
    "        delta = fitnesses_H1[tt] - fitnesses_H1[ss]\n",
    "        if(delta <= -0.1):\n",
    "            return(0.1)\n",
    "        elif(delta <= 0.1):\n",
    "            return(1.0)\n",
    "        else:\n",
    "        ### formula transition probability ###\n",
    "        #return(mut_neutral[s, t] if delta <= 0. else \n",
    "            return(N*np.nan_to_num((1 - np.exp(-delta))/(1 - np.exp(-N*delta))))#*mut_neutral[s, t])\n",
    "\n",
    "def model3_H3(ss,tt):\n",
    "    \"\"\" Model 2 where we penalize not so harshly\"\"\"\n",
    "    if fitnesses_H3[tt] == 6.0:\n",
    "        return(0.1)\n",
    "    else:\n",
    "        delta = fitnesses_H3[tt] - fitnesses_H3[ss]\n",
    "        ### formula transition probability ###\n",
    "        #return(mut_neutral[s, t] if delta <= 0. else \n",
    "        if(delta <= -0.1):\n",
    "            return(0.1)\n",
    "        elif(delta <= 0.1):\n",
    "            return(1.0)\n",
    "        else:\n",
    "        ### formula transition probability ###\n",
    "        #return(mut_neutral[s, t] if delta <= 0. else \n",
    "            return(N*np.nan_to_num((1 - np.exp(-delta))/(1 - np.exp(-N*delta))))#*mut_neutral[s, t])\n",
    "        \n",
    "def model3_B(ss,tt):\n",
    "    \"\"\" Model 2 where we penalize not so harshly\"\"\"\n",
    "    if fitnesses_B[tt] == 6.0:\n",
    "        return(0.1)\n",
    "    else:\n",
    "        delta = fitnesses_B[tt] - fitnesses_B[ss]\n",
    "        ### formula transition probability ###\n",
    "        #return(mut_neutral[s, t] if delta <= 0. else \n",
    "        if(delta <= -0.1):\n",
    "            return(0.1)\n",
    "        elif(delta <= 0.1):\n",
    "            return(1.0)\n",
    "        else:\n",
    "        ### formula transition probability ###\n",
    "        #return(mut_neutral[s, t] if delta <= 0. else \n",
    "            return(N*np.nan_to_num((1 - np.exp(-delta))/(1 - np.exp(-N*delta))))#*mut_neutral[s, t])"
   ]
  },
  {
   "cell_type": "code",
   "execution_count": 7,
   "metadata": {},
   "outputs": [],
   "source": [
    "#define all the possible functions\n",
    "def model4_H1(ss,tt):\n",
    "    \"\"\" Model 2 where we penalize not so harshly\"\"\"\n",
    "    if fitnesses_H1[tt] <= 7.0:\n",
    "        return(0.1)\n",
    "    else:\n",
    "        delta = (fitnesses_H1[tt] - fitnesses_H1[ss])/(fitnesses_H1[tt]-7.0)\n",
    "        if(delta <= -0.1):\n",
    "            return(0.1)\n",
    "        elif(delta <= 0.1):\n",
    "            return(1.0)\n",
    "        else:\n",
    "        ### formula transition probability ###\n",
    "        #return(mut_neutral[s, t] if delta <= 0. else \n",
    "            return(N*np.nan_to_num((1 - np.exp(-delta))/(1 - np.exp(-N*delta))))#*mut_neutral[s, t])\n",
    "\n",
    "def model4_H3(ss,tt):\n",
    "    \"\"\" Model 2 where we penalize not so harshly\"\"\"\n",
    "    if fitnesses_H3[tt] == 6.0:\n",
    "        return(0.1)\n",
    "    else:\n",
    "        delta = (fitnesses_H3[tt] - fitnesses_H3[ss])/(fitnesses_H3[tt]-6.0)\n",
    "        ### formula transition probability ###\n",
    "        #return(mut_neutral[s, t] if delta <= 0. else \n",
    "        if(delta <= -0.1):\n",
    "            return(0.1)\n",
    "        elif(delta <= 0.1):\n",
    "            return(1.0)\n",
    "        else:\n",
    "        ### formula transition probability ###\n",
    "        #return(mut_neutral[s, t] if delta <= 0. else \n",
    "            return(N*np.nan_to_num((1 - np.exp(-delta))/(1 - np.exp(-N*delta))))#*mut_neutral[s, t])\n",
    "        \n",
    "def model4_B(ss,tt):\n",
    "    \"\"\" Model 2 where we penalize not so harshly\"\"\"\n",
    "    if fitnesses_B[tt] == 6.0:\n",
    "        return(0.1)\n",
    "    else:\n",
    "        delta = (fitnesses_B[tt] - fitnesses_B[ss])/(fitnesses_B[tt]-6.0)\n",
    "        ### formula transition probability ###\n",
    "        #return(mut_neutral[s, t] if delta <= 0. else \n",
    "        if(delta <= -0.1):\n",
    "            return(0.1)\n",
    "        elif(delta <= 0.1):\n",
    "            return(1.0)\n",
    "        else:\n",
    "        ### formula transition probability ###\n",
    "        #return(mut_neutral[s, t] if delta <= 0. else \n",
    "            return(N*np.nan_to_num((1 - np.exp(-delta))/(1 - np.exp(-N*delta))))#*mut_neutral[s, t])"
   ]
  },
  {
   "cell_type": "code",
   "execution_count": 15,
   "metadata": {},
   "outputs": [
    {
     "data": {
      "text/plain": [
       "array([8.42462202, 8.48384846, 8.59718691, ..., 9.57116132, 9.54283553,\n",
       "       9.59229433])"
      ]
     },
     "execution_count": 15,
     "metadata": {},
     "output_type": "execute_result"
    }
   ],
   "source": [
    "#define all the possible functions\n",
    "def model1sswm_H1(ss,tt):\n",
    "    \"\"\" Model 1 where we penalize very heavily\"\"\"\n",
    "    if np.isnan(fitnesses_H1[tt]) or np.isnan(fitnesses_H1[ss]):\n",
    "        return(0.0)\n",
    "    if fitnesses_H1[tt] <= 7.0:\n",
    "        return(0.0)\n",
    "    else:\n",
    "        delta = fitnesses_H1[tt] - fitnesses_H1[ss]\n",
    "        if(delta <= -0.1):\n",
    "            return(0.0)\n",
    "        elif(delta <= 0):\n",
    "            return(0.0)\n",
    "        else:\n",
    "        ### formula transition probability ###\n",
    "        #return(mut_neutral[s, t] if delta <= 0. else \n",
    "            return(1- np.exp(-delta))#*mut_neutral[s, t])\n",
    "\n",
    "def model1sswm_H3(ss,tt):\n",
    "    \"\"\" Model 1 where we penalize very heavily\"\"\"\n",
    "    if np.isnan(fitnesses_H3[tt]) or np.isnan(fitnesses_H3[ss]):\n",
    "        return(0.0)\n",
    "    if fitnesses_H3[tt] == 6.0:\n",
    "        return(0.001)\n",
    "    else:\n",
    "        delta = fitnesses_H3[tt] - fitnesses_H3[ss]\n",
    "        ### formula transition probability ###\n",
    "        #return(mut_neutral[s, t] if delta <= 0. else \n",
    "        if(delta <= -0.1):\n",
    "            return(0.0)\n",
    "        elif(delta <= 0):\n",
    "            return(0.0)\n",
    "        else:\n",
    "        ### formula transition probability ###\n",
    "        #return(mut_neutral[s, t] if delta <= 0. else \n",
    "            return(1- np.exp(-delta))#*mut_neutral[s, t])\n",
    "        \n",
    "def model1sswm_B(ss,tt):\n",
    "    \"\"\" Model 1 where we penalize very heavily\"\"\"\n",
    "    if np.isnan(fitnesses_B[tt]) or np.isnan(fitnesses_B[ss]):\n",
    "        return(0.0)\n",
    "    if fitnesses_B[tt] == 6.0:\n",
    "        return(0.001)\n",
    "    else:\n",
    "        delta = fitnesses_B[tt] - fitnesses_B[ss]\n",
    "        ### formula transition probability ###\n",
    "        #return(mut_neutral[s, t] if delta <= 0. else \n",
    "        if(delta <= -0.1):\n",
    "            return(0.0)\n",
    "        elif(delta <= 0):\n",
    "            return(0.0)\n",
    "        else:\n",
    "        ### formula transition probability ###\n",
    "        #return(mut_neutral[s, t] if delta <= 0. else \n",
    "            return(1- np.exp(-delta))#*mut_neutral[s, t])\n",
    "        \n",
    "def model1sswm_average(ss,tt):\n",
    "    \"\"\" Model 1 where we penalize very heavily\"\"\"\n",
    "    delta = (np.mean([fitnesses_H1[tt],fitnesses_H3[tt],fitnesses_B[tt]])\n",
    "             - np.mean([fitnesses_H1[ss],fitnesses_H3[ss],fitnesses_B[ss]]))\n",
    "        ### formula transition probability ###\n",
    "        #return(mut_neutral[s, t] if delta <= 0. else \n",
    "    if(delta <= -0.1):\n",
    "        return(0.0)\n",
    "    elif(delta <= 0):\n",
    "        return(0.0)\n",
    "    else:\n",
    "        ### formula transition probability ###\n",
    "        #return(mut_neutral[s, t] if delta <= 0. else \n",
    "        return(1- np.exp(-delta))#*mut_neutral[s, t])\n",
    "        \n",
    "        \n",
    "\n",
    "fitnesses_H1\n",
    "fitnesses_H1"
   ]
  },
  {
   "cell_type": "code",
   "execution_count": 46,
   "metadata": {},
   "outputs": [
    {
     "name": "stderr",
     "output_type": "stream",
     "text": [
      "<ipython-input-40-c40ad969c869>:22: RuntimeWarning: overflow encountered in exp\n",
      "  return ((1 - np.exp(-delta))/(1 - np.exp(-N*delta)))\n",
      "<ipython-input-40-c40ad969c869>:33: RuntimeWarning: overflow encountered in exp\n",
      "  return ((1 - np.exp(-delta))/(1 - np.exp(-N*delta)))\n",
      "<ipython-input-40-c40ad969c869>:11: RuntimeWarning: overflow encountered in exp\n",
      "  return ((1 - np.exp(-delta))/(1 - np.exp(-N*delta)))\n",
      "<ipython-input-40-c40ad969c869>:47: RuntimeWarning: overflow encountered in exp\n",
      "  return ((1 - np.exp(-delta))/(1 - np.exp(-N*delta)))\n"
     ]
    },
    {
     "name": "stdout",
     "output_type": "stream",
     "text": [
      "done\n"
     ]
    }
   ],
   "source": [
    "# Create a sparse matrix that will contain the transitions probabilities (unormalised)\n",
    "pmut_H1 = dok_matrix((2**L, 2**L), dtype=np.float64)\n",
    "pmut_H3 = dok_matrix((2**L, 2**L), dtype=np.float64)\n",
    "pmut_B = dok_matrix((2**L, 2**L), dtype=np.float64)\n",
    "pmut_avg = dok_matrix((2**L, 2**L), dtype=np.float64)\n",
    "\n",
    "N = 1000\n",
    "\n",
    "for s in sequences_int:\n",
    "    tot = 0\n",
    "    for mut in range(L):\n",
    "        t = mutation(s, mut,L)\n",
    "        #pmut_H1[s,t] = model1_H1(s,t)\n",
    "        #pmut_H3[s,t] = model1_H3(s,t)\n",
    "        if t > s:\n",
    "            pmut_H1[s,t] = model1_H1(s,t,N)\n",
    "            pmut_H3[s,t] = model1_H3(s,t,N)\n",
    "            pmut_B[s,t] = model1_B(s,t,N)\n",
    "            pmut_avg[s,t] = model1_average(s,t,N)\n",
    "\n",
    "#             pmut_H1[s,t] = model1sswm_H1(s,t)\n",
    "#             pmut_H3[s,t] = model1sswm_H3(s,t)\n",
    "#             pmut_B[s,t] = model1sswm_B(s,t)\n",
    "#             pmut_avg[s,t] = model1sswm_average(s,t)\n",
    "\n",
    "        #if t > s:\n",
    "        #    if fitnesses[t] == -6:\n",
    "        #        pmut[s, t] = 1e-20\n",
    "        #    delta = fitnesses[t] - fitnesses[s]\n",
    "        #    ### formula transition probability ###\n",
    "        #    pmut[s, t] = (mut_neutral[s, t] if delta <= 0. else \n",
    "        #                      N*np.nan_to_num((1 - np.exp(-delta))/(1 - np.exp(-N*delta)))*mut_neutral[s, t]\n",
    "        #                      )\n",
    "            \n",
    "### change format for something that can deal with multiplications\n",
    "pmut_H1.tocsr()\n",
    "pmut_H3.tocsr()\n",
    "pmut_B.tocsr()\n",
    "pmut_avg.tocsr()\n",
    "### normalize the sparse matrix\n",
    "#pmut_H1_normed = normalize(pmut_H1, norm='l1', axis=1)\n",
    "#pmut_H3_normed = normalize(pmut_H3, norm='l1', axis=1)\n",
    "print('done')"
   ]
  },
  {
   "cell_type": "code",
   "execution_count": 47,
   "metadata": {
    "scrolled": true,
    "tags": [
     "initialize-matrix"
    ]
   },
   "outputs": [
    {
     "data": {
      "application/vnd.jupyter.widget-view+json": {
       "model_id": "a11416b82b23481a87e7d1906a695edd",
       "version_major": 2,
       "version_minor": 0
      },
      "text/plain": [
       "HBox(children=(FloatProgress(value=0.0, max=16.0), HTML(value='')))"
      ]
     },
     "metadata": {},
     "output_type": "display_data"
    },
    {
     "name": "stdout",
     "output_type": "stream",
     "text": [
      "\n"
     ]
    }
   ],
   "source": [
    "## compute the transition probability matrix to every power\n",
    "A = pmut_H1\n",
    "B = pmut_H3\n",
    "C = pmut_B\n",
    "D = pmut_avg\n",
    "Apower = {}\n",
    "Bpower = {} \n",
    "Cpower = {}\n",
    "Dpower = {}\n",
    "for n in tqdm(range(L)):\n",
    "    Apower[n] = A**n\n",
    "    Bpower[n] = B**n\n",
    "    Cpower[n] = C**n\n",
    "    Dpower[n] = D**n"
   ]
  },
  {
   "cell_type": "code",
   "execution_count": 49,
   "metadata": {
    "tags": [
     "initialize-matrix"
    ]
   },
   "outputs": [
    {
     "data": {
      "application/vnd.jupyter.widget-view+json": {
       "model_id": "7ff2dd33e5c741b3a9eb2b36a9a0214f",
       "version_major": 2,
       "version_minor": 0
      },
      "text/plain": [
       "HBox(children=(FloatProgress(value=0.0, max=16.0), HTML(value='')))"
      ]
     },
     "metadata": {},
     "output_type": "display_data"
    },
    {
     "name": "stdout",
     "output_type": "stream",
     "text": [
      "\n"
     ]
    }
   ],
   "source": [
    "## compute the matrix that force the mutation to be mut\n",
    "force_mut_H1 = {}\n",
    "force_mut_H3 = {}\n",
    "force_mut_B = {}\n",
    "force_mut_mixed = {}\n",
    "for mut in tqdm(range(L)):\n",
    "    force_mut_H1[mut] = dok_matrix((2**L, 2**L), dtype=np.float64)\n",
    "    force_mut_H3[mut] = dok_matrix((2**L, 2**L), dtype=np.float64)\n",
    "    force_mut_B[mut] = dok_matrix((2**L, 2**L), dtype=np.float64)\n",
    "    force_mut_mixed[mut] = dok_matrix((2**L, 2**L), dtype=np.float64)\n",
    "\n",
    "    for s in sequences_int:\n",
    "        t = mutation(s, mut,L)\n",
    "        force_mut_H1[mut][s, t] = A[s, t]\n",
    "        force_mut_H3[mut][s, t] = B[s, t]\n",
    "        force_mut_B[mut][s, t] = C[s, t]\n",
    "        force_mut_mixed[mut][s, t] = D[s, t]"
   ]
  },
  {
   "cell_type": "code",
   "execution_count": 15,
   "metadata": {
    "tags": [
     "only_switch_once"
    ]
   },
   "outputs": [
    {
     "data": {
      "application/vnd.jupyter.widget-view+json": {
       "model_id": "2db883b5a3c9406dbff9d0cee5507e76",
       "version_major": 2,
       "version_minor": 0
      },
      "text/plain": [
       "HBox(children=(FloatProgress(value=0.0, max=16.0), HTML(value='')))"
      ]
     },
     "metadata": {},
     "output_type": "display_data"
    },
    {
     "name": "stdout",
     "output_type": "stream",
     "text": [
      "\n"
     ]
    }
   ],
   "source": [
    "# # proba[mut, t] probability to get mutation mut at time t\n",
    "# proba = np.zeros((L, L))\n",
    "# norm = defaultdict(int)\n",
    "# switch = 8\n",
    "# for mut in tqdm(range(L)):\n",
    "#     for t in range(1, L+1):\n",
    "#     #for t in range(1,L):\n",
    "#         if t <= switch:\n",
    "#             #proba[mut, t-1] = (Apower[t-1] @ force_mut_H1[mut] @ Apower[switch-t] @ Bpower[L - switch-1])[0, 2**L - 2]\n",
    "#             proba[mut, t-1] = (Apower[t-1] @ force_mut_H1[mut] @ Apower[switch-t] @ Bpower[L - switch])[0, 2**L - 1]\n",
    "#         else:\n",
    "#             #proba[mut, t-1] = (Apower[switch] @ Bpower[t-switch-1] @ force_mut_H3[mut]  @ Bpower[L - t-1])[0, 2**L - 2]\n",
    "#             proba[mut, t-1] = (Apower[switch] @ Bpower[t-switch-1] @ force_mut_H3[mut]  @ Bpower[L - t])[0, 2**L - 1]"
   ]
  },
  {
   "cell_type": "code",
   "execution_count": 58,
   "metadata": {
    "tags": [
     "H1"
    ]
   },
   "outputs": [
    {
     "name": "stdout",
     "output_type": "stream",
     "text": [
      "done\n"
     ]
    }
   ],
   "source": [
    "proba = np.zeros((L, L))\n",
    "norm = defaultdict(int)\n",
    "for mut in range(L):\n",
    "    for t in range(1, L+1):\n",
    "        proba[mut, t-1] = (Apower[t-1] @ force_mut_H1[mut] @ Apower[L - t])[0, 2**L - 1]\n",
    "#proba\n",
    "print('done')"
   ]
  },
  {
   "cell_type": "code",
   "execution_count": null,
   "metadata": {},
   "outputs": [],
   "source": []
  },
  {
   "cell_type": "code",
   "execution_count": 53,
   "metadata": {
    "tags": [
     "H3"
    ]
   },
   "outputs": [],
   "source": [
    "proba = np.zeros((L, L))\n",
    "norm = defaultdict(int)\n",
    "for mut in range(L):\n",
    "    for t in range(1, L+1):\n",
    "        proba[mut, t-1] = (Bpower[t-1] @ force_mut_H3[mut] @ Bpower[L - t])[0, 2**L - 1]"
   ]
  },
  {
   "cell_type": "code",
   "execution_count": 58,
   "metadata": {
    "tags": [
     "flu-B"
    ]
   },
   "outputs": [],
   "source": [
    "proba = np.zeros((L, L))\n",
    "norm = defaultdict(int)\n",
    "for mut in range(L):\n",
    "    for t in range(1, L+1):\n",
    "        proba[mut, t-1] = (Cpower[t-1] @ force_mut_B[mut] @ Cpower[L - t])[0, 2**L - 1]"
   ]
  },
  {
   "cell_type": "code",
   "execution_count": 54,
   "metadata": {},
   "outputs": [],
   "source": [
    "proba = np.zeros((L, L))\n",
    "norm = defaultdict(int)\n",
    "for mut in range(L):\n",
    "    for t in range(1, L+1):\n",
    "        proba[mut, t-1] = (Dpower[t-1] @ force_mut_mixed[mut] @ Dpower[L - t])[0, 2**L - 1]\n",
    "        \n",
    "print('done')"
   ]
  },
  {
   "cell_type": "code",
   "execution_count": 56,
   "metadata": {
    "tags": [
     "everything"
    ]
   },
   "outputs": [
    {
     "data": {
      "application/vnd.jupyter.widget-view+json": {
       "model_id": "3e14790f4eb244e9862a4d91ffe60f2a",
       "version_major": 2,
       "version_minor": 0
      },
      "text/plain": [
       "HBox(children=(FloatProgress(value=0.0, max=16.0), HTML(value='')))"
      ]
     },
     "metadata": {},
     "output_type": "display_data"
    },
    {
     "name": "stdout",
     "output_type": "stream",
     "text": [
      "\n"
     ]
    }
   ],
   "source": [
    "# proba[mut, t] probability to get mutation mut at time t\n",
    "proba = np.zeros((L, L))\n",
    "norm = defaultdict(int)\n",
    "#switch at s-1 (for example for switch 6, say 5)\n",
    "switch1 = 5\n",
    "switch2 = 13\n",
    "for mut in tqdm(range(L)):\n",
    "    for t in range(1, L+1):\n",
    "    #for t in range(1,L):\n",
    "        if t <= switch2:\n",
    "            if t <= switch1:\n",
    "            #proba[mut, t-1] = (Apower[t-1] @ force_mut_H1[mut] @ Apower[switch-t] @ Bpower[L - switch-1])[0, 2**L - 2]\n",
    "                proba[mut, t-1] = (Apower[t-1] @ force_mut_H1[mut] @ Apower[switch1-t] @ Bpower[switch2 - switch1] @ Cpower[L-switch2])[0, 2**L - 1]\n",
    "            else:\n",
    "                proba[mut, t-1] = (Apower[switch1] @ Bpower[t - switch1 - 1] @ force_mut_H3[mut] @ Bpower[switch2 - t]@ Cpower[L-switch2])[0, 2**L - 1]\n",
    "        else:\n",
    "            #proba[mut, t-1] = (Apower[switch] @ Bpower[t-switch-1] @ force_mut_H3[mut]  @ Bpower[L - t-1])[0, 2**L - 2]\n",
    "            proba[mut, t-1] = (Apower[switch1] @ Bpower[switch2-switch1] @ Cpower[t - switch2 - 1] @ force_mut_B[mut]  @ Cpower[L - t])[0, 2**L - 1]"
   ]
  },
  {
   "cell_type": "code",
   "execution_count": 59,
   "metadata": {
    "tags": [
     "save-file"
    ]
   },
   "outputs": [],
   "source": [
    "proba_df = pd.DataFrame(proba,columns=\n",
    "                        [\"Order 1\",\"Order 2\",\"Order 3\",\"Order 4\",\"Order 5\",\"Order 6\",\n",
    "                         \"Order 7\",\"Order 8\",\"Order 9\",\"Order 10\",\"Order 11\",\"Order 12\",\n",
    "                        \"Order 13\",\"Order 14\",\"Order 15\",\"Order 16\"])\n",
    "proba_df['Mutation'] = [\"Mut 1\",\"Mut 2\",\"Mut 3\",\"Mut 4\",\"Mut 5\",\"Mut 6\",\n",
    "                       \"Mut 7\",\"Mut 8\",\"Mut 9\",\"Mut 10\",\"Mut 11\",\n",
    "                       \"Mut 12\",\"Mut 13\",\"Mut 14\",\"Mut 15\",\"Mut 16\"] \n",
    "proba_df.to_csv(\"data/9114_probability_H1alone_N\"+str(int(N))+\".csv\",index=False)\n"
   ]
  },
  {
   "cell_type": "code",
   "execution_count": 4,
   "metadata": {},
   "outputs": [],
   "source": [
    "# \"jump probability\" function\n",
    "def proba_markov(Δ):\n",
    "    N = 5\n",
    "    if Δ == 0:\n",
    "        return 1\n",
    "    else:\n",
    "        return N*(1 - np.exp(-Δ))/(1 - np.exp(-N*Δ))\n",
    "def reachable(s, L):\n",
    "    return [(s | 2**ii) for ii in range(L) if (s | 2**ii) > s]\n",
    "probabilities = {(s, t): model1_H1(s,t) for s in sequences_int for t in reachable(s, L)}\n",
    "# (re) create the graph with networkx (as a directed graph)\n",
    "G = nx.DiGraph()\n",
    "G.add_nodes_from(sequences_int)\n",
    "G.add_weighted_edges_from([(s, t,  ## source, target\n",
    "                            -np.log(1e-100 + probabilities[s, t])  # weight\n",
    "                           ) \n",
    "                  for s in sequences_int\n",
    "                  for t in reachable(s, L)])\n",
    "# compute the \"shortest\" path, so the one for which ∑ -log(p) is smallest => max likelihood\n",
    "best_path = nx.dijkstra_path(G, 0, 2**L-1)"
   ]
  },
  {
   "cell_type": "code",
   "execution_count": 5,
   "metadata": {},
   "outputs": [
    {
     "data": {
      "text/plain": [
       "[0,\n",
       " 64,\n",
       " 2112,\n",
       " 2116,\n",
       " 18500,\n",
       " 18628,\n",
       " 18630,\n",
       " 18631,\n",
       " 19655,\n",
       " 19671,\n",
       " 27863,\n",
       " 60631,\n",
       " 60663,\n",
       " 60919,\n",
       " 60927,\n",
       " 61439,\n",
       " 65535]"
      ]
     },
     "execution_count": 5,
     "metadata": {},
     "output_type": "execute_result"
    }
   ],
   "source": [
    "best_path"
   ]
  },
  {
   "cell_type": "code",
   "execution_count": 21,
   "metadata": {},
   "outputs": [],
   "source": [
    "sequences_int = list(range(2**L)) #L = 11 for 6261, 16 for 9114\n",
    "#df = pd.read_csv(\"20210318_6261_filtered_ordered.csv\",usecols={'Variant','h1_mean','h9_mean','variant_int'}, dtype={\"Variant\":\"str\"})\n",
    "#df['mix_mean'] = (df['h1_mean']+df['h9_mean'])/2\n",
    "# return list of all variant reachable from s\n",
    "df = pd.read_csv(\"20210318_9114_filtered_ordered.csv\",usecols={'variant','h1_mean','h3_mean',\"fluB_mean\",'variant_int'}, dtype={\"Variant\":\"str\"})\n",
    "L=16\n",
    "def reachable(s, L):\n",
    "    return [(s | 2**ii) for ii in range(L) if (s | 2**ii) > s]\n",
    "dfedges = pd.DataFrame()\n",
    "dfedges[\"geno1\"] = [df.loc[s].variant for s in sequences_int for t in reachable(s, L)]\n",
    "dfedges[\"geno2\"] = [df.loc[t].variant for s in sequences_int for t in reachable(s, L)]\n",
    "dfedges[\"nb_somatic\"] = [nb_mutation(t) for s in sequences_int for t in reachable(s, L)]\n",
    "dfedges[\"change_kd\"] = [df.loc[t].fluB_mean - df.loc[s].fluB_mean for s in sequences_int for t in reachable(s, L)]\n",
    "dfedges[\"probability\"] = [model1_B(s,t) for s in sequences_int for t in reachable(s, L)]\n"
   ]
  },
  {
   "cell_type": "code",
   "execution_count": 23,
   "metadata": {},
   "outputs": [],
   "source": [
    "dfedges = dfedges.assign(normalized=dfedges.probability.div(dfedges.groupby('nb_somatic').probability.transform('sum')))\n",
    "dfedges[\"change_kd_weighted\"] = dfedges[\"normalized\"] * dfedges[\"change_kd\"]\n",
    "dfedges_weightedavg=dfedges.groupby([\"nb_somatic\"])[[\"change_kd_weighted\"]].sum()\n",
    "dfedges_weightedavg.to_csv('20210318_9114_fluB_mean_expected_Kd.csv')\n",
    "dfedges_things=dfedges.groupby([\"nb_somatic\"])[[\"change_kd_weighted\"]].describe()\n",
    "dfedges_things.to_csv('20210318_9114_fluB_mean_expected_Kd_statistics.csv')\n",
    "#sum(dfedges_weightedavg[\"change_kd_weighted\"])\n",
    "#[df.loc[t].mix_mean - df.loc[s].mix_mean for s in sequences_int for t in reachable(s, L)]\n",
    "#dfedges.to_csv('20210318_6261_Mix_Kd_changes.csv')\n",
    "#dfedges.to_csv('20210318_9114_FluB_Kd_changes.csv')"
   ]
  },
  {
   "cell_type": "code",
   "execution_count": 24,
   "metadata": {},
   "outputs": [],
   "source": [
    "dfedges[\"change_kd\"] = [df.loc[t].h1_mean - df.loc[s].h1_mean for s in sequences_int for t in reachable(s, L)]\n",
    "dfedges[\"probability\"] = [model1_H1(s,t) for s in sequences_int for t in reachable(s, L)]\n",
    "\n",
    "dfedges = dfedges.assign(normalized=dfedges.probability.div(dfedges.groupby('nb_somatic').probability.transform('sum')))\n",
    "dfedges[\"change_kd_weighted\"] = dfedges[\"normalized\"] * dfedges[\"change_kd\"]\n",
    "dfedges_weightedavg=dfedges.groupby([\"nb_somatic\"])[[\"change_kd_weighted\"]].sum()\n",
    "dfedges_weightedavg.to_csv('20210318_9114_H1_mean_expected_Kd.csv')\n",
    "dfedges_things=dfedges.groupby([\"nb_somatic\"])[[\"change_kd_weighted\"]].describe()\n",
    "dfedges_things.to_csv('20210318_9114_H1_mean_expected_Kd_statistics.csv')"
   ]
  },
  {
   "cell_type": "code",
   "execution_count": 25,
   "metadata": {},
   "outputs": [],
   "source": [
    "dfedges[\"change_kd\"] = [df.loc[t].h3_mean - df.loc[s].h3_mean for s in sequences_int for t in reachable(s, L)]\n",
    "dfedges[\"probability\"] = [model1_H3(s,t) for s in sequences_int for t in reachable(s, L)]\n",
    "\n",
    "dfedges = dfedges.assign(normalized=dfedges.probability.div(dfedges.groupby('nb_somatic').probability.transform('sum')))\n",
    "dfedges[\"change_kd_weighted\"] = dfedges[\"normalized\"] * dfedges[\"change_kd\"]\n",
    "dfedges_weightedavg=dfedges.groupby([\"nb_somatic\"])[[\"change_kd_weighted\"]].sum()\n",
    "dfedges_weightedavg.to_csv('20210318_9114_H3_mean_expected_Kd.csv')\n",
    "dfedges_things=dfedges.groupby([\"nb_somatic\"])[[\"change_kd_weighted\"]].describe()\n",
    "dfedges_things.to_csv('20210318_9114_H3_mean_expected_Kd_statistics.csv')"
   ]
  },
  {
   "cell_type": "code",
   "execution_count": null,
   "metadata": {},
   "outputs": [],
   "source": []
  },
  {
   "cell_type": "code",
   "execution_count": null,
   "metadata": {},
   "outputs": [],
   "source": []
  }
 ],
 "metadata": {
  "celltoolbar": "Tags",
  "kernelspec": {
   "display_name": "Python 3",
   "language": "python",
   "name": "python3"
  },
  "language_info": {
   "codemirror_mode": {
    "name": "ipython",
    "version": 3
   },
   "file_extension": ".py",
   "mimetype": "text/x-python",
   "name": "python",
   "nbconvert_exporter": "python",
   "pygments_lexer": "ipython3",
   "version": "3.8.2"
  }
 },
 "nbformat": 4,
 "nbformat_minor": 2
}
